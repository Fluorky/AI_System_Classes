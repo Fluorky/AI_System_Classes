{
  "nbformat": 4,
  "nbformat_minor": 0,
  "metadata": {
    "colab": {
      "provenance": []
    },
    "kernelspec": {
      "name": "python3",
      "display_name": "Python 3"
    },
    "language_info": {
      "name": "python"
    }
  },
  "cells": [
    {
      "cell_type": "code",
      "execution_count": 377,
      "metadata": {
        "id": "dOrKF0wyBWN5"
      },
      "outputs": [],
      "source": []
    },
    {
      "cell_type": "markdown",
      "metadata": {
        "id": "9gT7d462Dw06"
      },
      "source": [
        "Import biblioteki **TensorFlow** ([https://www.tensorflow.org/](https://www.tensorflow.org/)) z której będziemy korzystali w **uczeniu maszynowym**:"
      ]
    },
    {
      "cell_type": "code",
      "metadata": {
        "id": "6_Ec9f9O1DIv"
      },
      "source": [
        "import tensorflow as tf\n",
        "import matplotlib.pyplot as plt\n",
        "import numpy as np"
      ],
      "execution_count": 378,
      "outputs": []
    },
    {
      "cell_type": "code",
      "metadata": {
        "id": "B3q9cQ4eWOAr"
      },
      "source": [
        "import keras\n",
        "from keras.models import Sequential\n",
        "from keras.layers import Dense"
      ],
      "execution_count": 379,
      "outputs": []
    },
    {
      "cell_type": "markdown",
      "metadata": {
        "id": "iHaZfqU_DWW7"
      },
      "source": [
        "##Numbers recognition - dataset **MNIST**"
      ]
    },
    {
      "cell_type": "markdown",
      "metadata": {
        "id": "8OgRU4heNhSu"
      },
      "source": [
        "Download dataset"
      ]
    },
    {
      "cell_type": "code",
      "metadata": {
        "id": "_JReAGs2G9OF"
      },
      "source": [
        "(train_data, train_labels), (test_data, test_labels) = tf.keras.datasets.mnist.load_data()"
      ],
      "execution_count": 380,
      "outputs": []
    },
    {
      "cell_type": "code",
      "source": [],
      "metadata": {
        "id": "mi83M6uEDkoh"
      },
      "execution_count": 380,
      "outputs": []
    },
    {
      "cell_type": "code",
      "source": [
        "data = np.concatenate([train_data, test_data])"
      ],
      "metadata": {
        "id": "6edu2B7W-tG6"
      },
      "execution_count": 381,
      "outputs": []
    },
    {
      "cell_type": "code",
      "source": [
        "data.shape"
      ],
      "metadata": {
        "colab": {
          "base_uri": "https://localhost:8080/"
        },
        "id": "yRRpbcPh_nPE",
        "outputId": "592cec8e-c35d-4046-c060-b1d8df2d4d36"
      },
      "execution_count": 382,
      "outputs": [
        {
          "output_type": "execute_result",
          "data": {
            "text/plain": [
              "(70000, 28, 28)"
            ]
          },
          "metadata": {},
          "execution_count": 382
        }
      ]
    },
    {
      "cell_type": "code",
      "source": [
        "label = np.concatenate([train_labels,test_labels])"
      ],
      "metadata": {
        "id": "ejXWOcU__sIn"
      },
      "execution_count": 383,
      "outputs": []
    },
    {
      "cell_type": "code",
      "source": [
        "label.shape"
      ],
      "metadata": {
        "colab": {
          "base_uri": "https://localhost:8080/"
        },
        "id": "ihwrVhg__2Gs",
        "outputId": "06ea926a-f9b6-4103-f3aa-fb5bd44cd345"
      },
      "execution_count": 384,
      "outputs": [
        {
          "output_type": "execute_result",
          "data": {
            "text/plain": [
              "(70000,)"
            ]
          },
          "metadata": {},
          "execution_count": 384
        }
      ]
    },
    {
      "cell_type": "markdown",
      "metadata": {
        "id": "Pay8Mm1XNwtF"
      },
      "source": [
        "Informations about dataset"
      ]
    },
    {
      "cell_type": "code",
      "metadata": {
        "id": "P_8jyKT6q3kB",
        "colab": {
          "base_uri": "https://localhost:8080/"
        },
        "outputId": "ab8eb403-6bed-4aff-f482-5940696bc587"
      },
      "source": [
        "train_data.shape,train_labels.shape"
      ],
      "execution_count": 385,
      "outputs": [
        {
          "output_type": "execute_result",
          "data": {
            "text/plain": [
              "((60000, 28, 28), (60000,))"
            ]
          },
          "metadata": {},
          "execution_count": 385
        }
      ]
    },
    {
      "cell_type": "code",
      "metadata": {
        "id": "5MZ1G7XjsmHw",
        "colab": {
          "base_uri": "https://localhost:8080/"
        },
        "outputId": "7e44fd1b-697b-4ce7-865b-3fa5285c380e"
      },
      "source": [
        "test_data.shape,test_labels.shape"
      ],
      "execution_count": 386,
      "outputs": [
        {
          "output_type": "execute_result",
          "data": {
            "text/plain": [
              "((10000, 28, 28), (10000,))"
            ]
          },
          "metadata": {},
          "execution_count": 386
        }
      ]
    },
    {
      "cell_type": "code",
      "metadata": {
        "id": "Oewt0Xva8469",
        "colab": {
          "base_uri": "https://localhost:8080/"
        },
        "outputId": "e8969707-822a-402a-9cad-f38c5be53e1a"
      },
      "source": [
        "train_data[0]"
      ],
      "execution_count": 387,
      "outputs": [
        {
          "output_type": "execute_result",
          "data": {
            "text/plain": [
              "array([[  0,   0,   0,   0,   0,   0,   0,   0,   0,   0,   0,   0,   0,\n",
              "          0,   0,   0,   0,   0,   0,   0,   0,   0,   0,   0,   0,   0,\n",
              "          0,   0],\n",
              "       [  0,   0,   0,   0,   0,   0,   0,   0,   0,   0,   0,   0,   0,\n",
              "          0,   0,   0,   0,   0,   0,   0,   0,   0,   0,   0,   0,   0,\n",
              "          0,   0],\n",
              "       [  0,   0,   0,   0,   0,   0,   0,   0,   0,   0,   0,   0,   0,\n",
              "          0,   0,   0,   0,   0,   0,   0,   0,   0,   0,   0,   0,   0,\n",
              "          0,   0],\n",
              "       [  0,   0,   0,   0,   0,   0,   0,   0,   0,   0,   0,   0,   0,\n",
              "          0,   0,   0,   0,   0,   0,   0,   0,   0,   0,   0,   0,   0,\n",
              "          0,   0],\n",
              "       [  0,   0,   0,   0,   0,   0,   0,   0,   0,   0,   0,   0,   0,\n",
              "          0,   0,   0,   0,   0,   0,   0,   0,   0,   0,   0,   0,   0,\n",
              "          0,   0],\n",
              "       [  0,   0,   0,   0,   0,   0,   0,   0,   0,   0,   0,   0,   3,\n",
              "         18,  18,  18, 126, 136, 175,  26, 166, 255, 247, 127,   0,   0,\n",
              "          0,   0],\n",
              "       [  0,   0,   0,   0,   0,   0,   0,   0,  30,  36,  94, 154, 170,\n",
              "        253, 253, 253, 253, 253, 225, 172, 253, 242, 195,  64,   0,   0,\n",
              "          0,   0],\n",
              "       [  0,   0,   0,   0,   0,   0,   0,  49, 238, 253, 253, 253, 253,\n",
              "        253, 253, 253, 253, 251,  93,  82,  82,  56,  39,   0,   0,   0,\n",
              "          0,   0],\n",
              "       [  0,   0,   0,   0,   0,   0,   0,  18, 219, 253, 253, 253, 253,\n",
              "        253, 198, 182, 247, 241,   0,   0,   0,   0,   0,   0,   0,   0,\n",
              "          0,   0],\n",
              "       [  0,   0,   0,   0,   0,   0,   0,   0,  80, 156, 107, 253, 253,\n",
              "        205,  11,   0,  43, 154,   0,   0,   0,   0,   0,   0,   0,   0,\n",
              "          0,   0],\n",
              "       [  0,   0,   0,   0,   0,   0,   0,   0,   0,  14,   1, 154, 253,\n",
              "         90,   0,   0,   0,   0,   0,   0,   0,   0,   0,   0,   0,   0,\n",
              "          0,   0],\n",
              "       [  0,   0,   0,   0,   0,   0,   0,   0,   0,   0,   0, 139, 253,\n",
              "        190,   2,   0,   0,   0,   0,   0,   0,   0,   0,   0,   0,   0,\n",
              "          0,   0],\n",
              "       [  0,   0,   0,   0,   0,   0,   0,   0,   0,   0,   0,  11, 190,\n",
              "        253,  70,   0,   0,   0,   0,   0,   0,   0,   0,   0,   0,   0,\n",
              "          0,   0],\n",
              "       [  0,   0,   0,   0,   0,   0,   0,   0,   0,   0,   0,   0,  35,\n",
              "        241, 225, 160, 108,   1,   0,   0,   0,   0,   0,   0,   0,   0,\n",
              "          0,   0],\n",
              "       [  0,   0,   0,   0,   0,   0,   0,   0,   0,   0,   0,   0,   0,\n",
              "         81, 240, 253, 253, 119,  25,   0,   0,   0,   0,   0,   0,   0,\n",
              "          0,   0],\n",
              "       [  0,   0,   0,   0,   0,   0,   0,   0,   0,   0,   0,   0,   0,\n",
              "          0,  45, 186, 253, 253, 150,  27,   0,   0,   0,   0,   0,   0,\n",
              "          0,   0],\n",
              "       [  0,   0,   0,   0,   0,   0,   0,   0,   0,   0,   0,   0,   0,\n",
              "          0,   0,  16,  93, 252, 253, 187,   0,   0,   0,   0,   0,   0,\n",
              "          0,   0],\n",
              "       [  0,   0,   0,   0,   0,   0,   0,   0,   0,   0,   0,   0,   0,\n",
              "          0,   0,   0,   0, 249, 253, 249,  64,   0,   0,   0,   0,   0,\n",
              "          0,   0],\n",
              "       [  0,   0,   0,   0,   0,   0,   0,   0,   0,   0,   0,   0,   0,\n",
              "          0,  46, 130, 183, 253, 253, 207,   2,   0,   0,   0,   0,   0,\n",
              "          0,   0],\n",
              "       [  0,   0,   0,   0,   0,   0,   0,   0,   0,   0,   0,   0,  39,\n",
              "        148, 229, 253, 253, 253, 250, 182,   0,   0,   0,   0,   0,   0,\n",
              "          0,   0],\n",
              "       [  0,   0,   0,   0,   0,   0,   0,   0,   0,   0,  24, 114, 221,\n",
              "        253, 253, 253, 253, 201,  78,   0,   0,   0,   0,   0,   0,   0,\n",
              "          0,   0],\n",
              "       [  0,   0,   0,   0,   0,   0,   0,   0,  23,  66, 213, 253, 253,\n",
              "        253, 253, 198,  81,   2,   0,   0,   0,   0,   0,   0,   0,   0,\n",
              "          0,   0],\n",
              "       [  0,   0,   0,   0,   0,   0,  18, 171, 219, 253, 253, 253, 253,\n",
              "        195,  80,   9,   0,   0,   0,   0,   0,   0,   0,   0,   0,   0,\n",
              "          0,   0],\n",
              "       [  0,   0,   0,   0,  55, 172, 226, 253, 253, 253, 253, 244, 133,\n",
              "         11,   0,   0,   0,   0,   0,   0,   0,   0,   0,   0,   0,   0,\n",
              "          0,   0],\n",
              "       [  0,   0,   0,   0, 136, 253, 253, 253, 212, 135, 132,  16,   0,\n",
              "          0,   0,   0,   0,   0,   0,   0,   0,   0,   0,   0,   0,   0,\n",
              "          0,   0],\n",
              "       [  0,   0,   0,   0,   0,   0,   0,   0,   0,   0,   0,   0,   0,\n",
              "          0,   0,   0,   0,   0,   0,   0,   0,   0,   0,   0,   0,   0,\n",
              "          0,   0],\n",
              "       [  0,   0,   0,   0,   0,   0,   0,   0,   0,   0,   0,   0,   0,\n",
              "          0,   0,   0,   0,   0,   0,   0,   0,   0,   0,   0,   0,   0,\n",
              "          0,   0],\n",
              "       [  0,   0,   0,   0,   0,   0,   0,   0,   0,   0,   0,   0,   0,\n",
              "          0,   0,   0,   0,   0,   0,   0,   0,   0,   0,   0,   0,   0,\n",
              "          0,   0]], dtype=uint8)"
            ]
          },
          "metadata": {},
          "execution_count": 387
        }
      ]
    },
    {
      "cell_type": "code",
      "metadata": {
        "colab": {
          "base_uri": "https://localhost:8080/"
        },
        "id": "4RHQ1CFU9Alx",
        "outputId": "5adc3b71-2d91-4364-b9a8-c5f3849ba4ac"
      },
      "source": [
        "train_labels[0]"
      ],
      "execution_count": 388,
      "outputs": [
        {
          "output_type": "execute_result",
          "data": {
            "text/plain": [
              "5"
            ]
          },
          "metadata": {},
          "execution_count": 388
        }
      ]
    },
    {
      "cell_type": "markdown",
      "metadata": {
        "id": "Iqpu3ARqOVF3"
      },
      "source": [
        "One-hot encoding"
      ]
    },
    {
      "cell_type": "code",
      "metadata": {
        "id": "YBibYuEYjjLe"
      },
      "source": [
        "train_labels = tf.keras.utils.to_categorical(train_labels, 10)\n",
        "test_labels = tf.keras.utils.to_categorical(test_labels, 10)"
      ],
      "execution_count": 389,
      "outputs": []
    },
    {
      "cell_type": "code",
      "metadata": {
        "id": "LDmkU2Sr7x8x",
        "colab": {
          "base_uri": "https://localhost:8080/"
        },
        "outputId": "c15216ab-922f-48a9-ccf0-35f7bc2af88e"
      },
      "source": [
        "train_data.shape,train_labels.shape"
      ],
      "execution_count": 390,
      "outputs": [
        {
          "output_type": "execute_result",
          "data": {
            "text/plain": [
              "((60000, 28, 28), (60000, 10))"
            ]
          },
          "metadata": {},
          "execution_count": 390
        }
      ]
    },
    {
      "cell_type": "code",
      "metadata": {
        "id": "3Pe5vg0Dj56h",
        "colab": {
          "base_uri": "https://localhost:8080/"
        },
        "outputId": "d121a536-c3ae-419f-8017-0aa078d5fd96"
      },
      "source": [
        "test_data.shape,test_labels.shape"
      ],
      "execution_count": 391,
      "outputs": [
        {
          "output_type": "execute_result",
          "data": {
            "text/plain": [
              "((10000, 28, 28), (10000, 10))"
            ]
          },
          "metadata": {},
          "execution_count": 391
        }
      ]
    },
    {
      "cell_type": "code",
      "metadata": {
        "colab": {
          "base_uri": "https://localhost:8080/"
        },
        "id": "dSgm903q9MXt",
        "outputId": "3d359286-f023-4221-a2bf-ee5553323575"
      },
      "source": [
        "train_labels[0]"
      ],
      "execution_count": 392,
      "outputs": [
        {
          "output_type": "execute_result",
          "data": {
            "text/plain": [
              "array([0., 0., 0., 0., 0., 1., 0., 0., 0., 0.], dtype=float32)"
            ]
          },
          "metadata": {},
          "execution_count": 392
        }
      ]
    },
    {
      "cell_type": "markdown",
      "metadata": {
        "id": "GDYZB923d4bD"
      },
      "source": [
        "Visulization"
      ]
    },
    {
      "cell_type": "code",
      "metadata": {
        "id": "lJJlrAzrd7OS",
        "colab": {
          "base_uri": "https://localhost:8080/",
          "height": 448
        },
        "outputId": "5e665511-4278-4617-c310-c767d43afb64"
      },
      "source": [
        "def plot_image(img_index):\n",
        "    label_index = train_labels[img_index]\n",
        "    plt.imshow(train_data[img_index]/255, cmap = 'gray')\n",
        "    print(label_index)\n",
        "\n",
        "img_index = 10\n",
        "plot_image(img_index)"
      ],
      "execution_count": 393,
      "outputs": [
        {
          "output_type": "stream",
          "name": "stdout",
          "text": [
            "[0. 0. 0. 1. 0. 0. 0. 0. 0. 0.]\n"
          ]
        },
        {
          "output_type": "display_data",
          "data": {
            "text/plain": [
              "<Figure size 640x480 with 1 Axes>"
            ],
            "image/png": "[encoded data removed]"
          },
          "metadata": {}
        }
      ]
    },
    {
      "cell_type": "code",
      "metadata": {
        "id": "ZeODAlX8V4oc"
      },
      "source": [
        "train_images = train_data.reshape((-1, 784))\n",
        "test_images = test_data.reshape((-1, 784))"
      ],
      "execution_count": 394,
      "outputs": []
    },
    {
      "cell_type": "code",
      "metadata": {
        "colab": {
          "base_uri": "https://localhost:8080/"
        },
        "id": "m_EhC3xf9lu7",
        "outputId": "f02845d4-454d-48bc-c6c2-b8008ac8c1d2"
      },
      "source": [
        "model = Sequential()\n",
        "model.add(Dense(units = 128, use_bias=True, input_shape=(784,), activation = \"relu\"))\n",
        "model.add(Dense(units = 10, use_bias=True, activation = \"softmax\"))\n",
        "\n",
        "opt = keras.optimizers.Adam(learning_rate=0.001)\n",
        "#opt = keras.optimizers.SGD(learning_rate=0.001)\n",
        "\n",
        "model.compile(loss='categorical_crossentropy',optimizer=opt,metrics=['accuracy'])\n",
        "model.summary()"
      ],
      "execution_count": 395,
      "outputs": [
        {
          "output_type": "stream",
          "name": "stdout",
          "text": [
            "Model: \"sequential_27\"\n",
            "_________________________________________________________________\n",
            " Layer (type)                Output Shape              Param #   \n",
            "=================================================================\n",
            " dense_64 (Dense)            (None, 128)               100480    \n",
            "                                                                 \n",
            " dense_65 (Dense)            (None, 10)                1290      \n",
            "                                                                 \n",
            "=================================================================\n",
            "Total params: 101770 (397.54 KB)\n",
            "Trainable params: 101770 (397.54 KB)\n",
            "Non-trainable params: 0 (0.00 Byte)\n",
            "_________________________________________________________________\n"
          ]
        }
      ]
    },
    {
      "cell_type": "code",
      "metadata": {
        "colab": {
          "base_uri": "https://localhost:8080/"
        },
        "id": "r6lPVoFV9r2S",
        "outputId": "86fad4c1-c994-408e-e4d3-32056e6fa3ec"
      },
      "source": [
        "batch_size = 128\n",
        "epochs = 50\n",
        "\n",
        "h = model.fit(train_images, train_labels, batch_size=batch_size, epochs=epochs,validation_split=0.2)"
      ],
      "execution_count": 396,
      "outputs": [
        {
          "output_type": "stream",
          "name": "stdout",
          "text": [
            "Epoch 1/50\n",
            "375/375 [==============================] - 2s 3ms/step - loss: 5.2247 - accuracy: 0.8603 - val_loss: 1.4387 - val_accuracy: 0.9095\n",
            "Epoch 2/50\n",
            "375/375 [==============================] - 1s 3ms/step - loss: 0.8840 - accuracy: 0.9200 - val_loss: 0.8063 - val_accuracy: 0.9217\n",
            "Epoch 3/50\n",
            "375/375 [==============================] - 1s 3ms/step - loss: 0.4636 - accuracy: 0.9341 - val_loss: 0.5938 - val_accuracy: 0.9298\n",
            "Epoch 4/50\n",
            "375/375 [==============================] - 1s 3ms/step - loss: 0.3003 - accuracy: 0.9468 - val_loss: 0.4830 - val_accuracy: 0.9398\n",
            "Epoch 5/50\n",
            "375/375 [==============================] - 1s 3ms/step - loss: 0.2140 - accuracy: 0.9566 - val_loss: 0.4798 - val_accuracy: 0.9397\n",
            "Epoch 6/50\n",
            "375/375 [==============================] - 1s 3ms/step - loss: 0.1773 - accuracy: 0.9601 - val_loss: 0.4710 - val_accuracy: 0.9402\n",
            "Epoch 7/50\n",
            "375/375 [==============================] - 1s 3ms/step - loss: 0.1591 - accuracy: 0.9644 - val_loss: 0.4241 - val_accuracy: 0.9413\n",
            "Epoch 8/50\n",
            "375/375 [==============================] - 1s 3ms/step - loss: 0.1391 - accuracy: 0.9672 - val_loss: 0.3869 - val_accuracy: 0.9496\n",
            "Epoch 9/50\n",
            "375/375 [==============================] - 1s 4ms/step - loss: 0.1227 - accuracy: 0.9697 - val_loss: 0.3697 - val_accuracy: 0.9501\n",
            "Epoch 10/50\n",
            "375/375 [==============================] - 1s 3ms/step - loss: 0.1349 - accuracy: 0.9681 - val_loss: 0.3503 - val_accuracy: 0.9486\n",
            "Epoch 11/50\n",
            "375/375 [==============================] - 1s 3ms/step - loss: 0.1286 - accuracy: 0.9700 - val_loss: 0.3720 - val_accuracy: 0.9516\n",
            "Epoch 12/50\n",
            "375/375 [==============================] - 1s 3ms/step - loss: 0.1260 - accuracy: 0.9693 - val_loss: 0.3745 - val_accuracy: 0.9517\n",
            "Epoch 13/50\n",
            "375/375 [==============================] - 1s 3ms/step - loss: 0.1199 - accuracy: 0.9729 - val_loss: 0.3838 - val_accuracy: 0.9473\n",
            "Epoch 14/50\n",
            "375/375 [==============================] - 1s 3ms/step - loss: 0.1102 - accuracy: 0.9731 - val_loss: 0.3393 - val_accuracy: 0.9552\n",
            "Epoch 15/50\n",
            "375/375 [==============================] - 1s 3ms/step - loss: 0.1144 - accuracy: 0.9734 - val_loss: 0.3845 - val_accuracy: 0.9492\n",
            "Epoch 16/50\n",
            "375/375 [==============================] - 1s 3ms/step - loss: 0.1000 - accuracy: 0.9754 - val_loss: 0.3400 - val_accuracy: 0.9563\n",
            "Epoch 17/50\n",
            "375/375 [==============================] - 1s 3ms/step - loss: 0.1053 - accuracy: 0.9758 - val_loss: 0.3641 - val_accuracy: 0.9561\n",
            "Epoch 18/50\n",
            "375/375 [==============================] - 1s 3ms/step - loss: 0.1059 - accuracy: 0.9761 - val_loss: 0.3115 - val_accuracy: 0.9548\n",
            "Epoch 19/50\n",
            "375/375 [==============================] - 1s 4ms/step - loss: 0.0952 - accuracy: 0.9776 - val_loss: 0.3220 - val_accuracy: 0.9581\n",
            "Epoch 20/50\n",
            "375/375 [==============================] - 1s 3ms/step - loss: 0.0928 - accuracy: 0.9790 - val_loss: 0.3454 - val_accuracy: 0.9573\n",
            "Epoch 21/50\n",
            "375/375 [==============================] - 1s 3ms/step - loss: 0.0874 - accuracy: 0.9796 - val_loss: 0.3031 - val_accuracy: 0.9597\n",
            "Epoch 22/50\n",
            "375/375 [==============================] - 1s 3ms/step - loss: 0.0826 - accuracy: 0.9796 - val_loss: 0.3405 - val_accuracy: 0.9528\n",
            "Epoch 23/50\n",
            "375/375 [==============================] - 1s 3ms/step - loss: 0.0845 - accuracy: 0.9807 - val_loss: 0.3173 - val_accuracy: 0.9580\n",
            "Epoch 24/50\n",
            "375/375 [==============================] - 1s 3ms/step - loss: 0.0970 - accuracy: 0.9781 - val_loss: 0.3121 - val_accuracy: 0.9601\n",
            "Epoch 25/50\n",
            "375/375 [==============================] - 1s 3ms/step - loss: 0.0781 - accuracy: 0.9817 - val_loss: 0.4344 - val_accuracy: 0.9562\n",
            "Epoch 26/50\n",
            "375/375 [==============================] - 1s 3ms/step - loss: 0.0983 - accuracy: 0.9799 - val_loss: 0.3685 - val_accuracy: 0.9601\n",
            "Epoch 27/50\n",
            "375/375 [==============================] - 1s 3ms/step - loss: 0.0829 - accuracy: 0.9824 - val_loss: 0.3388 - val_accuracy: 0.9627\n",
            "Epoch 28/50\n",
            "375/375 [==============================] - 1s 3ms/step - loss: 0.0661 - accuracy: 0.9846 - val_loss: 0.3995 - val_accuracy: 0.9594\n",
            "Epoch 29/50\n",
            "375/375 [==============================] - 2s 4ms/step - loss: 0.0696 - accuracy: 0.9845 - val_loss: 0.4318 - val_accuracy: 0.9620\n",
            "Epoch 30/50\n",
            "375/375 [==============================] - 1s 3ms/step - loss: 0.0817 - accuracy: 0.9833 - val_loss: 0.3485 - val_accuracy: 0.9640\n",
            "Epoch 31/50\n",
            "375/375 [==============================] - 1s 3ms/step - loss: 0.0758 - accuracy: 0.9833 - val_loss: 0.4170 - val_accuracy: 0.9583\n",
            "Epoch 32/50\n",
            "375/375 [==============================] - 1s 3ms/step - loss: 0.0662 - accuracy: 0.9851 - val_loss: 0.4879 - val_accuracy: 0.9578\n",
            "Epoch 33/50\n",
            "375/375 [==============================] - 1s 3ms/step - loss: 0.0722 - accuracy: 0.9847 - val_loss: 0.4305 - val_accuracy: 0.9611\n",
            "Epoch 34/50\n",
            "375/375 [==============================] - 1s 3ms/step - loss: 0.0610 - accuracy: 0.9866 - val_loss: 0.3823 - val_accuracy: 0.9644\n",
            "Epoch 35/50\n",
            "375/375 [==============================] - 1s 3ms/step - loss: 0.0637 - accuracy: 0.9874 - val_loss: 0.4420 - val_accuracy: 0.9612\n",
            "Epoch 36/50\n",
            "375/375 [==============================] - 1s 3ms/step - loss: 0.0769 - accuracy: 0.9857 - val_loss: 0.4301 - val_accuracy: 0.9630\n",
            "Epoch 37/50\n",
            "375/375 [==============================] - 1s 3ms/step - loss: 0.0553 - accuracy: 0.9881 - val_loss: 0.4395 - val_accuracy: 0.9645\n",
            "Epoch 38/50\n",
            "375/375 [==============================] - 1s 3ms/step - loss: 0.0591 - accuracy: 0.9882 - val_loss: 0.4802 - val_accuracy: 0.9597\n",
            "Epoch 39/50\n",
            "375/375 [==============================] - 2s 4ms/step - loss: 0.0621 - accuracy: 0.9870 - val_loss: 0.4626 - val_accuracy: 0.9593\n",
            "Epoch 40/50\n",
            "375/375 [==============================] - 1s 3ms/step - loss: 0.0737 - accuracy: 0.9864 - val_loss: 0.4854 - val_accuracy: 0.9652\n",
            "Epoch 41/50\n",
            "375/375 [==============================] - 1s 3ms/step - loss: 0.0622 - accuracy: 0.9877 - val_loss: 0.5400 - val_accuracy: 0.9642\n",
            "Epoch 42/50\n",
            "375/375 [==============================] - 1s 3ms/step - loss: 0.0653 - accuracy: 0.9882 - val_loss: 0.5235 - val_accuracy: 0.9634\n",
            "Epoch 43/50\n",
            "375/375 [==============================] - 1s 3ms/step - loss: 0.0747 - accuracy: 0.9869 - val_loss: 0.6119 - val_accuracy: 0.9593\n",
            "Epoch 44/50\n",
            "375/375 [==============================] - 1s 3ms/step - loss: 0.0680 - accuracy: 0.9884 - val_loss: 0.5293 - val_accuracy: 0.9647\n",
            "Epoch 45/50\n",
            "375/375 [==============================] - 1s 3ms/step - loss: 0.0534 - accuracy: 0.9896 - val_loss: 0.5393 - val_accuracy: 0.9647\n",
            "Epoch 46/50\n",
            "375/375 [==============================] - 1s 3ms/step - loss: 0.0500 - accuracy: 0.9907 - val_loss: 0.5479 - val_accuracy: 0.9638\n",
            "Epoch 47/50\n",
            "375/375 [==============================] - 1s 3ms/step - loss: 0.0609 - accuracy: 0.9895 - val_loss: 0.5302 - val_accuracy: 0.9641\n",
            "Epoch 48/50\n",
            "375/375 [==============================] - 1s 3ms/step - loss: 0.0524 - accuracy: 0.9903 - val_loss: 0.5504 - val_accuracy: 0.9657\n",
            "Epoch 49/50\n",
            "375/375 [==============================] - 2s 5ms/step - loss: 0.0567 - accuracy: 0.9901 - val_loss: 0.5891 - val_accuracy: 0.9628\n",
            "Epoch 50/50\n",
            "375/375 [==============================] - 1s 3ms/step - loss: 0.0614 - accuracy: 0.9893 - val_loss: 0.5885 - val_accuracy: 0.9682\n"
          ]
        }
      ]
    },
    {
      "cell_type": "code",
      "metadata": {
        "colab": {
          "base_uri": "https://localhost:8080/",
          "height": 430
        },
        "id": "x4tHqqXXBXRm",
        "outputId": "cc4844b8-6b56-4c10-b53d-7305130c0631"
      },
      "source": [
        "plt.scatter(np.arange(epochs),h.history['loss'])\n",
        "plt.scatter(np.arange(epochs),h.history['val_loss'],c='r')\n",
        "plt.show()"
      ],
      "execution_count": 397,
      "outputs": [
        {
          "output_type": "display_data",
          "data": {
            "text/plain": [
              "<Figure size 640x480 with 1 Axes>"
            ],
            "image/png": "[encoded data removed]"
          },
          "metadata": {}
        }
      ]
    },
    {
      "cell_type": "code",
      "source": [
        "plt.scatter(np.arange(epochs),h.history['accuracy'])\n",
        "plt.scatter(np.arange(epochs),h.history['val_accuracy'],c='y')\n",
        "plt.show()"
      ],
      "metadata": {
        "colab": {
          "base_uri": "https://localhost:8080/",
          "height": 430
        },
        "id": "EMEIBoCZBt_N",
        "outputId": "b58719c8-2fbb-403c-d6a1-896ffc5da694"
      },
      "execution_count": 398,
      "outputs": [
        {
          "output_type": "display_data",
          "data": {
            "text/plain": [
              "<Figure size 640x480 with 1 Axes>"
            ],
            "image/png": "[encoded data removed]"
          },
          "metadata": {}
        }
      ]
    },
    {
      "cell_type": "code",
      "metadata": {
        "colab": {
          "base_uri": "https://localhost:8080/"
        },
        "id": "ERLS7pe69v5j",
        "outputId": "f7c96016-6177-4063-9cb2-3922aa53753a"
      },
      "source": [
        "score = model.evaluate(test_images, test_labels, verbose=0)\n",
        "print(\"Test loss:\", score[0])\n",
        "print(\"Test accuracy:\", score[1])"
      ],
      "execution_count": 399,
      "outputs": [
        {
          "output_type": "stream",
          "name": "stdout",
          "text": [
            "Test loss: 0.6038411259651184\n",
            "Test accuracy: 0.96670001745224\n"
          ]
        }
      ]
    },
    {
      "cell_type": "code",
      "metadata": {
        "colab": {
          "base_uri": "https://localhost:8080/",
          "height": 519
        },
        "id": "rLbjkyVBDx79",
        "outputId": "89bf3d63-364a-4ea0-e5c7-93894b27cef6"
      },
      "source": [
        "def plot_image(img_index):\n",
        "    label_index = train_labels[img_index]\n",
        "    plt.imshow(train_data[img_index]/255, cmap = 'gray')\n",
        "    print(label_index)\n",
        "\n",
        "img_index = 10\n",
        "plot_image(img_index)\n",
        "\n",
        "picture = train_data[img_index].reshape(-1,784)\n",
        "\n",
        "model.predict(picture)"
      ],
      "execution_count": 400,
      "outputs": [
        {
          "output_type": "stream",
          "name": "stdout",
          "text": [
            "[0. 0. 0. 1. 0. 0. 0. 0. 0. 0.]\n",
            "1/1 [==============================] - 0s 41ms/step\n"
          ]
        },
        {
          "output_type": "execute_result",
          "data": {
            "text/plain": [
              "array([[0.0000000e+00, 0.0000000e+00, 0.0000000e+00, 1.0000000e+00,\n",
              "        0.0000000e+00, 2.1509282e-23, 0.0000000e+00, 0.0000000e+00,\n",
              "        0.0000000e+00, 4.6604197e-13]], dtype=float32)"
            ]
          },
          "metadata": {},
          "execution_count": 400
        },
        {
          "output_type": "display_data",
          "data": {
            "text/plain": [
              "<Figure size 640x480 with 1 Axes>"
            ],
            "image/png": "[encoded data removed]"
          },
          "metadata": {}
        }
      ]
    },
    {
      "cell_type": "markdown",
      "metadata": {
        "id": "0lpwWfBcBZ__"
      },
      "source": [
        "Import biblioteki **TensorFlow** ([https://www.tensorflow.org/](https://www.tensorflow.org/)) z której będziemy korzystali w **uczeniu maszynowym**:"
      ]
    },
    {
      "cell_type": "code",
      "metadata": {
        "id": "QIzPGy0OBaAA"
      },
      "source": [
        "import tensorflow as tf\n",
        "import matplotlib.pyplot as plt\n",
        "import numpy as np"
      ],
      "execution_count": 401,
      "outputs": []
    },
    {
      "cell_type": "code",
      "metadata": {
        "id": "eoa4LXL1BaAA"
      },
      "source": [
        "import keras\n",
        "from keras.models import Sequential\n",
        "from keras.layers import Dense"
      ],
      "execution_count": 402,
      "outputs": []
    },
    {
      "cell_type": "markdown",
      "metadata": {
        "id": "Gr_hXx1oBaAA"
      },
      "source": [
        "##Numbers recognition - dataset **MNIST**"
      ]
    },
    {
      "cell_type": "markdown",
      "metadata": {
        "id": "ste1IRyrBaAA"
      },
      "source": [
        "Download dataset"
      ]
    },
    {
      "cell_type": "code",
      "metadata": {
        "id": "ycF7rbMpBaAA"
      },
      "source": [
        "(train_data, train_labels), (test_data, test_labels) = tf.keras.datasets.mnist.load_data()"
      ],
      "execution_count": 403,
      "outputs": []
    },
    {
      "cell_type": "code",
      "source": [],
      "metadata": {
        "id": "ze_96RN5BaAB"
      },
      "execution_count": 403,
      "outputs": []
    },
    {
      "cell_type": "code",
      "source": [
        "(train_data, train_labels), (test_data, test_labels) = tf.keras.datasets.mnist.load_data()"
      ],
      "metadata": {
        "id": "iV2IJLhDBaAB"
      },
      "execution_count": 404,
      "outputs": []
    },
    {
      "cell_type": "code",
      "source": [
        "data = np.concatenate([train_data, test_data])"
      ],
      "metadata": {
        "id": "_OMSY7RZBaAB"
      },
      "execution_count": 405,
      "outputs": []
    },
    {
      "cell_type": "code",
      "source": [
        "data.shape"
      ],
      "metadata": {
        "colab": {
          "base_uri": "https://localhost:8080/"
        },
        "outputId": "ca14c1f8-853e-4e5d-a463-1d18674707a2",
        "id": "8c5Sx8sTBaAC"
      },
      "execution_count": 406,
      "outputs": [
        {
          "output_type": "execute_result",
          "data": {
            "text/plain": [
              "(70000, 28, 28)"
            ]
          },
          "metadata": {},
          "execution_count": 406
        }
      ]
    },
    {
      "cell_type": "code",
      "source": [
        "label = np.concatenate([train_labels,test_labels])"
      ],
      "metadata": {
        "id": "uySr08ACBaAC"
      },
      "execution_count": 407,
      "outputs": []
    },
    {
      "cell_type": "code",
      "source": [
        "label.shape"
      ],
      "metadata": {
        "colab": {
          "base_uri": "https://localhost:8080/"
        },
        "outputId": "ad5af006-9d9b-4f2d-e25a-f62191374ce9",
        "id": "myT1L9rlBaAC"
      },
      "execution_count": 408,
      "outputs": [
        {
          "output_type": "execute_result",
          "data": {
            "text/plain": [
              "(70000,)"
            ]
          },
          "metadata": {},
          "execution_count": 408
        }
      ]
    },
    {
      "cell_type": "markdown",
      "metadata": {
        "id": "qN329hT4BaAC"
      },
      "source": [
        "Informations about dataset"
      ]
    },
    {
      "cell_type": "code",
      "metadata": {
        "colab": {
          "base_uri": "https://localhost:8080/"
        },
        "outputId": "5a6e486c-7945-41cf-c6da-f04932ce1a39",
        "id": "axqixTUZBaAD"
      },
      "source": [
        "train_data.shape,train_labels.shape"
      ],
      "execution_count": 409,
      "outputs": [
        {
          "output_type": "execute_result",
          "data": {
            "text/plain": [
              "((60000, 28, 28), (60000,))"
            ]
          },
          "metadata": {},
          "execution_count": 409
        }
      ]
    },
    {
      "cell_type": "code",
      "metadata": {
        "colab": {
          "base_uri": "https://localhost:8080/"
        },
        "outputId": "46b55d19-d6b7-4109-91ed-7c27396adf2b",
        "id": "8yhX1PLSBaAD"
      },
      "source": [
        "test_data.shape,test_labels.shape"
      ],
      "execution_count": 410,
      "outputs": [
        {
          "output_type": "execute_result",
          "data": {
            "text/plain": [
              "((10000, 28, 28), (10000,))"
            ]
          },
          "metadata": {},
          "execution_count": 410
        }
      ]
    },
    {
      "cell_type": "code",
      "metadata": {
        "colab": {
          "base_uri": "https://localhost:8080/"
        },
        "outputId": "6315cf8e-5ad2-4155-b082-37e443fadb3b",
        "id": "FggSpmYqBaAD"
      },
      "source": [
        "train_data[0]"
      ],
      "execution_count": 411,
      "outputs": [
        {
          "output_type": "execute_result",
          "data": {
            "text/plain": [
              "array([[  0,   0,   0,   0,   0,   0,   0,   0,   0,   0,   0,   0,   0,\n",
              "          0,   0,   0,   0,   0,   0,   0,   0,   0,   0,   0,   0,   0,\n",
              "          0,   0],\n",
              "       [  0,   0,   0,   0,   0,   0,   0,   0,   0,   0,   0,   0,   0,\n",
              "          0,   0,   0,   0,   0,   0,   0,   0,   0,   0,   0,   0,   0,\n",
              "          0,   0],\n",
              "       [  0,   0,   0,   0,   0,   0,   0,   0,   0,   0,   0,   0,   0,\n",
              "          0,   0,   0,   0,   0,   0,   0,   0,   0,   0,   0,   0,   0,\n",
              "          0,   0],\n",
              "       [  0,   0,   0,   0,   0,   0,   0,   0,   0,   0,   0,   0,   0,\n",
              "          0,   0,   0,   0,   0,   0,   0,   0,   0,   0,   0,   0,   0,\n",
              "          0,   0],\n",
              "       [  0,   0,   0,   0,   0,   0,   0,   0,   0,   0,   0,   0,   0,\n",
              "          0,   0,   0,   0,   0,   0,   0,   0,   0,   0,   0,   0,   0,\n",
              "          0,   0],\n",
              "       [  0,   0,   0,   0,   0,   0,   0,   0,   0,   0,   0,   0,   3,\n",
              "         18,  18,  18, 126, 136, 175,  26, 166, 255, 247, 127,   0,   0,\n",
              "          0,   0],\n",
              "       [  0,   0,   0,   0,   0,   0,   0,   0,  30,  36,  94, 154, 170,\n",
              "        253, 253, 253, 253, 253, 225, 172, 253, 242, 195,  64,   0,   0,\n",
              "          0,   0],\n",
              "       [  0,   0,   0,   0,   0,   0,   0,  49, 238, 253, 253, 253, 253,\n",
              "        253, 253, 253, 253, 251,  93,  82,  82,  56,  39,   0,   0,   0,\n",
              "          0,   0],\n",
              "       [  0,   0,   0,   0,   0,   0,   0,  18, 219, 253, 253, 253, 253,\n",
              "        253, 198, 182, 247, 241,   0,   0,   0,   0,   0,   0,   0,   0,\n",
              "          0,   0],\n",
              "       [  0,   0,   0,   0,   0,   0,   0,   0,  80, 156, 107, 253, 253,\n",
              "        205,  11,   0,  43, 154,   0,   0,   0,   0,   0,   0,   0,   0,\n",
              "          0,   0],\n",
              "       [  0,   0,   0,   0,   0,   0,   0,   0,   0,  14,   1, 154, 253,\n",
              "         90,   0,   0,   0,   0,   0,   0,   0,   0,   0,   0,   0,   0,\n",
              "          0,   0],\n",
              "       [  0,   0,   0,   0,   0,   0,   0,   0,   0,   0,   0, 139, 253,\n",
              "        190,   2,   0,   0,   0,   0,   0,   0,   0,   0,   0,   0,   0,\n",
              "          0,   0],\n",
              "       [  0,   0,   0,   0,   0,   0,   0,   0,   0,   0,   0,  11, 190,\n",
              "        253,  70,   0,   0,   0,   0,   0,   0,   0,   0,   0,   0,   0,\n",
              "          0,   0],\n",
              "       [  0,   0,   0,   0,   0,   0,   0,   0,   0,   0,   0,   0,  35,\n",
              "        241, 225, 160, 108,   1,   0,   0,   0,   0,   0,   0,   0,   0,\n",
              "          0,   0],\n",
              "       [  0,   0,   0,   0,   0,   0,   0,   0,   0,   0,   0,   0,   0,\n",
              "         81, 240, 253, 253, 119,  25,   0,   0,   0,   0,   0,   0,   0,\n",
              "          0,   0],\n",
              "       [  0,   0,   0,   0,   0,   0,   0,   0,   0,   0,   0,   0,   0,\n",
              "          0,  45, 186, 253, 253, 150,  27,   0,   0,   0,   0,   0,   0,\n",
              "          0,   0],\n",
              "       [  0,   0,   0,   0,   0,   0,   0,   0,   0,   0,   0,   0,   0,\n",
              "          0,   0,  16,  93, 252, 253, 187,   0,   0,   0,   0,   0,   0,\n",
              "          0,   0],\n",
              "       [  0,   0,   0,   0,   0,   0,   0,   0,   0,   0,   0,   0,   0,\n",
              "          0,   0,   0,   0, 249, 253, 249,  64,   0,   0,   0,   0,   0,\n",
              "          0,   0],\n",
              "       [  0,   0,   0,   0,   0,   0,   0,   0,   0,   0,   0,   0,   0,\n",
              "          0,  46, 130, 183, 253, 253, 207,   2,   0,   0,   0,   0,   0,\n",
              "          0,   0],\n",
              "       [  0,   0,   0,   0,   0,   0,   0,   0,   0,   0,   0,   0,  39,\n",
              "        148, 229, 253, 253, 253, 250, 182,   0,   0,   0,   0,   0,   0,\n",
              "          0,   0],\n",
              "       [  0,   0,   0,   0,   0,   0,   0,   0,   0,   0,  24, 114, 221,\n",
              "        253, 253, 253, 253, 201,  78,   0,   0,   0,   0,   0,   0,   0,\n",
              "          0,   0],\n",
              "       [  0,   0,   0,   0,   0,   0,   0,   0,  23,  66, 213, 253, 253,\n",
              "        253, 253, 198,  81,   2,   0,   0,   0,   0,   0,   0,   0,   0,\n",
              "          0,   0],\n",
              "       [  0,   0,   0,   0,   0,   0,  18, 171, 219, 253, 253, 253, 253,\n",
              "        195,  80,   9,   0,   0,   0,   0,   0,   0,   0,   0,   0,   0,\n",
              "          0,   0],\n",
              "       [  0,   0,   0,   0,  55, 172, 226, 253, 253, 253, 253, 244, 133,\n",
              "         11,   0,   0,   0,   0,   0,   0,   0,   0,   0,   0,   0,   0,\n",
              "          0,   0],\n",
              "       [  0,   0,   0,   0, 136, 253, 253, 253, 212, 135, 132,  16,   0,\n",
              "          0,   0,   0,   0,   0,   0,   0,   0,   0,   0,   0,   0,   0,\n",
              "          0,   0],\n",
              "       [  0,   0,   0,   0,   0,   0,   0,   0,   0,   0,   0,   0,   0,\n",
              "          0,   0,   0,   0,   0,   0,   0,   0,   0,   0,   0,   0,   0,\n",
              "          0,   0],\n",
              "       [  0,   0,   0,   0,   0,   0,   0,   0,   0,   0,   0,   0,   0,\n",
              "          0,   0,   0,   0,   0,   0,   0,   0,   0,   0,   0,   0,   0,\n",
              "          0,   0],\n",
              "       [  0,   0,   0,   0,   0,   0,   0,   0,   0,   0,   0,   0,   0,\n",
              "          0,   0,   0,   0,   0,   0,   0,   0,   0,   0,   0,   0,   0,\n",
              "          0,   0]], dtype=uint8)"
            ]
          },
          "metadata": {},
          "execution_count": 411
        }
      ]
    },
    {
      "cell_type": "code",
      "metadata": {
        "colab": {
          "base_uri": "https://localhost:8080/"
        },
        "outputId": "df53dd29-2edb-4c3b-f09e-68e13e9efe91",
        "id": "jTIuCaNxBaAD"
      },
      "source": [
        "train_labels[0]"
      ],
      "execution_count": 412,
      "outputs": [
        {
          "output_type": "execute_result",
          "data": {
            "text/plain": [
              "5"
            ]
          },
          "metadata": {},
          "execution_count": 412
        }
      ]
    },
    {
      "cell_type": "markdown",
      "metadata": {
        "id": "Jm2kG3LmBaAE"
      },
      "source": [
        "One-hot encoding"
      ]
    },
    {
      "cell_type": "code",
      "metadata": {
        "id": "KN6AA5g6BaAE"
      },
      "source": [
        "train_labels = tf.keras.utils.to_categorical(train_labels, 10)\n",
        "test_labels = tf.keras.utils.to_categorical(test_labels, 10)"
      ],
      "execution_count": 413,
      "outputs": []
    },
    {
      "cell_type": "code",
      "metadata": {
        "colab": {
          "base_uri": "https://localhost:8080/"
        },
        "outputId": "8d936daf-cd1b-4bfa-e632-fbbb1e6f1751",
        "id": "sjdFxg7eBaAE"
      },
      "source": [
        "train_data.shape,train_labels.shape"
      ],
      "execution_count": 414,
      "outputs": [
        {
          "output_type": "execute_result",
          "data": {
            "text/plain": [
              "((60000, 28, 28), (60000, 10))"
            ]
          },
          "metadata": {},
          "execution_count": 414
        }
      ]
    },
    {
      "cell_type": "code",
      "metadata": {
        "colab": {
          "base_uri": "https://localhost:8080/"
        },
        "outputId": "287863d1-9f0c-49c6-a3eb-236b1a33eb34",
        "id": "he7-PMc9BaAE"
      },
      "source": [
        "test_data.shape,test_labels.shape"
      ],
      "execution_count": 415,
      "outputs": [
        {
          "output_type": "execute_result",
          "data": {
            "text/plain": [
              "((10000, 28, 28), (10000, 10))"
            ]
          },
          "metadata": {},
          "execution_count": 415
        }
      ]
    },
    {
      "cell_type": "code",
      "metadata": {
        "colab": {
          "base_uri": "https://localhost:8080/"
        },
        "outputId": "33990933-0d01-4d98-c004-ab6c848466d7",
        "id": "jX3vmM-WBaAF"
      },
      "source": [
        "train_labels[0]"
      ],
      "execution_count": 416,
      "outputs": [
        {
          "output_type": "execute_result",
          "data": {
            "text/plain": [
              "array([0., 0., 0., 0., 0., 1., 0., 0., 0., 0.], dtype=float32)"
            ]
          },
          "metadata": {},
          "execution_count": 416
        }
      ]
    },
    {
      "cell_type": "markdown",
      "metadata": {
        "id": "zIJWghm6BaAF"
      },
      "source": [
        "Visulization"
      ]
    },
    {
      "cell_type": "code",
      "metadata": {
        "colab": {
          "base_uri": "https://localhost:8080/",
          "height": 448
        },
        "outputId": "fec5921c-0ae3-4a7a-aae1-673de00e9552",
        "id": "budhOfrtBaAF"
      },
      "source": [
        "def plot_image(img_index):\n",
        "    label_index = test_labels[img_index]\n",
        "    plt.imshow(test_data[img_index]/255, cmap = 'gray')\n",
        "    print(label_index)\n",
        "\n",
        "img_index = 10\n",
        "plot_image(img_index)"
      ],
      "execution_count": 417,
      "outputs": [
        {
          "output_type": "stream",
          "name": "stdout",
          "text": [
            "[1. 0. 0. 0. 0. 0. 0. 0. 0. 0.]\n"
          ]
        },
        {
          "output_type": "display_data",
          "data": {
            "text/plain": [
              "<Figure size 640x480 with 1 Axes>"
            ],
            "image/png": "[encoded data removed]"
          },
          "metadata": {}
        }
      ]
    },
    {
      "cell_type": "code",
      "metadata": {
        "id": "UqxLeU_bBaAF"
      },
      "source": [
        "train_images = train_data.reshape((-1, 784))\n",
        "test_images = test_data.reshape((-1, 784))"
      ],
      "execution_count": 418,
      "outputs": []
    },
    {
      "cell_type": "code",
      "metadata": {
        "colab": {
          "base_uri": "https://localhost:8080/"
        },
        "outputId": "b28c33a2-59ca-422a-9bbc-b84de699c14b",
        "id": "26zlY9IYBaAG"
      },
      "source": [
        "model = Sequential()\n",
        "model.add(Dense(units = 128, use_bias=True, input_shape=(784,), activation = \"relu\"))\n",
        "model.add(Dense(units = 10, use_bias=True, activation = \"softmax\"))\n",
        "\n",
        "opt = keras.optimizers.Adam(learning_rate=0.001)\n",
        "#opt = keras.optimizers.SGD(learning_rate=0.001)\n",
        "\n",
        "model.compile(loss='categorical_crossentropy',optimizer=opt,metrics=['accuracy'])\n",
        "model.summary()"
      ],
      "execution_count": 419,
      "outputs": [
        {
          "output_type": "stream",
          "name": "stdout",
          "text": [
            "Model: \"sequential_28\"\n",
            "_________________________________________________________________\n",
            " Layer (type)                Output Shape              Param #   \n",
            "=================================================================\n",
            " dense_66 (Dense)            (None, 128)               100480    \n",
            "                                                                 \n",
            " dense_67 (Dense)            (None, 10)                1290      \n",
            "                                                                 \n",
            "=================================================================\n",
            "Total params: 101770 (397.54 KB)\n",
            "Trainable params: 101770 (397.54 KB)\n",
            "Non-trainable params: 0 (0.00 Byte)\n",
            "_________________________________________________________________\n"
          ]
        }
      ]
    },
    {
      "cell_type": "code",
      "metadata": {
        "colab": {
          "base_uri": "https://localhost:8080/"
        },
        "outputId": "0ce2b122-7c1c-4321-e3ad-6ad798999061",
        "id": "QhxLIO6sBaAG"
      },
      "source": [
        "batch_size = 128\n",
        "epochs = 50\n",
        "\n",
        "h = model.fit(train_images, train_labels, batch_size=batch_size, epochs=epochs, validation_split=0.2)"
      ],
      "execution_count": 420,
      "outputs": [
        {
          "output_type": "stream",
          "name": "stdout",
          "text": [
            "Epoch 1/50\n",
            "375/375 [==============================] - 2s 3ms/step - loss: 4.8830 - accuracy: 0.8645 - val_loss: 1.3964 - val_accuracy: 0.9002\n",
            "Epoch 2/50\n",
            "375/375 [==============================] - 1s 3ms/step - loss: 0.7926 - accuracy: 0.9101 - val_loss: 0.6780 - val_accuracy: 0.9047\n",
            "Epoch 3/50\n",
            "375/375 [==============================] - 1s 3ms/step - loss: 0.3989 - accuracy: 0.9264 - val_loss: 0.4988 - val_accuracy: 0.9209\n",
            "Epoch 4/50\n",
            "375/375 [==============================] - 1s 3ms/step - loss: 0.2642 - accuracy: 0.9422 - val_loss: 0.4633 - val_accuracy: 0.9288\n",
            "Epoch 5/50\n",
            "375/375 [==============================] - 1s 3ms/step - loss: 0.2061 - accuracy: 0.9518 - val_loss: 0.3954 - val_accuracy: 0.9326\n",
            "Epoch 6/50\n",
            "375/375 [==============================] - 1s 3ms/step - loss: 0.1641 - accuracy: 0.9595 - val_loss: 0.3863 - val_accuracy: 0.9377\n",
            "Epoch 7/50\n",
            "375/375 [==============================] - 1s 4ms/step - loss: 0.1414 - accuracy: 0.9645 - val_loss: 0.3936 - val_accuracy: 0.9433\n",
            "Epoch 8/50\n",
            "375/375 [==============================] - 1s 3ms/step - loss: 0.1339 - accuracy: 0.9648 - val_loss: 0.3433 - val_accuracy: 0.9473\n",
            "Epoch 9/50\n",
            "375/375 [==============================] - 1s 3ms/step - loss: 0.1254 - accuracy: 0.9674 - val_loss: 0.3505 - val_accuracy: 0.9479\n",
            "Epoch 10/50\n",
            "375/375 [==============================] - 1s 3ms/step - loss: 0.1137 - accuracy: 0.9713 - val_loss: 0.2951 - val_accuracy: 0.9495\n",
            "Epoch 11/50\n",
            "375/375 [==============================] - 1s 3ms/step - loss: 0.1106 - accuracy: 0.9709 - val_loss: 0.3453 - val_accuracy: 0.9482\n",
            "Epoch 12/50\n",
            "375/375 [==============================] - 1s 3ms/step - loss: 0.1260 - accuracy: 0.9690 - val_loss: 0.3382 - val_accuracy: 0.9502\n",
            "Epoch 13/50\n",
            "375/375 [==============================] - 1s 3ms/step - loss: 0.1199 - accuracy: 0.9704 - val_loss: 0.3024 - val_accuracy: 0.9517\n",
            "Epoch 14/50\n",
            "375/375 [==============================] - 1s 3ms/step - loss: 0.1153 - accuracy: 0.9712 - val_loss: 0.3116 - val_accuracy: 0.9524\n",
            "Epoch 15/50\n",
            "375/375 [==============================] - 1s 3ms/step - loss: 0.1012 - accuracy: 0.9731 - val_loss: 0.3249 - val_accuracy: 0.9511\n",
            "Epoch 16/50\n",
            "375/375 [==============================] - 2s 4ms/step - loss: 0.1064 - accuracy: 0.9726 - val_loss: 0.3065 - val_accuracy: 0.9538\n",
            "Epoch 17/50\n",
            "375/375 [==============================] - 1s 3ms/step - loss: 0.1022 - accuracy: 0.9743 - val_loss: 0.3044 - val_accuracy: 0.9555\n",
            "Epoch 18/50\n",
            "375/375 [==============================] - 1s 3ms/step - loss: 0.0918 - accuracy: 0.9776 - val_loss: 0.3057 - val_accuracy: 0.9560\n",
            "Epoch 19/50\n",
            "375/375 [==============================] - 1s 3ms/step - loss: 0.0922 - accuracy: 0.9769 - val_loss: 0.3137 - val_accuracy: 0.9545\n",
            "Epoch 20/50\n",
            "375/375 [==============================] - 1s 3ms/step - loss: 0.0861 - accuracy: 0.9779 - val_loss: 0.2992 - val_accuracy: 0.9576\n",
            "Epoch 21/50\n",
            "375/375 [==============================] - 1s 3ms/step - loss: 0.0863 - accuracy: 0.9788 - val_loss: 0.3235 - val_accuracy: 0.9547\n",
            "Epoch 22/50\n",
            "375/375 [==============================] - 1s 3ms/step - loss: 0.0857 - accuracy: 0.9790 - val_loss: 0.2986 - val_accuracy: 0.9590\n",
            "Epoch 23/50\n",
            "375/375 [==============================] - 1s 3ms/step - loss: 0.0814 - accuracy: 0.9800 - val_loss: 0.2825 - val_accuracy: 0.9600\n",
            "Epoch 24/50\n",
            "375/375 [==============================] - 1s 3ms/step - loss: 0.0805 - accuracy: 0.9794 - val_loss: 0.3199 - val_accuracy: 0.9610\n",
            "Epoch 25/50\n",
            "375/375 [==============================] - 1s 3ms/step - loss: 0.0821 - accuracy: 0.9804 - val_loss: 0.3698 - val_accuracy: 0.9573\n",
            "Epoch 26/50\n",
            "375/375 [==============================] - 2s 4ms/step - loss: 0.0938 - accuracy: 0.9791 - val_loss: 0.3657 - val_accuracy: 0.9562\n",
            "Epoch 27/50\n",
            "375/375 [==============================] - 1s 3ms/step - loss: 0.0739 - accuracy: 0.9827 - val_loss: 0.3811 - val_accuracy: 0.9566\n",
            "Epoch 28/50\n",
            "375/375 [==============================] - 1s 3ms/step - loss: 0.0575 - accuracy: 0.9857 - val_loss: 0.3435 - val_accuracy: 0.9608\n",
            "Epoch 29/50\n",
            "375/375 [==============================] - 1s 3ms/step - loss: 0.0766 - accuracy: 0.9826 - val_loss: 0.3446 - val_accuracy: 0.9599\n",
            "Epoch 30/50\n",
            "375/375 [==============================] - 1s 3ms/step - loss: 0.0615 - accuracy: 0.9853 - val_loss: 0.3789 - val_accuracy: 0.9586\n",
            "Epoch 31/50\n",
            "375/375 [==============================] - 1s 3ms/step - loss: 0.0696 - accuracy: 0.9843 - val_loss: 0.3756 - val_accuracy: 0.9605\n",
            "Epoch 32/50\n",
            "375/375 [==============================] - 1s 3ms/step - loss: 0.0644 - accuracy: 0.9850 - val_loss: 0.3757 - val_accuracy: 0.9622\n",
            "Epoch 33/50\n",
            "375/375 [==============================] - 1s 3ms/step - loss: 0.0653 - accuracy: 0.9854 - val_loss: 0.3626 - val_accuracy: 0.9638\n",
            "Epoch 34/50\n",
            "375/375 [==============================] - 1s 3ms/step - loss: 0.0679 - accuracy: 0.9854 - val_loss: 0.3791 - val_accuracy: 0.9622\n",
            "Epoch 35/50\n",
            "375/375 [==============================] - 1s 3ms/step - loss: 0.0676 - accuracy: 0.9855 - val_loss: 0.4033 - val_accuracy: 0.9596\n",
            "Epoch 36/50\n",
            "375/375 [==============================] - 1s 4ms/step - loss: 0.0658 - accuracy: 0.9847 - val_loss: 0.3812 - val_accuracy: 0.9631\n",
            "Epoch 37/50\n",
            "375/375 [==============================] - 1s 3ms/step - loss: 0.0599 - accuracy: 0.9866 - val_loss: 0.3834 - val_accuracy: 0.9619\n",
            "Epoch 38/50\n",
            "375/375 [==============================] - 1s 3ms/step - loss: 0.0621 - accuracy: 0.9867 - val_loss: 0.4714 - val_accuracy: 0.9635\n",
            "Epoch 39/50\n",
            "375/375 [==============================] - 1s 3ms/step - loss: 0.0529 - accuracy: 0.9883 - val_loss: 0.4067 - val_accuracy: 0.9651\n",
            "Epoch 40/50\n",
            "375/375 [==============================] - 1s 3ms/step - loss: 0.0460 - accuracy: 0.9897 - val_loss: 0.5338 - val_accuracy: 0.9568\n",
            "Epoch 41/50\n",
            "375/375 [==============================] - 1s 3ms/step - loss: 0.0531 - accuracy: 0.9883 - val_loss: 0.4848 - val_accuracy: 0.9597\n",
            "Epoch 42/50\n",
            "375/375 [==============================] - 1s 3ms/step - loss: 0.0759 - accuracy: 0.9860 - val_loss: 0.4791 - val_accuracy: 0.9587\n",
            "Epoch 43/50\n",
            "375/375 [==============================] - 1s 3ms/step - loss: 0.0647 - accuracy: 0.9871 - val_loss: 0.5261 - val_accuracy: 0.9613\n",
            "Epoch 44/50\n",
            "375/375 [==============================] - 1s 3ms/step - loss: 0.0638 - accuracy: 0.9885 - val_loss: 0.5135 - val_accuracy: 0.9592\n",
            "Epoch 45/50\n",
            "375/375 [==============================] - 1s 3ms/step - loss: 0.0555 - accuracy: 0.9894 - val_loss: 0.4800 - val_accuracy: 0.9658\n",
            "Epoch 46/50\n",
            "375/375 [==============================] - 2s 4ms/step - loss: 0.0443 - accuracy: 0.9910 - val_loss: 0.5050 - val_accuracy: 0.9633\n",
            "Epoch 47/50\n",
            "375/375 [==============================] - 1s 3ms/step - loss: 0.0451 - accuracy: 0.9901 - val_loss: 0.5835 - val_accuracy: 0.9592\n",
            "Epoch 48/50\n",
            "375/375 [==============================] - 1s 3ms/step - loss: 0.0705 - accuracy: 0.9875 - val_loss: 0.5480 - val_accuracy: 0.9598\n",
            "Epoch 49/50\n",
            "375/375 [==============================] - 1s 3ms/step - loss: 0.0538 - accuracy: 0.9897 - val_loss: 0.5340 - val_accuracy: 0.9636\n",
            "Epoch 50/50\n",
            "375/375 [==============================] - 1s 3ms/step - loss: 0.0536 - accuracy: 0.9904 - val_loss: 0.5692 - val_accuracy: 0.9649\n"
          ]
        }
      ]
    },
    {
      "cell_type": "code",
      "metadata": {
        "colab": {
          "base_uri": "https://localhost:8080/",
          "height": 430
        },
        "outputId": "adadf327-75f2-4664-be1c-707d0a0cf577",
        "id": "TI6BZrJABaAH"
      },
      "source": [
        "plt.scatter(np.arange(epochs),h.history['loss'])\n",
        "plt.scatter(np.arange(epochs),h.history['val_loss'],c='r')\n",
        "plt.show()"
      ],
      "execution_count": 421,
      "outputs": [
        {
          "output_type": "display_data",
          "data": {
            "text/plain": [
              "<Figure size 640x480 with 1 Axes>"
            ],
            "image/png": "[encoded data removed]"
          },
          "metadata": {}
        }
      ]
    },
    {
      "cell_type": "code",
      "source": [
        "plt.scatter(np.arange(epochs),h.history['accuracy'])\n",
        "plt.scatter(np.arange(epochs),h.history['val_accuracy'],c='y')\n",
        "plt.show()"
      ],
      "metadata": {
        "colab": {
          "base_uri": "https://localhost:8080/",
          "height": 430
        },
        "outputId": "2f3bdb02-4e46-4ec9-f67f-9ae6f398db34",
        "id": "a6kENmeDBaAH"
      },
      "execution_count": 422,
      "outputs": [
        {
          "output_type": "display_data",
          "data": {
            "text/plain": [
              "<Figure size 640x480 with 1 Axes>"
            ],
            "image/png": "[encoded data removed]"
          },
          "metadata": {}
        }
      ]
    },
    {
      "cell_type": "code",
      "metadata": {
        "colab": {
          "base_uri": "https://localhost:8080/"
        },
        "outputId": "8e551c48-d53d-4bb6-9ab0-c8a8e264d015",
        "id": "RYg74tyOBaAH"
      },
      "source": [
        "score = model.evaluate(test_images, test_labels, verbose=0)\n",
        "print(\"Test loss:\", score[0])\n",
        "print(\"Test accuracy:\", score[1])"
      ],
      "execution_count": 423,
      "outputs": [
        {
          "output_type": "stream",
          "name": "stdout",
          "text": [
            "Test loss: 0.506654679775238\n",
            "Test accuracy: 0.9695000052452087\n"
          ]
        }
      ]
    },
    {
      "cell_type": "code",
      "metadata": {
        "colab": {
          "base_uri": "https://localhost:8080/",
          "height": 484
        },
        "outputId": "c7663ea4-be90-4576-c4aa-6b3307ee8682",
        "id": "FDnhJKKnBaAI"
      },
      "source": [
        "def plot_image(img_index):\n",
        "    label_index = test_labels[img_index]\n",
        "    plt.imshow(test_data[img_index]/255, cmap = 'gray')\n",
        "    print(label_index)\n",
        "\n",
        "img_index = 10\n",
        "plot_image(img_index)\n",
        "\n",
        "picture = test_data[img_index].reshape(-1,784)\n",
        "\n",
        "model.predict(picture)"
      ],
      "execution_count": 424,
      "outputs": [
        {
          "output_type": "stream",
          "name": "stdout",
          "text": [
            "[1. 0. 0. 0. 0. 0. 0. 0. 0. 0.]\n",
            "1/1 [==============================] - 0s 45ms/step\n"
          ]
        },
        {
          "output_type": "execute_result",
          "data": {
            "text/plain": [
              "array([[1., 0., 0., 0., 0., 0., 0., 0., 0., 0.]], dtype=float32)"
            ]
          },
          "metadata": {},
          "execution_count": 424
        },
        {
          "output_type": "display_data",
          "data": {
            "text/plain": [
              "<Figure size 640x480 with 1 Axes>"
            ],
            "image/png": "[encoded data removed]"
          },
          "metadata": {}
        }
      ]
    },
    {
      "cell_type": "markdown",
      "source": [
        "# **Regularyzacja** - metoda 1"
      ],
      "metadata": {
        "id": "JQVEZ35OBxja"
      }
    },
    {
      "cell_type": "markdown",
      "source": [
        "Zwiększamy zbiór treningowy z **60000** do **65000** (20% to zbiór walidacyjny)"
      ],
      "metadata": {
        "id": "V5LvyF9aE-ci"
      }
    },
    {
      "cell_type": "code",
      "source": [],
      "metadata": {
        "id": "fjDMI-lLC7cJ"
      },
      "execution_count": 424,
      "outputs": []
    },
    {
      "cell_type": "code",
      "source": [
        "test_data = data[:65000]\n",
        "train_data = data[65000:]\n",
        "test_labels = label[:65000]\n",
        "train_labels = label[65000:]"
      ],
      "metadata": {
        "id": "OBszEi4EFGJV"
      },
      "execution_count": 425,
      "outputs": []
    },
    {
      "cell_type": "code",
      "source": [
        "print(test_data.shape,train_data.shape,test_labels.shape,train_labels.shape)"
      ],
      "metadata": {
        "id": "J6kIqjAlFGJV",
        "colab": {
          "base_uri": "https://localhost:8080/"
        },
        "outputId": "4c00fa00-87da-4698-e43f-4127c7fa1f9e"
      },
      "execution_count": 426,
      "outputs": [
        {
          "output_type": "stream",
          "name": "stdout",
          "text": [
            "(65000, 28, 28) (5000, 28, 28) (65000,) (5000,)\n"
          ]
        }
      ]
    },
    {
      "cell_type": "markdown",
      "metadata": {
        "id": "WqB9TPEuFGJV"
      },
      "source": [
        "One-hot coding"
      ]
    },
    {
      "cell_type": "code",
      "metadata": {
        "id": "lay_lXAjFGJW"
      },
      "source": [
        "train_labels = tf.keras.utils.to_categorical(train_labels, 10)\n",
        "test_labels = tf.keras.utils.to_categorical(test_labels, 10)"
      ],
      "execution_count": 427,
      "outputs": []
    },
    {
      "cell_type": "code",
      "metadata": {
        "id": "OnusqB6oFGJW",
        "colab": {
          "base_uri": "https://localhost:8080/"
        },
        "outputId": "4d6d7cdf-868a-49ea-c3e4-6b588a66ee63"
      },
      "source": [
        "train_data.shape,train_labels.shape"
      ],
      "execution_count": 428,
      "outputs": [
        {
          "output_type": "execute_result",
          "data": {
            "text/plain": [
              "((5000, 28, 28), (5000, 10))"
            ]
          },
          "metadata": {},
          "execution_count": 428
        }
      ]
    },
    {
      "cell_type": "code",
      "metadata": {
        "id": "T_fDFbfuFGJX",
        "colab": {
          "base_uri": "https://localhost:8080/"
        },
        "outputId": "e979297f-aea2-4f97-977b-116a6427f4a4"
      },
      "source": [
        "test_data.shape,test_labels.shape"
      ],
      "execution_count": 429,
      "outputs": [
        {
          "output_type": "execute_result",
          "data": {
            "text/plain": [
              "((65000, 28, 28), (65000, 10))"
            ]
          },
          "metadata": {},
          "execution_count": 429
        }
      ]
    },
    {
      "cell_type": "code",
      "metadata": {
        "id": "Xjo3L4HLFGJY",
        "colab": {
          "base_uri": "https://localhost:8080/"
        },
        "outputId": "cbdc9e70-57f1-4119-ef73-7248fa70a23f"
      },
      "source": [
        "train_labels[0]"
      ],
      "execution_count": 430,
      "outputs": [
        {
          "output_type": "execute_result",
          "data": {
            "text/plain": [
              "array([0., 0., 0., 1., 0., 0., 0., 0., 0., 0.], dtype=float32)"
            ]
          },
          "metadata": {},
          "execution_count": 430
        }
      ]
    },
    {
      "cell_type": "code",
      "source": [],
      "metadata": {
        "id": "2FO7HhvZHjQt"
      },
      "execution_count": 430,
      "outputs": []
    },
    {
      "cell_type": "markdown",
      "metadata": {
        "id": "N9pHgEHZHjmv"
      },
      "source": [
        "Visulization"
      ]
    },
    {
      "cell_type": "code",
      "metadata": {
        "colab": {
          "base_uri": "https://localhost:8080/",
          "height": 448
        },
        "outputId": "bdff0740-4d7d-4c91-cdae-4ea93e4de3e3",
        "id": "tLtPdXdqHjmv"
      },
      "source": [
        "def plot_image(img_index):\n",
        "    label_index = test_labels[img_index]\n",
        "    plt.imshow(test_data[img_index]/255, cmap = 'gray')\n",
        "    print(label_index)\n",
        "\n",
        "img_index = 10\n",
        "plot_image(img_index)"
      ],
      "execution_count": 431,
      "outputs": [
        {
          "output_type": "stream",
          "name": "stdout",
          "text": [
            "[0. 0. 0. 1. 0. 0. 0. 0. 0. 0.]\n"
          ]
        },
        {
          "output_type": "display_data",
          "data": {
            "text/plain": [
              "<Figure size 640x480 with 1 Axes>"
            ],
            "image/png": "[encoded data removed]"
          },
          "metadata": {}
        }
      ]
    },
    {
      "cell_type": "code",
      "metadata": {
        "id": "uwSAFJ5wHjmw"
      },
      "source": [
        "train_images = train_data.reshape((-1, 784))\n",
        "test_images = test_data.reshape((-1, 784))"
      ],
      "execution_count": 432,
      "outputs": []
    },
    {
      "cell_type": "code",
      "metadata": {
        "colab": {
          "base_uri": "https://localhost:8080/"
        },
        "outputId": "a70b369a-c639-4cb9-a57b-a7b4cea7905f",
        "id": "uzgRXXniHjmw"
      },
      "source": [
        "model = Sequential()\n",
        "model.add(Dense(units = 128, use_bias=True, input_shape=(784,), activation = \"relu\"))\n",
        "model.add(Dense(units = 10, use_bias=True, activation = \"softmax\"))\n",
        "\n",
        "opt = keras.optimizers.Adam(learning_rate=0.001)\n",
        "#opt = keras.optimizers.SGD(learning_rate=0.001)\n",
        "\n",
        "model.compile(loss='categorical_crossentropy',optimizer=opt,metrics=['accuracy'])\n",
        "model.summary()"
      ],
      "execution_count": 433,
      "outputs": [
        {
          "output_type": "stream",
          "name": "stdout",
          "text": [
            "Model: \"sequential_29\"\n",
            "_________________________________________________________________\n",
            " Layer (type)                Output Shape              Param #   \n",
            "=================================================================\n",
            " dense_68 (Dense)            (None, 128)               100480    \n",
            "                                                                 \n",
            " dense_69 (Dense)            (None, 10)                1290      \n",
            "                                                                 \n",
            "=================================================================\n",
            "Total params: 101770 (397.54 KB)\n",
            "Trainable params: 101770 (397.54 KB)\n",
            "Non-trainable params: 0 (0.00 Byte)\n",
            "_________________________________________________________________\n"
          ]
        }
      ]
    },
    {
      "cell_type": "code",
      "metadata": {
        "colab": {
          "base_uri": "https://localhost:8080/"
        },
        "outputId": "bec543cb-f247-4e9d-b150-95237fc1293b",
        "id": "nBgmtR44Hjmx"
      },
      "source": [
        "batch_size = 128\n",
        "epochs = 50\n",
        "\n",
        "h = model.fit(train_images, train_labels, batch_size=batch_size, epochs=epochs, validation_split=0.2)"
      ],
      "execution_count": 434,
      "outputs": [
        {
          "output_type": "stream",
          "name": "stdout",
          "text": [
            "Epoch 1/50\n",
            "32/32 [==============================] - 1s 8ms/step - loss: 27.2823 - accuracy: 0.6733 - val_loss: 9.7471 - val_accuracy: 0.8230\n",
            "Epoch 2/50\n",
            "32/32 [==============================] - 0s 4ms/step - loss: 2.9699 - accuracy: 0.9147 - val_loss: 7.7618 - val_accuracy: 0.8540\n",
            "Epoch 3/50\n",
            "32/32 [==============================] - 0s 3ms/step - loss: 1.3477 - accuracy: 0.9495 - val_loss: 6.5886 - val_accuracy: 0.8710\n",
            "Epoch 4/50\n",
            "32/32 [==============================] - 0s 3ms/step - loss: 0.6632 - accuracy: 0.9678 - val_loss: 6.6559 - val_accuracy: 0.8660\n",
            "Epoch 5/50\n",
            "32/32 [==============================] - 0s 4ms/step - loss: 0.3883 - accuracy: 0.9790 - val_loss: 5.9981 - val_accuracy: 0.8770\n",
            "Epoch 6/50\n",
            "32/32 [==============================] - 0s 4ms/step - loss: 0.2113 - accuracy: 0.9847 - val_loss: 6.3686 - val_accuracy: 0.8790\n",
            "Epoch 7/50\n",
            "32/32 [==============================] - 0s 3ms/step - loss: 0.1386 - accuracy: 0.9893 - val_loss: 6.7112 - val_accuracy: 0.8800\n",
            "Epoch 8/50\n",
            "32/32 [==============================] - 0s 4ms/step - loss: 0.1209 - accuracy: 0.9895 - val_loss: 6.3900 - val_accuracy: 0.8780\n",
            "Epoch 9/50\n",
            "32/32 [==============================] - 0s 4ms/step - loss: 0.0489 - accuracy: 0.9952 - val_loss: 6.4445 - val_accuracy: 0.8780\n",
            "Epoch 10/50\n",
            "32/32 [==============================] - 0s 3ms/step - loss: 0.0368 - accuracy: 0.9950 - val_loss: 6.6994 - val_accuracy: 0.8760\n",
            "Epoch 11/50\n",
            "32/32 [==============================] - 0s 4ms/step - loss: 0.0194 - accuracy: 0.9970 - val_loss: 6.7563 - val_accuracy: 0.8840\n",
            "Epoch 12/50\n",
            "32/32 [==============================] - 0s 3ms/step - loss: 0.0277 - accuracy: 0.9962 - val_loss: 6.2937 - val_accuracy: 0.8810\n",
            "Epoch 13/50\n",
            "32/32 [==============================] - 0s 4ms/step - loss: 0.0478 - accuracy: 0.9950 - val_loss: 6.5625 - val_accuracy: 0.8890\n",
            "Epoch 14/50\n",
            "32/32 [==============================] - 0s 4ms/step - loss: 0.0461 - accuracy: 0.9945 - val_loss: 6.4732 - val_accuracy: 0.8820\n",
            "Epoch 15/50\n",
            "32/32 [==============================] - 0s 4ms/step - loss: 0.0401 - accuracy: 0.9958 - val_loss: 6.3805 - val_accuracy: 0.8900\n",
            "Epoch 16/50\n",
            "32/32 [==============================] - 0s 3ms/step - loss: 0.0361 - accuracy: 0.9967 - val_loss: 6.6907 - val_accuracy: 0.8870\n",
            "Epoch 17/50\n",
            "32/32 [==============================] - 0s 4ms/step - loss: 0.0248 - accuracy: 0.9967 - val_loss: 6.6599 - val_accuracy: 0.8920\n",
            "Epoch 18/50\n",
            "32/32 [==============================] - 0s 4ms/step - loss: 0.0416 - accuracy: 0.9962 - val_loss: 6.8874 - val_accuracy: 0.8880\n",
            "Epoch 19/50\n",
            "32/32 [==============================] - 0s 4ms/step - loss: 0.1148 - accuracy: 0.9918 - val_loss: 7.1233 - val_accuracy: 0.8810\n",
            "Epoch 20/50\n",
            "32/32 [==============================] - 0s 4ms/step - loss: 0.0896 - accuracy: 0.9927 - val_loss: 7.8300 - val_accuracy: 0.8740\n",
            "Epoch 21/50\n",
            "32/32 [==============================] - 0s 4ms/step - loss: 0.1057 - accuracy: 0.9923 - val_loss: 6.0114 - val_accuracy: 0.8860\n",
            "Epoch 22/50\n",
            "32/32 [==============================] - 0s 3ms/step - loss: 0.3126 - accuracy: 0.9858 - val_loss: 7.0888 - val_accuracy: 0.8920\n",
            "Epoch 23/50\n",
            "32/32 [==============================] - 0s 3ms/step - loss: 0.1977 - accuracy: 0.9885 - val_loss: 7.0124 - val_accuracy: 0.8870\n",
            "Epoch 24/50\n",
            "32/32 [==============================] - 0s 4ms/step - loss: 0.1495 - accuracy: 0.9925 - val_loss: 7.4128 - val_accuracy: 0.8830\n",
            "Epoch 25/50\n",
            "32/32 [==============================] - 0s 3ms/step - loss: 0.0550 - accuracy: 0.9952 - val_loss: 6.3581 - val_accuracy: 0.8980\n",
            "Epoch 26/50\n",
            "32/32 [==============================] - 0s 3ms/step - loss: 0.0436 - accuracy: 0.9950 - val_loss: 6.1964 - val_accuracy: 0.9060\n",
            "Epoch 27/50\n",
            "32/32 [==============================] - 0s 3ms/step - loss: 0.0384 - accuracy: 0.9970 - val_loss: 6.2516 - val_accuracy: 0.8940\n",
            "Epoch 28/50\n",
            "32/32 [==============================] - 0s 4ms/step - loss: 0.0171 - accuracy: 0.9973 - val_loss: 6.4399 - val_accuracy: 0.8950\n",
            "Epoch 29/50\n",
            "32/32 [==============================] - 0s 4ms/step - loss: 0.0275 - accuracy: 0.9970 - val_loss: 6.5815 - val_accuracy: 0.9060\n",
            "Epoch 30/50\n",
            "32/32 [==============================] - 0s 3ms/step - loss: 0.0204 - accuracy: 0.9967 - val_loss: 6.8593 - val_accuracy: 0.9050\n",
            "Epoch 31/50\n",
            "32/32 [==============================] - 0s 3ms/step - loss: 0.0300 - accuracy: 0.9983 - val_loss: 6.5302 - val_accuracy: 0.9040\n",
            "Epoch 32/50\n",
            "32/32 [==============================] - 0s 4ms/step - loss: 0.0095 - accuracy: 0.9977 - val_loss: 6.0544 - val_accuracy: 0.9010\n",
            "Epoch 33/50\n",
            "32/32 [==============================] - 0s 3ms/step - loss: 0.0139 - accuracy: 0.9985 - val_loss: 6.0120 - val_accuracy: 0.9040\n",
            "Epoch 34/50\n",
            "32/32 [==============================] - 0s 4ms/step - loss: 0.0208 - accuracy: 0.9983 - val_loss: 6.4966 - val_accuracy: 0.8990\n",
            "Epoch 35/50\n",
            "32/32 [==============================] - 0s 5ms/step - loss: 0.0262 - accuracy: 0.9980 - val_loss: 6.8088 - val_accuracy: 0.8970\n",
            "Epoch 36/50\n",
            "32/32 [==============================] - 0s 4ms/step - loss: 0.0188 - accuracy: 0.9985 - val_loss: 6.0988 - val_accuracy: 0.9060\n",
            "Epoch 37/50\n",
            "32/32 [==============================] - 0s 5ms/step - loss: 0.0094 - accuracy: 0.9980 - val_loss: 6.5476 - val_accuracy: 0.8950\n",
            "Epoch 38/50\n",
            "32/32 [==============================] - 0s 5ms/step - loss: 0.0194 - accuracy: 0.9983 - val_loss: 8.0784 - val_accuracy: 0.8900\n",
            "Epoch 39/50\n",
            "32/32 [==============================] - 0s 5ms/step - loss: 0.0549 - accuracy: 0.9970 - val_loss: 6.6109 - val_accuracy: 0.8880\n",
            "Epoch 40/50\n",
            "32/32 [==============================] - 0s 6ms/step - loss: 0.0559 - accuracy: 0.9950 - val_loss: 5.8714 - val_accuracy: 0.9000\n",
            "Epoch 41/50\n",
            "32/32 [==============================] - 0s 5ms/step - loss: 0.1891 - accuracy: 0.9905 - val_loss: 7.2950 - val_accuracy: 0.8880\n",
            "Epoch 42/50\n",
            "32/32 [==============================] - 0s 6ms/step - loss: 0.1321 - accuracy: 0.9923 - val_loss: 7.0386 - val_accuracy: 0.8990\n",
            "Epoch 43/50\n",
            "32/32 [==============================] - 0s 4ms/step - loss: 0.0903 - accuracy: 0.9942 - val_loss: 8.1261 - val_accuracy: 0.8920\n",
            "Epoch 44/50\n",
            "32/32 [==============================] - 0s 3ms/step - loss: 0.1175 - accuracy: 0.9923 - val_loss: 8.1469 - val_accuracy: 0.8930\n",
            "Epoch 45/50\n",
            "32/32 [==============================] - 0s 3ms/step - loss: 0.2243 - accuracy: 0.9895 - val_loss: 6.9922 - val_accuracy: 0.9020\n",
            "Epoch 46/50\n",
            "32/32 [==============================] - 0s 4ms/step - loss: 0.1407 - accuracy: 0.9918 - val_loss: 6.7552 - val_accuracy: 0.9100\n",
            "Epoch 47/50\n",
            "32/32 [==============================] - 0s 3ms/step - loss: 0.4111 - accuracy: 0.9835 - val_loss: 7.9961 - val_accuracy: 0.8950\n",
            "Epoch 48/50\n",
            "32/32 [==============================] - 0s 4ms/step - loss: 0.1410 - accuracy: 0.9952 - val_loss: 6.8934 - val_accuracy: 0.9130\n",
            "Epoch 49/50\n",
            "32/32 [==============================] - 0s 4ms/step - loss: 0.0619 - accuracy: 0.9973 - val_loss: 6.9808 - val_accuracy: 0.9080\n",
            "Epoch 50/50\n",
            "32/32 [==============================] - 0s 4ms/step - loss: 0.0243 - accuracy: 0.9970 - val_loss: 6.9950 - val_accuracy: 0.9160\n"
          ]
        }
      ]
    },
    {
      "cell_type": "code",
      "metadata": {
        "colab": {
          "base_uri": "https://localhost:8080/",
          "height": 430
        },
        "outputId": "cf17c658-9a0e-4560-8f40-6937dba932c5",
        "id": "MPMA5M93Hjmy"
      },
      "source": [
        "plt.scatter(np.arange(epochs),h.history['loss'])\n",
        "plt.scatter(np.arange(epochs),h.history['val_loss'],c='r')\n",
        "plt.show()"
      ],
      "execution_count": 435,
      "outputs": [
        {
          "output_type": "display_data",
          "data": {
            "text/plain": [
              "<Figure size 640x480 with 1 Axes>"
            ],
            "image/png": "[encoded data removed]"
          },
          "metadata": {}
        }
      ]
    },
    {
      "cell_type": "code",
      "source": [
        "plt.scatter(np.arange(epochs),h.history['accuracy'])\n",
        "plt.scatter(np.arange(epochs),h.history['val_accuracy'],c='y')\n",
        "plt.show()"
      ],
      "metadata": {
        "colab": {
          "base_uri": "https://localhost:8080/",
          "height": 430
        },
        "outputId": "dd5f1a8d-e0fa-4682-be1f-d34aa398778e",
        "id": "s_D6ZLvAHjmy"
      },
      "execution_count": 436,
      "outputs": [
        {
          "output_type": "display_data",
          "data": {
            "text/plain": [
              "<Figure size 640x480 with 1 Axes>"
            ],
            "image/png": "[encoded data removed]"
          },
          "metadata": {}
        }
      ]
    },
    {
      "cell_type": "code",
      "metadata": {
        "colab": {
          "base_uri": "https://localhost:8080/"
        },
        "outputId": "95badc34-9126-4c80-e9b9-6015779bf06a",
        "id": "8fRAnMtOHjmz"
      },
      "source": [
        "score = model.evaluate(test_images, test_labels, verbose=0)\n",
        "print(\"Test loss:\", score[0])\n",
        "print(\"Test accuracy:\", score[1])"
      ],
      "execution_count": 437,
      "outputs": [
        {
          "output_type": "stream",
          "name": "stdout",
          "text": [
            "Test loss: 8.388226509094238\n",
            "Test accuracy: 0.883384644985199\n"
          ]
        }
      ]
    },
    {
      "cell_type": "code",
      "metadata": {
        "colab": {
          "base_uri": "https://localhost:8080/",
          "height": 484
        },
        "outputId": "1a4fc2e0-d7fe-4c6d-a7ce-919b9faa4883",
        "id": "lEvXJwAiHjmz"
      },
      "source": [
        "def plot_image(img_index):\n",
        "    label_index = test_labels[img_index]\n",
        "    plt.imshow(test_data[img_index]/255, cmap = 'gray')\n",
        "    print(label_index)\n",
        "\n",
        "img_index = 10\n",
        "plot_image(img_index)\n",
        "\n",
        "picture = test_data[img_index].reshape(-1,784)\n",
        "\n",
        "model.predict(picture)"
      ],
      "execution_count": 438,
      "outputs": [
        {
          "output_type": "stream",
          "name": "stdout",
          "text": [
            "[0. 0. 0. 1. 0. 0. 0. 0. 0. 0.]\n",
            "1/1 [==============================] - 0s 34ms/step\n"
          ]
        },
        {
          "output_type": "execute_result",
          "data": {
            "text/plain": [
              "array([[0., 0., 0., 1., 0., 0., 0., 0., 0., 0.]], dtype=float32)"
            ]
          },
          "metadata": {},
          "execution_count": 438
        },
        {
          "output_type": "display_data",
          "data": {
            "text/plain": [
              "<Figure size 640x480 with 1 Axes>"
            ],
            "image/png": "[encoded data removed]"
          },
          "metadata": {}
        }
      ]
    },
    {
      "cell_type": "code",
      "source": [],
      "metadata": {
        "id": "v6v3rtaAJ6YK"
      },
      "execution_count": 438,
      "outputs": []
    },
    {
      "cell_type": "code",
      "source": [],
      "metadata": {
        "id": "yzyqMCMnMMwN"
      },
      "execution_count": 438,
      "outputs": []
    },
    {
      "cell_type": "markdown",
      "source": [
        "Zwiększamy zbiór treningowy z **60000** do **68000** (20% to zbiór walidacyjny)\n",
        "\n"
      ],
      "metadata": {
        "id": "wWdEs4muibWS"
      }
    },
    {
      "cell_type": "code",
      "source": [
        "test_data = data[:68000]\n",
        "train_data = data[68000:]\n",
        "test_labels = label[:68000]\n",
        "train_labels = label[68000:]"
      ],
      "metadata": {
        "id": "CLcErjkuMZlI"
      },
      "execution_count": 439,
      "outputs": []
    },
    {
      "cell_type": "code",
      "source": [
        "print(test_data.shape,train_data.shape,test_labels.shape,train_labels.shape)"
      ],
      "metadata": {
        "colab": {
          "base_uri": "https://localhost:8080/"
        },
        "outputId": "14d687c9-e193-4113-c71e-068a141a83ec",
        "id": "qdA_c6qWMZlI"
      },
      "execution_count": 440,
      "outputs": [
        {
          "output_type": "stream",
          "name": "stdout",
          "text": [
            "(68000, 28, 28) (2000, 28, 28) (68000,) (2000,)\n"
          ]
        }
      ]
    },
    {
      "cell_type": "markdown",
      "metadata": {
        "id": "9iZNKqSyMZlJ"
      },
      "source": [
        "One-hot coding"
      ]
    },
    {
      "cell_type": "code",
      "metadata": {
        "id": "nuxi8btCMZlJ"
      },
      "source": [
        "train_labels = tf.keras.utils.to_categorical(train_labels, 10)\n",
        "test_labels = tf.keras.utils.to_categorical(test_labels, 10)"
      ],
      "execution_count": 441,
      "outputs": []
    },
    {
      "cell_type": "code",
      "metadata": {
        "colab": {
          "base_uri": "https://localhost:8080/"
        },
        "outputId": "b1a6fd3f-9fc2-4d0e-874e-358aca9ea6c2",
        "id": "JA8nUaxpMZlJ"
      },
      "source": [
        "train_data.shape,train_labels.shape"
      ],
      "execution_count": 442,
      "outputs": [
        {
          "output_type": "execute_result",
          "data": {
            "text/plain": [
              "((2000, 28, 28), (2000, 10))"
            ]
          },
          "metadata": {},
          "execution_count": 442
        }
      ]
    },
    {
      "cell_type": "code",
      "metadata": {
        "colab": {
          "base_uri": "https://localhost:8080/"
        },
        "outputId": "b8aa4bb4-75db-413a-904f-0deb6b57ed63",
        "id": "Dtj4uDUxMZlJ"
      },
      "source": [
        "test_data.shape,test_labels.shape"
      ],
      "execution_count": 443,
      "outputs": [
        {
          "output_type": "execute_result",
          "data": {
            "text/plain": [
              "((68000, 28, 28), (68000, 10))"
            ]
          },
          "metadata": {},
          "execution_count": 443
        }
      ]
    },
    {
      "cell_type": "code",
      "metadata": {
        "colab": {
          "base_uri": "https://localhost:8080/"
        },
        "outputId": "58edd686-a51a-4e2c-d3d1-32fb056fe689",
        "id": "YJiFeKdkMZlK"
      },
      "source": [
        "train_labels[0]"
      ],
      "execution_count": 444,
      "outputs": [
        {
          "output_type": "execute_result",
          "data": {
            "text/plain": [
              "array([0., 0., 0., 0., 1., 0., 0., 0., 0., 0.], dtype=float32)"
            ]
          },
          "metadata": {},
          "execution_count": 444
        }
      ]
    },
    {
      "cell_type": "markdown",
      "metadata": {
        "id": "etrej5azMZlK"
      },
      "source": [
        "Visulization"
      ]
    },
    {
      "cell_type": "code",
      "metadata": {
        "colab": {
          "base_uri": "https://localhost:8080/",
          "height": 448
        },
        "outputId": "60e63aa6-47a9-436f-f3cc-9013ad5a5832",
        "id": "sgU7vcqYMZlK"
      },
      "source": [
        "def plot_image(img_index):\n",
        "    label_index = test_labels[img_index]\n",
        "    plt.imshow(test_data[img_index]/255, cmap = 'gray')\n",
        "    print(label_index)\n",
        "\n",
        "img_index = 10\n",
        "plot_image(img_index)"
      ],
      "execution_count": 445,
      "outputs": [
        {
          "output_type": "stream",
          "name": "stdout",
          "text": [
            "[0. 0. 0. 1. 0. 0. 0. 0. 0. 0.]\n"
          ]
        },
        {
          "output_type": "display_data",
          "data": {
            "text/plain": [
              "<Figure size 640x480 with 1 Axes>"
            ],
            "image/png": "[encoded data removed]"
          },
          "metadata": {}
        }
      ]
    },
    {
      "cell_type": "code",
      "metadata": {
        "id": "EmTxzP5VMZlK"
      },
      "source": [
        "train_images = train_data.reshape((-1, 784))\n",
        "test_images = test_data.reshape((-1, 784))"
      ],
      "execution_count": 446,
      "outputs": []
    },
    {
      "cell_type": "code",
      "metadata": {
        "colab": {
          "base_uri": "https://localhost:8080/"
        },
        "outputId": "cf14260f-d57f-4bf7-9695-ac4ff6c1f8ee",
        "id": "9_Q1kJXzMZlL"
      },
      "source": [
        "model = Sequential()\n",
        "model.add(Dense(units = 128, use_bias=True, input_shape=(784,), activation = \"relu\"))\n",
        "model.add(Dense(units = 10, use_bias=True, activation = \"softmax\"))\n",
        "\n",
        "opt = keras.optimizers.Adam(learning_rate=0.001)\n",
        "#opt = keras.optimizers.SGD(learning_rate=0.001)\n",
        "\n",
        "model.compile(loss='categorical_crossentropy',optimizer=opt,metrics=['accuracy'])\n",
        "model.summary()"
      ],
      "execution_count": 447,
      "outputs": [
        {
          "output_type": "stream",
          "name": "stdout",
          "text": [
            "Model: \"sequential_30\"\n",
            "_________________________________________________________________\n",
            " Layer (type)                Output Shape              Param #   \n",
            "=================================================================\n",
            " dense_70 (Dense)            (None, 128)               100480    \n",
            "                                                                 \n",
            " dense_71 (Dense)            (None, 10)                1290      \n",
            "                                                                 \n",
            "=================================================================\n",
            "Total params: 101770 (397.54 KB)\n",
            "Trainable params: 101770 (397.54 KB)\n",
            "Non-trainable params: 0 (0.00 Byte)\n",
            "_________________________________________________________________\n"
          ]
        }
      ]
    },
    {
      "cell_type": "code",
      "metadata": {
        "colab": {
          "base_uri": "https://localhost:8080/"
        },
        "outputId": "ac885655-34eb-425f-c3f3-c57f00614a23",
        "id": "dqKGW4S2MZlL"
      },
      "source": [
        "batch_size = 128\n",
        "epochs = 50\n",
        "\n",
        "h = model.fit(train_images, train_labels, batch_size=batch_size, epochs=epochs, validation_split=0.2)"
      ],
      "execution_count": 448,
      "outputs": [
        {
          "output_type": "stream",
          "name": "stdout",
          "text": [
            "Epoch 1/50\n",
            "13/13 [==============================] - 1s 15ms/step - loss: 57.5500 - accuracy: 0.4437 - val_loss: 26.3772 - val_accuracy: 0.6150\n",
            "Epoch 2/50\n",
            "13/13 [==============================] - 0s 5ms/step - loss: 7.1247 - accuracy: 0.8487 - val_loss: 19.3521 - val_accuracy: 0.6950\n",
            "Epoch 3/50\n",
            "13/13 [==============================] - 0s 6ms/step - loss: 2.8438 - accuracy: 0.9237 - val_loss: 18.1339 - val_accuracy: 0.7325\n",
            "Epoch 4/50\n",
            "13/13 [==============================] - 0s 4ms/step - loss: 1.0286 - accuracy: 0.9681 - val_loss: 14.8389 - val_accuracy: 0.7675\n",
            "Epoch 5/50\n",
            "13/13 [==============================] - 0s 5ms/step - loss: 0.5399 - accuracy: 0.9781 - val_loss: 14.9895 - val_accuracy: 0.7700\n",
            "Epoch 6/50\n",
            "13/13 [==============================] - 0s 5ms/step - loss: 0.2436 - accuracy: 0.9869 - val_loss: 13.9272 - val_accuracy: 0.7600\n",
            "Epoch 7/50\n",
            "13/13 [==============================] - 0s 6ms/step - loss: 0.1188 - accuracy: 0.9919 - val_loss: 14.4867 - val_accuracy: 0.7650\n",
            "Epoch 8/50\n",
            "13/13 [==============================] - 0s 6ms/step - loss: 0.0206 - accuracy: 0.9962 - val_loss: 14.1078 - val_accuracy: 0.7650\n",
            "Epoch 9/50\n",
            "13/13 [==============================] - 0s 6ms/step - loss: 0.0049 - accuracy: 0.9981 - val_loss: 13.1470 - val_accuracy: 0.7675\n",
            "Epoch 10/50\n",
            "13/13 [==============================] - 0s 5ms/step - loss: 0.0023 - accuracy: 0.9987 - val_loss: 13.2111 - val_accuracy: 0.7675\n",
            "Epoch 11/50\n",
            "13/13 [==============================] - 0s 4ms/step - loss: 1.5578e-04 - accuracy: 1.0000 - val_loss: 13.4169 - val_accuracy: 0.7675\n",
            "Epoch 12/50\n",
            "13/13 [==============================] - 0s 5ms/step - loss: 8.4957e-06 - accuracy: 1.0000 - val_loss: 13.4777 - val_accuracy: 0.7700\n",
            "Epoch 13/50\n",
            "13/13 [==============================] - 0s 6ms/step - loss: 6.0310e-06 - accuracy: 1.0000 - val_loss: 13.4919 - val_accuracy: 0.7650\n",
            "Epoch 14/50\n",
            "13/13 [==============================] - 0s 6ms/step - loss: 4.9657e-06 - accuracy: 1.0000 - val_loss: 13.4930 - val_accuracy: 0.7650\n",
            "Epoch 15/50\n",
            "13/13 [==============================] - 0s 6ms/step - loss: 3.8426e-06 - accuracy: 1.0000 - val_loss: 13.4916 - val_accuracy: 0.7650\n",
            "Epoch 16/50\n",
            "13/13 [==============================] - 0s 6ms/step - loss: 3.2995e-06 - accuracy: 1.0000 - val_loss: 13.4903 - val_accuracy: 0.7650\n",
            "Epoch 17/50\n",
            "13/13 [==============================] - 0s 9ms/step - loss: 3.0405e-06 - accuracy: 1.0000 - val_loss: 13.4881 - val_accuracy: 0.7650\n",
            "Epoch 18/50\n",
            "13/13 [==============================] - 0s 7ms/step - loss: 2.6820e-06 - accuracy: 1.0000 - val_loss: 13.4865 - val_accuracy: 0.7650\n",
            "Epoch 19/50\n",
            "13/13 [==============================] - 0s 6ms/step - loss: 2.4638e-06 - accuracy: 1.0000 - val_loss: 13.4848 - val_accuracy: 0.7675\n",
            "Epoch 20/50\n",
            "13/13 [==============================] - 0s 6ms/step - loss: 2.2340e-06 - accuracy: 1.0000 - val_loss: 13.4835 - val_accuracy: 0.7675\n",
            "Epoch 21/50\n",
            "13/13 [==============================] - 0s 7ms/step - loss: 2.0716e-06 - accuracy: 1.0000 - val_loss: 13.4822 - val_accuracy: 0.7675\n",
            "Epoch 22/50\n",
            "13/13 [==============================] - 0s 6ms/step - loss: 1.9353e-06 - accuracy: 1.0000 - val_loss: 13.4811 - val_accuracy: 0.7675\n",
            "Epoch 23/50\n",
            "13/13 [==============================] - 0s 7ms/step - loss: 1.8074e-06 - accuracy: 1.0000 - val_loss: 13.4798 - val_accuracy: 0.7700\n",
            "Epoch 24/50\n",
            "13/13 [==============================] - 0s 7ms/step - loss: 1.6817e-06 - accuracy: 1.0000 - val_loss: 13.4784 - val_accuracy: 0.7700\n",
            "Epoch 25/50\n",
            "13/13 [==============================] - 0s 9ms/step - loss: 1.5858e-06 - accuracy: 1.0000 - val_loss: 13.4772 - val_accuracy: 0.7700\n",
            "Epoch 26/50\n",
            "13/13 [==============================] - 0s 7ms/step - loss: 1.4815e-06 - accuracy: 1.0000 - val_loss: 13.4764 - val_accuracy: 0.7700\n",
            "Epoch 27/50\n",
            "13/13 [==============================] - 0s 8ms/step - loss: 1.4142e-06 - accuracy: 1.0000 - val_loss: 13.4748 - val_accuracy: 0.7700\n",
            "Epoch 28/50\n",
            "13/13 [==============================] - 0s 7ms/step - loss: 1.3430e-06 - accuracy: 1.0000 - val_loss: 13.4734 - val_accuracy: 0.7700\n",
            "Epoch 29/50\n",
            "13/13 [==============================] - 0s 6ms/step - loss: 1.2584e-06 - accuracy: 1.0000 - val_loss: 13.4725 - val_accuracy: 0.7700\n",
            "Epoch 30/50\n",
            "13/13 [==============================] - 0s 9ms/step - loss: 1.1927e-06 - accuracy: 1.0000 - val_loss: 13.4719 - val_accuracy: 0.7700\n",
            "Epoch 31/50\n",
            "13/13 [==============================] - 0s 7ms/step - loss: 1.1248e-06 - accuracy: 1.0000 - val_loss: 13.4712 - val_accuracy: 0.7700\n",
            "Epoch 32/50\n",
            "13/13 [==============================] - 0s 5ms/step - loss: 1.0782e-06 - accuracy: 1.0000 - val_loss: 13.4701 - val_accuracy: 0.7700\n",
            "Epoch 33/50\n",
            "13/13 [==============================] - 0s 5ms/step - loss: 1.0204e-06 - accuracy: 1.0000 - val_loss: 13.4697 - val_accuracy: 0.7700\n",
            "Epoch 34/50\n",
            "13/13 [==============================] - 0s 6ms/step - loss: 9.6473e-07 - accuracy: 1.0000 - val_loss: 13.4685 - val_accuracy: 0.7700\n",
            "Epoch 35/50\n",
            "13/13 [==============================] - 0s 6ms/step - loss: 9.2287e-07 - accuracy: 1.0000 - val_loss: 13.4674 - val_accuracy: 0.7700\n",
            "Epoch 36/50\n",
            "13/13 [==============================] - 0s 5ms/step - loss: 8.8041e-07 - accuracy: 1.0000 - val_loss: 13.4669 - val_accuracy: 0.7700\n",
            "Epoch 37/50\n",
            "13/13 [==============================] - 0s 4ms/step - loss: 8.4108e-07 - accuracy: 1.0000 - val_loss: 13.4659 - val_accuracy: 0.7700\n",
            "Epoch 38/50\n",
            "13/13 [==============================] - 0s 5ms/step - loss: 8.1374e-07 - accuracy: 1.0000 - val_loss: 13.4651 - val_accuracy: 0.7700\n",
            "Epoch 39/50\n",
            "13/13 [==============================] - 0s 4ms/step - loss: 7.7866e-07 - accuracy: 1.0000 - val_loss: 13.4645 - val_accuracy: 0.7700\n",
            "Epoch 40/50\n",
            "13/13 [==============================] - 0s 4ms/step - loss: 7.5296e-07 - accuracy: 1.0000 - val_loss: 13.4640 - val_accuracy: 0.7700\n",
            "Epoch 41/50\n",
            "13/13 [==============================] - 0s 7ms/step - loss: 7.2577e-07 - accuracy: 1.0000 - val_loss: 13.4634 - val_accuracy: 0.7700\n",
            "Epoch 42/50\n",
            "13/13 [==============================] - 0s 5ms/step - loss: 7.0826e-07 - accuracy: 1.0000 - val_loss: 13.4626 - val_accuracy: 0.7700\n",
            "Epoch 43/50\n",
            "13/13 [==============================] - 0s 6ms/step - loss: 6.7333e-07 - accuracy: 1.0000 - val_loss: 13.4622 - val_accuracy: 0.7700\n",
            "Epoch 44/50\n",
            "13/13 [==============================] - 0s 5ms/step - loss: 6.5470e-07 - accuracy: 1.0000 - val_loss: 13.4616 - val_accuracy: 0.7700\n",
            "Epoch 45/50\n",
            "13/13 [==============================] - 0s 6ms/step - loss: 6.3221e-07 - accuracy: 1.0000 - val_loss: 13.4610 - val_accuracy: 0.7700\n",
            "Epoch 46/50\n",
            "13/13 [==============================] - 0s 6ms/step - loss: 6.1343e-07 - accuracy: 1.0000 - val_loss: 13.4605 - val_accuracy: 0.7700\n",
            "Epoch 47/50\n",
            "13/13 [==============================] - 0s 5ms/step - loss: 5.9690e-07 - accuracy: 1.0000 - val_loss: 13.4600 - val_accuracy: 0.7700\n",
            "Epoch 48/50\n",
            "13/13 [==============================] - 0s 5ms/step - loss: 5.7671e-07 - accuracy: 1.0000 - val_loss: 13.4596 - val_accuracy: 0.7700\n",
            "Epoch 49/50\n",
            "13/13 [==============================] - 0s 6ms/step - loss: 5.6173e-07 - accuracy: 1.0000 - val_loss: 13.4591 - val_accuracy: 0.7700\n",
            "Epoch 50/50\n",
            "13/13 [==============================] - 0s 5ms/step - loss: 5.4482e-07 - accuracy: 1.0000 - val_loss: 13.4586 - val_accuracy: 0.7700\n"
          ]
        }
      ]
    },
    {
      "cell_type": "code",
      "metadata": {
        "colab": {
          "base_uri": "https://localhost:8080/",
          "height": 433
        },
        "outputId": "e9c35f62-1eed-40e8-e0f0-9ee844ee25b1",
        "id": "EBGUZwLYMZlL"
      },
      "source": [
        "plt.scatter(np.arange(epochs),h.history['loss'])\n",
        "plt.scatter(np.arange(epochs),h.history['val_loss'],c='r')\n",
        "plt.show()"
      ],
      "execution_count": 449,
      "outputs": [
        {
          "output_type": "display_data",
          "data": {
            "text/plain": [
              "<Figure size 640x480 with 1 Axes>"
            ],
            "image/png": "[encoded data removed]"
          },
          "metadata": {}
        }
      ]
    },
    {
      "cell_type": "code",
      "source": [
        "plt.scatter(np.arange(epochs),h.history['accuracy'])\n",
        "plt.scatter(np.arange(epochs),h.history['val_accuracy'],c='y')\n",
        "plt.show()"
      ],
      "metadata": {
        "colab": {
          "base_uri": "https://localhost:8080/",
          "height": 430
        },
        "outputId": "b75ff8fd-7202-4211-adce-7b1b6978bd6e",
        "id": "sYS-p9ybMZlL"
      },
      "execution_count": 450,
      "outputs": [
        {
          "output_type": "display_data",
          "data": {
            "text/plain": [
              "<Figure size 640x480 with 1 Axes>"
            ],
            "image/png": "[encoded data removed]"
          },
          "metadata": {}
        }
      ]
    },
    {
      "cell_type": "code",
      "metadata": {
        "colab": {
          "base_uri": "https://localhost:8080/"
        },
        "outputId": "d4753131-baf8-415a-cdaf-5c0fd49db9e1",
        "id": "IoRRBuzkMZlM"
      },
      "source": [
        "score = model.evaluate(test_images, test_labels, verbose=0)\n",
        "print(\"Test loss:\", score[0])\n",
        "print(\"Test accuracy:\", score[1])"
      ],
      "execution_count": 451,
      "outputs": [
        {
          "output_type": "stream",
          "name": "stdout",
          "text": [
            "Test loss: 10.958120346069336\n",
            "Test accuracy: 0.8068529367446899\n"
          ]
        }
      ]
    },
    {
      "cell_type": "code",
      "metadata": {
        "colab": {
          "base_uri": "https://localhost:8080/",
          "height": 484
        },
        "outputId": "11becca6-d691-49d2-980c-e6e98452f384",
        "id": "OFvNctpEMZlM"
      },
      "source": [
        "def plot_image(img_index):\n",
        "    label_index = test_labels[img_index]\n",
        "    plt.imshow(test_data[img_index]/255, cmap = 'gray')\n",
        "    print(label_index)\n",
        "\n",
        "img_index = 10\n",
        "plot_image(img_index)\n",
        "\n",
        "picture = test_data[img_index].reshape(-1,784)\n",
        "\n",
        "model.predict(picture)"
      ],
      "execution_count": 452,
      "outputs": [
        {
          "output_type": "stream",
          "name": "stdout",
          "text": [
            "[0. 0. 0. 1. 0. 0. 0. 0. 0. 0.]\n",
            "1/1 [==============================] - 0s 38ms/step\n"
          ]
        },
        {
          "output_type": "execute_result",
          "data": {
            "text/plain": [
              "array([[0., 0., 0., 1., 0., 0., 0., 0., 0., 0.]], dtype=float32)"
            ]
          },
          "metadata": {},
          "execution_count": 452
        },
        {
          "output_type": "display_data",
          "data": {
            "text/plain": [
              "<Figure size 640x480 with 1 Axes>"
            ],
            "image/png": "[encoded data removed]"
          },
          "metadata": {}
        }
      ]
    },
    {
      "cell_type": "markdown",
      "source": [
        "#Opis:"
      ],
      "metadata": {
        "id": "Rf-uexQmya-K"
      }
    },
    {
      "cell_type": "markdown",
      "source": [
        "batch_size = 128\n",
        "\n",
        "epochs = 50\n",
        "\n",
        "Zwiększony zbiór treningowy z **60000** do **68000** (20% to zbiór walidacyjny)\n",
        "\n",
        "opt = keras.optimizers.Adam(learning_rate=0.001)"
      ],
      "metadata": {
        "id": "GMVSjk_bzLGb"
      }
    },
    {
      "cell_type": "code",
      "source": [
        "model.summary()"
      ],
      "metadata": {
        "colab": {
          "base_uri": "https://localhost:8080/"
        },
        "id": "CNE9IYZ5ynCC",
        "outputId": "fd469927-6bea-4d9c-8fe5-5e2679b90087"
      },
      "execution_count": 453,
      "outputs": [
        {
          "output_type": "stream",
          "name": "stdout",
          "text": [
            "Model: \"sequential_30\"\n",
            "_________________________________________________________________\n",
            " Layer (type)                Output Shape              Param #   \n",
            "=================================================================\n",
            " dense_70 (Dense)            (None, 128)               100480    \n",
            "                                                                 \n",
            " dense_71 (Dense)            (None, 10)                1290      \n",
            "                                                                 \n",
            "=================================================================\n",
            "Total params: 101770 (397.54 KB)\n",
            "Trainable params: 101770 (397.54 KB)\n",
            "Non-trainable params: 0 (0.00 Byte)\n",
            "_________________________________________________________________\n"
          ]
        }
      ]
    },
    {
      "cell_type": "markdown",
      "source": [
        "Wnioski i komentarz"
      ],
      "metadata": {
        "id": "J8pWfzR6yevk"
      }
    },
    {
      "cell_type": "markdown",
      "source": [
        "Model uczy się do około 4 epoki, potem praktycznie się nie uczy, wykres błędu (treningowego i walidacyjnego) jest praktycznie na stałym poziomie."
      ],
      "metadata": {
        "id": "HcQqMPnL0qrb"
      }
    },
    {
      "cell_type": "markdown",
      "source": [
        "--------------------------------------------------------------------------------------------------"
      ],
      "metadata": {
        "id": "0tDLoZyRJ-oG"
      }
    },
    {
      "cell_type": "code",
      "metadata": {
        "id": "veysnuTGJ7__"
      },
      "source": [
        "(train_data, train_labels), (test_data, test_labels) = tf.keras.datasets.mnist.load_data()"
      ],
      "execution_count": 454,
      "outputs": []
    },
    {
      "cell_type": "markdown",
      "metadata": {
        "id": "Sjh33cVSJ8AA"
      },
      "source": [
        "One-hot encoding"
      ]
    },
    {
      "cell_type": "code",
      "metadata": {
        "id": "4icPph5UJ8AB"
      },
      "source": [
        "train_labels = tf.keras.utils.to_categorical(train_labels, 10)\n",
        "test_labels = tf.keras.utils.to_categorical(test_labels, 10)"
      ],
      "execution_count": 455,
      "outputs": []
    },
    {
      "cell_type": "code",
      "metadata": {
        "colab": {
          "base_uri": "https://localhost:8080/"
        },
        "outputId": "aa633fe7-31fd-4567-c9c0-36972f41faf4",
        "id": "qF8tDOaNJ8AB"
      },
      "source": [
        "train_data.shape,train_labels.shape"
      ],
      "execution_count": 456,
      "outputs": [
        {
          "output_type": "execute_result",
          "data": {
            "text/plain": [
              "((60000, 28, 28), (60000, 10))"
            ]
          },
          "metadata": {},
          "execution_count": 456
        }
      ]
    },
    {
      "cell_type": "code",
      "metadata": {
        "colab": {
          "base_uri": "https://localhost:8080/"
        },
        "outputId": "8281f3e2-61c9-4742-bbfc-3d18cf24a39f",
        "id": "32EeaLn2J8AC"
      },
      "source": [
        "test_data.shape,test_labels.shape"
      ],
      "execution_count": 457,
      "outputs": [
        {
          "output_type": "execute_result",
          "data": {
            "text/plain": [
              "((10000, 28, 28), (10000, 10))"
            ]
          },
          "metadata": {},
          "execution_count": 457
        }
      ]
    },
    {
      "cell_type": "code",
      "metadata": {
        "colab": {
          "base_uri": "https://localhost:8080/"
        },
        "outputId": "4a1548f4-01be-4e71-8f38-adbe0b1e626f",
        "id": "HuC-FL1fJ8AC"
      },
      "source": [
        "train_labels[0]"
      ],
      "execution_count": 458,
      "outputs": [
        {
          "output_type": "execute_result",
          "data": {
            "text/plain": [
              "array([0., 0., 0., 0., 0., 1., 0., 0., 0., 0.], dtype=float32)"
            ]
          },
          "metadata": {},
          "execution_count": 458
        }
      ]
    },
    {
      "cell_type": "markdown",
      "source": [
        "# **Regularyzacja** - metoda 2"
      ],
      "metadata": {
        "id": "QRCEbEkSJSGT"
      }
    },
    {
      "cell_type": "markdown",
      "source": [
        "Zmniejszamy **wielkość modelu**:"
      ],
      "metadata": {
        "id": "p02cbQ7RJTnQ"
      }
    },
    {
      "cell_type": "code",
      "source": [],
      "metadata": {
        "id": "bnxgVnCzJTWS"
      },
      "execution_count": 458,
      "outputs": []
    },
    {
      "cell_type": "code",
      "metadata": {
        "id": "R9SSw9M6KkBT"
      },
      "source": [
        "train_images = train_data.reshape((-1, 784))\n",
        "test_images = test_data.reshape((-1, 784))"
      ],
      "execution_count": 459,
      "outputs": []
    },
    {
      "cell_type": "code",
      "metadata": {
        "colab": {
          "base_uri": "https://localhost:8080/"
        },
        "outputId": "53073cde-8316-45f4-8083-1bdd09d37d6e",
        "id": "8gNNRCz_KkBk"
      },
      "source": [
        "model = Sequential()\n",
        "model.add(Dense(units = 64, use_bias=True, input_shape=(784,), activation = \"relu\"))\n",
        "model.add(Dense(units = 10, use_bias=True, activation = \"softmax\"))\n",
        "\n",
        "opt = keras.optimizers.Adam(learning_rate=0.001)\n",
        "#opt = keras.optimizers.SGD(learning_rate=0.001)\n",
        "\n",
        "model.compile(loss='categorical_crossentropy',optimizer=opt,metrics=['accuracy'])\n",
        "model.summary()"
      ],
      "execution_count": 460,
      "outputs": [
        {
          "output_type": "stream",
          "name": "stdout",
          "text": [
            "Model: \"sequential_31\"\n",
            "_________________________________________________________________\n",
            " Layer (type)                Output Shape              Param #   \n",
            "=================================================================\n",
            " dense_72 (Dense)            (None, 64)                50240     \n",
            "                                                                 \n",
            " dense_73 (Dense)            (None, 10)                650       \n",
            "                                                                 \n",
            "=================================================================\n",
            "Total params: 50890 (198.79 KB)\n",
            "Trainable params: 50890 (198.79 KB)\n",
            "Non-trainable params: 0 (0.00 Byte)\n",
            "_________________________________________________________________\n"
          ]
        }
      ]
    },
    {
      "cell_type": "code",
      "metadata": {
        "colab": {
          "base_uri": "https://localhost:8080/"
        },
        "outputId": "adaedc2c-e9b8-48c1-d144-c2bc22c7b1a8",
        "id": "ASCBIjtcKkBk"
      },
      "source": [
        "batch_size = 128\n",
        "epochs = 50\n",
        "\n",
        "h = model.fit(train_images, train_labels, batch_size=batch_size, epochs=epochs, validation_split=0.2)"
      ],
      "execution_count": 461,
      "outputs": [
        {
          "output_type": "stream",
          "name": "stdout",
          "text": [
            "Epoch 1/50\n",
            "375/375 [==============================] - 1s 3ms/step - loss: 6.5098 - accuracy: 0.8163 - val_loss: 1.1423 - val_accuracy: 0.8436\n",
            "Epoch 2/50\n",
            "375/375 [==============================] - 1s 2ms/step - loss: 0.8722 - accuracy: 0.8537 - val_loss: 0.6737 - val_accuracy: 0.8676\n",
            "Epoch 3/50\n",
            "375/375 [==============================] - 1s 2ms/step - loss: 0.5566 - accuracy: 0.8797 - val_loss: 0.5495 - val_accuracy: 0.8873\n",
            "Epoch 4/50\n",
            "375/375 [==============================] - 1s 2ms/step - loss: 0.4157 - accuracy: 0.9025 - val_loss: 0.4751 - val_accuracy: 0.8999\n",
            "Epoch 5/50\n",
            "375/375 [==============================] - 1s 3ms/step - loss: 0.3407 - accuracy: 0.9149 - val_loss: 0.4472 - val_accuracy: 0.9097\n",
            "Epoch 6/50\n",
            "375/375 [==============================] - 1s 3ms/step - loss: 0.2932 - accuracy: 0.9248 - val_loss: 0.3957 - val_accuracy: 0.9166\n",
            "Epoch 7/50\n",
            "375/375 [==============================] - 1s 2ms/step - loss: 0.2610 - accuracy: 0.9320 - val_loss: 0.3753 - val_accuracy: 0.9242\n",
            "Epoch 8/50\n",
            "375/375 [==============================] - 1s 2ms/step - loss: 0.2332 - accuracy: 0.9373 - val_loss: 0.3742 - val_accuracy: 0.9257\n",
            "Epoch 9/50\n",
            "375/375 [==============================] - 1s 2ms/step - loss: 0.2233 - accuracy: 0.9391 - val_loss: 0.3538 - val_accuracy: 0.9284\n",
            "Epoch 10/50\n",
            "375/375 [==============================] - 1s 2ms/step - loss: 0.2141 - accuracy: 0.9413 - val_loss: 0.3302 - val_accuracy: 0.9309\n",
            "Epoch 11/50\n",
            "375/375 [==============================] - 1s 2ms/step - loss: 0.1947 - accuracy: 0.9457 - val_loss: 0.3237 - val_accuracy: 0.9342\n",
            "Epoch 12/50\n",
            "375/375 [==============================] - 1s 2ms/step - loss: 0.1841 - accuracy: 0.9486 - val_loss: 0.3202 - val_accuracy: 0.9368\n",
            "Epoch 13/50\n",
            "375/375 [==============================] - 1s 2ms/step - loss: 0.1755 - accuracy: 0.9492 - val_loss: 0.3070 - val_accuracy: 0.9382\n",
            "Epoch 14/50\n",
            "375/375 [==============================] - 1s 2ms/step - loss: 0.1679 - accuracy: 0.9526 - val_loss: 0.2996 - val_accuracy: 0.9430\n",
            "Epoch 15/50\n",
            "375/375 [==============================] - 1s 2ms/step - loss: 0.1591 - accuracy: 0.9544 - val_loss: 0.2637 - val_accuracy: 0.9434\n",
            "Epoch 16/50\n",
            "375/375 [==============================] - 1s 2ms/step - loss: 0.1458 - accuracy: 0.9572 - val_loss: 0.3019 - val_accuracy: 0.9445\n",
            "Epoch 17/50\n",
            "375/375 [==============================] - 1s 2ms/step - loss: 0.1458 - accuracy: 0.9578 - val_loss: 0.2634 - val_accuracy: 0.9473\n",
            "Epoch 18/50\n",
            "375/375 [==============================] - 1s 3ms/step - loss: 0.1313 - accuracy: 0.9612 - val_loss: 0.2647 - val_accuracy: 0.9455\n",
            "Epoch 19/50\n",
            "375/375 [==============================] - 1s 2ms/step - loss: 0.1354 - accuracy: 0.9611 - val_loss: 0.2666 - val_accuracy: 0.9427\n",
            "Epoch 20/50\n",
            "375/375 [==============================] - 1s 2ms/step - loss: 0.1412 - accuracy: 0.9596 - val_loss: 0.2862 - val_accuracy: 0.9455\n",
            "Epoch 21/50\n",
            "375/375 [==============================] - 1s 2ms/step - loss: 0.1354 - accuracy: 0.9603 - val_loss: 0.2997 - val_accuracy: 0.9457\n",
            "Epoch 22/50\n",
            "375/375 [==============================] - 1s 2ms/step - loss: 0.1247 - accuracy: 0.9636 - val_loss: 0.2551 - val_accuracy: 0.9441\n",
            "Epoch 23/50\n",
            "375/375 [==============================] - 1s 2ms/step - loss: 0.1238 - accuracy: 0.9653 - val_loss: 0.2706 - val_accuracy: 0.9467\n",
            "Epoch 24/50\n",
            "375/375 [==============================] - 1s 2ms/step - loss: 0.1146 - accuracy: 0.9660 - val_loss: 0.2340 - val_accuracy: 0.9509\n",
            "Epoch 25/50\n",
            "375/375 [==============================] - 1s 2ms/step - loss: 0.1028 - accuracy: 0.9696 - val_loss: 0.2657 - val_accuracy: 0.9558\n",
            "Epoch 26/50\n",
            "375/375 [==============================] - 1s 2ms/step - loss: 0.1064 - accuracy: 0.9690 - val_loss: 0.2405 - val_accuracy: 0.9500\n",
            "Epoch 27/50\n",
            "375/375 [==============================] - 1s 2ms/step - loss: 0.1017 - accuracy: 0.9706 - val_loss: 0.2448 - val_accuracy: 0.9510\n",
            "Epoch 28/50\n",
            "375/375 [==============================] - 1s 2ms/step - loss: 0.0983 - accuracy: 0.9717 - val_loss: 0.2218 - val_accuracy: 0.9551\n",
            "Epoch 29/50\n",
            "375/375 [==============================] - 1s 2ms/step - loss: 0.0920 - accuracy: 0.9735 - val_loss: 0.2624 - val_accuracy: 0.9492\n",
            "Epoch 30/50\n",
            "375/375 [==============================] - 1s 3ms/step - loss: 0.0940 - accuracy: 0.9720 - val_loss: 0.2652 - val_accuracy: 0.9536\n",
            "Epoch 31/50\n",
            "375/375 [==============================] - 1s 3ms/step - loss: 0.0891 - accuracy: 0.9730 - val_loss: 0.2602 - val_accuracy: 0.9567\n",
            "Epoch 32/50\n",
            "375/375 [==============================] - 1s 2ms/step - loss: 0.0921 - accuracy: 0.9731 - val_loss: 0.2584 - val_accuracy: 0.9556\n",
            "Epoch 33/50\n",
            "375/375 [==============================] - 1s 2ms/step - loss: 0.0888 - accuracy: 0.9746 - val_loss: 0.2608 - val_accuracy: 0.9550\n",
            "Epoch 34/50\n",
            "375/375 [==============================] - 1s 2ms/step - loss: 0.0856 - accuracy: 0.9751 - val_loss: 0.2730 - val_accuracy: 0.9512\n",
            "Epoch 35/50\n",
            "375/375 [==============================] - 1s 2ms/step - loss: 0.0818 - accuracy: 0.9746 - val_loss: 0.2396 - val_accuracy: 0.9555\n",
            "Epoch 36/50\n",
            "375/375 [==============================] - 1s 2ms/step - loss: 0.0767 - accuracy: 0.9767 - val_loss: 0.2671 - val_accuracy: 0.9588\n",
            "Epoch 37/50\n",
            "375/375 [==============================] - 1s 2ms/step - loss: 0.0809 - accuracy: 0.9761 - val_loss: 0.2979 - val_accuracy: 0.9519\n",
            "Epoch 38/50\n",
            "375/375 [==============================] - 1s 2ms/step - loss: 0.0790 - accuracy: 0.9773 - val_loss: 0.2740 - val_accuracy: 0.9547\n",
            "Epoch 39/50\n",
            "375/375 [==============================] - 1s 2ms/step - loss: 0.0811 - accuracy: 0.9769 - val_loss: 0.2847 - val_accuracy: 0.9498\n",
            "Epoch 40/50\n",
            "375/375 [==============================] - 1s 2ms/step - loss: 0.0733 - accuracy: 0.9783 - val_loss: 0.2700 - val_accuracy: 0.9544\n",
            "Epoch 41/50\n",
            "375/375 [==============================] - 1s 2ms/step - loss: 0.0670 - accuracy: 0.9797 - val_loss: 0.2873 - val_accuracy: 0.9545\n",
            "Epoch 42/50\n",
            "375/375 [==============================] - 1s 2ms/step - loss: 0.0727 - accuracy: 0.9787 - val_loss: 0.3045 - val_accuracy: 0.9543\n",
            "Epoch 43/50\n",
            "375/375 [==============================] - 1s 3ms/step - loss: 0.0731 - accuracy: 0.9787 - val_loss: 0.2954 - val_accuracy: 0.9567\n",
            "Epoch 44/50\n",
            "375/375 [==============================] - 1s 3ms/step - loss: 0.0662 - accuracy: 0.9802 - val_loss: 0.3271 - val_accuracy: 0.9515\n",
            "Epoch 45/50\n",
            "375/375 [==============================] - 1s 2ms/step - loss: 0.0674 - accuracy: 0.9806 - val_loss: 0.2850 - val_accuracy: 0.9597\n",
            "Epoch 46/50\n",
            "375/375 [==============================] - 1s 2ms/step - loss: 0.0802 - accuracy: 0.9785 - val_loss: 0.3203 - val_accuracy: 0.9538\n",
            "Epoch 47/50\n",
            "375/375 [==============================] - 1s 2ms/step - loss: 0.0671 - accuracy: 0.9808 - val_loss: 0.3123 - val_accuracy: 0.9538\n",
            "Epoch 48/50\n",
            "375/375 [==============================] - 1s 2ms/step - loss: 0.0599 - accuracy: 0.9820 - val_loss: 0.3301 - val_accuracy: 0.9546\n",
            "Epoch 49/50\n",
            "375/375 [==============================] - 1s 2ms/step - loss: 0.0634 - accuracy: 0.9816 - val_loss: 0.3227 - val_accuracy: 0.9563\n",
            "Epoch 50/50\n",
            "375/375 [==============================] - 1s 2ms/step - loss: 0.0724 - accuracy: 0.9804 - val_loss: 0.3091 - val_accuracy: 0.9558\n"
          ]
        }
      ]
    },
    {
      "cell_type": "code",
      "metadata": {
        "colab": {
          "base_uri": "https://localhost:8080/",
          "height": 430
        },
        "outputId": "084d7d49-396d-46a2-83ec-b37e21af91d7",
        "id": "cQ9UD8QvKkBk"
      },
      "source": [
        "plt.scatter(np.arange(epochs),h.history['loss'])\n",
        "plt.scatter(np.arange(epochs),h.history['val_loss'],c='r')\n",
        "plt.show()"
      ],
      "execution_count": 462,
      "outputs": [
        {
          "output_type": "display_data",
          "data": {
            "text/plain": [
              "<Figure size 640x480 with 1 Axes>"
            ],
            "image/png": "[encoded data removed]"
          },
          "metadata": {}
        }
      ]
    },
    {
      "cell_type": "code",
      "source": [
        "plt.scatter(np.arange(epochs),h.history['accuracy'])\n",
        "plt.scatter(np.arange(epochs),h.history['val_accuracy'],c='y')\n",
        "plt.show()"
      ],
      "metadata": {
        "colab": {
          "base_uri": "https://localhost:8080/",
          "height": 430
        },
        "outputId": "c8c10531-b5b8-4e5e-8ba5-0f1cbb4ea597",
        "id": "27lR0qlLKkBl"
      },
      "execution_count": 463,
      "outputs": [
        {
          "output_type": "display_data",
          "data": {
            "text/plain": [
              "<Figure size 640x480 with 1 Axes>"
            ],
            "image/png": "[encoded data removed]"
          },
          "metadata": {}
        }
      ]
    },
    {
      "cell_type": "code",
      "metadata": {
        "colab": {
          "base_uri": "https://localhost:8080/"
        },
        "outputId": "b338547d-3dcb-4b24-c970-ce3c20a75c9c",
        "id": "2e133KKHKkBl"
      },
      "source": [
        "score = model.evaluate(test_images, test_labels, verbose=0)\n",
        "print(\"Test loss:\", score[0])\n",
        "print(\"Test accuracy:\", score[1])"
      ],
      "execution_count": 464,
      "outputs": [
        {
          "output_type": "stream",
          "name": "stdout",
          "text": [
            "Test loss: 0.3401225507259369\n",
            "Test accuracy: 0.9570000171661377\n"
          ]
        }
      ]
    },
    {
      "cell_type": "code",
      "metadata": {
        "colab": {
          "base_uri": "https://localhost:8080/",
          "height": 519
        },
        "outputId": "4da81bed-3875-4860-ff52-b805dbe5c473",
        "id": "-t1PJQlNKkBl"
      },
      "source": [
        "def plot_image(img_index):\n",
        "    label_index = test_labels[img_index]\n",
        "    plt.imshow(test_data[img_index]/255, cmap = 'gray')\n",
        "    print(label_index)\n",
        "\n",
        "img_index = 10\n",
        "plot_image(img_index)\n",
        "\n",
        "picture = test_data[img_index].reshape(-1,784)\n",
        "\n",
        "model.predict(picture)"
      ],
      "execution_count": 465,
      "outputs": [
        {
          "output_type": "stream",
          "name": "stdout",
          "text": [
            "[1. 0. 0. 0. 0. 0. 0. 0. 0. 0.]\n",
            "1/1 [==============================] - 0s 53ms/step\n"
          ]
        },
        {
          "output_type": "execute_result",
          "data": {
            "text/plain": [
              "array([[1.0000000e+00, 0.0000000e+00, 2.7850517e-09, 3.2065512e-29,\n",
              "        8.2517981e-16, 9.5437488e-22, 5.3893983e-21, 5.8958713e-18,\n",
              "        1.5102388e-26, 2.4283206e-14]], dtype=float32)"
            ]
          },
          "metadata": {},
          "execution_count": 465
        },
        {
          "output_type": "display_data",
          "data": {
            "text/plain": [
              "<Figure size 640x480 with 1 Axes>"
            ],
            "image/png": "[encoded data removed]"
          },
          "metadata": {}
        }
      ]
    },
    {
      "cell_type": "code",
      "source": [],
      "metadata": {
        "id": "zSq7qhYLIKlh"
      },
      "execution_count": 465,
      "outputs": []
    },
    {
      "cell_type": "markdown",
      "source": [
        "#Opis:"
      ],
      "metadata": {
        "id": "MftoWgEO1pHd"
      }
    },
    {
      "cell_type": "markdown",
      "source": [
        "batch_size = 128\n",
        "\n",
        "epochs = 50\n",
        "\n",
        "Zbiór treningowy  **60000** (20% to zbiór walidacyjny)\n",
        "\n",
        "opt = keras.optimizers.Adam(learning_rate=0.001)"
      ],
      "metadata": {
        "id": "D4k7Tck51pHv"
      }
    },
    {
      "cell_type": "code",
      "source": [
        "model.summary()"
      ],
      "metadata": {
        "colab": {
          "base_uri": "https://localhost:8080/"
        },
        "outputId": "4967be3d-02ed-4cec-a828-3dd7c4e1499c",
        "id": "W0kdUe-51pHx"
      },
      "execution_count": 466,
      "outputs": [
        {
          "output_type": "stream",
          "name": "stdout",
          "text": [
            "Model: \"sequential_31\"\n",
            "_________________________________________________________________\n",
            " Layer (type)                Output Shape              Param #   \n",
            "=================================================================\n",
            " dense_72 (Dense)            (None, 64)                50240     \n",
            "                                                                 \n",
            " dense_73 (Dense)            (None, 10)                650       \n",
            "                                                                 \n",
            "=================================================================\n",
            "Total params: 50890 (198.79 KB)\n",
            "Trainable params: 50890 (198.79 KB)\n",
            "Non-trainable params: 0 (0.00 Byte)\n",
            "_________________________________________________________________\n"
          ]
        }
      ]
    },
    {
      "cell_type": "markdown",
      "source": [
        "Wnioski i komentarz"
      ],
      "metadata": {
        "id": "htyuIZOo1pHx"
      }
    },
    {
      "cell_type": "markdown",
      "source": [
        "\n",
        "Model uczy się, mniewięcej do 35 epoki, poźniej następuje lekkie niewielkie przeuczeniem wykresy błędu (treningowego i walidacyjnego) się obijają"
      ],
      "metadata": {
        "id": "_SzpAPLt1pHy"
      }
    },
    {
      "cell_type": "markdown",
      "source": [
        "# **Regularyzacja** - metoda 3"
      ],
      "metadata": {
        "id": "kzTad-6yMld2"
      }
    },
    {
      "cell_type": "markdown",
      "source": [
        "Import normy L2:"
      ],
      "metadata": {
        "id": "kwXjcvIaMw2N"
      }
    },
    {
      "cell_type": "code",
      "source": [
        "from keras.regularizers import l2\n"
      ],
      "metadata": {
        "id": "iI7rGYeZMqYF"
      },
      "execution_count": 467,
      "outputs": []
    },
    {
      "cell_type": "markdown",
      "source": [
        "Danie regularyzacji L2 do warstw:"
      ],
      "metadata": {
        "id": "JnF0YuGoMzAD"
      }
    },
    {
      "cell_type": "markdown",
      "metadata": {
        "id": "5j8fge4oMfMi"
      },
      "source": [
        "Visulization"
      ]
    },
    {
      "cell_type": "code",
      "metadata": {
        "colab": {
          "base_uri": "https://localhost:8080/",
          "height": 448
        },
        "outputId": "fae985e5-5a00-4d88-f14c-7235f3ff9ef9",
        "id": "MbK-M33tMfMi"
      },
      "source": [
        "def plot_image(img_index):\n",
        "    label_index = test_labels[img_index]\n",
        "    plt.imshow(test_data[img_index]/255, cmap = 'gray')\n",
        "    print(label_index)\n",
        "\n",
        "img_index = 10\n",
        "plot_image(img_index)"
      ],
      "execution_count": 468,
      "outputs": [
        {
          "output_type": "stream",
          "name": "stdout",
          "text": [
            "[1. 0. 0. 0. 0. 0. 0. 0. 0. 0.]\n"
          ]
        },
        {
          "output_type": "display_data",
          "data": {
            "text/plain": [
              "<Figure size 640x480 with 1 Axes>"
            ],
            "image/png": "[encoded data removed]"
          },
          "metadata": {}
        }
      ]
    },
    {
      "cell_type": "code",
      "metadata": {
        "id": "XDinLDCRMfMi"
      },
      "source": [
        "train_images = train_data.reshape((-1, 784))\n",
        "test_images = test_data.reshape((-1, 784))"
      ],
      "execution_count": 469,
      "outputs": []
    },
    {
      "cell_type": "code",
      "metadata": {
        "colab": {
          "base_uri": "https://localhost:8080/"
        },
        "outputId": "e10e1479-7625-4aa8-83f1-daee9bb19d89",
        "id": "P-9DOnQsMfMj"
      },
      "source": [
        "model = Sequential()\n",
        "model.add(Dense(units = 128,kernel_regularizer=l2(0.01), use_bias=True, input_shape=(784,), activation = \"relu\"))\n",
        "model.add(Dense(units = 10,kernel_regularizer=l2(0.01), use_bias=True, activation = \"softmax\"))\n",
        "\n",
        "opt = keras.optimizers.Adam(learning_rate=0.001)\n",
        "#opt = keras.optimizers.SGD(learning_rate=0.001)\n",
        "\n",
        "model.compile(loss='categorical_crossentropy',optimizer=opt,metrics=['accuracy'])\n",
        "model.summary()"
      ],
      "execution_count": 470,
      "outputs": [
        {
          "output_type": "stream",
          "name": "stdout",
          "text": [
            "Model: \"sequential_32\"\n",
            "_________________________________________________________________\n",
            " Layer (type)                Output Shape              Param #   \n",
            "=================================================================\n",
            " dense_74 (Dense)            (None, 128)               100480    \n",
            "                                                                 \n",
            " dense_75 (Dense)            (None, 10)                1290      \n",
            "                                                                 \n",
            "=================================================================\n",
            "Total params: 101770 (397.54 KB)\n",
            "Trainable params: 101770 (397.54 KB)\n",
            "Non-trainable params: 0 (0.00 Byte)\n",
            "_________________________________________________________________\n"
          ]
        }
      ]
    },
    {
      "cell_type": "code",
      "metadata": {
        "colab": {
          "base_uri": "https://localhost:8080/"
        },
        "outputId": "8a54b416-f3ac-4332-e521-491ca012d14a",
        "id": "LibeszQlMfMj"
      },
      "source": [
        "batch_size = 128\n",
        "epochs = 50\n",
        "\n",
        "h = model.fit(train_images, train_labels, batch_size=batch_size, epochs=epochs, validation_split=0.2)"
      ],
      "execution_count": 471,
      "outputs": [
        {
          "output_type": "stream",
          "name": "stdout",
          "text": [
            "Epoch 1/50\n",
            "375/375 [==============================] - 2s 3ms/step - loss: 6.4046 - accuracy: 0.8535 - val_loss: 2.4691 - val_accuracy: 0.8813\n",
            "Epoch 2/50\n",
            "375/375 [==============================] - 1s 3ms/step - loss: 1.9558 - accuracy: 0.8994 - val_loss: 1.7521 - val_accuracy: 0.9111\n",
            "Epoch 3/50\n",
            "375/375 [==============================] - 1s 3ms/step - loss: 1.4619 - accuracy: 0.9261 - val_loss: 1.4728 - val_accuracy: 0.9184\n",
            "Epoch 4/50\n",
            "375/375 [==============================] - 1s 3ms/step - loss: 1.1778 - accuracy: 0.9413 - val_loss: 1.2201 - val_accuracy: 0.9327\n",
            "Epoch 5/50\n",
            "375/375 [==============================] - 1s 3ms/step - loss: 0.9791 - accuracy: 0.9485 - val_loss: 1.0248 - val_accuracy: 0.9356\n",
            "Epoch 6/50\n",
            "375/375 [==============================] - 1s 3ms/step - loss: 0.8051 - accuracy: 0.9548 - val_loss: 0.8536 - val_accuracy: 0.9435\n",
            "Epoch 7/50\n",
            "375/375 [==============================] - 1s 3ms/step - loss: 0.6823 - accuracy: 0.9570 - val_loss: 0.7596 - val_accuracy: 0.9397\n",
            "Epoch 8/50\n",
            "375/375 [==============================] - 1s 3ms/step - loss: 0.5760 - accuracy: 0.9589 - val_loss: 0.6157 - val_accuracy: 0.9506\n",
            "Epoch 9/50\n",
            "375/375 [==============================] - 2s 5ms/step - loss: 0.4875 - accuracy: 0.9620 - val_loss: 0.5448 - val_accuracy: 0.9547\n",
            "Epoch 10/50\n",
            "375/375 [==============================] - 1s 3ms/step - loss: 0.4179 - accuracy: 0.9636 - val_loss: 0.4545 - val_accuracy: 0.9540\n",
            "Epoch 11/50\n",
            "375/375 [==============================] - 1s 3ms/step - loss: 0.3711 - accuracy: 0.9631 - val_loss: 0.4473 - val_accuracy: 0.9495\n",
            "Epoch 12/50\n",
            "375/375 [==============================] - 1s 3ms/step - loss: 0.3230 - accuracy: 0.9649 - val_loss: 0.3505 - val_accuracy: 0.9555\n",
            "Epoch 13/50\n",
            "375/375 [==============================] - 1s 3ms/step - loss: 0.2940 - accuracy: 0.9637 - val_loss: 0.3408 - val_accuracy: 0.9590\n",
            "Epoch 14/50\n",
            "375/375 [==============================] - 1s 3ms/step - loss: 0.2648 - accuracy: 0.9648 - val_loss: 0.3147 - val_accuracy: 0.9541\n",
            "Epoch 15/50\n",
            "375/375 [==============================] - 1s 3ms/step - loss: 0.2497 - accuracy: 0.9652 - val_loss: 0.3055 - val_accuracy: 0.9527\n",
            "Epoch 16/50\n",
            "375/375 [==============================] - 1s 3ms/step - loss: 0.2384 - accuracy: 0.9646 - val_loss: 0.2961 - val_accuracy: 0.9512\n",
            "Epoch 17/50\n",
            "375/375 [==============================] - 1s 3ms/step - loss: 0.2293 - accuracy: 0.9654 - val_loss: 0.2703 - val_accuracy: 0.9567\n",
            "Epoch 18/50\n",
            "375/375 [==============================] - 1s 3ms/step - loss: 0.2342 - accuracy: 0.9620 - val_loss: 0.2727 - val_accuracy: 0.9552\n",
            "Epoch 19/50\n",
            "375/375 [==============================] - 2s 4ms/step - loss: 0.2170 - accuracy: 0.9649 - val_loss: 0.2711 - val_accuracy: 0.9533\n",
            "Epoch 20/50\n",
            "375/375 [==============================] - 1s 3ms/step - loss: 0.2181 - accuracy: 0.9639 - val_loss: 0.2456 - val_accuracy: 0.9622\n",
            "Epoch 21/50\n",
            "375/375 [==============================] - 1s 3ms/step - loss: 0.2205 - accuracy: 0.9634 - val_loss: 0.2621 - val_accuracy: 0.9575\n",
            "Epoch 22/50\n",
            "375/375 [==============================] - 1s 3ms/step - loss: 0.2198 - accuracy: 0.9638 - val_loss: 0.2342 - val_accuracy: 0.9642\n",
            "Epoch 23/50\n",
            "375/375 [==============================] - 1s 3ms/step - loss: 0.2036 - accuracy: 0.9672 - val_loss: 0.2476 - val_accuracy: 0.9598\n",
            "Epoch 24/50\n",
            "375/375 [==============================] - 1s 3ms/step - loss: 0.2137 - accuracy: 0.9637 - val_loss: 0.2531 - val_accuracy: 0.9569\n",
            "Epoch 25/50\n",
            "375/375 [==============================] - 1s 3ms/step - loss: 0.2056 - accuracy: 0.9656 - val_loss: 0.2444 - val_accuracy: 0.9596\n",
            "Epoch 26/50\n",
            "375/375 [==============================] - 1s 3ms/step - loss: 0.2078 - accuracy: 0.9654 - val_loss: 0.2471 - val_accuracy: 0.9551\n",
            "Epoch 27/50\n",
            "375/375 [==============================] - 1s 3ms/step - loss: 0.2116 - accuracy: 0.9647 - val_loss: 0.2728 - val_accuracy: 0.9524\n",
            "Epoch 28/50\n",
            "375/375 [==============================] - 1s 3ms/step - loss: 0.2058 - accuracy: 0.9644 - val_loss: 0.2372 - val_accuracy: 0.9613\n",
            "Epoch 29/50\n",
            "375/375 [==============================] - 1s 4ms/step - loss: 0.2014 - accuracy: 0.9666 - val_loss: 0.2180 - val_accuracy: 0.9643\n",
            "Epoch 30/50\n",
            "375/375 [==============================] - 1s 3ms/step - loss: 0.2054 - accuracy: 0.9645 - val_loss: 0.2421 - val_accuracy: 0.9601\n",
            "Epoch 31/50\n",
            "375/375 [==============================] - 1s 3ms/step - loss: 0.1960 - accuracy: 0.9671 - val_loss: 0.2572 - val_accuracy: 0.9553\n",
            "Epoch 32/50\n",
            "375/375 [==============================] - 1s 3ms/step - loss: 0.2060 - accuracy: 0.9648 - val_loss: 0.2440 - val_accuracy: 0.9566\n",
            "Epoch 33/50\n",
            "375/375 [==============================] - 1s 3ms/step - loss: 0.2010 - accuracy: 0.9652 - val_loss: 0.2671 - val_accuracy: 0.9513\n",
            "Epoch 34/50\n",
            "375/375 [==============================] - 1s 3ms/step - loss: 0.1969 - accuracy: 0.9668 - val_loss: 0.2353 - val_accuracy: 0.9588\n",
            "Epoch 35/50\n",
            "375/375 [==============================] - 1s 3ms/step - loss: 0.2044 - accuracy: 0.9649 - val_loss: 0.2394 - val_accuracy: 0.9582\n",
            "Epoch 36/50\n",
            "375/375 [==============================] - 1s 3ms/step - loss: 0.1976 - accuracy: 0.9659 - val_loss: 0.2383 - val_accuracy: 0.9593\n",
            "Epoch 37/50\n",
            "375/375 [==============================] - 1s 3ms/step - loss: 0.2024 - accuracy: 0.9644 - val_loss: 0.2374 - val_accuracy: 0.9561\n",
            "Epoch 38/50\n",
            "375/375 [==============================] - 1s 4ms/step - loss: 0.1977 - accuracy: 0.9656 - val_loss: 0.2534 - val_accuracy: 0.9578\n",
            "Epoch 39/50\n",
            "375/375 [==============================] - 1s 4ms/step - loss: 0.2044 - accuracy: 0.9642 - val_loss: 0.2385 - val_accuracy: 0.9552\n",
            "Epoch 40/50\n",
            "375/375 [==============================] - 1s 3ms/step - loss: 0.2005 - accuracy: 0.9659 - val_loss: 0.2258 - val_accuracy: 0.9627\n",
            "Epoch 41/50\n",
            "375/375 [==============================] - 1s 3ms/step - loss: 0.1962 - accuracy: 0.9662 - val_loss: 0.2682 - val_accuracy: 0.9516\n",
            "Epoch 42/50\n",
            "375/375 [==============================] - 1s 3ms/step - loss: 0.2044 - accuracy: 0.9643 - val_loss: 0.2244 - val_accuracy: 0.9627\n",
            "Epoch 43/50\n",
            "375/375 [==============================] - 1s 3ms/step - loss: 0.1962 - accuracy: 0.9655 - val_loss: 0.2591 - val_accuracy: 0.9538\n",
            "Epoch 44/50\n",
            "375/375 [==============================] - 1s 3ms/step - loss: 0.1911 - accuracy: 0.9671 - val_loss: 0.2264 - val_accuracy: 0.9573\n",
            "Epoch 45/50\n",
            "375/375 [==============================] - 1s 3ms/step - loss: 0.1958 - accuracy: 0.9650 - val_loss: 0.2562 - val_accuracy: 0.9530\n",
            "Epoch 46/50\n",
            "375/375 [==============================] - 1s 3ms/step - loss: 0.1937 - accuracy: 0.9660 - val_loss: 0.2417 - val_accuracy: 0.9583\n",
            "Epoch 47/50\n",
            "375/375 [==============================] - 1s 3ms/step - loss: 0.1994 - accuracy: 0.9643 - val_loss: 0.2376 - val_accuracy: 0.9571\n",
            "Epoch 48/50\n",
            "375/375 [==============================] - 2s 4ms/step - loss: 0.1977 - accuracy: 0.9649 - val_loss: 0.2392 - val_accuracy: 0.9575\n",
            "Epoch 49/50\n",
            "375/375 [==============================] - 1s 3ms/step - loss: 0.1977 - accuracy: 0.9644 - val_loss: 0.2344 - val_accuracy: 0.9587\n",
            "Epoch 50/50\n",
            "375/375 [==============================] - 1s 3ms/step - loss: 0.1907 - accuracy: 0.9669 - val_loss: 0.2727 - val_accuracy: 0.9481\n"
          ]
        }
      ]
    },
    {
      "cell_type": "code",
      "metadata": {
        "colab": {
          "base_uri": "https://localhost:8080/",
          "height": 430
        },
        "outputId": "bcd7ff9c-cad6-4b09-f288-6640e2c9f412",
        "id": "Eyl5TA15MfMj"
      },
      "source": [
        "plt.scatter(np.arange(epochs),h.history['loss'])\n",
        "plt.scatter(np.arange(epochs),h.history['val_loss'],c='r')\n",
        "plt.show()"
      ],
      "execution_count": 472,
      "outputs": [
        {
          "output_type": "display_data",
          "data": {
            "text/plain": [
              "<Figure size 640x480 with 1 Axes>"
            ],
            "image/png": "[encoded data removed]"
          },
          "metadata": {}
        }
      ]
    },
    {
      "cell_type": "code",
      "source": [
        "plt.scatter(np.arange(epochs),h.history['accuracy'])\n",
        "plt.scatter(np.arange(epochs),h.history['val_accuracy'],c='y')\n",
        "plt.show()"
      ],
      "metadata": {
        "colab": {
          "base_uri": "https://localhost:8080/",
          "height": 430
        },
        "outputId": "276e64d3-a8bd-4766-afb5-5c2c9e458492",
        "id": "-_q157uUMfMk"
      },
      "execution_count": 473,
      "outputs": [
        {
          "output_type": "display_data",
          "data": {
            "text/plain": [
              "<Figure size 640x480 with 1 Axes>"
            ],
            "image/png": "[encoded data removed]"
          },
          "metadata": {}
        }
      ]
    },
    {
      "cell_type": "code",
      "metadata": {
        "colab": {
          "base_uri": "https://localhost:8080/"
        },
        "outputId": "0b128695-a6c2-4a0f-b36b-d40c64642286",
        "id": "DDtqecwwMfMk"
      },
      "source": [
        "score = model.evaluate(test_images, test_labels, verbose=0)\n",
        "print(\"Test loss:\", score[0])\n",
        "print(\"Test accuracy:\", score[1])"
      ],
      "execution_count": 474,
      "outputs": [
        {
          "output_type": "stream",
          "name": "stdout",
          "text": [
            "Test loss: 0.2521417737007141\n",
            "Test accuracy: 0.9491999745368958\n"
          ]
        }
      ]
    },
    {
      "cell_type": "code",
      "metadata": {
        "colab": {
          "base_uri": "https://localhost:8080/",
          "height": 519
        },
        "outputId": "ee56550e-f0dc-4a52-de44-a4775fd81ac3",
        "id": "C10AqdPaMfMk"
      },
      "source": [
        "def plot_image(img_index):\n",
        "    label_index = test_labels[img_index]\n",
        "    plt.imshow(test_data[img_index]/255, cmap = 'gray')\n",
        "    print(label_index)\n",
        "\n",
        "img_index = 10\n",
        "plot_image(img_index)\n",
        "\n",
        "picture = test_data[img_index].reshape(-1,784)\n",
        "\n",
        "model.predict(picture)"
      ],
      "execution_count": 475,
      "outputs": [
        {
          "output_type": "stream",
          "name": "stdout",
          "text": [
            "[1. 0. 0. 0. 0. 0. 0. 0. 0. 0.]\n",
            "1/1 [==============================] - 0s 34ms/step\n"
          ]
        },
        {
          "output_type": "execute_result",
          "data": {
            "text/plain": [
              "array([[9.9994195e-01, 1.3246866e-09, 5.5768312e-05, 1.8196541e-09,\n",
              "        4.0701824e-11, 4.8784417e-09, 6.4530008e-07, 4.2877174e-11,\n",
              "        1.2116991e-11, 1.7269718e-06]], dtype=float32)"
            ]
          },
          "metadata": {},
          "execution_count": 475
        },
        {
          "output_type": "display_data",
          "data": {
            "text/plain": [
              "<Figure size 640x480 with 1 Axes>"
            ],
            "image/png": "[encoded data removed]"
          },
          "metadata": {}
        }
      ]
    },
    {
      "cell_type": "code",
      "source": [],
      "metadata": {
        "id": "X280gBemcU3v"
      },
      "execution_count": 475,
      "outputs": []
    },
    {
      "cell_type": "markdown",
      "source": [
        "#Opis:"
      ],
      "metadata": {
        "id": "Gv7daJD92lrI"
      }
    },
    {
      "cell_type": "markdown",
      "source": [
        "batch_size = 128\n",
        "\n",
        "epochs = 50\n",
        "\n",
        "Zwiększony zbiór treningowy z **60000** do **68000** (20% to zbiór walidacyjny)\n",
        "\n",
        "opt = keras.optimizers.Adam(learning_rate=0.001)\n",
        "\n",
        "kernel_regularizer=l2(0.01) (we wszystkich warstwach)"
      ],
      "metadata": {
        "id": "yiYuvRHG2lri"
      }
    },
    {
      "cell_type": "code",
      "source": [
        "model.summary()"
      ],
      "metadata": {
        "colab": {
          "base_uri": "https://localhost:8080/"
        },
        "outputId": "6ab432a9-2fa5-4960-c93e-df2785e152b2",
        "id": "jORzMqi-2lrk"
      },
      "execution_count": 476,
      "outputs": [
        {
          "output_type": "stream",
          "name": "stdout",
          "text": [
            "Model: \"sequential_32\"\n",
            "_________________________________________________________________\n",
            " Layer (type)                Output Shape              Param #   \n",
            "=================================================================\n",
            " dense_74 (Dense)            (None, 128)               100480    \n",
            "                                                                 \n",
            " dense_75 (Dense)            (None, 10)                1290      \n",
            "                                                                 \n",
            "=================================================================\n",
            "Total params: 101770 (397.54 KB)\n",
            "Trainable params: 101770 (397.54 KB)\n",
            "Non-trainable params: 0 (0.00 Byte)\n",
            "_________________________________________________________________\n"
          ]
        }
      ]
    },
    {
      "cell_type": "markdown",
      "source": [
        "Wnioski i komentarz"
      ],
      "metadata": {
        "id": "sAiO9X4R2lrl"
      }
    },
    {
      "cell_type": "markdown",
      "source": [
        "Model uczy się do około 30 epoki potem się praktycznie nie uczy, ale się nie przeucza, wykresy błędu (treningowego i walidacyjnego)są podobne przy czym błędy cały czas spadają, ale od około 30 epoki spada bardzo wolno wręcz są stałe. Dokładność modelu dla danych treningowych i walidacyjnych praktycznie cały czas rośnie, ale po 30 epoce mniej."
      ],
      "metadata": {
        "id": "abzpnyap2lrl"
      }
    },
    {
      "cell_type": "markdown",
      "source": [
        "# **Regularyzacja** - metoda 4"
      ],
      "metadata": {
        "id": "PTzwQXx-chZF"
      }
    },
    {
      "cell_type": "code",
      "source": [
        "from keras.layers import Dropout"
      ],
      "metadata": {
        "id": "LNpZlpfecpSq"
      },
      "execution_count": 477,
      "outputs": []
    },
    {
      "cell_type": "markdown",
      "metadata": {
        "id": "pHZZ3f9jchZF"
      },
      "source": [
        "Visulization"
      ]
    },
    {
      "cell_type": "code",
      "metadata": {
        "colab": {
          "base_uri": "https://localhost:8080/",
          "height": 448
        },
        "outputId": "57a96b3e-d4ad-48b9-fc35-85aa0a4dcac2",
        "id": "a9MPR-_1chZH"
      },
      "source": [
        "def plot_image(img_index):\n",
        "    label_index = test_labels[img_index]\n",
        "    plt.imshow(test_data[img_index]/255, cmap = 'gray')\n",
        "    print(label_index)\n",
        "\n",
        "img_index = 10\n",
        "plot_image(img_index)"
      ],
      "execution_count": 478,
      "outputs": [
        {
          "output_type": "stream",
          "name": "stdout",
          "text": [
            "[1. 0. 0. 0. 0. 0. 0. 0. 0. 0.]\n"
          ]
        },
        {
          "output_type": "display_data",
          "data": {
            "text/plain": [
              "<Figure size 640x480 with 1 Axes>"
            ],
            "image/png": "[encoded data removed]"
          },
          "metadata": {}
        }
      ]
    },
    {
      "cell_type": "code",
      "metadata": {
        "id": "0cCkjcYEchZI"
      },
      "source": [
        "train_images = train_data.reshape((-1, 784))\n",
        "test_images = test_data.reshape((-1, 784))"
      ],
      "execution_count": 479,
      "outputs": []
    },
    {
      "cell_type": "code",
      "metadata": {
        "colab": {
          "base_uri": "https://localhost:8080/"
        },
        "outputId": "a608d413-d0b2-4ca3-b43d-f446b2321787",
        "id": "Amsxgi-VchZI"
      },
      "source": [
        "model = Sequential()\n",
        "model.add(Dense(units = 128, use_bias=True, input_shape=(784,), activation = \"relu\"))\n",
        "model.add(Dropout(0.4))\n",
        "model.add(Dense(units = 10, use_bias=True, activation = \"softmax\"))\n",
        "\n",
        "opt = keras.optimizers.Adam(learning_rate=0.001)\n",
        "#opt = keras.optimizers.SGD(learning_rate=0.001)\n",
        "\n",
        "model.compile(loss='categorical_crossentropy',optimizer=opt,metrics=['accuracy'])\n",
        "model.summary()"
      ],
      "execution_count": 480,
      "outputs": [
        {
          "output_type": "stream",
          "name": "stdout",
          "text": [
            "Model: \"sequential_33\"\n",
            "_________________________________________________________________\n",
            " Layer (type)                Output Shape              Param #   \n",
            "=================================================================\n",
            " dense_76 (Dense)            (None, 128)               100480    \n",
            "                                                                 \n",
            " dropout_26 (Dropout)        (None, 128)               0         \n",
            "                                                                 \n",
            " dense_77 (Dense)            (None, 10)                1290      \n",
            "                                                                 \n",
            "=================================================================\n",
            "Total params: 101770 (397.54 KB)\n",
            "Trainable params: 101770 (397.54 KB)\n",
            "Non-trainable params: 0 (0.00 Byte)\n",
            "_________________________________________________________________\n"
          ]
        }
      ]
    },
    {
      "cell_type": "code",
      "metadata": {
        "colab": {
          "base_uri": "https://localhost:8080/"
        },
        "outputId": "20eb1ca7-cc4c-4043-eca0-c92cda301b56",
        "id": "U6F95_JPchZI"
      },
      "source": [
        "batch_size = 128\n",
        "epochs = 50\n",
        "\n",
        "h = model.fit(train_images, train_labels, batch_size=batch_size, epochs=epochs, validation_split=0.2)"
      ],
      "execution_count": 481,
      "outputs": [
        {
          "output_type": "stream",
          "name": "stdout",
          "text": [
            "Epoch 1/50\n",
            "375/375 [==============================] - 2s 3ms/step - loss: 6.4567 - accuracy: 0.6065 - val_loss: 0.8688 - val_accuracy: 0.7918\n",
            "Epoch 2/50\n",
            "375/375 [==============================] - 1s 3ms/step - loss: 1.0845 - accuracy: 0.7149 - val_loss: 0.6185 - val_accuracy: 0.8454\n",
            "Epoch 3/50\n",
            "375/375 [==============================] - 1s 3ms/step - loss: 0.8483 - accuracy: 0.7711 - val_loss: 0.5151 - val_accuracy: 0.8840\n",
            "Epoch 4/50\n",
            "375/375 [==============================] - 2s 4ms/step - loss: 0.7143 - accuracy: 0.8080 - val_loss: 0.4623 - val_accuracy: 0.9030\n",
            "Epoch 5/50\n",
            "375/375 [==============================] - 1s 3ms/step - loss: 0.6186 - accuracy: 0.8295 - val_loss: 0.3950 - val_accuracy: 0.9123\n",
            "Epoch 6/50\n",
            "375/375 [==============================] - 1s 3ms/step - loss: 0.5526 - accuracy: 0.8470 - val_loss: 0.3502 - val_accuracy: 0.9195\n",
            "Epoch 7/50\n",
            "375/375 [==============================] - 1s 3ms/step - loss: 0.5092 - accuracy: 0.8597 - val_loss: 0.3465 - val_accuracy: 0.9212\n",
            "Epoch 8/50\n",
            "375/375 [==============================] - 1s 3ms/step - loss: 0.4807 - accuracy: 0.8670 - val_loss: 0.3389 - val_accuracy: 0.9325\n",
            "Epoch 9/50\n",
            "375/375 [==============================] - 1s 3ms/step - loss: 0.4492 - accuracy: 0.8770 - val_loss: 0.2987 - val_accuracy: 0.9382\n",
            "Epoch 10/50\n",
            "375/375 [==============================] - 1s 3ms/step - loss: 0.4174 - accuracy: 0.8839 - val_loss: 0.2801 - val_accuracy: 0.9430\n",
            "Epoch 11/50\n",
            "375/375 [==============================] - 1s 3ms/step - loss: 0.3994 - accuracy: 0.8893 - val_loss: 0.2769 - val_accuracy: 0.9420\n",
            "Epoch 12/50\n",
            "375/375 [==============================] - 1s 3ms/step - loss: 0.4048 - accuracy: 0.8889 - val_loss: 0.2622 - val_accuracy: 0.9414\n",
            "Epoch 13/50\n",
            "375/375 [==============================] - 1s 3ms/step - loss: 0.3807 - accuracy: 0.8947 - val_loss: 0.2504 - val_accuracy: 0.9405\n",
            "Epoch 14/50\n",
            "375/375 [==============================] - 2s 5ms/step - loss: 0.3743 - accuracy: 0.8977 - val_loss: 0.2472 - val_accuracy: 0.9470\n",
            "Epoch 15/50\n",
            "375/375 [==============================] - 1s 3ms/step - loss: 0.3555 - accuracy: 0.9025 - val_loss: 0.2374 - val_accuracy: 0.9493\n",
            "Epoch 16/50\n",
            "375/375 [==============================] - 1s 3ms/step - loss: 0.3362 - accuracy: 0.9051 - val_loss: 0.2223 - val_accuracy: 0.9528\n",
            "Epoch 17/50\n",
            "375/375 [==============================] - 1s 3ms/step - loss: 0.3358 - accuracy: 0.9087 - val_loss: 0.2340 - val_accuracy: 0.9538\n",
            "Epoch 18/50\n",
            "375/375 [==============================] - 1s 3ms/step - loss: 0.3327 - accuracy: 0.9074 - val_loss: 0.2142 - val_accuracy: 0.9513\n",
            "Epoch 19/50\n",
            "375/375 [==============================] - 1s 3ms/step - loss: 0.3147 - accuracy: 0.9119 - val_loss: 0.2039 - val_accuracy: 0.9548\n",
            "Epoch 20/50\n",
            "375/375 [==============================] - 1s 3ms/step - loss: 0.3119 - accuracy: 0.9125 - val_loss: 0.2149 - val_accuracy: 0.9550\n",
            "Epoch 21/50\n",
            "375/375 [==============================] - 1s 3ms/step - loss: 0.3186 - accuracy: 0.9113 - val_loss: 0.2081 - val_accuracy: 0.9526\n",
            "Epoch 22/50\n",
            "375/375 [==============================] - 1s 3ms/step - loss: 0.3072 - accuracy: 0.9138 - val_loss: 0.2030 - val_accuracy: 0.9576\n",
            "Epoch 23/50\n",
            "375/375 [==============================] - 1s 4ms/step - loss: 0.2983 - accuracy: 0.9178 - val_loss: 0.2267 - val_accuracy: 0.9546\n",
            "Epoch 24/50\n",
            "375/375 [==============================] - 1s 4ms/step - loss: 0.3029 - accuracy: 0.9177 - val_loss: 0.2137 - val_accuracy: 0.9558\n",
            "Epoch 25/50\n",
            "375/375 [==============================] - 1s 3ms/step - loss: 0.2928 - accuracy: 0.9193 - val_loss: 0.2374 - val_accuracy: 0.9575\n",
            "Epoch 26/50\n",
            "375/375 [==============================] - 1s 3ms/step - loss: 0.2928 - accuracy: 0.9200 - val_loss: 0.2176 - val_accuracy: 0.9567\n",
            "Epoch 27/50\n",
            "375/375 [==============================] - 1s 3ms/step - loss: 0.2871 - accuracy: 0.9215 - val_loss: 0.2215 - val_accuracy: 0.9590\n",
            "Epoch 28/50\n",
            "375/375 [==============================] - 1s 3ms/step - loss: 0.2742 - accuracy: 0.9241 - val_loss: 0.2213 - val_accuracy: 0.9546\n",
            "Epoch 29/50\n",
            "375/375 [==============================] - 1s 3ms/step - loss: 0.2760 - accuracy: 0.9235 - val_loss: 0.2131 - val_accuracy: 0.9600\n",
            "Epoch 30/50\n",
            "375/375 [==============================] - 1s 3ms/step - loss: 0.2697 - accuracy: 0.9251 - val_loss: 0.1903 - val_accuracy: 0.9596\n",
            "Epoch 31/50\n",
            "375/375 [==============================] - 1s 3ms/step - loss: 0.2666 - accuracy: 0.9264 - val_loss: 0.2260 - val_accuracy: 0.9578\n",
            "Epoch 32/50\n",
            "375/375 [==============================] - 1s 3ms/step - loss: 0.2720 - accuracy: 0.9253 - val_loss: 0.2208 - val_accuracy: 0.9575\n",
            "Epoch 33/50\n",
            "375/375 [==============================] - 2s 4ms/step - loss: 0.2726 - accuracy: 0.9258 - val_loss: 0.2195 - val_accuracy: 0.9579\n",
            "Epoch 34/50\n",
            "375/375 [==============================] - 1s 3ms/step - loss: 0.2638 - accuracy: 0.9267 - val_loss: 0.2347 - val_accuracy: 0.9567\n",
            "Epoch 35/50\n",
            "375/375 [==============================] - 1s 3ms/step - loss: 0.2604 - accuracy: 0.9284 - val_loss: 0.2161 - val_accuracy: 0.9597\n",
            "Epoch 36/50\n",
            "375/375 [==============================] - 1s 3ms/step - loss: 0.2548 - accuracy: 0.9296 - val_loss: 0.2398 - val_accuracy: 0.9583\n",
            "Epoch 37/50\n",
            "375/375 [==============================] - 1s 3ms/step - loss: 0.2602 - accuracy: 0.9279 - val_loss: 0.2371 - val_accuracy: 0.9565\n",
            "Epoch 38/50\n",
            "375/375 [==============================] - 1s 3ms/step - loss: 0.2620 - accuracy: 0.9277 - val_loss: 0.2256 - val_accuracy: 0.9574\n",
            "Epoch 39/50\n",
            "375/375 [==============================] - 1s 3ms/step - loss: 0.2556 - accuracy: 0.9302 - val_loss: 0.2261 - val_accuracy: 0.9529\n",
            "Epoch 40/50\n",
            "375/375 [==============================] - 1s 3ms/step - loss: 0.2496 - accuracy: 0.9280 - val_loss: 0.2233 - val_accuracy: 0.9576\n",
            "Epoch 41/50\n",
            "375/375 [==============================] - 1s 3ms/step - loss: 0.2535 - accuracy: 0.9305 - val_loss: 0.2204 - val_accuracy: 0.9604\n",
            "Epoch 42/50\n",
            "375/375 [==============================] - 1s 4ms/step - loss: 0.2472 - accuracy: 0.9301 - val_loss: 0.2253 - val_accuracy: 0.9596\n",
            "Epoch 43/50\n",
            "375/375 [==============================] - 2s 4ms/step - loss: 0.2596 - accuracy: 0.9293 - val_loss: 0.2277 - val_accuracy: 0.9609\n",
            "Epoch 44/50\n",
            "375/375 [==============================] - 1s 3ms/step - loss: 0.2465 - accuracy: 0.9319 - val_loss: 0.2385 - val_accuracy: 0.9567\n",
            "Epoch 45/50\n",
            "375/375 [==============================] - 1s 3ms/step - loss: 0.2457 - accuracy: 0.9338 - val_loss: 0.2307 - val_accuracy: 0.9604\n",
            "Epoch 46/50\n",
            "375/375 [==============================] - 1s 3ms/step - loss: 0.2329 - accuracy: 0.9363 - val_loss: 0.2398 - val_accuracy: 0.9590\n",
            "Epoch 47/50\n",
            "375/375 [==============================] - 1s 3ms/step - loss: 0.2442 - accuracy: 0.9329 - val_loss: 0.2246 - val_accuracy: 0.9577\n",
            "Epoch 48/50\n",
            "375/375 [==============================] - 1s 3ms/step - loss: 0.2467 - accuracy: 0.9313 - val_loss: 0.2394 - val_accuracy: 0.9580\n",
            "Epoch 49/50\n",
            "375/375 [==============================] - 1s 3ms/step - loss: 0.2416 - accuracy: 0.9339 - val_loss: 0.2363 - val_accuracy: 0.9593\n",
            "Epoch 50/50\n",
            "375/375 [==============================] - 1s 3ms/step - loss: 0.2412 - accuracy: 0.9322 - val_loss: 0.2334 - val_accuracy: 0.9592\n"
          ]
        }
      ]
    },
    {
      "cell_type": "code",
      "metadata": {
        "colab": {
          "base_uri": "https://localhost:8080/",
          "height": 430
        },
        "outputId": "3ff9616c-d990-4cec-b0bf-56ea45af2eda",
        "id": "_yT7bBXzchZJ"
      },
      "source": [
        "plt.scatter(np.arange(epochs),h.history['loss'])\n",
        "plt.scatter(np.arange(epochs),h.history['val_loss'],c='r')\n",
        "plt.show()"
      ],
      "execution_count": 482,
      "outputs": [
        {
          "output_type": "display_data",
          "data": {
            "text/plain": [
              "<Figure size 640x480 with 1 Axes>"
            ],
            "image/png": "[encoded data removed]"
          },
          "metadata": {}
        }
      ]
    },
    {
      "cell_type": "code",
      "source": [
        "plt.scatter(np.arange(epochs),h.history['accuracy'])\n",
        "plt.scatter(np.arange(epochs),h.history['val_accuracy'],c='y')\n",
        "plt.show()"
      ],
      "metadata": {
        "colab": {
          "base_uri": "https://localhost:8080/",
          "height": 430
        },
        "outputId": "85c99949-e8fd-4f4a-bbf5-20cb9379805b",
        "id": "mBO50SCKchZK"
      },
      "execution_count": 483,
      "outputs": [
        {
          "output_type": "display_data",
          "data": {
            "text/plain": [
              "<Figure size 640x480 with 1 Axes>"
            ],
            "image/png": "[encoded data removed]"
          },
          "metadata": {}
        }
      ]
    },
    {
      "cell_type": "code",
      "metadata": {
        "colab": {
          "base_uri": "https://localhost:8080/"
        },
        "outputId": "6cf04ad9-f700-4800-ecb0-2557a1f8bd9a",
        "id": "zvet09xWchZK"
      },
      "source": [
        "score = model.evaluate(test_images, test_labels, verbose=0)\n",
        "print(\"Test loss:\", score[0])\n",
        "print(\"Test accuracy:\", score[1])"
      ],
      "execution_count": 484,
      "outputs": [
        {
          "output_type": "stream",
          "name": "stdout",
          "text": [
            "Test loss: 0.2699497938156128\n",
            "Test accuracy: 0.9580000042915344\n"
          ]
        }
      ]
    },
    {
      "cell_type": "code",
      "metadata": {
        "colab": {
          "base_uri": "https://localhost:8080/",
          "height": 519
        },
        "outputId": "02b74954-1cd9-40b1-d79c-ba2c89b884de",
        "id": "BGMrV_0kchZL"
      },
      "source": [
        "def plot_image(img_index):\n",
        "    label_index = test_labels[img_index]\n",
        "    plt.imshow(test_data[img_index]/255, cmap = 'gray')\n",
        "    print(label_index)\n",
        "\n",
        "img_index = 10\n",
        "plot_image(img_index)\n",
        "\n",
        "picture = test_data[img_index].reshape(-1,784)\n",
        "\n",
        "model.predict(picture)"
      ],
      "execution_count": 485,
      "outputs": [
        {
          "output_type": "stream",
          "name": "stdout",
          "text": [
            "[1. 0. 0. 0. 0. 0. 0. 0. 0. 0.]\n",
            "1/1 [==============================] - 0s 37ms/step\n"
          ]
        },
        {
          "output_type": "execute_result",
          "data": {
            "text/plain": [
              "array([[9.9996579e-01, 1.7283757e-34, 2.5498052e-06, 1.1869583e-16,\n",
              "        3.2256109e-10, 3.5288206e-11, 3.0627398e-05, 8.4430391e-16,\n",
              "        1.1219787e-14, 1.0727665e-06]], dtype=float32)"
            ]
          },
          "metadata": {},
          "execution_count": 485
        },
        {
          "output_type": "display_data",
          "data": {
            "text/plain": [
              "<Figure size 640x480 with 1 Axes>"
            ],
            "image/png": "[encoded data removed]"
          },
          "metadata": {}
        }
      ]
    },
    {
      "cell_type": "markdown",
      "source": [
        "#Opis:"
      ],
      "metadata": {
        "id": "GKdjjj0T5aFK"
      }
    },
    {
      "cell_type": "markdown",
      "source": [
        "batch_size = 128\n",
        "\n",
        "epochs = 50\n",
        "\n",
        "Zbiór treningowy **60000** (20% to zbiór walidacyjny)\n",
        "\n",
        "opt = keras.optimizers.Adam(learning_rate=0.001)\n",
        "\n",
        "model.add(Dropout(0.4))"
      ],
      "metadata": {
        "id": "V5zkYyBl5aFK"
      }
    },
    {
      "cell_type": "code",
      "source": [
        "model.summary()"
      ],
      "metadata": {
        "colab": {
          "base_uri": "https://localhost:8080/"
        },
        "outputId": "a5564352-d0b7-4baf-c362-6789ace8b360",
        "id": "w1iqqDwo5aFL"
      },
      "execution_count": 486,
      "outputs": [
        {
          "output_type": "stream",
          "name": "stdout",
          "text": [
            "Model: \"sequential_33\"\n",
            "_________________________________________________________________\n",
            " Layer (type)                Output Shape              Param #   \n",
            "=================================================================\n",
            " dense_76 (Dense)            (None, 128)               100480    \n",
            "                                                                 \n",
            " dropout_26 (Dropout)        (None, 128)               0         \n",
            "                                                                 \n",
            " dense_77 (Dense)            (None, 10)                1290      \n",
            "                                                                 \n",
            "=================================================================\n",
            "Total params: 101770 (397.54 KB)\n",
            "Trainable params: 101770 (397.54 KB)\n",
            "Non-trainable params: 0 (0.00 Byte)\n",
            "_________________________________________________________________\n"
          ]
        }
      ]
    },
    {
      "cell_type": "markdown",
      "source": [
        "Wnioski i komentarz"
      ],
      "metadata": {
        "id": "Z_u8FtJb5aFL"
      }
    },
    {
      "cell_type": "markdown",
      "source": [
        "Model uczy się do samego końca i się nie przeucza, wykresy błędu (treningowego i walidacyjnego)są podobne przy czym błędy cały czas spadają. Dokładność modelu dla danych treningowych i walidacyjnych praktycznie cały czas rośnie."
      ],
      "metadata": {
        "id": "3nWa5QAS5aFL"
      }
    },
    {
      "cell_type": "markdown",
      "source": [
        "## Regularyzacja all in one #1\n",
        "\n"
      ],
      "metadata": {
        "id": "dJ_4Kz9eft1K"
      }
    },
    {
      "cell_type": "code",
      "source": [],
      "metadata": {
        "id": "-G-nPANe6QhQ"
      },
      "execution_count": 486,
      "outputs": []
    },
    {
      "cell_type": "code",
      "source": [],
      "metadata": {
        "id": "PvFuY4vpc1OJ"
      },
      "execution_count": 486,
      "outputs": []
    },
    {
      "cell_type": "markdown",
      "source": [
        "Zwiększamy zbiór treningowy z **60000** do **68000** (20% to zbiór walidacyjny)"
      ],
      "metadata": {
        "id": "JWtlGS1wjNPB"
      }
    },
    {
      "cell_type": "code",
      "source": [
        "test_data = data[:68000]\n",
        "train_data = data[68000:]\n",
        "test_labels = label[:68000]\n",
        "train_labels = label[68000:]"
      ],
      "metadata": {
        "id": "wHaWkW44jNPS"
      },
      "execution_count": 487,
      "outputs": []
    },
    {
      "cell_type": "code",
      "source": [
        "print(test_data.shape,train_data.shape,test_labels.shape,train_labels.shape)"
      ],
      "metadata": {
        "colab": {
          "base_uri": "https://localhost:8080/"
        },
        "outputId": "ac9cd08c-531c-45a6-a48a-f44db2e56390",
        "id": "EBlC9aw4jNPU"
      },
      "execution_count": 488,
      "outputs": [
        {
          "output_type": "stream",
          "name": "stdout",
          "text": [
            "(68000, 28, 28) (2000, 28, 28) (68000,) (2000,)\n"
          ]
        }
      ]
    },
    {
      "cell_type": "markdown",
      "metadata": {
        "id": "CDopFwEljNPU"
      },
      "source": [
        "One-hot coding"
      ]
    },
    {
      "cell_type": "code",
      "metadata": {
        "id": "ljkJYWcmjNPV"
      },
      "source": [
        "train_labels = tf.keras.utils.to_categorical(train_labels, 10)\n",
        "test_labels = tf.keras.utils.to_categorical(test_labels, 10)"
      ],
      "execution_count": 489,
      "outputs": []
    },
    {
      "cell_type": "code",
      "metadata": {
        "colab": {
          "base_uri": "https://localhost:8080/"
        },
        "outputId": "a38e541e-ca3e-4a59-c263-668ce2cecc60",
        "id": "3IazqIXhjNPV"
      },
      "source": [
        "train_data.shape,train_labels.shape"
      ],
      "execution_count": 490,
      "outputs": [
        {
          "output_type": "execute_result",
          "data": {
            "text/plain": [
              "((2000, 28, 28), (2000, 10))"
            ]
          },
          "metadata": {},
          "execution_count": 490
        }
      ]
    },
    {
      "cell_type": "code",
      "metadata": {
        "colab": {
          "base_uri": "https://localhost:8080/"
        },
        "outputId": "898ce107-883a-43ad-f9a5-3ccf8c8b652d",
        "id": "CGddUxHvjNPV"
      },
      "source": [
        "test_data.shape,test_labels.shape"
      ],
      "execution_count": 491,
      "outputs": [
        {
          "output_type": "execute_result",
          "data": {
            "text/plain": [
              "((68000, 28, 28), (68000, 10))"
            ]
          },
          "metadata": {},
          "execution_count": 491
        }
      ]
    },
    {
      "cell_type": "code",
      "metadata": {
        "colab": {
          "base_uri": "https://localhost:8080/"
        },
        "outputId": "5566f701-0d6b-4eb3-c00c-87dfa90f9e74",
        "id": "6WB7-KlkjNPV"
      },
      "source": [
        "train_labels[0]"
      ],
      "execution_count": 492,
      "outputs": [
        {
          "output_type": "execute_result",
          "data": {
            "text/plain": [
              "array([0., 0., 0., 0., 1., 0., 0., 0., 0., 0.], dtype=float32)"
            ]
          },
          "metadata": {},
          "execution_count": 492
        }
      ]
    },
    {
      "cell_type": "code",
      "metadata": {
        "id": "JB99OJEXY7uZ",
        "colab": {
          "base_uri": "https://localhost:8080/",
          "height": 448
        },
        "outputId": "1a512e24-b6c7-4fe1-d82f-377919022467"
      },
      "source": [
        "def plot_image(img_index):\n",
        "    label_index = train_labels[img_index]\n",
        "    plt.imshow(train_data[img_index]/255, cmap = 'gray')\n",
        "    print(label_index)\n",
        "\n",
        "img_index = 10\n",
        "plot_image(img_index)"
      ],
      "execution_count": 493,
      "outputs": [
        {
          "output_type": "stream",
          "name": "stdout",
          "text": [
            "[0. 0. 0. 1. 0. 0. 0. 0. 0. 0.]\n"
          ]
        },
        {
          "output_type": "display_data",
          "data": {
            "text/plain": [
              "<Figure size 640x480 with 1 Axes>"
            ],
            "image/png": "[encoded data removed]"
          },
          "metadata": {}
        }
      ]
    },
    {
      "cell_type": "code",
      "metadata": {
        "id": "m4xjb2MiY7uZ"
      },
      "source": [
        "train_images = train_data.reshape((-1, 784))\n",
        "test_images = test_data.reshape((-1, 784))"
      ],
      "execution_count": 494,
      "outputs": []
    },
    {
      "cell_type": "markdown",
      "source": [
        "Danie **regularyzacji L2** do warstw:"
      ],
      "metadata": {
        "id": "vR4g3rPHj9iG"
      }
    },
    {
      "cell_type": "markdown",
      "source": [
        "Adding dropout layer"
      ],
      "metadata": {
        "id": "OoqQjBkRkOUV"
      }
    },
    {
      "cell_type": "markdown",
      "source": [
        "Resizing model"
      ],
      "metadata": {
        "id": "ZylrpXHRkszA"
      }
    },
    {
      "cell_type": "code",
      "metadata": {
        "id": "LvIzFJzTY7ua",
        "colab": {
          "base_uri": "https://localhost:8080/"
        },
        "outputId": "0eb13374-f3fe-4871-f264-11b0ec9c7adf"
      },
      "source": [
        "model = Sequential()\n",
        "model.add(Dense(units = 64, kernel_regularizer=l2(0.01), use_bias=True, input_shape=(784,), activation = \"relu\"))\n",
        "model.add(Dropout(0.4))\n",
        "model.add(Dense(units = 10, kernel_regularizer=l2(0.01), use_bias=True, activation = \"softmax\"))\n",
        "\n",
        "opt = keras.optimizers.Adam(learning_rate=0.001)\n",
        "#opt = keras.optimizers.SGD(learning_rate=0.001)\n",
        "\n",
        "model.compile(loss='categorical_crossentropy',optimizer=opt,metrics=['accuracy'])\n",
        "model.summary()"
      ],
      "execution_count": 495,
      "outputs": [
        {
          "output_type": "stream",
          "name": "stdout",
          "text": [
            "Model: \"sequential_34\"\n",
            "_________________________________________________________________\n",
            " Layer (type)                Output Shape              Param #   \n",
            "=================================================================\n",
            " dense_78 (Dense)            (None, 64)                50240     \n",
            "                                                                 \n",
            " dropout_27 (Dropout)        (None, 64)                0         \n",
            "                                                                 \n",
            " dense_79 (Dense)            (None, 10)                650       \n",
            "                                                                 \n",
            "=================================================================\n",
            "Total params: 50890 (198.79 KB)\n",
            "Trainable params: 50890 (198.79 KB)\n",
            "Non-trainable params: 0 (0.00 Byte)\n",
            "_________________________________________________________________\n"
          ]
        }
      ]
    },
    {
      "cell_type": "code",
      "metadata": {
        "id": "c-OJ4YkYY7ub",
        "colab": {
          "base_uri": "https://localhost:8080/"
        },
        "outputId": "95acd815-e365-472e-e59c-8926bf919f87"
      },
      "source": [
        "batch_size = 128\n",
        "epochs = 50\n",
        "\n",
        "h = model.fit(train_images, train_labels, batch_size=batch_size, epochs=epochs, validation_split=0.2)"
      ],
      "execution_count": 496,
      "outputs": [
        {
          "output_type": "stream",
          "name": "stdout",
          "text": [
            "Epoch 1/50\n",
            "13/13 [==============================] - 1s 22ms/step - loss: 111.9053 - accuracy: 0.2481 - val_loss: 24.1148 - val_accuracy: 0.4925\n",
            "Epoch 2/50\n",
            "13/13 [==============================] - 0s 7ms/step - loss: 17.8498 - accuracy: 0.5344 - val_loss: 9.9882 - val_accuracy: 0.5425\n",
            "Epoch 3/50\n",
            "13/13 [==============================] - 0s 5ms/step - loss: 6.0441 - accuracy: 0.5494 - val_loss: 6.1303 - val_accuracy: 0.4925\n",
            "Epoch 4/50\n",
            "13/13 [==============================] - 0s 5ms/step - loss: 3.3029 - accuracy: 0.4975 - val_loss: 5.1426 - val_accuracy: 0.4975\n",
            "Epoch 5/50\n",
            "13/13 [==============================] - 0s 5ms/step - loss: 2.7484 - accuracy: 0.4969 - val_loss: 4.6686 - val_accuracy: 0.5300\n",
            "Epoch 6/50\n",
            "13/13 [==============================] - 0s 6ms/step - loss: 2.4854 - accuracy: 0.5131 - val_loss: 4.7867 - val_accuracy: 0.5275\n",
            "Epoch 7/50\n",
            "13/13 [==============================] - 0s 5ms/step - loss: 2.4091 - accuracy: 0.5356 - val_loss: 4.7095 - val_accuracy: 0.5425\n",
            "Epoch 8/50\n",
            "13/13 [==============================] - 0s 4ms/step - loss: 2.3115 - accuracy: 0.5575 - val_loss: 4.9462 - val_accuracy: 0.5525\n",
            "Epoch 9/50\n",
            "13/13 [==============================] - 0s 4ms/step - loss: 2.1829 - accuracy: 0.5894 - val_loss: 4.8356 - val_accuracy: 0.5600\n",
            "Epoch 10/50\n",
            "13/13 [==============================] - 0s 5ms/step - loss: 2.1304 - accuracy: 0.6056 - val_loss: 4.9300 - val_accuracy: 0.5725\n",
            "Epoch 11/50\n",
            "13/13 [==============================] - 0s 4ms/step - loss: 2.1429 - accuracy: 0.5906 - val_loss: 4.9005 - val_accuracy: 0.5875\n",
            "Epoch 12/50\n",
            "13/13 [==============================] - 0s 5ms/step - loss: 2.0254 - accuracy: 0.6169 - val_loss: 5.0680 - val_accuracy: 0.5850\n",
            "Epoch 13/50\n",
            "13/13 [==============================] - 0s 5ms/step - loss: 2.0446 - accuracy: 0.6344 - val_loss: 4.9576 - val_accuracy: 0.6000\n",
            "Epoch 14/50\n",
            "13/13 [==============================] - 0s 6ms/step - loss: 1.9531 - accuracy: 0.6456 - val_loss: 4.9008 - val_accuracy: 0.6025\n",
            "Epoch 15/50\n",
            "13/13 [==============================] - 0s 5ms/step - loss: 1.9586 - accuracy: 0.6606 - val_loss: 4.7726 - val_accuracy: 0.6200\n",
            "Epoch 16/50\n",
            "13/13 [==============================] - 0s 4ms/step - loss: 1.8837 - accuracy: 0.6662 - val_loss: 4.8033 - val_accuracy: 0.6175\n",
            "Epoch 17/50\n",
            "13/13 [==============================] - 0s 5ms/step - loss: 1.8957 - accuracy: 0.6612 - val_loss: 5.0996 - val_accuracy: 0.6025\n",
            "Epoch 18/50\n",
            "13/13 [==============================] - 0s 5ms/step - loss: 1.8687 - accuracy: 0.6850 - val_loss: 4.9527 - val_accuracy: 0.6125\n",
            "Epoch 19/50\n",
            "13/13 [==============================] - 0s 5ms/step - loss: 1.7923 - accuracy: 0.6906 - val_loss: 4.9306 - val_accuracy: 0.6150\n",
            "Epoch 20/50\n",
            "13/13 [==============================] - 0s 4ms/step - loss: 1.7376 - accuracy: 0.7069 - val_loss: 5.2644 - val_accuracy: 0.6050\n",
            "Epoch 21/50\n",
            "13/13 [==============================] - 0s 6ms/step - loss: 1.7453 - accuracy: 0.6956 - val_loss: 5.4217 - val_accuracy: 0.6025\n",
            "Epoch 22/50\n",
            "13/13 [==============================] - 0s 5ms/step - loss: 1.7654 - accuracy: 0.6950 - val_loss: 5.0479 - val_accuracy: 0.6175\n",
            "Epoch 23/50\n",
            "13/13 [==============================] - 0s 4ms/step - loss: 1.7073 - accuracy: 0.7156 - val_loss: 4.5496 - val_accuracy: 0.6375\n",
            "Epoch 24/50\n",
            "13/13 [==============================] - 0s 5ms/step - loss: 1.7159 - accuracy: 0.7081 - val_loss: 4.5499 - val_accuracy: 0.6500\n",
            "Epoch 25/50\n",
            "13/13 [==============================] - 0s 5ms/step - loss: 1.7066 - accuracy: 0.7138 - val_loss: 4.5245 - val_accuracy: 0.6350\n",
            "Epoch 26/50\n",
            "13/13 [==============================] - 0s 4ms/step - loss: 1.6203 - accuracy: 0.7412 - val_loss: 4.7863 - val_accuracy: 0.6350\n",
            "Epoch 27/50\n",
            "13/13 [==============================] - 0s 6ms/step - loss: 1.7006 - accuracy: 0.7100 - val_loss: 4.5952 - val_accuracy: 0.6375\n",
            "Epoch 28/50\n",
            "13/13 [==============================] - 0s 5ms/step - loss: 1.6347 - accuracy: 0.7294 - val_loss: 4.7240 - val_accuracy: 0.6375\n",
            "Epoch 29/50\n",
            "13/13 [==============================] - 0s 5ms/step - loss: 1.6236 - accuracy: 0.7325 - val_loss: 4.8748 - val_accuracy: 0.6425\n",
            "Epoch 30/50\n",
            "13/13 [==============================] - 0s 5ms/step - loss: 1.6080 - accuracy: 0.7312 - val_loss: 4.9983 - val_accuracy: 0.6400\n",
            "Epoch 31/50\n",
            "13/13 [==============================] - 0s 5ms/step - loss: 1.6160 - accuracy: 0.7475 - val_loss: 5.1645 - val_accuracy: 0.6500\n",
            "Epoch 32/50\n",
            "13/13 [==============================] - 0s 5ms/step - loss: 1.5158 - accuracy: 0.7763 - val_loss: 5.2210 - val_accuracy: 0.6500\n",
            "Epoch 33/50\n",
            "13/13 [==============================] - 0s 5ms/step - loss: 1.5161 - accuracy: 0.7625 - val_loss: 5.2337 - val_accuracy: 0.6625\n",
            "Epoch 34/50\n",
            "13/13 [==============================] - 0s 5ms/step - loss: 1.4906 - accuracy: 0.7763 - val_loss: 5.3286 - val_accuracy: 0.6475\n",
            "Epoch 35/50\n",
            "13/13 [==============================] - 0s 5ms/step - loss: 1.4734 - accuracy: 0.7831 - val_loss: 5.1145 - val_accuracy: 0.6700\n",
            "Epoch 36/50\n",
            "13/13 [==============================] - 0s 4ms/step - loss: 1.4990 - accuracy: 0.7756 - val_loss: 4.7616 - val_accuracy: 0.6800\n",
            "Epoch 37/50\n",
            "13/13 [==============================] - 0s 5ms/step - loss: 1.4810 - accuracy: 0.7775 - val_loss: 4.8401 - val_accuracy: 0.6650\n",
            "Epoch 38/50\n",
            "13/13 [==============================] - 0s 5ms/step - loss: 1.4053 - accuracy: 0.8006 - val_loss: 4.9413 - val_accuracy: 0.6775\n",
            "Epoch 39/50\n",
            "13/13 [==============================] - 0s 5ms/step - loss: 1.4415 - accuracy: 0.7906 - val_loss: 5.1680 - val_accuracy: 0.6675\n",
            "Epoch 40/50\n",
            "13/13 [==============================] - 0s 5ms/step - loss: 1.4229 - accuracy: 0.8044 - val_loss: 5.4715 - val_accuracy: 0.6750\n",
            "Epoch 41/50\n",
            "13/13 [==============================] - 0s 5ms/step - loss: 1.4507 - accuracy: 0.7962 - val_loss: 5.2357 - val_accuracy: 0.6625\n",
            "Epoch 42/50\n",
            "13/13 [==============================] - 0s 4ms/step - loss: 1.4447 - accuracy: 0.7837 - val_loss: 5.3088 - val_accuracy: 0.6675\n",
            "Epoch 43/50\n",
            "13/13 [==============================] - 0s 5ms/step - loss: 1.3620 - accuracy: 0.7987 - val_loss: 5.1936 - val_accuracy: 0.6950\n",
            "Epoch 44/50\n",
            "13/13 [==============================] - 0s 5ms/step - loss: 1.3751 - accuracy: 0.8144 - val_loss: 5.2944 - val_accuracy: 0.6875\n",
            "Epoch 45/50\n",
            "13/13 [==============================] - 0s 5ms/step - loss: 1.3511 - accuracy: 0.8019 - val_loss: 5.5340 - val_accuracy: 0.6800\n",
            "Epoch 46/50\n",
            "13/13 [==============================] - 0s 4ms/step - loss: 1.3905 - accuracy: 0.7994 - val_loss: 5.6892 - val_accuracy: 0.6825\n",
            "Epoch 47/50\n",
            "13/13 [==============================] - 0s 4ms/step - loss: 1.3428 - accuracy: 0.8319 - val_loss: 5.1355 - val_accuracy: 0.6850\n",
            "Epoch 48/50\n",
            "13/13 [==============================] - 0s 4ms/step - loss: 1.3342 - accuracy: 0.8119 - val_loss: 5.1278 - val_accuracy: 0.7075\n",
            "Epoch 49/50\n",
            "13/13 [==============================] - 0s 4ms/step - loss: 1.3597 - accuracy: 0.8181 - val_loss: 4.9230 - val_accuracy: 0.7075\n",
            "Epoch 50/50\n",
            "13/13 [==============================] - 0s 4ms/step - loss: 1.2901 - accuracy: 0.8325 - val_loss: 4.9970 - val_accuracy: 0.7000\n"
          ]
        }
      ]
    },
    {
      "cell_type": "code",
      "metadata": {
        "id": "qapN2_6lY7ub",
        "colab": {
          "base_uri": "https://localhost:8080/",
          "height": 430
        },
        "outputId": "bfc31d5e-05a7-4fc1-b475-b33e4e05864b"
      },
      "source": [
        "plt.scatter(np.arange(epochs),h.history['loss'])\n",
        "plt.scatter(np.arange(epochs),h.history['val_loss'],c='r')\n",
        "plt.show()"
      ],
      "execution_count": 497,
      "outputs": [
        {
          "output_type": "display_data",
          "data": {
            "text/plain": [
              "<Figure size 640x480 with 1 Axes>"
            ],
            "image/png": "[encoded data removed]"
          },
          "metadata": {}
        }
      ]
    },
    {
      "cell_type": "code",
      "source": [
        "plt.scatter(np.arange(epochs),h.history['accuracy'])\n",
        "plt.scatter(np.arange(epochs),h.history['val_accuracy'],c='y')\n",
        "plt.show()"
      ],
      "metadata": {
        "id": "4DT1H8Y9Y7ue",
        "colab": {
          "base_uri": "https://localhost:8080/",
          "height": 430
        },
        "outputId": "5aeb9c88-9c58-460f-af14-7c2825078046"
      },
      "execution_count": 498,
      "outputs": [
        {
          "output_type": "display_data",
          "data": {
            "text/plain": [
              "<Figure size 640x480 with 1 Axes>"
            ],
            "image/png": "[encoded data removed]"
          },
          "metadata": {}
        }
      ]
    },
    {
      "cell_type": "code",
      "metadata": {
        "id": "9SyL5spEY7uf",
        "colab": {
          "base_uri": "https://localhost:8080/"
        },
        "outputId": "c87f2e37-9aaf-414e-9cbf-3caf7c79bee6"
      },
      "source": [
        "score = model.evaluate(test_images, test_labels, verbose=0)\n",
        "print(\"Test loss:\", score[0])\n",
        "print(\"Test accuracy:\", score[1])"
      ],
      "execution_count": 499,
      "outputs": [
        {
          "output_type": "stream",
          "name": "stdout",
          "text": [
            "Test loss: 4.359646797180176\n",
            "Test accuracy: 0.747735321521759\n"
          ]
        }
      ]
    },
    {
      "cell_type": "code",
      "metadata": {
        "id": "60jM_CTfY7uj",
        "colab": {
          "base_uri": "https://localhost:8080/",
          "height": 519
        },
        "outputId": "dac62629-790d-495b-a04b-d8a94c5cf467"
      },
      "source": [
        "def plot_image(img_index):\n",
        "    label_index = train_labels[img_index]\n",
        "    plt.imshow(train_data[img_index]/255, cmap = 'gray')\n",
        "    print(label_index)\n",
        "\n",
        "img_index = 10\n",
        "plot_image(img_index)\n",
        "\n",
        "picture = train_data[img_index].reshape(-1,784)\n",
        "\n",
        "model.predict(picture)"
      ],
      "execution_count": 500,
      "outputs": [
        {
          "output_type": "stream",
          "name": "stdout",
          "text": [
            "[0. 0. 0. 1. 0. 0. 0. 0. 0. 0.]\n",
            "1/1 [==============================] - 0s 43ms/step\n"
          ]
        },
        {
          "output_type": "execute_result",
          "data": {
            "text/plain": [
              "array([[1.13327535e-10, 2.14035153e-05, 3.56254607e-01, 2.41581634e-01,\n",
              "        4.04927307e-11, 8.10949225e-03, 1.22830599e-07, 4.47372006e-09,\n",
              "        3.94032657e-01, 9.93330289e-08]], dtype=float32)"
            ]
          },
          "metadata": {},
          "execution_count": 500
        },
        {
          "output_type": "display_data",
          "data": {
            "text/plain": [
              "<Figure size 640x480 with 1 Axes>"
            ],
            "image/png": "[encoded data removed]"
          },
          "metadata": {}
        }
      ]
    },
    {
      "cell_type": "code",
      "source": [],
      "metadata": {
        "id": "XAwvlG36f0UF"
      },
      "execution_count": 500,
      "outputs": []
    },
    {
      "cell_type": "markdown",
      "source": [
        "#Opis:"
      ],
      "metadata": {
        "id": "JgTegl4w6lRo"
      }
    },
    {
      "cell_type": "markdown",
      "source": [
        "batch_size = 128\n",
        "\n",
        "epochs = 50\n",
        "\n",
        "Zbiór treningowy zwiększony z ***60000*** do **68000* (20% to zbiór walidacyjny)\n",
        "\n",
        "opt = keras.optimizers.Adam(learning_rate=0.001)\n",
        "\n",
        "kernel_regularizer=l2(0.01) we wszystkich warstwach\n",
        "\n",
        "model.add(Dropout(0.4))"
      ],
      "metadata": {
        "id": "IwkPVgSJ6lR4"
      }
    },
    {
      "cell_type": "code",
      "source": [
        "model.summary()"
      ],
      "metadata": {
        "colab": {
          "base_uri": "https://localhost:8080/"
        },
        "outputId": "0b9478b4-1fa9-45b9-de61-6c33853f4dac",
        "id": "jTH9hp7l6lR4"
      },
      "execution_count": 501,
      "outputs": [
        {
          "output_type": "stream",
          "name": "stdout",
          "text": [
            "Model: \"sequential_34\"\n",
            "_________________________________________________________________\n",
            " Layer (type)                Output Shape              Param #   \n",
            "=================================================================\n",
            " dense_78 (Dense)            (None, 64)                50240     \n",
            "                                                                 \n",
            " dropout_27 (Dropout)        (None, 64)                0         \n",
            "                                                                 \n",
            " dense_79 (Dense)            (None, 10)                650       \n",
            "                                                                 \n",
            "=================================================================\n",
            "Total params: 50890 (198.79 KB)\n",
            "Trainable params: 50890 (198.79 KB)\n",
            "Non-trainable params: 0 (0.00 Byte)\n",
            "_________________________________________________________________\n"
          ]
        }
      ]
    },
    {
      "cell_type": "markdown",
      "source": [
        "Wnioski i komentarz"
      ],
      "metadata": {
        "id": "7-5QR7UA6lR4"
      }
    },
    {
      "cell_type": "markdown",
      "source": [
        "Model uczy się do samego końca i się nie przeucza, wykresy błędu (treningowego i walidacyjnego)są podobne przy czym błędy cały czas, ale od 5 epoki dużo wolniej. Dokładność modelu dla danych treningowych i walidacyjnych praktycznie cały czas rośnie."
      ],
      "metadata": {
        "id": "cTeIp9Tf6lR5"
      }
    },
    {
      "cell_type": "markdown",
      "source": [
        "## Regularyzacja all in one #2\n",
        "\n",
        "\n"
      ],
      "metadata": {
        "id": "_ls-I63WmFZE"
      }
    },
    {
      "cell_type": "code",
      "source": [],
      "metadata": {
        "id": "b1M2z6ZwmFZF"
      },
      "execution_count": 501,
      "outputs": []
    },
    {
      "cell_type": "markdown",
      "source": [
        "Zwiększamy zbiór treningowy z **60000** do **68000** (20% to zbiór walidacyjny)"
      ],
      "metadata": {
        "id": "zxfYqtDJmFZF"
      }
    },
    {
      "cell_type": "code",
      "source": [
        "test_data = data[:68000]\n",
        "train_data = data[68000:]\n",
        "test_labels = label[:68000]\n",
        "train_labels = label[68000:]"
      ],
      "metadata": {
        "id": "Ran1gm0amFZG"
      },
      "execution_count": 502,
      "outputs": []
    },
    {
      "cell_type": "code",
      "source": [
        "print(test_data.shape,train_data.shape,test_labels.shape,train_labels.shape)"
      ],
      "metadata": {
        "colab": {
          "base_uri": "https://localhost:8080/"
        },
        "outputId": "8dab3e9d-28c9-466b-9d2f-d621f39ba0da",
        "id": "tKBd-U2_mFZG"
      },
      "execution_count": 503,
      "outputs": [
        {
          "output_type": "stream",
          "name": "stdout",
          "text": [
            "(68000, 28, 28) (2000, 28, 28) (68000,) (2000,)\n"
          ]
        }
      ]
    },
    {
      "cell_type": "markdown",
      "metadata": {
        "id": "ykOuSqO_mFZG"
      },
      "source": [
        "One-hot coding"
      ]
    },
    {
      "cell_type": "code",
      "metadata": {
        "id": "sJbaCdG5mFZH"
      },
      "source": [
        "train_labels = tf.keras.utils.to_categorical(train_labels, 10)\n",
        "test_labels = tf.keras.utils.to_categorical(test_labels, 10)"
      ],
      "execution_count": 504,
      "outputs": []
    },
    {
      "cell_type": "code",
      "metadata": {
        "colab": {
          "base_uri": "https://localhost:8080/"
        },
        "outputId": "5969c108-41d6-4698-c67b-9ccd810277e0",
        "id": "Jrq3nvPSmFZI"
      },
      "source": [
        "train_data.shape,train_labels.shape"
      ],
      "execution_count": 505,
      "outputs": [
        {
          "output_type": "execute_result",
          "data": {
            "text/plain": [
              "((2000, 28, 28), (2000, 10))"
            ]
          },
          "metadata": {},
          "execution_count": 505
        }
      ]
    },
    {
      "cell_type": "code",
      "metadata": {
        "colab": {
          "base_uri": "https://localhost:8080/"
        },
        "outputId": "02ad614d-5f07-4b91-f9ad-d3869f624bec",
        "id": "CT375BZdmFZI"
      },
      "source": [
        "test_data.shape,test_labels.shape"
      ],
      "execution_count": 506,
      "outputs": [
        {
          "output_type": "execute_result",
          "data": {
            "text/plain": [
              "((68000, 28, 28), (68000, 10))"
            ]
          },
          "metadata": {},
          "execution_count": 506
        }
      ]
    },
    {
      "cell_type": "code",
      "metadata": {
        "colab": {
          "base_uri": "https://localhost:8080/"
        },
        "outputId": "b6490c31-a6f0-459b-d556-4f4b14186c63",
        "id": "_VcpKPl8mFZI"
      },
      "source": [
        "train_labels[0]"
      ],
      "execution_count": 507,
      "outputs": [
        {
          "output_type": "execute_result",
          "data": {
            "text/plain": [
              "array([0., 0., 0., 0., 1., 0., 0., 0., 0., 0.], dtype=float32)"
            ]
          },
          "metadata": {},
          "execution_count": 507
        }
      ]
    },
    {
      "cell_type": "code",
      "metadata": {
        "colab": {
          "base_uri": "https://localhost:8080/",
          "height": 448
        },
        "outputId": "abe86616-0d7d-44dc-cc7e-e1b280ad4ad9",
        "id": "dYjbhHovmFZJ"
      },
      "source": [
        "def plot_image(img_index):\n",
        "    label_index = train_labels[img_index]\n",
        "    plt.imshow(train_data[img_index]/255, cmap = 'gray')\n",
        "    print(label_index)\n",
        "\n",
        "img_index = 10\n",
        "plot_image(img_index)"
      ],
      "execution_count": 508,
      "outputs": [
        {
          "output_type": "stream",
          "name": "stdout",
          "text": [
            "[0. 0. 0. 1. 0. 0. 0. 0. 0. 0.]\n"
          ]
        },
        {
          "output_type": "display_data",
          "data": {
            "text/plain": [
              "<Figure size 640x480 with 1 Axes>"
            ],
            "image/png": "[encoded data removed]"
          },
          "metadata": {}
        }
      ]
    },
    {
      "cell_type": "code",
      "metadata": {
        "id": "DcD9npQImFZJ"
      },
      "source": [
        "train_images = train_data.reshape((-1, 784))\n",
        "test_images = test_data.reshape((-1, 784))"
      ],
      "execution_count": 509,
      "outputs": []
    },
    {
      "cell_type": "markdown",
      "source": [
        "Danie **regularyzacji L2** do warstw:"
      ],
      "metadata": {
        "id": "NMcnRvQnmFZJ"
      }
    },
    {
      "cell_type": "markdown",
      "source": [
        "Adding dropout layer"
      ],
      "metadata": {
        "id": "AJGkY1W2mFZJ"
      }
    },
    {
      "cell_type": "markdown",
      "source": [
        "Resizing model"
      ],
      "metadata": {
        "id": "QuBzMspAmFZK"
      }
    },
    {
      "cell_type": "code",
      "metadata": {
        "colab": {
          "base_uri": "https://localhost:8080/"
        },
        "outputId": "ab465441-3834-4648-85eb-2d67ea710e31",
        "id": "6Xnh4pucmFZK"
      },
      "source": [
        "model = Sequential()\n",
        "model.add(Dense(units = 64, kernel_regularizer=l2(0.01), use_bias=True, input_shape=(784,), activation = \"relu\"))\n",
        "model.add(Dropout(0.4))\n",
        "model.add(Dense(units = 10, kernel_regularizer=l2(0.01), use_bias=True, activation = \"softmax\"))\n",
        "\n",
        "opt = keras.optimizers.Adam(learning_rate=0.001)\n",
        "#opt = keras.optimizers.SGD(learning_rate=0.001)\n",
        "\n",
        "model.compile(loss='categorical_crossentropy',optimizer=opt,metrics=['accuracy'])\n",
        "model.summary()"
      ],
      "execution_count": 510,
      "outputs": [
        {
          "output_type": "stream",
          "name": "stdout",
          "text": [
            "Model: \"sequential_35\"\n",
            "_________________________________________________________________\n",
            " Layer (type)                Output Shape              Param #   \n",
            "=================================================================\n",
            " dense_80 (Dense)            (None, 64)                50240     \n",
            "                                                                 \n",
            " dropout_28 (Dropout)        (None, 64)                0         \n",
            "                                                                 \n",
            " dense_81 (Dense)            (None, 10)                650       \n",
            "                                                                 \n",
            "=================================================================\n",
            "Total params: 50890 (198.79 KB)\n",
            "Trainable params: 50890 (198.79 KB)\n",
            "Non-trainable params: 0 (0.00 Byte)\n",
            "_________________________________________________________________\n"
          ]
        }
      ]
    },
    {
      "cell_type": "code",
      "metadata": {
        "colab": {
          "base_uri": "https://localhost:8080/"
        },
        "outputId": "145e6e40-3620-4270-cad8-2a71ddf55e15",
        "id": "NEp1Bo_bmFZM"
      },
      "source": [
        "batch_size = 128\n",
        "epochs = 75\n",
        "\n",
        "h = model.fit(train_images, train_labels, batch_size=batch_size, epochs=epochs, validation_split=0.2)"
      ],
      "execution_count": 511,
      "outputs": [
        {
          "output_type": "stream",
          "name": "stdout",
          "text": [
            "Epoch 1/75\n",
            "13/13 [==============================] - 1s 14ms/step - loss: 89.0396 - accuracy: 0.2663 - val_loss: 17.1481 - val_accuracy: 0.5125\n",
            "Epoch 2/75\n",
            "13/13 [==============================] - 0s 5ms/step - loss: 13.7555 - accuracy: 0.5050 - val_loss: 7.7062 - val_accuracy: 0.5925\n",
            "Epoch 3/75\n",
            "13/13 [==============================] - 0s 5ms/step - loss: 5.1072 - accuracy: 0.5337 - val_loss: 4.4299 - val_accuracy: 0.5525\n",
            "Epoch 4/75\n",
            "13/13 [==============================] - 0s 4ms/step - loss: 3.2164 - accuracy: 0.5031 - val_loss: 3.4946 - val_accuracy: 0.5075\n",
            "Epoch 5/75\n",
            "13/13 [==============================] - 0s 4ms/step - loss: 2.6741 - accuracy: 0.4969 - val_loss: 3.3859 - val_accuracy: 0.5225\n",
            "Epoch 6/75\n",
            "13/13 [==============================] - 0s 4ms/step - loss: 2.5385 - accuracy: 0.5088 - val_loss: 3.3389 - val_accuracy: 0.5225\n",
            "Epoch 7/75\n",
            "13/13 [==============================] - 0s 5ms/step - loss: 2.4223 - accuracy: 0.5350 - val_loss: 3.3102 - val_accuracy: 0.5525\n",
            "Epoch 8/75\n",
            "13/13 [==============================] - 0s 6ms/step - loss: 2.4228 - accuracy: 0.5369 - val_loss: 3.2718 - val_accuracy: 0.5500\n",
            "Epoch 9/75\n",
            "13/13 [==============================] - 0s 5ms/step - loss: 2.2607 - accuracy: 0.5519 - val_loss: 3.1821 - val_accuracy: 0.5600\n",
            "Epoch 10/75\n",
            "13/13 [==============================] - 0s 5ms/step - loss: 2.2821 - accuracy: 0.5594 - val_loss: 3.2604 - val_accuracy: 0.5800\n",
            "Epoch 11/75\n",
            "13/13 [==============================] - 0s 4ms/step - loss: 2.1806 - accuracy: 0.6012 - val_loss: 3.2694 - val_accuracy: 0.5950\n",
            "Epoch 12/75\n",
            "13/13 [==============================] - 0s 6ms/step - loss: 2.1233 - accuracy: 0.5950 - val_loss: 3.2671 - val_accuracy: 0.6175\n",
            "Epoch 13/75\n",
            "13/13 [==============================] - 0s 5ms/step - loss: 2.1453 - accuracy: 0.6037 - val_loss: 3.2708 - val_accuracy: 0.6175\n",
            "Epoch 14/75\n",
            "13/13 [==============================] - 0s 5ms/step - loss: 2.0231 - accuracy: 0.6381 - val_loss: 3.4353 - val_accuracy: 0.6075\n",
            "Epoch 15/75\n",
            "13/13 [==============================] - 0s 6ms/step - loss: 2.0247 - accuracy: 0.6119 - val_loss: 3.4169 - val_accuracy: 0.6125\n",
            "Epoch 16/75\n",
            "13/13 [==============================] - 0s 4ms/step - loss: 2.0463 - accuracy: 0.6237 - val_loss: 3.3336 - val_accuracy: 0.6225\n",
            "Epoch 17/75\n",
            "13/13 [==============================] - 0s 6ms/step - loss: 1.9957 - accuracy: 0.6181 - val_loss: 3.3272 - val_accuracy: 0.6050\n",
            "Epoch 18/75\n",
            "13/13 [==============================] - 0s 5ms/step - loss: 1.9520 - accuracy: 0.6431 - val_loss: 3.3495 - val_accuracy: 0.6075\n",
            "Epoch 19/75\n",
            "13/13 [==============================] - 0s 5ms/step - loss: 1.9406 - accuracy: 0.6494 - val_loss: 3.3047 - val_accuracy: 0.6250\n",
            "Epoch 20/75\n",
            "13/13 [==============================] - 0s 4ms/step - loss: 1.9541 - accuracy: 0.6538 - val_loss: 3.2656 - val_accuracy: 0.6200\n",
            "Epoch 21/75\n",
            "13/13 [==============================] - 0s 5ms/step - loss: 1.8888 - accuracy: 0.6594 - val_loss: 3.2711 - val_accuracy: 0.6225\n",
            "Epoch 22/75\n",
            "13/13 [==============================] - 0s 6ms/step - loss: 1.8631 - accuracy: 0.6669 - val_loss: 3.3495 - val_accuracy: 0.6275\n",
            "Epoch 23/75\n",
            "13/13 [==============================] - 0s 6ms/step - loss: 1.8682 - accuracy: 0.6544 - val_loss: 3.4410 - val_accuracy: 0.6300\n",
            "Epoch 24/75\n",
            "13/13 [==============================] - 0s 8ms/step - loss: 1.8042 - accuracy: 0.6725 - val_loss: 3.5499 - val_accuracy: 0.6350\n",
            "Epoch 25/75\n",
            "13/13 [==============================] - 0s 6ms/step - loss: 1.8303 - accuracy: 0.6812 - val_loss: 3.6037 - val_accuracy: 0.6325\n",
            "Epoch 26/75\n",
            "13/13 [==============================] - 0s 6ms/step - loss: 1.7700 - accuracy: 0.6844 - val_loss: 3.3671 - val_accuracy: 0.6375\n",
            "Epoch 27/75\n",
            "13/13 [==============================] - 0s 6ms/step - loss: 1.7965 - accuracy: 0.6781 - val_loss: 3.4396 - val_accuracy: 0.6450\n",
            "Epoch 28/75\n",
            "13/13 [==============================] - 0s 8ms/step - loss: 1.7495 - accuracy: 0.6888 - val_loss: 3.6340 - val_accuracy: 0.6400\n",
            "Epoch 29/75\n",
            "13/13 [==============================] - 0s 6ms/step - loss: 1.7252 - accuracy: 0.7144 - val_loss: 3.4067 - val_accuracy: 0.6475\n",
            "Epoch 30/75\n",
            "13/13 [==============================] - 0s 7ms/step - loss: 1.7146 - accuracy: 0.7019 - val_loss: 3.4241 - val_accuracy: 0.6500\n",
            "Epoch 31/75\n",
            "13/13 [==============================] - 0s 6ms/step - loss: 1.7225 - accuracy: 0.6981 - val_loss: 3.5056 - val_accuracy: 0.6525\n",
            "Epoch 32/75\n",
            "13/13 [==============================] - 0s 6ms/step - loss: 1.6911 - accuracy: 0.6988 - val_loss: 3.4387 - val_accuracy: 0.6550\n",
            "Epoch 33/75\n",
            "13/13 [==============================] - 0s 5ms/step - loss: 1.6353 - accuracy: 0.7231 - val_loss: 3.6683 - val_accuracy: 0.6675\n",
            "Epoch 34/75\n",
            "13/13 [==============================] - 0s 7ms/step - loss: 1.6999 - accuracy: 0.7000 - val_loss: 3.8762 - val_accuracy: 0.6625\n",
            "Epoch 35/75\n",
            "13/13 [==============================] - 0s 7ms/step - loss: 1.6305 - accuracy: 0.7287 - val_loss: 3.3539 - val_accuracy: 0.6550\n",
            "Epoch 36/75\n",
            "13/13 [==============================] - 0s 7ms/step - loss: 1.6510 - accuracy: 0.7181 - val_loss: 3.3504 - val_accuracy: 0.6800\n",
            "Epoch 37/75\n",
            "13/13 [==============================] - 0s 7ms/step - loss: 1.5936 - accuracy: 0.7400 - val_loss: 3.3471 - val_accuracy: 0.6950\n",
            "Epoch 38/75\n",
            "13/13 [==============================] - 0s 7ms/step - loss: 1.5905 - accuracy: 0.7350 - val_loss: 3.5034 - val_accuracy: 0.7000\n",
            "Epoch 39/75\n",
            "13/13 [==============================] - 0s 5ms/step - loss: 1.5502 - accuracy: 0.7494 - val_loss: 3.5026 - val_accuracy: 0.7000\n",
            "Epoch 40/75\n",
            "13/13 [==============================] - 0s 4ms/step - loss: 1.5236 - accuracy: 0.7531 - val_loss: 3.6558 - val_accuracy: 0.6975\n",
            "Epoch 41/75\n",
            "13/13 [==============================] - 0s 5ms/step - loss: 1.5151 - accuracy: 0.7638 - val_loss: 3.5800 - val_accuracy: 0.7025\n",
            "Epoch 42/75\n",
            "13/13 [==============================] - 0s 5ms/step - loss: 1.5003 - accuracy: 0.7706 - val_loss: 3.7092 - val_accuracy: 0.7100\n",
            "Epoch 43/75\n",
            "13/13 [==============================] - 0s 5ms/step - loss: 1.5371 - accuracy: 0.7581 - val_loss: 3.5058 - val_accuracy: 0.7025\n",
            "Epoch 44/75\n",
            "13/13 [==============================] - 0s 5ms/step - loss: 1.4792 - accuracy: 0.7663 - val_loss: 3.4754 - val_accuracy: 0.7075\n",
            "Epoch 45/75\n",
            "13/13 [==============================] - 0s 4ms/step - loss: 1.4479 - accuracy: 0.7663 - val_loss: 3.6024 - val_accuracy: 0.7225\n",
            "Epoch 46/75\n",
            "13/13 [==============================] - 0s 5ms/step - loss: 1.4873 - accuracy: 0.7688 - val_loss: 3.9147 - val_accuracy: 0.6900\n",
            "Epoch 47/75\n",
            "13/13 [==============================] - 0s 5ms/step - loss: 1.4671 - accuracy: 0.7594 - val_loss: 3.5436 - val_accuracy: 0.7050\n",
            "Epoch 48/75\n",
            "13/13 [==============================] - 0s 5ms/step - loss: 1.4547 - accuracy: 0.7700 - val_loss: 3.4048 - val_accuracy: 0.7175\n",
            "Epoch 49/75\n",
            "13/13 [==============================] - 0s 4ms/step - loss: 1.4415 - accuracy: 0.7781 - val_loss: 3.5519 - val_accuracy: 0.7125\n",
            "Epoch 50/75\n",
            "13/13 [==============================] - 0s 5ms/step - loss: 1.4042 - accuracy: 0.7869 - val_loss: 3.6582 - val_accuracy: 0.7125\n",
            "Epoch 51/75\n",
            "13/13 [==============================] - 0s 5ms/step - loss: 1.3441 - accuracy: 0.8094 - val_loss: 3.7113 - val_accuracy: 0.7250\n",
            "Epoch 52/75\n",
            "13/13 [==============================] - 0s 5ms/step - loss: 1.3568 - accuracy: 0.8119 - val_loss: 3.7012 - val_accuracy: 0.7150\n",
            "Epoch 53/75\n",
            "13/13 [==============================] - 0s 6ms/step - loss: 1.3703 - accuracy: 0.7931 - val_loss: 3.5167 - val_accuracy: 0.7075\n",
            "Epoch 54/75\n",
            "13/13 [==============================] - 0s 5ms/step - loss: 1.3074 - accuracy: 0.8112 - val_loss: 3.7828 - val_accuracy: 0.7200\n",
            "Epoch 55/75\n",
            "13/13 [==============================] - 0s 6ms/step - loss: 1.3213 - accuracy: 0.8188 - val_loss: 3.8455 - val_accuracy: 0.7175\n",
            "Epoch 56/75\n",
            "13/13 [==============================] - 0s 5ms/step - loss: 1.3052 - accuracy: 0.8138 - val_loss: 3.6509 - val_accuracy: 0.7025\n",
            "Epoch 57/75\n",
            "13/13 [==============================] - 0s 4ms/step - loss: 1.3274 - accuracy: 0.8075 - val_loss: 3.7006 - val_accuracy: 0.7200\n",
            "Epoch 58/75\n",
            "13/13 [==============================] - 0s 5ms/step - loss: 1.3045 - accuracy: 0.8150 - val_loss: 3.9538 - val_accuracy: 0.7350\n",
            "Epoch 59/75\n",
            "13/13 [==============================] - 0s 4ms/step - loss: 1.2735 - accuracy: 0.8200 - val_loss: 3.8605 - val_accuracy: 0.7400\n",
            "Epoch 60/75\n",
            "13/13 [==============================] - 0s 5ms/step - loss: 1.2634 - accuracy: 0.8269 - val_loss: 3.6781 - val_accuracy: 0.7325\n",
            "Epoch 61/75\n",
            "13/13 [==============================] - 0s 4ms/step - loss: 1.2399 - accuracy: 0.8413 - val_loss: 3.6363 - val_accuracy: 0.7425\n",
            "Epoch 62/75\n",
            "13/13 [==============================] - 0s 4ms/step - loss: 1.2620 - accuracy: 0.8256 - val_loss: 3.8278 - val_accuracy: 0.7275\n",
            "Epoch 63/75\n",
            "13/13 [==============================] - 0s 4ms/step - loss: 1.2392 - accuracy: 0.8281 - val_loss: 3.6231 - val_accuracy: 0.7275\n",
            "Epoch 64/75\n",
            "13/13 [==============================] - 0s 5ms/step - loss: 1.2658 - accuracy: 0.8294 - val_loss: 3.5911 - val_accuracy: 0.7550\n",
            "Epoch 65/75\n",
            "13/13 [==============================] - 0s 6ms/step - loss: 1.2315 - accuracy: 0.8325 - val_loss: 3.5282 - val_accuracy: 0.7525\n",
            "Epoch 66/75\n",
            "13/13 [==============================] - 0s 5ms/step - loss: 1.2311 - accuracy: 0.8244 - val_loss: 3.5099 - val_accuracy: 0.7475\n",
            "Epoch 67/75\n",
            "13/13 [==============================] - 0s 5ms/step - loss: 1.2244 - accuracy: 0.8331 - val_loss: 3.8716 - val_accuracy: 0.7375\n",
            "Epoch 68/75\n",
            "13/13 [==============================] - 0s 4ms/step - loss: 1.2266 - accuracy: 0.8263 - val_loss: 3.7557 - val_accuracy: 0.7500\n",
            "Epoch 69/75\n",
            "13/13 [==============================] - 0s 5ms/step - loss: 1.2315 - accuracy: 0.8300 - val_loss: 3.9692 - val_accuracy: 0.7375\n",
            "Epoch 70/75\n",
            "13/13 [==============================] - 0s 5ms/step - loss: 1.1914 - accuracy: 0.8369 - val_loss: 4.0792 - val_accuracy: 0.7275\n",
            "Epoch 71/75\n",
            "13/13 [==============================] - 0s 6ms/step - loss: 1.1636 - accuracy: 0.8450 - val_loss: 3.6859 - val_accuracy: 0.7275\n",
            "Epoch 72/75\n",
            "13/13 [==============================] - 0s 5ms/step - loss: 1.2058 - accuracy: 0.8381 - val_loss: 3.5828 - val_accuracy: 0.7400\n",
            "Epoch 73/75\n",
            "13/13 [==============================] - 0s 5ms/step - loss: 1.1353 - accuracy: 0.8537 - val_loss: 3.5551 - val_accuracy: 0.7550\n",
            "Epoch 74/75\n",
            "13/13 [==============================] - 0s 5ms/step - loss: 1.1154 - accuracy: 0.8537 - val_loss: 3.7857 - val_accuracy: 0.7275\n",
            "Epoch 75/75\n",
            "13/13 [==============================] - 0s 5ms/step - loss: 1.1103 - accuracy: 0.8512 - val_loss: 3.9424 - val_accuracy: 0.7450\n"
          ]
        }
      ]
    },
    {
      "cell_type": "code",
      "metadata": {
        "colab": {
          "base_uri": "https://localhost:8080/",
          "height": 430
        },
        "outputId": "678b1941-234c-4e38-c552-33bd3fcc1d46",
        "id": "r5W0bFIkmFZM"
      },
      "source": [
        "plt.scatter(np.arange(epochs),h.history['loss'])\n",
        "plt.scatter(np.arange(epochs),h.history['val_loss'],c='r')\n",
        "plt.show()"
      ],
      "execution_count": 512,
      "outputs": [
        {
          "output_type": "display_data",
          "data": {
            "text/plain": [
              "<Figure size 640x480 with 1 Axes>"
            ],
            "image/png": "[encoded data removed]"
          },
          "metadata": {}
        }
      ]
    },
    {
      "cell_type": "code",
      "source": [
        "plt.scatter(np.arange(epochs),h.history['accuracy'])\n",
        "plt.scatter(np.arange(epochs),h.history['val_accuracy'],c='y')\n",
        "plt.show()"
      ],
      "metadata": {
        "colab": {
          "base_uri": "https://localhost:8080/",
          "height": 430
        },
        "outputId": "b9c7d3cc-e317-4202-b26d-39a8f8437ee8",
        "id": "N5VGKx26mFZN"
      },
      "execution_count": 513,
      "outputs": [
        {
          "output_type": "display_data",
          "data": {
            "text/plain": [
              "<Figure size 640x480 with 1 Axes>"
            ],
            "image/png": "[encoded data removed]"
          },
          "metadata": {}
        }
      ]
    },
    {
      "cell_type": "code",
      "metadata": {
        "colab": {
          "base_uri": "https://localhost:8080/"
        },
        "outputId": "b6265b02-304e-437a-9958-9dbd7e166308",
        "id": "d4vEvFhrmFZN"
      },
      "source": [
        "score = model.evaluate(test_images, test_labels, verbose=0)\n",
        "print(\"Test loss:\", score[0])\n",
        "print(\"Test accuracy:\", score[1])"
      ],
      "execution_count": 514,
      "outputs": [
        {
          "output_type": "stream",
          "name": "stdout",
          "text": [
            "Test loss: 3.6267483234405518\n",
            "Test accuracy: 0.7762647271156311\n"
          ]
        }
      ]
    },
    {
      "cell_type": "code",
      "metadata": {
        "colab": {
          "base_uri": "https://localhost:8080/",
          "height": 519
        },
        "outputId": "9436ed25-d081-4ede-e336-ed43f7b35db4",
        "id": "4QIScKKYmFZO"
      },
      "source": [
        "def plot_image(img_index):\n",
        "    label_index = train_labels[img_index]\n",
        "    plt.imshow(train_data[img_index]/255, cmap = 'gray')\n",
        "    print(label_index)\n",
        "\n",
        "img_index = 10\n",
        "plot_image(img_index)\n",
        "\n",
        "picture = train_data[img_index].reshape(-1,784)\n",
        "\n",
        "model.predict(picture)"
      ],
      "execution_count": 515,
      "outputs": [
        {
          "output_type": "stream",
          "name": "stdout",
          "text": [
            "[0. 0. 0. 1. 0. 0. 0. 0. 0. 0.]\n",
            "1/1 [==============================] - 0s 44ms/step\n"
          ]
        },
        {
          "output_type": "execute_result",
          "data": {
            "text/plain": [
              "array([[6.36910846e-22, 9.86549845e-14, 1.69708755e-07, 9.99999762e-01,\n",
              "        1.13557604e-07, 4.34623069e-18, 4.24941226e-23, 1.04775387e-17,\n",
              "        4.43427519e-23, 3.87955533e-22]], dtype=float32)"
            ]
          },
          "metadata": {},
          "execution_count": 515
        },
        {
          "output_type": "display_data",
          "data": {
            "text/plain": [
              "<Figure size 640x480 with 1 Axes>"
            ],
            "image/png": "[encoded data removed]"
          },
          "metadata": {}
        }
      ]
    },
    {
      "cell_type": "code",
      "source": [],
      "metadata": {
        "id": "zLYtJU4kmPi3"
      },
      "execution_count": 515,
      "outputs": []
    },
    {
      "cell_type": "markdown",
      "source": [
        "#Opis:"
      ],
      "metadata": {
        "id": "3qXmMXMu7_Xz"
      }
    },
    {
      "cell_type": "markdown",
      "source": [
        "batch_size = 128\n",
        "\n",
        "epochs = 75\n",
        "\n",
        "Zbiór treningowy zwiększony z ***60000*** do **68000* (20% to zbiór walidacyjny)\n",
        "\n",
        "opt = keras.optimizers.Adam(learning_rate=0.001)\n",
        "\n",
        "kernel_regularizer=l2(0.01) we wszystkich warstwach\n",
        "\n",
        "model.add(Dropout(0.4))"
      ],
      "metadata": {
        "id": "2Z_EY7dC7_YE"
      }
    },
    {
      "cell_type": "code",
      "source": [
        "model.summary()"
      ],
      "metadata": {
        "colab": {
          "base_uri": "https://localhost:8080/"
        },
        "outputId": "12e7f16f-1a0c-4b26-85d2-ddba64876be4",
        "id": "aIQfW4tv7_YF"
      },
      "execution_count": 516,
      "outputs": [
        {
          "output_type": "stream",
          "name": "stdout",
          "text": [
            "Model: \"sequential_35\"\n",
            "_________________________________________________________________\n",
            " Layer (type)                Output Shape              Param #   \n",
            "=================================================================\n",
            " dense_80 (Dense)            (None, 64)                50240     \n",
            "                                                                 \n",
            " dropout_28 (Dropout)        (None, 64)                0         \n",
            "                                                                 \n",
            " dense_81 (Dense)            (None, 10)                650       \n",
            "                                                                 \n",
            "=================================================================\n",
            "Total params: 50890 (198.79 KB)\n",
            "Trainable params: 50890 (198.79 KB)\n",
            "Non-trainable params: 0 (0.00 Byte)\n",
            "_________________________________________________________________\n"
          ]
        }
      ]
    },
    {
      "cell_type": "markdown",
      "source": [
        "Wnioski i komentarz"
      ],
      "metadata": {
        "id": "leHUjMwp7_YF"
      }
    },
    {
      "cell_type": "markdown",
      "source": [
        "Model uczy się do około 30 epoki potem deliktanie się przeucza, wykresy błędu (treningowego i walidacyjnego) są podobne przy czym po 30 epoce błąd validacyjny rośnie dalej, a błąd treningowy spada. Dokładność modelu dla danych treningowych i walidacyjnych praktycznie cały czas rośnie."
      ],
      "metadata": {
        "id": "CLcKUDXf7_YG"
      }
    },
    {
      "cell_type": "markdown",
      "source": [
        "## Regularyzacja all in one #3\n",
        "\n",
        "\n"
      ],
      "metadata": {
        "id": "lJzrdmSJmuVS"
      }
    },
    {
      "cell_type": "code",
      "source": [],
      "metadata": {
        "id": "fYknk6ilmuVU"
      },
      "execution_count": 516,
      "outputs": []
    },
    {
      "cell_type": "markdown",
      "source": [
        "Zwiększamy zbiór treningowy z **60000** do **68000** (20% to zbiór walidacyjny)"
      ],
      "metadata": {
        "id": "V-NrbO4xmuVV"
      }
    },
    {
      "cell_type": "code",
      "source": [
        "test_data = data[:68000]\n",
        "train_data = data[68000:]\n",
        "test_labels = label[:68000]\n",
        "train_labels = label[68000:]"
      ],
      "metadata": {
        "id": "54Gx0v1lmuVW"
      },
      "execution_count": 517,
      "outputs": []
    },
    {
      "cell_type": "code",
      "source": [
        "print(test_data.shape,train_data.shape,test_labels.shape,train_labels.shape)"
      ],
      "metadata": {
        "colab": {
          "base_uri": "https://localhost:8080/"
        },
        "outputId": "aa46557b-f4ab-4950-ab09-04e64475f79c",
        "id": "h-txK2DkmuVX"
      },
      "execution_count": 518,
      "outputs": [
        {
          "output_type": "stream",
          "name": "stdout",
          "text": [
            "(68000, 28, 28) (2000, 28, 28) (68000,) (2000,)\n"
          ]
        }
      ]
    },
    {
      "cell_type": "markdown",
      "metadata": {
        "id": "AY8Q5g7VmuVY"
      },
      "source": [
        "One-hot coding"
      ]
    },
    {
      "cell_type": "code",
      "metadata": {
        "id": "igfgBxDAmuVY"
      },
      "source": [
        "train_labels = tf.keras.utils.to_categorical(train_labels, 10)\n",
        "test_labels = tf.keras.utils.to_categorical(test_labels, 10)"
      ],
      "execution_count": 519,
      "outputs": []
    },
    {
      "cell_type": "code",
      "metadata": {
        "colab": {
          "base_uri": "https://localhost:8080/"
        },
        "outputId": "5f3d89cd-8b31-4119-af08-95116bfb3247",
        "id": "JtQAutppmuVY"
      },
      "source": [
        "train_data.shape,train_labels.shape"
      ],
      "execution_count": 520,
      "outputs": [
        {
          "output_type": "execute_result",
          "data": {
            "text/plain": [
              "((2000, 28, 28), (2000, 10))"
            ]
          },
          "metadata": {},
          "execution_count": 520
        }
      ]
    },
    {
      "cell_type": "code",
      "metadata": {
        "colab": {
          "base_uri": "https://localhost:8080/"
        },
        "outputId": "db1c20e1-fcd0-48cd-b47b-5464051a09dc",
        "id": "0cq7-D4gmuVZ"
      },
      "source": [
        "test_data.shape,test_labels.shape"
      ],
      "execution_count": 521,
      "outputs": [
        {
          "output_type": "execute_result",
          "data": {
            "text/plain": [
              "((68000, 28, 28), (68000, 10))"
            ]
          },
          "metadata": {},
          "execution_count": 521
        }
      ]
    },
    {
      "cell_type": "code",
      "metadata": {
        "colab": {
          "base_uri": "https://localhost:8080/"
        },
        "outputId": "46368e16-bba1-409b-f6ec-59e851344da5",
        "id": "7HFi2KzNmuVZ"
      },
      "source": [
        "train_labels[0]"
      ],
      "execution_count": 522,
      "outputs": [
        {
          "output_type": "execute_result",
          "data": {
            "text/plain": [
              "array([0., 0., 0., 0., 1., 0., 0., 0., 0., 0.], dtype=float32)"
            ]
          },
          "metadata": {},
          "execution_count": 522
        }
      ]
    },
    {
      "cell_type": "code",
      "metadata": {
        "colab": {
          "base_uri": "https://localhost:8080/",
          "height": 448
        },
        "outputId": "5a10ccc5-5c0b-48a5-f2cd-21856afc41a0",
        "id": "4R50Te-0muVZ"
      },
      "source": [
        "def plot_image(img_index):\n",
        "    label_index = train_labels[img_index]\n",
        "    plt.imshow(train_data[img_index]/255, cmap = 'gray')\n",
        "    print(label_index)\n",
        "\n",
        "img_index = 10\n",
        "plot_image(img_index)"
      ],
      "execution_count": 523,
      "outputs": [
        {
          "output_type": "stream",
          "name": "stdout",
          "text": [
            "[0. 0. 0. 1. 0. 0. 0. 0. 0. 0.]\n"
          ]
        },
        {
          "output_type": "display_data",
          "data": {
            "text/plain": [
              "<Figure size 640x480 with 1 Axes>"
            ],
            "image/png": "[encoded data removed]"
          },
          "metadata": {}
        }
      ]
    },
    {
      "cell_type": "code",
      "metadata": {
        "id": "9Ujs2D_amuVa"
      },
      "source": [
        "train_images = train_data.reshape((-1, 784))\n",
        "test_images = test_data.reshape((-1, 784))"
      ],
      "execution_count": 524,
      "outputs": []
    },
    {
      "cell_type": "markdown",
      "source": [
        "Danie **regularyzacji L2** do warstw:"
      ],
      "metadata": {
        "id": "qjUrm9QvmuVa"
      }
    },
    {
      "cell_type": "markdown",
      "source": [
        "Adding dropout layer"
      ],
      "metadata": {
        "id": "Utib-86fmuVa"
      }
    },
    {
      "cell_type": "markdown",
      "source": [
        "Resizing model"
      ],
      "metadata": {
        "id": "cu4ppeApmuVa"
      }
    },
    {
      "cell_type": "code",
      "metadata": {
        "colab": {
          "base_uri": "https://localhost:8080/"
        },
        "outputId": "e7298c19-8dc6-448b-8a50-b54d96fff1a1",
        "id": "Jlg4A8JNmuVa"
      },
      "source": [
        "model = Sequential()\n",
        "model.add(Dense(units = 64, kernel_regularizer=l2(0.01), use_bias=True, input_shape=(784,), activation = \"relu\"))\n",
        "model.add(Dropout(0.3))\n",
        "model.add(Dense(units = 10, kernel_regularizer=l2(0.01), use_bias=True, activation = \"softmax\"))\n",
        "\n",
        "opt = keras.optimizers.Adam(learning_rate=0.002)\n",
        "#opt = keras.optimizers.SGD(learning_rate=0.001)\n",
        "\n",
        "model.compile(loss='categorical_crossentropy',optimizer=opt,metrics=['accuracy'])\n",
        "model.summary()"
      ],
      "execution_count": 525,
      "outputs": [
        {
          "output_type": "stream",
          "name": "stdout",
          "text": [
            "Model: \"sequential_36\"\n",
            "_________________________________________________________________\n",
            " Layer (type)                Output Shape              Param #   \n",
            "=================================================================\n",
            " dense_82 (Dense)            (None, 64)                50240     \n",
            "                                                                 \n",
            " dropout_29 (Dropout)        (None, 64)                0         \n",
            "                                                                 \n",
            " dense_83 (Dense)            (None, 10)                650       \n",
            "                                                                 \n",
            "=================================================================\n",
            "Total params: 50890 (198.79 KB)\n",
            "Trainable params: 50890 (198.79 KB)\n",
            "Non-trainable params: 0 (0.00 Byte)\n",
            "_________________________________________________________________\n"
          ]
        }
      ]
    },
    {
      "cell_type": "code",
      "metadata": {
        "colab": {
          "base_uri": "https://localhost:8080/"
        },
        "outputId": "f6fd4cdd-d28d-4635-fdc0-bd75c42a8ba3",
        "id": "HEoFX1PnmuVb"
      },
      "source": [
        "batch_size = 128\n",
        "epochs = 100\n",
        "\n",
        "h = model.fit(train_images, train_labels, batch_size=batch_size, epochs=epochs, validation_split=0.2)"
      ],
      "execution_count": 526,
      "outputs": [
        {
          "output_type": "stream",
          "name": "stdout",
          "text": [
            "Epoch 1/100\n",
            "13/13 [==============================] - 1s 23ms/step - loss: 53.1018 - accuracy: 0.3981 - val_loss: 12.1903 - val_accuracy: 0.5125\n",
            "Epoch 2/100\n",
            "13/13 [==============================] - 0s 7ms/step - loss: 5.1356 - accuracy: 0.5856 - val_loss: 4.1424 - val_accuracy: 0.5675\n",
            "Epoch 3/100\n",
            "13/13 [==============================] - 0s 6ms/step - loss: 2.7022 - accuracy: 0.5344 - val_loss: 3.2083 - val_accuracy: 0.5325\n",
            "Epoch 4/100\n",
            "13/13 [==============================] - 0s 5ms/step - loss: 2.3072 - accuracy: 0.5250 - val_loss: 3.0452 - val_accuracy: 0.5200\n",
            "Epoch 5/100\n",
            "13/13 [==============================] - 0s 6ms/step - loss: 2.1849 - accuracy: 0.5650 - val_loss: 3.2034 - val_accuracy: 0.6000\n",
            "Epoch 6/100\n",
            "13/13 [==============================] - 0s 5ms/step - loss: 2.0093 - accuracy: 0.6381 - val_loss: 3.2381 - val_accuracy: 0.6600\n",
            "Epoch 7/100\n",
            "13/13 [==============================] - 0s 5ms/step - loss: 1.9696 - accuracy: 0.6550 - val_loss: 3.2202 - val_accuracy: 0.6375\n",
            "Epoch 8/100\n",
            "13/13 [==============================] - 0s 6ms/step - loss: 1.9060 - accuracy: 0.6694 - val_loss: 3.4258 - val_accuracy: 0.6300\n",
            "Epoch 9/100\n",
            "13/13 [==============================] - 0s 4ms/step - loss: 1.8381 - accuracy: 0.6850 - val_loss: 3.3657 - val_accuracy: 0.6825\n",
            "Epoch 10/100\n",
            "13/13 [==============================] - 0s 5ms/step - loss: 1.8195 - accuracy: 0.6938 - val_loss: 3.1765 - val_accuracy: 0.6725\n",
            "Epoch 11/100\n",
            "13/13 [==============================] - 0s 6ms/step - loss: 1.7341 - accuracy: 0.6981 - val_loss: 3.4002 - val_accuracy: 0.6800\n",
            "Epoch 12/100\n",
            "13/13 [==============================] - 0s 6ms/step - loss: 1.6886 - accuracy: 0.7181 - val_loss: 3.9908 - val_accuracy: 0.6900\n",
            "Epoch 13/100\n",
            "13/13 [==============================] - 0s 5ms/step - loss: 1.6569 - accuracy: 0.7219 - val_loss: 3.2623 - val_accuracy: 0.7075\n",
            "Epoch 14/100\n",
            "13/13 [==============================] - 0s 6ms/step - loss: 1.6301 - accuracy: 0.7431 - val_loss: 3.0532 - val_accuracy: 0.7050\n",
            "Epoch 15/100\n",
            "13/13 [==============================] - 0s 5ms/step - loss: 1.5922 - accuracy: 0.7631 - val_loss: 3.3806 - val_accuracy: 0.6925\n",
            "Epoch 16/100\n",
            "13/13 [==============================] - 0s 4ms/step - loss: 1.6073 - accuracy: 0.7613 - val_loss: 3.3318 - val_accuracy: 0.7150\n",
            "Epoch 17/100\n",
            "13/13 [==============================] - 0s 5ms/step - loss: 1.5739 - accuracy: 0.7494 - val_loss: 3.7519 - val_accuracy: 0.7200\n",
            "Epoch 18/100\n",
            "13/13 [==============================] - 0s 5ms/step - loss: 1.5599 - accuracy: 0.7631 - val_loss: 3.7469 - val_accuracy: 0.7175\n",
            "Epoch 19/100\n",
            "13/13 [==============================] - 0s 4ms/step - loss: 1.5181 - accuracy: 0.7694 - val_loss: 3.5598 - val_accuracy: 0.7200\n",
            "Epoch 20/100\n",
            "13/13 [==============================] - 0s 4ms/step - loss: 1.4160 - accuracy: 0.8044 - val_loss: 3.8357 - val_accuracy: 0.7400\n",
            "Epoch 21/100\n",
            "13/13 [==============================] - 0s 4ms/step - loss: 1.4017 - accuracy: 0.8112 - val_loss: 3.6053 - val_accuracy: 0.7375\n",
            "Epoch 22/100\n",
            "13/13 [==============================] - 0s 5ms/step - loss: 1.3859 - accuracy: 0.8263 - val_loss: 3.6663 - val_accuracy: 0.7475\n",
            "Epoch 23/100\n",
            "13/13 [==============================] - 0s 5ms/step - loss: 1.3535 - accuracy: 0.8231 - val_loss: 4.1724 - val_accuracy: 0.7450\n",
            "Epoch 24/100\n",
            "13/13 [==============================] - 0s 5ms/step - loss: 1.3533 - accuracy: 0.8119 - val_loss: 4.0490 - val_accuracy: 0.7250\n",
            "Epoch 25/100\n",
            "13/13 [==============================] - 0s 6ms/step - loss: 1.3510 - accuracy: 0.8119 - val_loss: 4.0893 - val_accuracy: 0.7050\n",
            "Epoch 26/100\n",
            "13/13 [==============================] - 0s 6ms/step - loss: 1.3001 - accuracy: 0.8313 - val_loss: 3.7459 - val_accuracy: 0.7250\n",
            "Epoch 27/100\n",
            "13/13 [==============================] - 0s 4ms/step - loss: 1.3172 - accuracy: 0.8188 - val_loss: 3.5824 - val_accuracy: 0.7500\n",
            "Epoch 28/100\n",
            "13/13 [==============================] - 0s 5ms/step - loss: 1.2842 - accuracy: 0.8244 - val_loss: 4.4343 - val_accuracy: 0.7275\n",
            "Epoch 29/100\n",
            "13/13 [==============================] - 0s 6ms/step - loss: 1.3436 - accuracy: 0.8263 - val_loss: 3.4092 - val_accuracy: 0.7250\n",
            "Epoch 30/100\n",
            "13/13 [==============================] - 0s 4ms/step - loss: 1.2449 - accuracy: 0.8344 - val_loss: 3.4038 - val_accuracy: 0.7325\n",
            "Epoch 31/100\n",
            "13/13 [==============================] - 0s 5ms/step - loss: 1.2697 - accuracy: 0.8263 - val_loss: 3.4534 - val_accuracy: 0.7500\n",
            "Epoch 32/100\n",
            "13/13 [==============================] - 0s 5ms/step - loss: 1.2434 - accuracy: 0.8450 - val_loss: 3.3565 - val_accuracy: 0.7325\n",
            "Epoch 33/100\n",
            "13/13 [==============================] - 0s 5ms/step - loss: 1.2635 - accuracy: 0.8319 - val_loss: 3.7593 - val_accuracy: 0.7325\n",
            "Epoch 34/100\n",
            "13/13 [==============================] - 0s 5ms/step - loss: 1.2423 - accuracy: 0.8350 - val_loss: 4.4067 - val_accuracy: 0.7525\n",
            "Epoch 35/100\n",
            "13/13 [==============================] - 0s 5ms/step - loss: 1.1788 - accuracy: 0.8531 - val_loss: 4.5570 - val_accuracy: 0.7550\n",
            "Epoch 36/100\n",
            "13/13 [==============================] - 0s 4ms/step - loss: 1.2075 - accuracy: 0.8369 - val_loss: 4.3397 - val_accuracy: 0.7350\n",
            "Epoch 37/100\n",
            "13/13 [==============================] - 0s 6ms/step - loss: 1.1973 - accuracy: 0.8550 - val_loss: 4.0231 - val_accuracy: 0.7500\n",
            "Epoch 38/100\n",
            "13/13 [==============================] - 0s 6ms/step - loss: 1.1568 - accuracy: 0.8569 - val_loss: 3.9736 - val_accuracy: 0.7425\n",
            "Epoch 39/100\n",
            "13/13 [==============================] - 0s 6ms/step - loss: 1.1477 - accuracy: 0.8625 - val_loss: 3.9241 - val_accuracy: 0.7575\n",
            "Epoch 40/100\n",
            "13/13 [==============================] - 0s 6ms/step - loss: 1.2070 - accuracy: 0.8537 - val_loss: 4.3786 - val_accuracy: 0.7575\n",
            "Epoch 41/100\n",
            "13/13 [==============================] - 0s 5ms/step - loss: 1.1913 - accuracy: 0.8606 - val_loss: 4.2488 - val_accuracy: 0.7550\n",
            "Epoch 42/100\n",
            "13/13 [==============================] - 0s 4ms/step - loss: 1.1715 - accuracy: 0.8431 - val_loss: 4.0164 - val_accuracy: 0.7450\n",
            "Epoch 43/100\n",
            "13/13 [==============================] - 0s 4ms/step - loss: 1.1213 - accuracy: 0.8556 - val_loss: 3.6486 - val_accuracy: 0.7475\n",
            "Epoch 44/100\n",
            "13/13 [==============================] - 0s 6ms/step - loss: 1.0974 - accuracy: 0.8619 - val_loss: 4.0786 - val_accuracy: 0.7500\n",
            "Epoch 45/100\n",
            "13/13 [==============================] - 0s 4ms/step - loss: 1.0952 - accuracy: 0.8725 - val_loss: 3.7321 - val_accuracy: 0.7525\n",
            "Epoch 46/100\n",
            "13/13 [==============================] - 0s 5ms/step - loss: 1.0859 - accuracy: 0.8612 - val_loss: 3.6610 - val_accuracy: 0.7600\n",
            "Epoch 47/100\n",
            "13/13 [==============================] - 0s 4ms/step - loss: 1.0384 - accuracy: 0.8775 - val_loss: 4.1999 - val_accuracy: 0.7600\n",
            "Epoch 48/100\n",
            "13/13 [==============================] - 0s 5ms/step - loss: 1.0281 - accuracy: 0.8831 - val_loss: 4.4782 - val_accuracy: 0.7400\n",
            "Epoch 49/100\n",
            "13/13 [==============================] - 0s 5ms/step - loss: 1.0257 - accuracy: 0.8831 - val_loss: 5.1541 - val_accuracy: 0.7450\n",
            "Epoch 50/100\n",
            "13/13 [==============================] - 0s 5ms/step - loss: 1.0493 - accuracy: 0.8900 - val_loss: 4.5613 - val_accuracy: 0.7500\n",
            "Epoch 51/100\n",
            "13/13 [==============================] - 0s 4ms/step - loss: 0.9992 - accuracy: 0.8913 - val_loss: 4.3488 - val_accuracy: 0.7550\n",
            "Epoch 52/100\n",
            "13/13 [==============================] - 0s 5ms/step - loss: 0.9750 - accuracy: 0.8831 - val_loss: 4.4905 - val_accuracy: 0.7575\n",
            "Epoch 53/100\n",
            "13/13 [==============================] - 0s 5ms/step - loss: 0.9810 - accuracy: 0.8894 - val_loss: 4.3713 - val_accuracy: 0.7575\n",
            "Epoch 54/100\n",
            "13/13 [==============================] - 0s 4ms/step - loss: 0.9800 - accuracy: 0.8869 - val_loss: 4.4882 - val_accuracy: 0.7450\n",
            "Epoch 55/100\n",
            "13/13 [==============================] - 0s 5ms/step - loss: 0.9726 - accuracy: 0.8931 - val_loss: 4.4600 - val_accuracy: 0.7575\n",
            "Epoch 56/100\n",
            "13/13 [==============================] - 0s 5ms/step - loss: 0.9911 - accuracy: 0.8856 - val_loss: 4.5848 - val_accuracy: 0.7475\n",
            "Epoch 57/100\n",
            "13/13 [==============================] - 0s 4ms/step - loss: 0.9968 - accuracy: 0.8794 - val_loss: 3.9765 - val_accuracy: 0.7475\n",
            "Epoch 58/100\n",
            "13/13 [==============================] - 0s 6ms/step - loss: 0.9355 - accuracy: 0.8975 - val_loss: 3.9049 - val_accuracy: 0.7775\n",
            "Epoch 59/100\n",
            "13/13 [==============================] - 0s 4ms/step - loss: 0.9179 - accuracy: 0.9031 - val_loss: 4.2144 - val_accuracy: 0.7675\n",
            "Epoch 60/100\n",
            "13/13 [==============================] - 0s 5ms/step - loss: 0.9695 - accuracy: 0.8931 - val_loss: 4.1640 - val_accuracy: 0.7625\n",
            "Epoch 61/100\n",
            "13/13 [==============================] - 0s 4ms/step - loss: 0.9153 - accuracy: 0.9019 - val_loss: 4.1048 - val_accuracy: 0.7650\n",
            "Epoch 62/100\n",
            "13/13 [==============================] - 0s 5ms/step - loss: 0.9226 - accuracy: 0.8894 - val_loss: 4.1322 - val_accuracy: 0.7700\n",
            "Epoch 63/100\n",
            "13/13 [==============================] - 0s 5ms/step - loss: 0.9144 - accuracy: 0.8988 - val_loss: 4.2822 - val_accuracy: 0.7600\n",
            "Epoch 64/100\n",
            "13/13 [==============================] - 0s 4ms/step - loss: 0.8534 - accuracy: 0.9131 - val_loss: 4.7045 - val_accuracy: 0.7575\n",
            "Epoch 65/100\n",
            "13/13 [==============================] - 0s 6ms/step - loss: 0.8757 - accuracy: 0.9100 - val_loss: 4.6833 - val_accuracy: 0.7675\n",
            "Epoch 66/100\n",
            "13/13 [==============================] - 0s 5ms/step - loss: 0.8981 - accuracy: 0.9044 - val_loss: 4.5995 - val_accuracy: 0.7500\n",
            "Epoch 67/100\n",
            "13/13 [==============================] - 0s 6ms/step - loss: 0.8765 - accuracy: 0.9038 - val_loss: 4.3140 - val_accuracy: 0.7600\n",
            "Epoch 68/100\n",
            "13/13 [==============================] - 0s 5ms/step - loss: 0.8585 - accuracy: 0.9106 - val_loss: 3.8740 - val_accuracy: 0.7675\n",
            "Epoch 69/100\n",
            "13/13 [==============================] - 0s 4ms/step - loss: 0.8514 - accuracy: 0.9119 - val_loss: 4.2000 - val_accuracy: 0.7600\n",
            "Epoch 70/100\n",
            "13/13 [==============================] - 0s 4ms/step - loss: 0.8547 - accuracy: 0.9125 - val_loss: 3.9288 - val_accuracy: 0.7850\n",
            "Epoch 71/100\n",
            "13/13 [==============================] - 0s 5ms/step - loss: 0.8227 - accuracy: 0.9181 - val_loss: 4.0531 - val_accuracy: 0.7825\n",
            "Epoch 72/100\n",
            "13/13 [==============================] - 0s 4ms/step - loss: 0.8551 - accuracy: 0.9081 - val_loss: 5.0261 - val_accuracy: 0.7325\n",
            "Epoch 73/100\n",
            "13/13 [==============================] - 0s 5ms/step - loss: 0.8431 - accuracy: 0.9175 - val_loss: 4.3687 - val_accuracy: 0.7450\n",
            "Epoch 74/100\n",
            "13/13 [==============================] - 0s 6ms/step - loss: 0.8703 - accuracy: 0.9025 - val_loss: 3.7679 - val_accuracy: 0.7575\n",
            "Epoch 75/100\n",
            "13/13 [==============================] - 0s 4ms/step - loss: 0.8490 - accuracy: 0.9125 - val_loss: 3.5114 - val_accuracy: 0.7675\n",
            "Epoch 76/100\n",
            "13/13 [==============================] - 0s 5ms/step - loss: 0.8329 - accuracy: 0.9062 - val_loss: 3.7187 - val_accuracy: 0.7875\n",
            "Epoch 77/100\n",
            "13/13 [==============================] - 0s 4ms/step - loss: 0.7874 - accuracy: 0.9219 - val_loss: 3.7035 - val_accuracy: 0.7925\n",
            "Epoch 78/100\n",
            "13/13 [==============================] - 0s 6ms/step - loss: 0.8027 - accuracy: 0.9156 - val_loss: 4.3194 - val_accuracy: 0.7750\n",
            "Epoch 79/100\n",
            "13/13 [==============================] - 0s 5ms/step - loss: 0.8085 - accuracy: 0.9137 - val_loss: 4.6018 - val_accuracy: 0.7875\n",
            "Epoch 80/100\n",
            "13/13 [==============================] - 0s 4ms/step - loss: 0.8520 - accuracy: 0.9056 - val_loss: 4.3334 - val_accuracy: 0.7925\n",
            "Epoch 81/100\n",
            "13/13 [==============================] - 0s 5ms/step - loss: 0.7797 - accuracy: 0.9244 - val_loss: 4.2802 - val_accuracy: 0.7700\n",
            "Epoch 82/100\n",
            "13/13 [==============================] - 0s 5ms/step - loss: 0.8135 - accuracy: 0.9144 - val_loss: 3.9075 - val_accuracy: 0.7875\n",
            "Epoch 83/100\n",
            "13/13 [==============================] - 0s 6ms/step - loss: 0.7766 - accuracy: 0.9169 - val_loss: 4.2677 - val_accuracy: 0.7625\n",
            "Epoch 84/100\n",
            "13/13 [==============================] - 0s 6ms/step - loss: 0.7616 - accuracy: 0.9269 - val_loss: 4.4429 - val_accuracy: 0.7800\n",
            "Epoch 85/100\n",
            "13/13 [==============================] - 0s 4ms/step - loss: 0.7286 - accuracy: 0.9331 - val_loss: 4.6314 - val_accuracy: 0.7750\n",
            "Epoch 86/100\n",
            "13/13 [==============================] - 0s 4ms/step - loss: 0.7900 - accuracy: 0.9131 - val_loss: 4.1504 - val_accuracy: 0.7700\n",
            "Epoch 87/100\n",
            "13/13 [==============================] - 0s 4ms/step - loss: 0.7971 - accuracy: 0.9175 - val_loss: 3.2181 - val_accuracy: 0.7975\n",
            "Epoch 88/100\n",
            "13/13 [==============================] - 0s 5ms/step - loss: 0.7633 - accuracy: 0.9106 - val_loss: 3.3430 - val_accuracy: 0.7800\n",
            "Epoch 89/100\n",
            "13/13 [==============================] - 0s 5ms/step - loss: 0.7370 - accuracy: 0.9275 - val_loss: 3.7560 - val_accuracy: 0.7675\n",
            "Epoch 90/100\n",
            "13/13 [==============================] - 0s 5ms/step - loss: 0.7152 - accuracy: 0.9294 - val_loss: 4.0196 - val_accuracy: 0.7625\n",
            "Epoch 91/100\n",
            "13/13 [==============================] - 0s 4ms/step - loss: 0.7396 - accuracy: 0.9237 - val_loss: 3.6820 - val_accuracy: 0.7775\n",
            "Epoch 92/100\n",
            "13/13 [==============================] - 0s 4ms/step - loss: 0.7302 - accuracy: 0.9200 - val_loss: 3.6781 - val_accuracy: 0.7850\n",
            "Epoch 93/100\n",
            "13/13 [==============================] - 0s 4ms/step - loss: 0.7435 - accuracy: 0.9106 - val_loss: 3.9936 - val_accuracy: 0.7850\n",
            "Epoch 94/100\n",
            "13/13 [==============================] - 0s 4ms/step - loss: 0.7386 - accuracy: 0.9212 - val_loss: 3.9131 - val_accuracy: 0.7775\n",
            "Epoch 95/100\n",
            "13/13 [==============================] - 0s 4ms/step - loss: 0.7052 - accuracy: 0.9325 - val_loss: 3.7564 - val_accuracy: 0.7775\n",
            "Epoch 96/100\n",
            "13/13 [==============================] - 0s 4ms/step - loss: 0.7170 - accuracy: 0.9156 - val_loss: 3.6580 - val_accuracy: 0.7750\n",
            "Epoch 97/100\n",
            "13/13 [==============================] - 0s 4ms/step - loss: 0.7417 - accuracy: 0.9231 - val_loss: 3.7504 - val_accuracy: 0.7625\n",
            "Epoch 98/100\n",
            "13/13 [==============================] - 0s 4ms/step - loss: 0.7512 - accuracy: 0.9162 - val_loss: 4.3234 - val_accuracy: 0.7550\n",
            "Epoch 99/100\n",
            "13/13 [==============================] - 0s 5ms/step - loss: 0.6779 - accuracy: 0.9319 - val_loss: 3.7824 - val_accuracy: 0.7675\n",
            "Epoch 100/100\n",
            "13/13 [==============================] - 0s 5ms/step - loss: 0.7058 - accuracy: 0.9200 - val_loss: 3.4924 - val_accuracy: 0.7575\n"
          ]
        }
      ]
    },
    {
      "cell_type": "code",
      "metadata": {
        "colab": {
          "base_uri": "https://localhost:8080/",
          "height": 430
        },
        "outputId": "6aabfca1-a0dc-4a2b-ccac-ae5b6463b9e4",
        "id": "-b_ZH--5muVb"
      },
      "source": [
        "plt.scatter(np.arange(epochs),h.history['loss'])\n",
        "plt.scatter(np.arange(epochs),h.history['val_loss'],c='r')\n",
        "plt.show()"
      ],
      "execution_count": 527,
      "outputs": [
        {
          "output_type": "display_data",
          "data": {
            "text/plain": [
              "<Figure size 640x480 with 1 Axes>"
            ],
            "image/png": "[encoded data removed]"
          },
          "metadata": {}
        }
      ]
    },
    {
      "cell_type": "code",
      "source": [
        "plt.scatter(np.arange(epochs),h.history['accuracy'])\n",
        "plt.scatter(np.arange(epochs),h.history['val_accuracy'],c='y')\n",
        "plt.show()"
      ],
      "metadata": {
        "colab": {
          "base_uri": "https://localhost:8080/",
          "height": 430
        },
        "outputId": "8c54b9a8-f3cd-4731-d9d4-0f29a6a17595",
        "id": "K4dNRYzumuVb"
      },
      "execution_count": 528,
      "outputs": [
        {
          "output_type": "display_data",
          "data": {
            "text/plain": [
              "<Figure size 640x480 with 1 Axes>"
            ],
            "image/png": "[encoded data removed]"
          },
          "metadata": {}
        }
      ]
    },
    {
      "cell_type": "code",
      "metadata": {
        "colab": {
          "base_uri": "https://localhost:8080/"
        },
        "outputId": "7ab7f1e5-bde4-4acd-e738-50b5eee94b60",
        "id": "J3R5nWN2muVc"
      },
      "source": [
        "score = model.evaluate(test_images, test_labels, verbose=0)\n",
        "print(\"Test loss:\", score[0])\n",
        "print(\"Test accuracy:\", score[1])"
      ],
      "execution_count": 529,
      "outputs": [
        {
          "output_type": "stream",
          "name": "stdout",
          "text": [
            "Test loss: 2.8622798919677734\n",
            "Test accuracy: 0.8228235244750977\n"
          ]
        }
      ]
    },
    {
      "cell_type": "code",
      "metadata": {
        "colab": {
          "base_uri": "https://localhost:8080/",
          "height": 519
        },
        "outputId": "82667146-d32e-4971-90c6-8c7b8196ae4b",
        "id": "0bSzgAW_muVc"
      },
      "source": [
        "def plot_image(img_index):\n",
        "    label_index = train_labels[img_index]\n",
        "    plt.imshow(train_data[img_index]/255, cmap = 'gray')\n",
        "    print(label_index)\n",
        "\n",
        "img_index = 10\n",
        "plot_image(img_index)\n",
        "\n",
        "picture = train_data[img_index].reshape(-1,784)\n",
        "\n",
        "model.predict(picture)"
      ],
      "execution_count": 530,
      "outputs": [
        {
          "output_type": "stream",
          "name": "stdout",
          "text": [
            "[0. 0. 0. 1. 0. 0. 0. 0. 0. 0.]\n",
            "1/1 [==============================] - 0s 40ms/step\n"
          ]
        },
        {
          "output_type": "execute_result",
          "data": {
            "text/plain": [
              "array([[3.0179252e-09, 2.0148222e-15, 5.3240196e-10, 1.0000000e+00,\n",
              "        5.6465964e-14, 4.2878010e-08, 4.2194460e-17, 1.0682056e-20,\n",
              "        2.1817123e-10, 1.0109484e-19]], dtype=float32)"
            ]
          },
          "metadata": {},
          "execution_count": 530
        },
        {
          "output_type": "display_data",
          "data": {
            "text/plain": [
              "<Figure size 640x480 with 1 Axes>"
            ],
            "image/png": "[encoded data removed]"
          },
          "metadata": {}
        }
      ]
    },
    {
      "cell_type": "code",
      "source": [],
      "metadata": {
        "id": "8M7OOCHlm5Tu"
      },
      "execution_count": 530,
      "outputs": []
    },
    {
      "cell_type": "markdown",
      "source": [
        "#Opis:"
      ],
      "metadata": {
        "id": "XkNt8XTjAnSW"
      }
    },
    {
      "cell_type": "markdown",
      "source": [
        "batch_size = 128\n",
        "\n",
        "epochs = 100\n",
        "\n",
        "Zbiór treningowy zwiększony z ***60000*** do **68000* (20% to zbiór walidacyjny)\n",
        "\n",
        "opt = keras.optimizers.Adam(learning_rate=0.002)\n",
        "\n",
        "kernel_regularizer=l2(0.01) we wszystkich warstwach\n",
        "\n",
        "model.add(Dropout(0.3))"
      ],
      "metadata": {
        "id": "xo7-fGykAnSe"
      }
    },
    {
      "cell_type": "code",
      "source": [
        "model.summary()"
      ],
      "metadata": {
        "colab": {
          "base_uri": "https://localhost:8080/"
        },
        "outputId": "9c5733d7-34f4-4ae5-fe75-a5899db1b2eb",
        "id": "G1GfrCnfAnSe"
      },
      "execution_count": 531,
      "outputs": [
        {
          "output_type": "stream",
          "name": "stdout",
          "text": [
            "Model: \"sequential_36\"\n",
            "_________________________________________________________________\n",
            " Layer (type)                Output Shape              Param #   \n",
            "=================================================================\n",
            " dense_82 (Dense)            (None, 64)                50240     \n",
            "                                                                 \n",
            " dropout_29 (Dropout)        (None, 64)                0         \n",
            "                                                                 \n",
            " dense_83 (Dense)            (None, 10)                650       \n",
            "                                                                 \n",
            "=================================================================\n",
            "Total params: 50890 (198.79 KB)\n",
            "Trainable params: 50890 (198.79 KB)\n",
            "Non-trainable params: 0 (0.00 Byte)\n",
            "_________________________________________________________________\n"
          ]
        }
      ]
    },
    {
      "cell_type": "markdown",
      "source": [
        "Wnioski i komentarz"
      ],
      "metadata": {
        "id": "P_2KbHIsAnSk"
      }
    },
    {
      "cell_type": "markdown",
      "source": [
        "Model uczy się do około 4 epoki potem się przeucza, wykresy błędu (treningowego i walidacyjnego) są podobne przy czym po 5 epoce błąd validacyjny rośnie dalej, a błąd treningowy spada. Dokładność modelu dla danych treningowych i walidacyjnych praktycznie cały czas rośnie."
      ],
      "metadata": {
        "id": "LWz9UX78AnSk"
      }
    },
    {
      "cell_type": "markdown",
      "source": [
        "## Regularyzacja all in one #4\n",
        "\n",
        "\n"
      ],
      "metadata": {
        "id": "BH5blrqfnPEP"
      }
    },
    {
      "cell_type": "markdown",
      "source": [
        "Zwiększamy zbiór treningowy z **60000** do **68000** (20% to zbiór walidacyjny)"
      ],
      "metadata": {
        "id": "s8L73V1RnPEe"
      }
    },
    {
      "cell_type": "code",
      "source": [
        "test_data = data[:68000]\n",
        "train_data = data[68000:]\n",
        "test_labels = label[:68000]\n",
        "train_labels = label[68000:]"
      ],
      "metadata": {
        "id": "6NYhDq1inPEe"
      },
      "execution_count": 532,
      "outputs": []
    },
    {
      "cell_type": "code",
      "source": [
        "print(test_data.shape,train_data.shape,test_labels.shape,train_labels.shape)"
      ],
      "metadata": {
        "colab": {
          "base_uri": "https://localhost:8080/"
        },
        "outputId": "09d63694-fa8d-423a-d286-3d5f567dba7b",
        "id": "zVhqd09rnPEe"
      },
      "execution_count": 533,
      "outputs": [
        {
          "output_type": "stream",
          "name": "stdout",
          "text": [
            "(68000, 28, 28) (2000, 28, 28) (68000,) (2000,)\n"
          ]
        }
      ]
    },
    {
      "cell_type": "markdown",
      "metadata": {
        "id": "qYJjB3oqnPEf"
      },
      "source": [
        "One-hot coding"
      ]
    },
    {
      "cell_type": "code",
      "metadata": {
        "id": "6AEKmsKSnPEf"
      },
      "source": [
        "train_labels = tf.keras.utils.to_categorical(train_labels, 10)\n",
        "test_labels = tf.keras.utils.to_categorical(test_labels, 10)"
      ],
      "execution_count": 534,
      "outputs": []
    },
    {
      "cell_type": "code",
      "metadata": {
        "colab": {
          "base_uri": "https://localhost:8080/"
        },
        "outputId": "6fd82a6f-49ab-4014-a9af-aceef59ae243",
        "id": "_BXakinsnPEf"
      },
      "source": [
        "train_data.shape,train_labels.shape"
      ],
      "execution_count": 535,
      "outputs": [
        {
          "output_type": "execute_result",
          "data": {
            "text/plain": [
              "((2000, 28, 28), (2000, 10))"
            ]
          },
          "metadata": {},
          "execution_count": 535
        }
      ]
    },
    {
      "cell_type": "code",
      "metadata": {
        "colab": {
          "base_uri": "https://localhost:8080/"
        },
        "outputId": "7c30a967-6198-44a5-9aa7-e6ac67424628",
        "id": "u1rR9ZpFnPEf"
      },
      "source": [
        "test_data.shape,test_labels.shape"
      ],
      "execution_count": 536,
      "outputs": [
        {
          "output_type": "execute_result",
          "data": {
            "text/plain": [
              "((68000, 28, 28), (68000, 10))"
            ]
          },
          "metadata": {},
          "execution_count": 536
        }
      ]
    },
    {
      "cell_type": "code",
      "metadata": {
        "colab": {
          "base_uri": "https://localhost:8080/"
        },
        "outputId": "fc14243b-0c37-4ab2-d837-cf4112c71871",
        "id": "EDxlt6vmnPEg"
      },
      "source": [
        "train_labels[0]"
      ],
      "execution_count": 537,
      "outputs": [
        {
          "output_type": "execute_result",
          "data": {
            "text/plain": [
              "array([0., 0., 0., 0., 1., 0., 0., 0., 0., 0.], dtype=float32)"
            ]
          },
          "metadata": {},
          "execution_count": 537
        }
      ]
    },
    {
      "cell_type": "code",
      "metadata": {
        "colab": {
          "base_uri": "https://localhost:8080/",
          "height": 448
        },
        "outputId": "dd86fad5-dc15-4b26-8ff1-9063df2ae8fe",
        "id": "ow_RuT-RnPEg"
      },
      "source": [
        "def plot_image(img_index):\n",
        "    label_index = train_labels[img_index]\n",
        "    plt.imshow(train_data[img_index]/255, cmap = 'gray')\n",
        "    print(label_index)\n",
        "\n",
        "img_index = 10\n",
        "plot_image(img_index)"
      ],
      "execution_count": 538,
      "outputs": [
        {
          "output_type": "stream",
          "name": "stdout",
          "text": [
            "[0. 0. 0. 1. 0. 0. 0. 0. 0. 0.]\n"
          ]
        },
        {
          "output_type": "display_data",
          "data": {
            "text/plain": [
              "<Figure size 640x480 with 1 Axes>"
            ],
            "image/png": "[encoded data removed]"
          },
          "metadata": {}
        }
      ]
    },
    {
      "cell_type": "code",
      "metadata": {
        "id": "-TiQ_6KAnPEh"
      },
      "source": [
        "train_images = train_data.reshape((-1, 784))\n",
        "test_images = test_data.reshape((-1, 784))"
      ],
      "execution_count": 539,
      "outputs": []
    },
    {
      "cell_type": "markdown",
      "source": [
        "Danie **regularyzacji L2** do warstw:"
      ],
      "metadata": {
        "id": "OlGcgP4onPEh"
      }
    },
    {
      "cell_type": "markdown",
      "source": [
        "Adding dropout layer"
      ],
      "metadata": {
        "id": "02nDaxxpnPEh"
      }
    },
    {
      "cell_type": "markdown",
      "source": [
        "Zmiana learning_rate"
      ],
      "metadata": {
        "id": "ZK5pCh4GqqQ2"
      }
    },
    {
      "cell_type": "markdown",
      "source": [
        "Resizing model"
      ],
      "metadata": {
        "id": "5ITDiYgSnPEh"
      }
    },
    {
      "cell_type": "code",
      "metadata": {
        "colab": {
          "base_uri": "https://localhost:8080/"
        },
        "outputId": "df73ac9d-762f-45f6-aede-923bdbfd38cf",
        "id": "7dYUausonPEi"
      },
      "source": [
        "model = Sequential()\n",
        "model.add(Dense(units = 128, kernel_regularizer=l2(0.01), use_bias=True, input_shape=(784,), activation = \"relu\"))\n",
        "model.add(Dropout(0.3))\n",
        "model.add(Dense(units = 64, kernel_regularizer=l2(0.01), use_bias=True,  activation = \"relu\"))\n",
        "model.add(Dropout(0.3))\n",
        "model.add(Dense(units = 10, kernel_regularizer=l2(0.01), use_bias=True, activation = \"softmax\"))\n",
        "\n",
        "opt = keras.optimizers.Adam(learning_rate=0.009)\n",
        "#opt = keras.optimizers.SGD(learning_rate=0.001)\n",
        "\n",
        "model.compile(loss='categorical_crossentropy',optimizer=opt,metrics=['accuracy'])\n",
        "model.summary()"
      ],
      "execution_count": 540,
      "outputs": [
        {
          "output_type": "stream",
          "name": "stdout",
          "text": [
            "Model: \"sequential_37\"\n",
            "_________________________________________________________________\n",
            " Layer (type)                Output Shape              Param #   \n",
            "=================================================================\n",
            " dense_84 (Dense)            (None, 128)               100480    \n",
            "                                                                 \n",
            " dropout_30 (Dropout)        (None, 128)               0         \n",
            "                                                                 \n",
            " dense_85 (Dense)            (None, 64)                8256      \n",
            "                                                                 \n",
            " dropout_31 (Dropout)        (None, 64)                0         \n",
            "                                                                 \n",
            " dense_86 (Dense)            (None, 10)                650       \n",
            "                                                                 \n",
            "=================================================================\n",
            "Total params: 109386 (427.29 KB)\n",
            "Trainable params: 109386 (427.29 KB)\n",
            "Non-trainable params: 0 (0.00 Byte)\n",
            "_________________________________________________________________\n"
          ]
        }
      ]
    },
    {
      "cell_type": "code",
      "metadata": {
        "colab": {
          "base_uri": "https://localhost:8080/"
        },
        "outputId": "399d8050-d3d9-48ba-8da0-11498e78855a",
        "id": "VXE2d8klnPEi"
      },
      "source": [
        "batch_size = 1024\n",
        "epochs = 150\n",
        "\n",
        "h = model.fit(train_images, train_labels, batch_size=batch_size, epochs=epochs, validation_split=0.2)"
      ],
      "execution_count": 541,
      "outputs": [
        {
          "output_type": "stream",
          "name": "stdout",
          "text": [
            "Epoch 1/150\n",
            "2/2 [==============================] - 1s 245ms/step - loss: 184.7986 - accuracy: 0.1388 - val_loss: 44.7958 - val_accuracy: 0.3750\n",
            "Epoch 2/150\n",
            "2/2 [==============================] - 0s 41ms/step - loss: 83.8731 - accuracy: 0.3000 - val_loss: 14.0158 - val_accuracy: 0.5900\n",
            "Epoch 3/150\n",
            "2/2 [==============================] - 0s 45ms/step - loss: 36.4175 - accuracy: 0.4219 - val_loss: 9.9420 - val_accuracy: 0.6275\n",
            "Epoch 4/150\n",
            "2/2 [==============================] - 0s 45ms/step - loss: 21.4198 - accuracy: 0.4931 - val_loss: 8.4882 - val_accuracy: 0.6525\n",
            "Epoch 5/150\n",
            "2/2 [==============================] - 0s 58ms/step - loss: 14.1782 - accuracy: 0.5575 - val_loss: 9.2795 - val_accuracy: 0.6475\n",
            "Epoch 6/150\n",
            "2/2 [==============================] - 0s 41ms/step - loss: 11.2631 - accuracy: 0.6381 - val_loss: 9.2980 - val_accuracy: 0.6600\n",
            "Epoch 7/150\n",
            "2/2 [==============================] - 0s 41ms/step - loss: 8.6092 - accuracy: 0.6612 - val_loss: 8.2783 - val_accuracy: 0.6675\n",
            "Epoch 8/150\n",
            "2/2 [==============================] - 0s 39ms/step - loss: 7.2617 - accuracy: 0.6837 - val_loss: 7.3409 - val_accuracy: 0.6875\n",
            "Epoch 9/150\n",
            "2/2 [==============================] - 0s 45ms/step - loss: 6.4765 - accuracy: 0.6894 - val_loss: 6.7720 - val_accuracy: 0.7000\n",
            "Epoch 10/150\n",
            "2/2 [==============================] - 0s 37ms/step - loss: 6.0511 - accuracy: 0.6744 - val_loss: 6.3825 - val_accuracy: 0.7000\n",
            "Epoch 11/150\n",
            "2/2 [==============================] - 0s 32ms/step - loss: 5.6584 - accuracy: 0.6919 - val_loss: 6.4715 - val_accuracy: 0.7175\n",
            "Epoch 12/150\n",
            "2/2 [==============================] - 0s 36ms/step - loss: 5.4350 - accuracy: 0.6975 - val_loss: 6.1958 - val_accuracy: 0.7150\n",
            "Epoch 13/150\n",
            "2/2 [==============================] - 0s 39ms/step - loss: 4.9208 - accuracy: 0.7113 - val_loss: 6.0422 - val_accuracy: 0.7300\n",
            "Epoch 14/150\n",
            "2/2 [==============================] - 0s 33ms/step - loss: 4.9528 - accuracy: 0.7163 - val_loss: 6.1474 - val_accuracy: 0.7475\n",
            "Epoch 15/150\n",
            "2/2 [==============================] - 0s 32ms/step - loss: 4.7078 - accuracy: 0.7312 - val_loss: 6.0880 - val_accuracy: 0.7550\n",
            "Epoch 16/150\n",
            "2/2 [==============================] - 0s 49ms/step - loss: 4.6747 - accuracy: 0.7312 - val_loss: 6.0540 - val_accuracy: 0.7475\n",
            "Epoch 17/150\n",
            "2/2 [==============================] - 0s 33ms/step - loss: 4.6546 - accuracy: 0.7163 - val_loss: 5.9767 - val_accuracy: 0.7500\n",
            "Epoch 18/150\n",
            "2/2 [==============================] - 0s 32ms/step - loss: 4.5411 - accuracy: 0.7387 - val_loss: 5.8941 - val_accuracy: 0.7450\n",
            "Epoch 19/150\n",
            "2/2 [==============================] - 0s 32ms/step - loss: 4.5640 - accuracy: 0.7287 - val_loss: 5.8368 - val_accuracy: 0.7400\n",
            "Epoch 20/150\n",
            "2/2 [==============================] - 0s 31ms/step - loss: 4.5261 - accuracy: 0.7294 - val_loss: 5.8140 - val_accuracy: 0.7450\n",
            "Epoch 21/150\n",
            "2/2 [==============================] - 0s 31ms/step - loss: 4.3693 - accuracy: 0.7550 - val_loss: 5.8224 - val_accuracy: 0.7475\n",
            "Epoch 22/150\n",
            "2/2 [==============================] - 0s 29ms/step - loss: 4.3412 - accuracy: 0.7525 - val_loss: 5.9041 - val_accuracy: 0.7475\n",
            "Epoch 23/150\n",
            "2/2 [==============================] - 0s 30ms/step - loss: 4.2645 - accuracy: 0.7681 - val_loss: 5.9160 - val_accuracy: 0.7425\n",
            "Epoch 24/150\n",
            "2/2 [==============================] - 0s 47ms/step - loss: 4.1845 - accuracy: 0.7706 - val_loss: 5.8188 - val_accuracy: 0.7550\n",
            "Epoch 25/150\n",
            "2/2 [==============================] - 0s 37ms/step - loss: 4.1523 - accuracy: 0.7725 - val_loss: 5.7735 - val_accuracy: 0.7525\n",
            "Epoch 26/150\n",
            "2/2 [==============================] - 0s 33ms/step - loss: 4.0319 - accuracy: 0.7912 - val_loss: 5.7419 - val_accuracy: 0.7550\n",
            "Epoch 27/150\n",
            "2/2 [==============================] - 0s 32ms/step - loss: 4.0308 - accuracy: 0.7931 - val_loss: 5.6622 - val_accuracy: 0.7575\n",
            "Epoch 28/150\n",
            "2/2 [==============================] - 0s 32ms/step - loss: 3.9839 - accuracy: 0.8012 - val_loss: 5.6084 - val_accuracy: 0.7600\n",
            "Epoch 29/150\n",
            "2/2 [==============================] - 0s 35ms/step - loss: 3.9423 - accuracy: 0.7975 - val_loss: 5.5898 - val_accuracy: 0.7600\n",
            "Epoch 30/150\n",
            "2/2 [==============================] - 0s 31ms/step - loss: 3.8673 - accuracy: 0.8150 - val_loss: 5.5876 - val_accuracy: 0.7650\n",
            "Epoch 31/150\n",
            "2/2 [==============================] - 0s 32ms/step - loss: 3.8910 - accuracy: 0.8075 - val_loss: 5.5451 - val_accuracy: 0.7675\n",
            "Epoch 32/150\n",
            "2/2 [==============================] - 0s 44ms/step - loss: 3.8008 - accuracy: 0.8163 - val_loss: 5.5539 - val_accuracy: 0.7675\n",
            "Epoch 33/150\n",
            "2/2 [==============================] - 0s 32ms/step - loss: 3.7276 - accuracy: 0.8319 - val_loss: 5.5493 - val_accuracy: 0.7700\n",
            "Epoch 34/150\n",
            "2/2 [==============================] - 0s 32ms/step - loss: 3.7262 - accuracy: 0.8163 - val_loss: 5.5809 - val_accuracy: 0.7750\n",
            "Epoch 35/150\n",
            "2/2 [==============================] - 0s 33ms/step - loss: 3.6766 - accuracy: 0.8331 - val_loss: 5.7556 - val_accuracy: 0.7700\n",
            "Epoch 36/150\n",
            "2/2 [==============================] - 0s 35ms/step - loss: 3.6704 - accuracy: 0.8338 - val_loss: 5.9700 - val_accuracy: 0.7600\n",
            "Epoch 37/150\n",
            "2/2 [==============================] - 0s 37ms/step - loss: 3.6809 - accuracy: 0.8294 - val_loss: 5.5547 - val_accuracy: 0.7725\n",
            "Epoch 38/150\n",
            "2/2 [==============================] - 0s 31ms/step - loss: 3.5868 - accuracy: 0.8306 - val_loss: 5.2135 - val_accuracy: 0.7750\n",
            "Epoch 39/150\n",
            "2/2 [==============================] - 0s 32ms/step - loss: 3.5735 - accuracy: 0.8319 - val_loss: 5.0936 - val_accuracy: 0.7725\n",
            "Epoch 40/150\n",
            "2/2 [==============================] - 0s 30ms/step - loss: 3.5713 - accuracy: 0.8288 - val_loss: 5.1551 - val_accuracy: 0.7775\n",
            "Epoch 41/150\n",
            "2/2 [==============================] - 0s 31ms/step - loss: 3.5397 - accuracy: 0.8281 - val_loss: 5.2214 - val_accuracy: 0.7750\n",
            "Epoch 42/150\n",
            "2/2 [==============================] - 0s 37ms/step - loss: 3.5036 - accuracy: 0.8244 - val_loss: 5.2937 - val_accuracy: 0.7775\n",
            "Epoch 43/150\n",
            "2/2 [==============================] - 0s 30ms/step - loss: 3.4739 - accuracy: 0.8256 - val_loss: 5.3810 - val_accuracy: 0.7700\n",
            "Epoch 44/150\n",
            "2/2 [==============================] - 0s 30ms/step - loss: 3.3964 - accuracy: 0.8325 - val_loss: 5.3965 - val_accuracy: 0.7725\n",
            "Epoch 45/150\n",
            "2/2 [==============================] - 0s 46ms/step - loss: 3.3789 - accuracy: 0.8344 - val_loss: 5.4298 - val_accuracy: 0.7700\n",
            "Epoch 46/150\n",
            "2/2 [==============================] - 0s 30ms/step - loss: 3.3370 - accuracy: 0.8381 - val_loss: 5.4558 - val_accuracy: 0.7700\n",
            "Epoch 47/150\n",
            "2/2 [==============================] - 0s 31ms/step - loss: 3.3096 - accuracy: 0.8406 - val_loss: 5.3568 - val_accuracy: 0.7700\n",
            "Epoch 48/150\n",
            "2/2 [==============================] - 0s 34ms/step - loss: 3.2865 - accuracy: 0.8419 - val_loss: 5.2127 - val_accuracy: 0.7725\n",
            "Epoch 49/150\n",
            "2/2 [==============================] - 0s 32ms/step - loss: 3.2450 - accuracy: 0.8413 - val_loss: 5.1323 - val_accuracy: 0.7750\n",
            "Epoch 50/150\n",
            "2/2 [==============================] - 0s 37ms/step - loss: 3.1990 - accuracy: 0.8506 - val_loss: 5.0779 - val_accuracy: 0.7725\n",
            "Epoch 51/150\n",
            "2/2 [==============================] - 0s 30ms/step - loss: 3.1989 - accuracy: 0.8444 - val_loss: 5.0319 - val_accuracy: 0.7725\n",
            "Epoch 52/150\n",
            "2/2 [==============================] - 0s 36ms/step - loss: 3.1646 - accuracy: 0.8450 - val_loss: 5.0361 - val_accuracy: 0.7750\n",
            "Epoch 53/150\n",
            "2/2 [==============================] - 0s 32ms/step - loss: 3.1315 - accuracy: 0.8537 - val_loss: 5.1281 - val_accuracy: 0.7800\n",
            "Epoch 54/150\n",
            "2/2 [==============================] - 0s 29ms/step - loss: 3.1175 - accuracy: 0.8481 - val_loss: 5.3966 - val_accuracy: 0.7700\n",
            "Epoch 55/150\n",
            "2/2 [==============================] - 0s 29ms/step - loss: 3.0694 - accuracy: 0.8575 - val_loss: 5.8961 - val_accuracy: 0.7650\n",
            "Epoch 56/150\n",
            "2/2 [==============================] - 0s 30ms/step - loss: 3.0944 - accuracy: 0.8512 - val_loss: 5.9442 - val_accuracy: 0.7750\n",
            "Epoch 57/150\n",
            "2/2 [==============================] - 0s 32ms/step - loss: 3.0529 - accuracy: 0.8550 - val_loss: 6.0238 - val_accuracy: 0.7675\n",
            "Epoch 58/150\n",
            "2/2 [==============================] - 0s 48ms/step - loss: 3.0280 - accuracy: 0.8550 - val_loss: 5.8445 - val_accuracy: 0.7775\n",
            "Epoch 59/150\n",
            "2/2 [==============================] - 0s 35ms/step - loss: 3.0211 - accuracy: 0.8456 - val_loss: 5.6392 - val_accuracy: 0.7725\n",
            "Epoch 60/150\n",
            "2/2 [==============================] - 0s 33ms/step - loss: 2.9765 - accuracy: 0.8494 - val_loss: 5.5153 - val_accuracy: 0.7700\n",
            "Epoch 61/150\n",
            "2/2 [==============================] - 0s 30ms/step - loss: 2.9734 - accuracy: 0.8581 - val_loss: 5.4431 - val_accuracy: 0.7700\n",
            "Epoch 62/150\n",
            "2/2 [==============================] - 0s 31ms/step - loss: 2.9492 - accuracy: 0.8525 - val_loss: 5.4213 - val_accuracy: 0.7725\n",
            "Epoch 63/150\n",
            "2/2 [==============================] - 0s 39ms/step - loss: 2.9212 - accuracy: 0.8562 - val_loss: 5.4332 - val_accuracy: 0.7725\n",
            "Epoch 64/150\n",
            "2/2 [==============================] - 0s 32ms/step - loss: 2.8934 - accuracy: 0.8669 - val_loss: 5.5844 - val_accuracy: 0.7825\n",
            "Epoch 65/150\n",
            "2/2 [==============================] - 0s 33ms/step - loss: 2.9028 - accuracy: 0.8731 - val_loss: 5.7950 - val_accuracy: 0.7925\n",
            "Epoch 66/150\n",
            "2/2 [==============================] - 0s 33ms/step - loss: 2.8748 - accuracy: 0.8625 - val_loss: 5.7202 - val_accuracy: 0.8000\n",
            "Epoch 67/150\n",
            "2/2 [==============================] - 0s 30ms/step - loss: 2.8615 - accuracy: 0.8537 - val_loss: 5.5533 - val_accuracy: 0.7950\n",
            "Epoch 68/150\n",
            "2/2 [==============================] - 0s 31ms/step - loss: 2.7994 - accuracy: 0.8675 - val_loss: 5.2927 - val_accuracy: 0.7850\n",
            "Epoch 69/150\n",
            "2/2 [==============================] - 0s 35ms/step - loss: 2.7725 - accuracy: 0.8694 - val_loss: 5.1287 - val_accuracy: 0.7875\n",
            "Epoch 70/150\n",
            "2/2 [==============================] - 0s 32ms/step - loss: 2.7953 - accuracy: 0.8600 - val_loss: 5.0289 - val_accuracy: 0.7800\n",
            "Epoch 71/150\n",
            "2/2 [==============================] - 0s 31ms/step - loss: 2.7582 - accuracy: 0.8612 - val_loss: 4.9778 - val_accuracy: 0.7800\n",
            "Epoch 72/150\n",
            "2/2 [==============================] - 0s 51ms/step - loss: 2.7305 - accuracy: 0.8612 - val_loss: 4.9292 - val_accuracy: 0.7800\n",
            "Epoch 73/150\n",
            "2/2 [==============================] - 0s 29ms/step - loss: 2.6996 - accuracy: 0.8712 - val_loss: 4.8846 - val_accuracy: 0.7800\n",
            "Epoch 74/150\n",
            "2/2 [==============================] - 0s 32ms/step - loss: 2.6590 - accuracy: 0.8769 - val_loss: 4.8457 - val_accuracy: 0.7875\n",
            "Epoch 75/150\n",
            "2/2 [==============================] - 0s 30ms/step - loss: 2.6957 - accuracy: 0.8637 - val_loss: 4.7285 - val_accuracy: 0.7850\n",
            "Epoch 76/150\n",
            "2/2 [==============================] - 0s 32ms/step - loss: 2.6294 - accuracy: 0.8838 - val_loss: 4.6572 - val_accuracy: 0.7850\n",
            "Epoch 77/150\n",
            "2/2 [==============================] - 0s 33ms/step - loss: 2.6156 - accuracy: 0.8863 - val_loss: 4.5454 - val_accuracy: 0.7850\n",
            "Epoch 78/150\n",
            "2/2 [==============================] - 0s 31ms/step - loss: 2.5931 - accuracy: 0.8750 - val_loss: 4.4992 - val_accuracy: 0.7825\n",
            "Epoch 79/150\n",
            "2/2 [==============================] - 0s 31ms/step - loss: 2.5780 - accuracy: 0.8806 - val_loss: 4.4966 - val_accuracy: 0.7725\n",
            "Epoch 80/150\n",
            "2/2 [==============================] - 0s 33ms/step - loss: 2.5903 - accuracy: 0.8744 - val_loss: 4.5003 - val_accuracy: 0.7750\n",
            "Epoch 81/150\n",
            "2/2 [==============================] - 0s 31ms/step - loss: 2.5468 - accuracy: 0.8719 - val_loss: 4.7021 - val_accuracy: 0.7750\n",
            "Epoch 82/150\n",
            "2/2 [==============================] - 0s 31ms/step - loss: 2.5105 - accuracy: 0.8763 - val_loss: 5.0821 - val_accuracy: 0.7625\n",
            "Epoch 83/150\n",
            "2/2 [==============================] - 0s 29ms/step - loss: 2.5417 - accuracy: 0.8831 - val_loss: 5.1089 - val_accuracy: 0.7775\n",
            "Epoch 84/150\n",
            "2/2 [==============================] - 0s 33ms/step - loss: 2.4789 - accuracy: 0.8781 - val_loss: 5.1707 - val_accuracy: 0.7850\n",
            "Epoch 85/150\n",
            "2/2 [==============================] - 0s 31ms/step - loss: 2.4680 - accuracy: 0.8744 - val_loss: 5.2791 - val_accuracy: 0.7850\n",
            "Epoch 86/150\n",
            "2/2 [==============================] - 0s 36ms/step - loss: 2.4347 - accuracy: 0.8875 - val_loss: 5.1172 - val_accuracy: 0.7875\n",
            "Epoch 87/150\n",
            "2/2 [==============================] - 0s 31ms/step - loss: 2.4220 - accuracy: 0.8894 - val_loss: 5.0218 - val_accuracy: 0.7800\n",
            "Epoch 88/150\n",
            "2/2 [==============================] - 0s 31ms/step - loss: 2.4008 - accuracy: 0.8906 - val_loss: 4.8923 - val_accuracy: 0.7800\n",
            "Epoch 89/150\n",
            "2/2 [==============================] - 0s 31ms/step - loss: 2.3672 - accuracy: 0.8975 - val_loss: 4.7635 - val_accuracy: 0.7725\n",
            "Epoch 90/150\n",
            "2/2 [==============================] - 0s 32ms/step - loss: 2.4133 - accuracy: 0.8869 - val_loss: 4.6904 - val_accuracy: 0.7750\n",
            "Epoch 91/150\n",
            "2/2 [==============================] - 0s 32ms/step - loss: 2.3469 - accuracy: 0.8900 - val_loss: 4.6356 - val_accuracy: 0.7750\n",
            "Epoch 92/150\n",
            "2/2 [==============================] - 0s 52ms/step - loss: 2.3513 - accuracy: 0.8931 - val_loss: 4.7138 - val_accuracy: 0.7725\n",
            "Epoch 93/150\n",
            "2/2 [==============================] - 0s 32ms/step - loss: 2.3717 - accuracy: 0.8769 - val_loss: 4.9161 - val_accuracy: 0.7725\n",
            "Epoch 94/150\n",
            "2/2 [==============================] - 0s 32ms/step - loss: 2.3068 - accuracy: 0.8994 - val_loss: 4.9956 - val_accuracy: 0.7675\n",
            "Epoch 95/150\n",
            "2/2 [==============================] - 0s 34ms/step - loss: 2.3615 - accuracy: 0.8737 - val_loss: 5.0791 - val_accuracy: 0.7750\n",
            "Epoch 96/150\n",
            "2/2 [==============================] - 0s 30ms/step - loss: 2.3112 - accuracy: 0.8975 - val_loss: 4.7862 - val_accuracy: 0.7750\n",
            "Epoch 97/150\n",
            "2/2 [==============================] - 0s 31ms/step - loss: 2.2650 - accuracy: 0.8963 - val_loss: 4.6846 - val_accuracy: 0.7825\n",
            "Epoch 98/150\n",
            "2/2 [==============================] - 0s 35ms/step - loss: 2.2880 - accuracy: 0.8925 - val_loss: 4.7319 - val_accuracy: 0.7800\n",
            "Epoch 99/150\n",
            "2/2 [==============================] - 0s 34ms/step - loss: 2.2587 - accuracy: 0.8925 - val_loss: 4.8639 - val_accuracy: 0.7825\n",
            "Epoch 100/150\n",
            "2/2 [==============================] - 0s 32ms/step - loss: 2.2696 - accuracy: 0.8931 - val_loss: 4.7675 - val_accuracy: 0.7825\n",
            "Epoch 101/150\n",
            "2/2 [==============================] - 0s 32ms/step - loss: 2.2407 - accuracy: 0.8963 - val_loss: 4.6726 - val_accuracy: 0.7875\n",
            "Epoch 102/150\n",
            "2/2 [==============================] - 0s 31ms/step - loss: 2.2019 - accuracy: 0.8950 - val_loss: 4.6984 - val_accuracy: 0.7725\n",
            "Epoch 103/150\n",
            "2/2 [==============================] - 0s 32ms/step - loss: 2.2046 - accuracy: 0.8950 - val_loss: 4.6415 - val_accuracy: 0.7850\n",
            "Epoch 104/150\n",
            "2/2 [==============================] - 0s 29ms/step - loss: 2.1993 - accuracy: 0.8981 - val_loss: 4.2668 - val_accuracy: 0.7725\n",
            "Epoch 105/150\n",
            "2/2 [==============================] - 0s 30ms/step - loss: 2.1592 - accuracy: 0.9038 - val_loss: 3.9933 - val_accuracy: 0.7600\n",
            "Epoch 106/150\n",
            "2/2 [==============================] - 0s 32ms/step - loss: 2.1501 - accuracy: 0.8988 - val_loss: 3.6873 - val_accuracy: 0.7725\n",
            "Epoch 107/150\n",
            "2/2 [==============================] - 0s 31ms/step - loss: 2.1465 - accuracy: 0.9056 - val_loss: 3.6712 - val_accuracy: 0.7725\n",
            "Epoch 108/150\n",
            "2/2 [==============================] - 0s 30ms/step - loss: 2.1348 - accuracy: 0.9025 - val_loss: 3.7738 - val_accuracy: 0.7800\n",
            "Epoch 109/150\n",
            "2/2 [==============================] - 0s 30ms/step - loss: 2.1063 - accuracy: 0.9019 - val_loss: 4.0217 - val_accuracy: 0.7850\n",
            "Epoch 110/150\n",
            "2/2 [==============================] - 0s 31ms/step - loss: 2.1807 - accuracy: 0.8950 - val_loss: 3.8598 - val_accuracy: 0.7800\n",
            "Epoch 111/150\n",
            "2/2 [==============================] - 0s 30ms/step - loss: 2.1103 - accuracy: 0.8913 - val_loss: 3.7258 - val_accuracy: 0.7875\n",
            "Epoch 112/150\n",
            "2/2 [==============================] - 0s 33ms/step - loss: 2.1008 - accuracy: 0.8981 - val_loss: 3.5966 - val_accuracy: 0.7875\n",
            "Epoch 113/150\n",
            "2/2 [==============================] - 0s 54ms/step - loss: 2.0662 - accuracy: 0.9013 - val_loss: 3.5361 - val_accuracy: 0.7825\n",
            "Epoch 114/150\n",
            "2/2 [==============================] - 0s 28ms/step - loss: 2.0425 - accuracy: 0.9050 - val_loss: 3.5221 - val_accuracy: 0.7800\n",
            "Epoch 115/150\n",
            "2/2 [==============================] - 0s 31ms/step - loss: 2.0342 - accuracy: 0.9075 - val_loss: 3.5206 - val_accuracy: 0.7825\n",
            "Epoch 116/150\n",
            "2/2 [==============================] - 0s 34ms/step - loss: 2.0486 - accuracy: 0.8956 - val_loss: 3.5489 - val_accuracy: 0.7800\n",
            "Epoch 117/150\n",
            "2/2 [==============================] - 0s 31ms/step - loss: 1.9901 - accuracy: 0.9125 - val_loss: 3.6295 - val_accuracy: 0.7775\n",
            "Epoch 118/150\n",
            "2/2 [==============================] - 0s 32ms/step - loss: 2.0244 - accuracy: 0.9069 - val_loss: 3.9969 - val_accuracy: 0.7775\n",
            "Epoch 119/150\n",
            "2/2 [==============================] - 0s 33ms/step - loss: 2.0031 - accuracy: 0.9087 - val_loss: 4.1984 - val_accuracy: 0.7800\n",
            "Epoch 120/150\n",
            "2/2 [==============================] - 0s 32ms/step - loss: 1.9829 - accuracy: 0.9144 - val_loss: 4.0352 - val_accuracy: 0.7875\n",
            "Epoch 121/150\n",
            "2/2 [==============================] - 0s 31ms/step - loss: 2.0086 - accuracy: 0.9031 - val_loss: 3.8196 - val_accuracy: 0.8000\n",
            "Epoch 122/150\n",
            "2/2 [==============================] - 0s 30ms/step - loss: 1.9458 - accuracy: 0.9200 - val_loss: 3.7244 - val_accuracy: 0.7925\n",
            "Epoch 123/150\n",
            "2/2 [==============================] - 0s 32ms/step - loss: 1.8970 - accuracy: 0.9269 - val_loss: 3.7463 - val_accuracy: 0.7925\n",
            "Epoch 124/150\n",
            "2/2 [==============================] - 0s 34ms/step - loss: 1.9556 - accuracy: 0.9050 - val_loss: 3.6300 - val_accuracy: 0.7950\n",
            "Epoch 125/150\n",
            "2/2 [==============================] - 0s 33ms/step - loss: 1.9001 - accuracy: 0.9219 - val_loss: 3.5945 - val_accuracy: 0.8025\n",
            "Epoch 126/150\n",
            "2/2 [==============================] - 0s 30ms/step - loss: 1.8997 - accuracy: 0.9275 - val_loss: 3.6465 - val_accuracy: 0.8025\n",
            "Epoch 127/150\n",
            "2/2 [==============================] - 0s 33ms/step - loss: 1.9095 - accuracy: 0.9125 - val_loss: 3.6826 - val_accuracy: 0.8050\n",
            "Epoch 128/150\n",
            "2/2 [==============================] - 0s 32ms/step - loss: 1.8980 - accuracy: 0.9106 - val_loss: 3.8485 - val_accuracy: 0.7975\n",
            "Epoch 129/150\n",
            "2/2 [==============================] - 0s 31ms/step - loss: 1.8551 - accuracy: 0.9244 - val_loss: 4.0070 - val_accuracy: 0.8000\n",
            "Epoch 130/150\n",
            "2/2 [==============================] - 0s 36ms/step - loss: 1.8335 - accuracy: 0.9244 - val_loss: 4.2086 - val_accuracy: 0.7925\n",
            "Epoch 131/150\n",
            "2/2 [==============================] - 0s 29ms/step - loss: 1.8723 - accuracy: 0.9181 - val_loss: 3.9306 - val_accuracy: 0.7975\n",
            "Epoch 132/150\n",
            "2/2 [==============================] - 0s 29ms/step - loss: 1.8253 - accuracy: 0.9275 - val_loss: 3.7168 - val_accuracy: 0.7925\n",
            "Epoch 133/150\n",
            "2/2 [==============================] - 0s 36ms/step - loss: 1.8107 - accuracy: 0.9250 - val_loss: 3.5893 - val_accuracy: 0.7975\n",
            "Epoch 134/150\n",
            "2/2 [==============================] - 0s 30ms/step - loss: 1.8207 - accuracy: 0.9244 - val_loss: 3.5919 - val_accuracy: 0.8000\n",
            "Epoch 135/150\n",
            "2/2 [==============================] - 0s 37ms/step - loss: 1.8010 - accuracy: 0.9219 - val_loss: 3.6767 - val_accuracy: 0.7925\n",
            "Epoch 136/150\n",
            "2/2 [==============================] - 0s 33ms/step - loss: 1.7936 - accuracy: 0.9225 - val_loss: 3.6771 - val_accuracy: 0.7825\n",
            "Epoch 137/150\n",
            "2/2 [==============================] - 0s 32ms/step - loss: 1.7706 - accuracy: 0.9231 - val_loss: 3.7332 - val_accuracy: 0.7850\n",
            "Epoch 138/150\n",
            "2/2 [==============================] - 0s 32ms/step - loss: 1.7636 - accuracy: 0.9262 - val_loss: 3.6077 - val_accuracy: 0.7875\n",
            "Epoch 139/150\n",
            "2/2 [==============================] - 0s 29ms/step - loss: 1.7371 - accuracy: 0.9312 - val_loss: 3.6265 - val_accuracy: 0.7825\n",
            "Epoch 140/150\n",
            "2/2 [==============================] - 0s 29ms/step - loss: 1.7769 - accuracy: 0.9131 - val_loss: 3.6547 - val_accuracy: 0.7800\n",
            "Epoch 141/150\n",
            "2/2 [==============================] - 0s 29ms/step - loss: 1.7654 - accuracy: 0.9200 - val_loss: 3.7244 - val_accuracy: 0.7800\n",
            "Epoch 142/150\n",
            "2/2 [==============================] - 0s 30ms/step - loss: 1.7173 - accuracy: 0.9250 - val_loss: 3.7588 - val_accuracy: 0.7900\n",
            "Epoch 143/150\n",
            "2/2 [==============================] - 0s 29ms/step - loss: 1.6876 - accuracy: 0.9300 - val_loss: 3.8711 - val_accuracy: 0.7800\n",
            "Epoch 144/150\n",
            "2/2 [==============================] - 0s 30ms/step - loss: 1.6637 - accuracy: 0.9356 - val_loss: 4.0773 - val_accuracy: 0.7700\n",
            "Epoch 145/150\n",
            "2/2 [==============================] - 0s 30ms/step - loss: 1.6932 - accuracy: 0.9356 - val_loss: 4.1079 - val_accuracy: 0.7775\n",
            "Epoch 146/150\n",
            "2/2 [==============================] - 0s 30ms/step - loss: 1.6917 - accuracy: 0.9244 - val_loss: 3.9902 - val_accuracy: 0.7850\n",
            "Epoch 147/150\n",
            "2/2 [==============================] - 0s 32ms/step - loss: 1.6671 - accuracy: 0.9300 - val_loss: 3.8990 - val_accuracy: 0.7800\n",
            "Epoch 148/150\n",
            "2/2 [==============================] - 0s 31ms/step - loss: 1.6821 - accuracy: 0.9175 - val_loss: 3.8623 - val_accuracy: 0.7875\n",
            "Epoch 149/150\n",
            "2/2 [==============================] - 0s 33ms/step - loss: 1.6312 - accuracy: 0.9381 - val_loss: 3.9742 - val_accuracy: 0.7850\n",
            "Epoch 150/150\n",
            "2/2 [==============================] - 0s 36ms/step - loss: 1.6390 - accuracy: 0.9369 - val_loss: 4.0837 - val_accuracy: 0.7850\n"
          ]
        }
      ]
    },
    {
      "cell_type": "code",
      "metadata": {
        "colab": {
          "base_uri": "https://localhost:8080/",
          "height": 430
        },
        "outputId": "f718a75a-aa69-43d6-ea39-eb4b5319fac4",
        "id": "MPdKWogmnPEi"
      },
      "source": [
        "plt.scatter(np.arange(epochs),h.history['loss'])\n",
        "plt.scatter(np.arange(epochs),h.history['val_loss'],c='r')\n",
        "plt.show()"
      ],
      "execution_count": 542,
      "outputs": [
        {
          "output_type": "display_data",
          "data": {
            "text/plain": [
              "<Figure size 640x480 with 1 Axes>"
            ],
            "image/png": "[encoded data removed]"
          },
          "metadata": {}
        }
      ]
    },
    {
      "cell_type": "code",
      "source": [
        "plt.scatter(np.arange(epochs),h.history['accuracy'])\n",
        "plt.scatter(np.arange(epochs),h.history['val_accuracy'],c='y')\n",
        "plt.show()"
      ],
      "metadata": {
        "colab": {
          "base_uri": "https://localhost:8080/",
          "height": 430
        },
        "outputId": "f98fa92f-7063-4819-cb17-1cc7170400ae",
        "id": "aftt-7GCnPEj"
      },
      "execution_count": 543,
      "outputs": [
        {
          "output_type": "display_data",
          "data": {
            "text/plain": [
              "<Figure size 640x480 with 1 Axes>"
            ],
            "image/png": "[encoded data removed]"
          },
          "metadata": {}
        }
      ]
    },
    {
      "cell_type": "code",
      "metadata": {
        "colab": {
          "base_uri": "https://localhost:8080/"
        },
        "outputId": "99e4274f-53c2-4b34-fa58-2a6b4431943a",
        "id": "JvbYuKGTnPEj"
      },
      "source": [
        "score = model.evaluate(test_images, test_labels, verbose=0)\n",
        "print(\"Test loss:\", score[0])\n",
        "print(\"Test accuracy:\", score[1])"
      ],
      "execution_count": 548,
      "outputs": [
        {
          "output_type": "stream",
          "name": "stdout",
          "text": [
            "Test loss: 3.08088755607605\n",
            "Test accuracy: 0.8336029648780823\n"
          ]
        }
      ]
    },
    {
      "cell_type": "code",
      "metadata": {
        "colab": {
          "base_uri": "https://localhost:8080/",
          "height": 519
        },
        "outputId": "6d83d379-5517-4955-cb13-e58f2535f041",
        "id": "4-yPAvxinPEj"
      },
      "source": [
        "def plot_image(img_index):\n",
        "    label_index = train_labels[img_index]\n",
        "    plt.imshow(train_data[img_index]/255, cmap = 'gray')\n",
        "    print(label_index)\n",
        "\n",
        "img_index = 10\n",
        "plot_image(img_index)\n",
        "\n",
        "picture = train_data[img_index].reshape(-1,784)\n",
        "\n",
        "model.predict(picture)"
      ],
      "execution_count": 547,
      "outputs": [
        {
          "output_type": "stream",
          "name": "stdout",
          "text": [
            "[0. 0. 0. 1. 0. 0. 0. 0. 0. 0.]\n",
            "1/1 [==============================] - 0s 51ms/step\n"
          ]
        },
        {
          "output_type": "execute_result",
          "data": {
            "text/plain": [
              "array([[4.4935628e-06, 1.7050485e-04, 7.6165894e-04, 9.9758494e-01,\n",
              "        1.2921124e-04, 7.4596825e-04, 9.6212352e-06, 1.8934191e-04,\n",
              "        3.1714249e-04, 8.7051973e-05]], dtype=float32)"
            ]
          },
          "metadata": {},
          "execution_count": 547
        },
        {
          "output_type": "display_data",
          "data": {
            "text/plain": [
              "<Figure size 640x480 with 1 Axes>"
            ],
            "image/png": "[encoded data removed]"
          },
          "metadata": {}
        }
      ]
    },
    {
      "cell_type": "code",
      "source": [],
      "metadata": {
        "id": "qjE0IXWXndGe"
      },
      "execution_count": null,
      "outputs": []
    },
    {
      "cell_type": "markdown",
      "source": [
        "#Opis:"
      ],
      "metadata": {
        "id": "rkcnCy8RA_2A"
      }
    },
    {
      "cell_type": "markdown",
      "source": [
        "batch_size = 1024\n",
        "\n",
        "epochs = 150\n",
        "\n",
        "Zbiór treningowy zwiększony z ***60000*** do **68000* (20% to zbiór walidacyjny)\n",
        "\n",
        "opt = keras.optimizers.Adam(learning_rate=0.009)\n",
        "\n",
        "kernel_regularizer=l2(0.01) we wszystkich warstwach\n",
        "\n",
        "model.add(Dropout(0.4))"
      ],
      "metadata": {
        "id": "kXmT2VMUA_2R"
      }
    },
    {
      "cell_type": "code",
      "source": [
        "model.summary()"
      ],
      "metadata": {
        "colab": {
          "base_uri": "https://localhost:8080/"
        },
        "outputId": "3ca65ce0-c5c8-4f74-d537-a0b1f3fb35d7",
        "id": "nkQ6t8fnA_2R"
      },
      "execution_count": 549,
      "outputs": [
        {
          "output_type": "stream",
          "name": "stdout",
          "text": [
            "Model: \"sequential_37\"\n",
            "_________________________________________________________________\n",
            " Layer (type)                Output Shape              Param #   \n",
            "=================================================================\n",
            " dense_84 (Dense)            (None, 128)               100480    \n",
            "                                                                 \n",
            " dropout_30 (Dropout)        (None, 128)               0         \n",
            "                                                                 \n",
            " dense_85 (Dense)            (None, 64)                8256      \n",
            "                                                                 \n",
            " dropout_31 (Dropout)        (None, 64)                0         \n",
            "                                                                 \n",
            " dense_86 (Dense)            (None, 10)                650       \n",
            "                                                                 \n",
            "=================================================================\n",
            "Total params: 109386 (427.29 KB)\n",
            "Trainable params: 109386 (427.29 KB)\n",
            "Non-trainable params: 0 (0.00 Byte)\n",
            "_________________________________________________________________\n"
          ]
        }
      ]
    },
    {
      "cell_type": "markdown",
      "source": [
        "Wnioski i komentarz"
      ],
      "metadata": {
        "id": "HPsjpZOyA_2S"
      }
    },
    {
      "cell_type": "markdown",
      "source": [
        "Model uczy się cały czas, przy czym po 20 epoce dużo wolniej, wykresy błędu (treningowego i walidacyjnego) są podobne przy czym po 20 epoce wykresy spadają wolniej. Dokładność modelu dla danych treningowych i walidacyjnych cały czas rośnie."
      ],
      "metadata": {
        "id": "7IedIMwZA_2S"
      }
    },
    {
      "cell_type": "code",
      "source": [],
      "metadata": {
        "id": "NT3vhbq6BcL5"
      },
      "execution_count": null,
      "outputs": []
    }
  ]
}