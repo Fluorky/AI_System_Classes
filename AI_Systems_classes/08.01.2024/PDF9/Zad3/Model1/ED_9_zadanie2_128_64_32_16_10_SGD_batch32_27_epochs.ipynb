{
  "cells": [
    {
      "cell_type": "markdown",
      "metadata": {
        "id": "MhoQ0WE77laV"
      },
      "source": [
        "##### Copyright 2018 The TensorFlow Authors."
      ]
    },
    {
      "cell_type": "code",
      "execution_count": 33,
      "metadata": {
        "execution": {
          "iopub.execute_input": "2022-12-14T06:37:28.074361Z",
          "iopub.status.busy": "2022-12-14T06:37:28.074144Z",
          "iopub.status.idle": "2022-12-14T06:37:28.077969Z",
          "shell.execute_reply": "2022-12-14T06:37:28.077413Z"
        },
        "id": "_ckMIh7O7s6D"
      },
      "outputs": [],
      "source": [
        "#@title Licensed under the Apache License, Version 2.0 (the \"License\");\n",
        "# you may not use this file except in compliance with the License.\n",
        "# You may obtain a copy of the License at\n",
        "#\n",
        "# https://www.apache.org/licenses/LICENSE-2.0\n",
        "#\n",
        "# Unless required by applicable law or agreed to in writing, software\n",
        "# distributed under the License is distributed on an \"AS IS\" BASIS,\n",
        "# WITHOUT WARRANTIES OR CONDITIONS OF ANY KIND, either express or implied.\n",
        "# See the License for the specific language governing permissions and\n",
        "# limitations under the License."
      ]
    },
    {
      "cell_type": "code",
      "execution_count": 34,
      "metadata": {
        "execution": {
          "iopub.execute_input": "2022-12-14T06:37:28.080950Z",
          "iopub.status.busy": "2022-12-14T06:37:28.080457Z",
          "iopub.status.idle": "2022-12-14T06:37:28.083658Z",
          "shell.execute_reply": "2022-12-14T06:37:28.083079Z"
        },
        "id": "vasWnqRgy1H4"
      },
      "outputs": [],
      "source": [
        "#@title MIT License\n",
        "#\n",
        "# Copyright (c) 2017 François Chollet\n",
        "#\n",
        "# Permission is hereby granted, free of charge, to any person obtaining a\n",
        "# copy of this software and associated documentation files (the \"Software\"),\n",
        "# to deal in the Software without restriction, including without limitation\n",
        "# the rights to use, copy, modify, merge, publish, distribute, sublicense,\n",
        "# and/or sell copies of the Software, and to permit persons to whom the\n",
        "# Software is furnished to do so, subject to the following conditions:\n",
        "#\n",
        "# The above copyright notice and this permission notice shall be included in\n",
        "# all copies or substantial portions of the Software.\n",
        "#\n",
        "# THE SOFTWARE IS PROVIDED \"AS IS\", WITHOUT WARRANTY OF ANY KIND, EXPRESS OR\n",
        "# IMPLIED, INCLUDING BUT NOT LIMITED TO THE WARRANTIES OF MERCHANTABILITY,\n",
        "# FITNESS FOR A PARTICULAR PURPOSE AND NONINFRINGEMENT. IN NO EVENT SHALL\n",
        "# THE AUTHORS OR COPYRIGHT HOLDERS BE LIABLE FOR ANY CLAIM, DAMAGES OR OTHER\n",
        "# LIABILITY, WHETHER IN AN ACTION OF CONTRACT, TORT OR OTHERWISE, ARISING\n",
        "# FROM, OUT OF OR IN CONNECTION WITH THE SOFTWARE OR THE USE OR OTHER\n",
        "# DEALINGS IN THE SOFTWARE."
      ]
    },
    {
      "cell_type": "markdown",
      "metadata": {
        "id": "jYysdyb-CaWM"
      },
      "source": [
        "# Basic classification: Classify images of clothing"
      ]
    },
    {
      "cell_type": "markdown",
      "metadata": {
        "id": "S5Uhzt6vVIB2"
      },
      "source": [
        "<table class=\"tfo-notebook-buttons\" align=\"left\">\n",
        "  <td>\n",
        "    <a target=\"_blank\" href=\"https://www.tensorflow.org/tutorials/keras/classification\"><img src=\"https://www.tensorflow.org/images/tf_logo_32px.png\" />View on TensorFlow.org</a>\n",
        "  </td>\n",
        "  <td>\n",
        "    <a target=\"_blank\" href=\"https://colab.research.google.com/github/tensorflow/docs/blob/master/site/en/tutorials/keras/classification.ipynb\"><img src=\"https://www.tensorflow.org/images/colab_logo_32px.png\" />Run in Google Colab</a>\n",
        "  </td>\n",
        "  <td>\n",
        "    <a target=\"_blank\" href=\"https://github.com/tensorflow/docs/blob/master/site/en/tutorials/keras/classification.ipynb\"><img src=\"https://www.tensorflow.org/images/GitHub-Mark-32px.png\" />View source on GitHub</a>\n",
        "  </td>\n",
        "  <td>\n",
        "    <a href=\"https://storage.googleapis.com/tensorflow_docs/docs/site/en/tutorials/keras/classification.ipynb\"><img src=\"https://www.tensorflow.org/images/download_logo_32px.png\" />Download notebook</a>\n",
        "  </td>\n",
        "</table>"
      ]
    },
    {
      "cell_type": "markdown",
      "metadata": {
        "id": "FbVhjPpzn6BM"
      },
      "source": [
        "This guide trains a neural network model to classify images of clothing, like sneakers and shirts. It's okay if you don't understand all the details; this is a fast-paced overview of a complete TensorFlow program with the details explained as you go.\n",
        "\n",
        "This guide uses [tf.keras](https://www.tensorflow.org/guide/keras), a high-level API to build and train models in TensorFlow."
      ]
    },
    {
      "cell_type": "code",
      "execution_count": 35,
      "metadata": {
        "execution": {
          "iopub.execute_input": "2022-12-14T06:37:28.087024Z",
          "iopub.status.busy": "2022-12-14T06:37:28.086437Z",
          "iopub.status.idle": "2022-12-14T06:37:30.420566Z",
          "shell.execute_reply": "2022-12-14T06:37:30.419668Z"
        },
        "id": "dzLKpmZICaWN",
        "colab": {
          "base_uri": "https://localhost:8080/"
        },
        "outputId": "71952c1e-9bc5-488d-fd05-46d209d30863"
      },
      "outputs": [
        {
          "output_type": "stream",
          "name": "stdout",
          "text": [
            "2.9.2\n"
          ]
        }
      ],
      "source": [
        "# TensorFlow and tf.keras\n",
        "import tensorflow as tf\n",
        "\n",
        "# Helper libraries\n",
        "import numpy as np\n",
        "import matplotlib.pyplot as plt\n",
        "\n",
        "print(tf.__version__)"
      ]
    },
    {
      "cell_type": "markdown",
      "metadata": {
        "id": "yR0EdgrLCaWR"
      },
      "source": [
        "## Import the Fashion MNIST dataset"
      ]
    },
    {
      "cell_type": "markdown",
      "metadata": {
        "id": "DLdCchMdCaWQ"
      },
      "source": [
        "This guide uses the [Fashion MNIST](https://github.com/zalandoresearch/fashion-mnist) dataset which contains 70,000 grayscale images in 10 categories. The images show individual articles of clothing at low resolution (28 by 28 pixels), as seen here:\n",
        "\n",
        "<table>\n",
        "  <tr><td>\n",
        "    <img src=\"https://tensorflow.org/images/fashion-mnist-sprite.png\"\n",
        "         alt=\"Fashion MNIST sprite\"  width=\"600\">\n",
        "  </td></tr>\n",
        "  <tr><td align=\"center\">\n",
        "    <b>Figure 1.</b> <a href=\"https://github.com/zalandoresearch/fashion-mnist\">Fashion-MNIST samples</a> (by Zalando, MIT License).<br/>&nbsp;\n",
        "  </td></tr>\n",
        "</table>\n",
        "\n",
        "Fashion MNIST is intended as a drop-in replacement for the classic [MNIST](http://yann.lecun.com/exdb/mnist/) dataset—often used as the \"Hello, World\" of machine learning programs for computer vision. The MNIST dataset contains images of handwritten digits (0, 1, 2, etc.) in a format identical to that of the articles of clothing you'll use here.\n",
        "\n",
        "This guide uses Fashion MNIST for variety, and because it's a slightly more challenging problem than regular MNIST. Both datasets are relatively small and are used to verify that an algorithm works as expected. They're good starting points to test and debug code.\n",
        "\n",
        "Here, 60,000 images are used to train the network and 10,000 images to evaluate how accurately the network learned to classify images. You can access the Fashion MNIST directly from TensorFlow. Import and [load the Fashion MNIST data](https://www.tensorflow.org/api_docs/python/tf/keras/datasets/fashion_mnist/load_data) directly from TensorFlow:"
      ]
    },
    {
      "cell_type": "code",
      "execution_count": 36,
      "metadata": {
        "execution": {
          "iopub.execute_input": "2022-12-14T06:37:30.424726Z",
          "iopub.status.busy": "2022-12-14T06:37:30.423977Z",
          "iopub.status.idle": "2022-12-14T06:37:30.823454Z",
          "shell.execute_reply": "2022-12-14T06:37:30.822553Z"
        },
        "id": "7MqDQO0KCaWS"
      },
      "outputs": [],
      "source": [
        "fashion_mnist = tf.keras.datasets.fashion_mnist\n",
        "\n",
        "(train_images, train_labels), (test_images, test_labels) = fashion_mnist.load_data()"
      ]
    },
    {
      "cell_type": "markdown",
      "metadata": {
        "id": "t9FDsUlxCaWW"
      },
      "source": [
        "Loading the dataset returns four NumPy arrays:\n",
        "\n",
        "* The `train_images` and `train_labels` arrays are the *training set*—the data the model uses to learn.\n",
        "* The model is tested against the *test set*, the `test_images`, and `test_labels` arrays.\n",
        "\n",
        "The images are 28x28 NumPy arrays, with pixel values ranging from 0 to 255. The *labels* are an array of integers, ranging from 0 to 9. These correspond to the *class* of clothing the image represents:\n",
        "\n",
        "<table>\n",
        "  <tr>\n",
        "    <th>Label</th>\n",
        "    <th>Class</th>\n",
        "  </tr>\n",
        "  <tr>\n",
        "    <td>0</td>\n",
        "    <td>T-shirt/top</td>\n",
        "  </tr>\n",
        "  <tr>\n",
        "    <td>1</td>\n",
        "    <td>Trouser</td>\n",
        "  </tr>\n",
        "    <tr>\n",
        "    <td>2</td>\n",
        "    <td>Pullover</td>\n",
        "  </tr>\n",
        "    <tr>\n",
        "    <td>3</td>\n",
        "    <td>Dress</td>\n",
        "  </tr>\n",
        "    <tr>\n",
        "    <td>4</td>\n",
        "    <td>Coat</td>\n",
        "  </tr>\n",
        "    <tr>\n",
        "    <td>5</td>\n",
        "    <td>Sandal</td>\n",
        "  </tr>\n",
        "    <tr>\n",
        "    <td>6</td>\n",
        "    <td>Shirt</td>\n",
        "  </tr>\n",
        "    <tr>\n",
        "    <td>7</td>\n",
        "    <td>Sneaker</td>\n",
        "  </tr>\n",
        "    <tr>\n",
        "    <td>8</td>\n",
        "    <td>Bag</td>\n",
        "  </tr>\n",
        "    <tr>\n",
        "    <td>9</td>\n",
        "    <td>Ankle boot</td>\n",
        "  </tr>\n",
        "</table>\n",
        "\n",
        "Each image is mapped to a single label. Since the *class names* are not included with the dataset, store them here to use later when plotting the images:"
      ]
    },
    {
      "cell_type": "code",
      "execution_count": 37,
      "metadata": {
        "execution": {
          "iopub.execute_input": "2022-12-14T06:37:30.827771Z",
          "iopub.status.busy": "2022-12-14T06:37:30.827133Z",
          "iopub.status.idle": "2022-12-14T06:37:30.830995Z",
          "shell.execute_reply": "2022-12-14T06:37:30.830101Z"
        },
        "id": "IjnLH5S2CaWx"
      },
      "outputs": [],
      "source": [
        "class_names = ['T-shirt/top', 'Trouser', 'Pullover', 'Dress', 'Coat',\n",
        "               'Sandal', 'Shirt', 'Sneaker', 'Bag', 'Ankle boot']"
      ]
    },
    {
      "cell_type": "markdown",
      "metadata": {
        "id": "Brm0b_KACaWX"
      },
      "source": [
        "## Explore the data\n",
        "\n",
        "Let's explore the format of the dataset before training the model. The following shows there are 60,000 images in the training set, with each image represented as 28 x 28 pixels:"
      ]
    },
    {
      "cell_type": "code",
      "execution_count": 38,
      "metadata": {
        "execution": {
          "iopub.execute_input": "2022-12-14T06:37:30.834778Z",
          "iopub.status.busy": "2022-12-14T06:37:30.834026Z",
          "iopub.status.idle": "2022-12-14T06:37:30.840422Z",
          "shell.execute_reply": "2022-12-14T06:37:30.839670Z"
        },
        "id": "zW5k_xz1CaWX",
        "colab": {
          "base_uri": "https://localhost:8080/"
        },
        "outputId": "2cdd2486-8865-44b8-99c7-32803418411f"
      },
      "outputs": [
        {
          "output_type": "execute_result",
          "data": {
            "text/plain": [
              "(60000, 28, 28)"
            ]
          },
          "metadata": {},
          "execution_count": 38
        }
      ],
      "source": [
        "train_images.shape"
      ]
    },
    {
      "cell_type": "markdown",
      "metadata": {
        "id": "cIAcvQqMCaWf"
      },
      "source": [
        "Likewise, there are 60,000 labels in the training set:"
      ]
    },
    {
      "cell_type": "code",
      "execution_count": 39,
      "metadata": {
        "execution": {
          "iopub.execute_input": "2022-12-14T06:37:30.844731Z",
          "iopub.status.busy": "2022-12-14T06:37:30.844100Z",
          "iopub.status.idle": "2022-12-14T06:37:30.848750Z",
          "shell.execute_reply": "2022-12-14T06:37:30.847931Z"
        },
        "id": "TRFYHB2mCaWb",
        "colab": {
          "base_uri": "https://localhost:8080/"
        },
        "outputId": "4aab7ff9-17f0-4ed9-c9fb-15598b925bdb"
      },
      "outputs": [
        {
          "output_type": "execute_result",
          "data": {
            "text/plain": [
              "60000"
            ]
          },
          "metadata": {},
          "execution_count": 39
        }
      ],
      "source": [
        "len(train_labels)"
      ]
    },
    {
      "cell_type": "markdown",
      "metadata": {
        "id": "YSlYxFuRCaWk"
      },
      "source": [
        "Each label is an integer between 0 and 9:"
      ]
    },
    {
      "cell_type": "code",
      "execution_count": 40,
      "metadata": {
        "execution": {
          "iopub.execute_input": "2022-12-14T06:37:30.852198Z",
          "iopub.status.busy": "2022-12-14T06:37:30.851618Z",
          "iopub.status.idle": "2022-12-14T06:37:30.856468Z",
          "shell.execute_reply": "2022-12-14T06:37:30.855714Z"
        },
        "id": "XKnCTHz4CaWg",
        "colab": {
          "base_uri": "https://localhost:8080/"
        },
        "outputId": "4fb71a14-6457-49f2-e7c0-f45476b186ed"
      },
      "outputs": [
        {
          "output_type": "execute_result",
          "data": {
            "text/plain": [
              "array([9, 0, 0, ..., 3, 0, 5], dtype=uint8)"
            ]
          },
          "metadata": {},
          "execution_count": 40
        }
      ],
      "source": [
        "train_labels"
      ]
    },
    {
      "cell_type": "markdown",
      "metadata": {
        "id": "TMPI88iZpO2T"
      },
      "source": [
        "There are 10,000 images in the test set. Again, each image is represented as 28 x 28 pixels:"
      ]
    },
    {
      "cell_type": "code",
      "execution_count": 41,
      "metadata": {
        "execution": {
          "iopub.execute_input": "2022-12-14T06:37:30.859952Z",
          "iopub.status.busy": "2022-12-14T06:37:30.859374Z",
          "iopub.status.idle": "2022-12-14T06:37:30.863840Z",
          "shell.execute_reply": "2022-12-14T06:37:30.863002Z"
        },
        "id": "2KFnYlcwCaWl",
        "colab": {
          "base_uri": "https://localhost:8080/"
        },
        "outputId": "c2c52603-dccc-41b1-a838-cad406ad6021"
      },
      "outputs": [
        {
          "output_type": "execute_result",
          "data": {
            "text/plain": [
              "(10000, 28, 28)"
            ]
          },
          "metadata": {},
          "execution_count": 41
        }
      ],
      "source": [
        "test_images.shape"
      ]
    },
    {
      "cell_type": "markdown",
      "metadata": {
        "id": "rd0A0Iu0CaWq"
      },
      "source": [
        "And the test set contains 10,000 images labels:"
      ]
    },
    {
      "cell_type": "code",
      "execution_count": 42,
      "metadata": {
        "execution": {
          "iopub.execute_input": "2022-12-14T06:37:30.867338Z",
          "iopub.status.busy": "2022-12-14T06:37:30.866756Z",
          "iopub.status.idle": "2022-12-14T06:37:30.871062Z",
          "shell.execute_reply": "2022-12-14T06:37:30.870277Z"
        },
        "id": "iJmPr5-ACaWn",
        "colab": {
          "base_uri": "https://localhost:8080/"
        },
        "outputId": "ecdb7725-bf6b-4b51-cee7-b19c40cb440f"
      },
      "outputs": [
        {
          "output_type": "execute_result",
          "data": {
            "text/plain": [
              "10000"
            ]
          },
          "metadata": {},
          "execution_count": 42
        }
      ],
      "source": [
        "len(test_labels)"
      ]
    },
    {
      "cell_type": "markdown",
      "metadata": {
        "id": "ES6uQoLKCaWr"
      },
      "source": [
        "## Preprocess the data\n",
        "\n",
        "The data must be preprocessed before training the network. If you inspect the first image in the training set, you will see that the pixel values fall in the range of 0 to 255:"
      ]
    },
    {
      "cell_type": "code",
      "execution_count": 43,
      "metadata": {
        "execution": {
          "iopub.execute_input": "2022-12-14T06:37:30.874481Z",
          "iopub.status.busy": "2022-12-14T06:37:30.873835Z",
          "iopub.status.idle": "2022-12-14T06:37:31.035831Z",
          "shell.execute_reply": "2022-12-14T06:37:31.035056Z"
        },
        "id": "m4VEw8Ud9Quh",
        "colab": {
          "base_uri": "https://localhost:8080/",
          "height": 265
        },
        "outputId": "9bcca706-3f4a-4852-e2e5-c22c06c523b7"
      },
      "outputs": [
        {
          "output_type": "display_data",
          "data": {
            "text/plain": [
              "<Figure size 432x288 with 2 Axes>"
            ],
            "image/png": "[encoded data removed]"
          },
          "metadata": {
            "needs_background": "light"
          }
        }
      ],
      "source": [
        "plt.figure()\n",
        "plt.imshow(train_images[0])\n",
        "plt.colorbar()\n",
        "plt.grid(False)\n",
        "plt.show()"
      ]
    },
    {
      "cell_type": "markdown",
      "metadata": {
        "id": "Wz7l27Lz9S1P"
      },
      "source": [
        "Scale these values to a range of 0 to 1 before feeding them to the neural network model. To do so, divide the values by 255. It's important that the *training set* and the *testing set* be preprocessed in the same way:"
      ]
    },
    {
      "cell_type": "code",
      "execution_count": 44,
      "metadata": {
        "execution": {
          "iopub.execute_input": "2022-12-14T06:37:31.039688Z",
          "iopub.status.busy": "2022-12-14T06:37:31.039049Z",
          "iopub.status.idle": "2022-12-14T06:37:31.212723Z",
          "shell.execute_reply": "2022-12-14T06:37:31.211984Z"
        },
        "id": "bW5WzIPlCaWv"
      },
      "outputs": [],
      "source": [
        "train_images = train_images / 255.0\n",
        "\n",
        "test_images = test_images / 255.0"
      ]
    },
    {
      "cell_type": "markdown",
      "metadata": {
        "id": "Ee638AlnCaWz"
      },
      "source": [
        "To verify that the data is in the correct format and that you're ready to build and train the network, let's display the first 25 images from the *training set* and display the class name below each image."
      ]
    },
    {
      "cell_type": "code",
      "execution_count": 45,
      "metadata": {
        "execution": {
          "iopub.execute_input": "2022-12-14T06:37:31.216892Z",
          "iopub.status.busy": "2022-12-14T06:37:31.216617Z",
          "iopub.status.idle": "2022-12-14T06:37:31.906287Z",
          "shell.execute_reply": "2022-12-14T06:37:31.905372Z"
        },
        "id": "oZTImqg_CaW1",
        "colab": {
          "base_uri": "https://localhost:8080/",
          "height": 589
        },
        "outputId": "dd8766b7-3faf-4185-a377-0802cf9d3cbb"
      },
      "outputs": [
        {
          "output_type": "display_data",
          "data": {
            "text/plain": [
              "<Figure size 720x720 with 25 Axes>"
            ],
            "image/png": "[encoded data removed]"
          },
          "metadata": {}
        }
      ],
      "source": [
        "plt.figure(figsize=(10,10))\n",
        "for i in range(25):\n",
        "    plt.subplot(5,5,i+1)\n",
        "    plt.xticks([])\n",
        "    plt.yticks([])\n",
        "    plt.grid(False)\n",
        "    plt.imshow(train_images[i], cmap=plt.cm.binary)\n",
        "    plt.xlabel(class_names[train_labels[i]])\n",
        "plt.show()"
      ]
    },
    {
      "cell_type": "markdown",
      "metadata": {
        "id": "59veuiEZCaW4"
      },
      "source": [
        "## Build the model\n",
        "\n",
        "Building the neural network requires configuring the layers of the model, then compiling the model."
      ]
    },
    {
      "cell_type": "markdown",
      "metadata": {
        "id": "Gxg1XGm0eOBy"
      },
      "source": [
        "### Set up the layers\n",
        "\n",
        "The basic building block of a neural network is the [*layer*](https://www.tensorflow.org/api_docs/python/tf/keras/layers). Layers extract representations from the data fed into them. Hopefully, these representations are meaningful for the problem at hand.\n",
        "\n",
        "Most of deep learning consists of chaining together simple layers. Most layers, such as `tf.keras.layers.Dense`, have parameters that are learned during training."
      ]
    },
    {
      "cell_type": "code",
      "execution_count": 46,
      "metadata": {
        "execution": {
          "iopub.execute_input": "2022-12-14T06:37:31.910794Z",
          "iopub.status.busy": "2022-12-14T06:37:31.910145Z",
          "iopub.status.idle": "2022-12-14T06:37:35.441973Z",
          "shell.execute_reply": "2022-12-14T06:37:35.441176Z"
        },
        "id": "9ODch-OFCaW4"
      },
      "outputs": [],
      "source": [
        "model = tf.keras.Sequential([\n",
        "    tf.keras.layers.Flatten(input_shape=(28, 28)),\n",
        "    tf.keras.layers.Dense(128, activation='relu'),\n",
        "    tf.keras.layers.Dense(64, activation='relu'),\n",
        "    #tf.keras.layers.Dropout(0.2),\n",
        "    tf.keras.layers.Dense(32),\n",
        "    tf.keras.layers.Dense(16),\n",
        "    tf.keras.layers.Dense(10)\n",
        "])"
      ]
    },
    {
      "cell_type": "markdown",
      "metadata": {
        "id": "gut8A_7rCaW6"
      },
      "source": [
        "The first layer in this network, `tf.keras.layers.Flatten`, transforms the format of the images from a two-dimensional array (of 28 by 28 pixels) to a one-dimensional array (of 28 * 28 = 784 pixels). Think of this layer as unstacking rows of pixels in the image and lining them up. This layer has no parameters to learn; it only reformats the data.\n",
        "\n",
        "After the pixels are flattened, the network consists of a sequence of two `tf.keras.layers.Dense` layers. These are densely connected, or fully connected, neural layers. The first `Dense` layer has 128 nodes (or neurons). The second (and last) layer returns a logits array with length of 10. Each node contains a score that indicates the current image belongs to one of the 10 classes.\n",
        "\n",
        "### Compile the model\n",
        "\n",
        "Before the model is ready for training, it needs a few more settings. These are added during the model's [*compile*](https://www.tensorflow.org/api_docs/python/tf/keras/Model#compile) step:\n",
        "\n",
        "* [*Loss function*](https://www.tensorflow.org/api_docs/python/tf/keras/losses) —This measures how accurate the model is during training. You want to minimize this function to \"steer\" the model in the right direction.\n",
        "* [*Optimizer*](https://www.tensorflow.org/api_docs/python/tf/keras/optimizers) —This is how the model is updated based on the data it sees and its loss function.\n",
        "* [*Metrics*](https://www.tensorflow.org/api_docs/python/tf/keras/metrics) —Used to monitor the training and testing steps. The following example uses *accuracy*, the fraction of the images that are correctly classified."
      ]
    },
    {
      "cell_type": "code",
      "execution_count": 47,
      "metadata": {
        "execution": {
          "iopub.execute_input": "2022-12-14T06:37:35.446051Z",
          "iopub.status.busy": "2022-12-14T06:37:35.445790Z",
          "iopub.status.idle": "2022-12-14T06:37:35.459162Z",
          "shell.execute_reply": "2022-12-14T06:37:35.458566Z"
        },
        "id": "Lhan11blCaW7"
      },
      "outputs": [],
      "source": [
        "#opt=tf.keras.optimizers.Adam(learning_rate=0.0007)\n",
        "opt=tf.keras.optimizers.SGD()\n",
        "model.compile(optimizer=opt,loss=tf.keras.losses.SparseCategoricalCrossentropy(from_logits=True),metrics=['accuracy'])"
      ]
    },
    {
      "cell_type": "markdown",
      "metadata": {
        "id": "qKF6uW-BCaW-"
      },
      "source": [
        "## Train the model\n",
        "\n",
        "Training the neural network model requires the following steps:\n",
        "\n",
        "1. Feed the training data to the model. In this example, the training data is in the `train_images` and `train_labels` arrays.\n",
        "2. The model learns to associate images and labels.\n",
        "3. You ask the model to make predictions about a test set—in this example, the `test_images` array.\n",
        "4. Verify that the predictions match the labels from the `test_labels` array.\n"
      ]
    },
    {
      "cell_type": "markdown",
      "metadata": {
        "id": "Z4P4zIV7E28Z"
      },
      "source": [
        "### Feed the model\n",
        "\n",
        "To start training,  call the [`model.fit`](https://www.tensorflow.org/api_docs/python/tf/keras/Model#fit) method—so called because it \"fits\" the model to the training data:"
      ]
    },
    {
      "cell_type": "code",
      "execution_count": 48,
      "metadata": {
        "execution": {
          "iopub.execute_input": "2022-12-14T06:37:35.462907Z",
          "iopub.status.busy": "2022-12-14T06:37:35.462237Z",
          "iopub.status.idle": "2022-12-14T06:38:15.225559Z",
          "shell.execute_reply": "2022-12-14T06:38:15.224722Z"
        },
        "id": "xvwvpA64CaW_",
        "colab": {
          "base_uri": "https://localhost:8080/"
        },
        "outputId": "f34c1b00-0841-4796-8581-cfe40b13df51"
      },
      "outputs": [
        {
          "output_type": "stream",
          "name": "stdout",
          "text": [
            "Epoch 1/27\n",
            "1500/1500 [==============================] - 7s 4ms/step - loss: 0.7595 - accuracy: 0.7371 - val_loss: 0.5288 - val_accuracy: 0.8126\n",
            "Epoch 2/27\n",
            "1500/1500 [==============================] - 5s 4ms/step - loss: 0.4944 - accuracy: 0.8243 - val_loss: 0.4694 - val_accuracy: 0.8373\n",
            "Epoch 3/27\n",
            "1500/1500 [==============================] - 5s 4ms/step - loss: 0.4439 - accuracy: 0.8422 - val_loss: 0.4375 - val_accuracy: 0.8449\n",
            "Epoch 4/27\n",
            "1500/1500 [==============================] - 6s 4ms/step - loss: 0.4118 - accuracy: 0.8547 - val_loss: 0.4156 - val_accuracy: 0.8554\n",
            "Epoch 5/27\n",
            "1500/1500 [==============================] - 6s 4ms/step - loss: 0.3884 - accuracy: 0.8614 - val_loss: 0.3961 - val_accuracy: 0.8619\n",
            "Epoch 6/27\n",
            "1500/1500 [==============================] - 6s 4ms/step - loss: 0.3706 - accuracy: 0.8685 - val_loss: 0.3860 - val_accuracy: 0.8634\n",
            "Epoch 7/27\n",
            "1500/1500 [==============================] - 5s 4ms/step - loss: 0.3564 - accuracy: 0.8715 - val_loss: 0.3648 - val_accuracy: 0.8717\n",
            "Epoch 8/27\n",
            "1500/1500 [==============================] - 5s 4ms/step - loss: 0.3423 - accuracy: 0.8761 - val_loss: 0.3925 - val_accuracy: 0.8600\n",
            "Epoch 9/27\n",
            "1500/1500 [==============================] - 6s 4ms/step - loss: 0.3326 - accuracy: 0.8802 - val_loss: 0.3607 - val_accuracy: 0.8755\n",
            "Epoch 10/27\n",
            "1500/1500 [==============================] - 5s 4ms/step - loss: 0.3203 - accuracy: 0.8834 - val_loss: 0.3628 - val_accuracy: 0.8704\n",
            "Epoch 11/27\n",
            "1500/1500 [==============================] - 6s 4ms/step - loss: 0.3115 - accuracy: 0.8870 - val_loss: 0.3542 - val_accuracy: 0.8750\n",
            "Epoch 12/27\n",
            "1500/1500 [==============================] - 7s 5ms/step - loss: 0.3022 - accuracy: 0.8896 - val_loss: 0.3440 - val_accuracy: 0.8777\n",
            "Epoch 13/27\n",
            "1500/1500 [==============================] - 6s 4ms/step - loss: 0.2965 - accuracy: 0.8896 - val_loss: 0.3433 - val_accuracy: 0.8783\n",
            "Epoch 14/27\n",
            "1500/1500 [==============================] - 6s 4ms/step - loss: 0.2874 - accuracy: 0.8941 - val_loss: 0.3347 - val_accuracy: 0.8836\n",
            "Epoch 15/27\n",
            "1500/1500 [==============================] - 6s 4ms/step - loss: 0.2819 - accuracy: 0.8959 - val_loss: 0.3528 - val_accuracy: 0.8752\n",
            "Epoch 16/27\n",
            "1500/1500 [==============================] - 5s 4ms/step - loss: 0.2745 - accuracy: 0.8983 - val_loss: 0.3447 - val_accuracy: 0.8788\n",
            "Epoch 17/27\n",
            "1500/1500 [==============================] - 6s 4ms/step - loss: 0.2680 - accuracy: 0.9008 - val_loss: 0.3254 - val_accuracy: 0.8843\n",
            "Epoch 18/27\n",
            "1500/1500 [==============================] - 5s 4ms/step - loss: 0.2615 - accuracy: 0.9041 - val_loss: 0.3308 - val_accuracy: 0.8838\n",
            "Epoch 19/27\n",
            "1500/1500 [==============================] - 5s 4ms/step - loss: 0.2555 - accuracy: 0.9049 - val_loss: 0.3298 - val_accuracy: 0.8836\n",
            "Epoch 20/27\n",
            "1500/1500 [==============================] - 6s 4ms/step - loss: 0.2509 - accuracy: 0.9069 - val_loss: 0.3295 - val_accuracy: 0.8845\n",
            "Epoch 21/27\n",
            "1500/1500 [==============================] - 5s 4ms/step - loss: 0.2465 - accuracy: 0.9076 - val_loss: 0.3248 - val_accuracy: 0.8887\n",
            "Epoch 22/27\n",
            "1500/1500 [==============================] - 5s 4ms/step - loss: 0.2415 - accuracy: 0.9104 - val_loss: 0.3359 - val_accuracy: 0.8855\n",
            "Epoch 23/27\n",
            "1500/1500 [==============================] - 5s 4ms/step - loss: 0.2368 - accuracy: 0.9126 - val_loss: 0.3354 - val_accuracy: 0.8823\n",
            "Epoch 24/27\n",
            "1500/1500 [==============================] - 6s 4ms/step - loss: 0.2333 - accuracy: 0.9135 - val_loss: 0.3244 - val_accuracy: 0.8863\n",
            "Epoch 25/27\n",
            "1500/1500 [==============================] - 5s 4ms/step - loss: 0.2280 - accuracy: 0.9153 - val_loss: 0.3335 - val_accuracy: 0.8867\n",
            "Epoch 26/27\n",
            "1500/1500 [==============================] - 6s 4ms/step - loss: 0.2228 - accuracy: 0.9173 - val_loss: 0.3333 - val_accuracy: 0.8867\n",
            "Epoch 27/27\n",
            "1500/1500 [==============================] - 6s 4ms/step - loss: 0.2195 - accuracy: 0.9185 - val_loss: 0.3437 - val_accuracy: 0.8824\n"
          ]
        }
      ],
      "source": [
        "h= model.fit(train_images, train_labels, epochs=27, validation_split=0.2, batch_size=32)"
      ]
    },
    {
      "cell_type": "markdown",
      "metadata": {
        "id": "W3ZVOhugCaXA"
      },
      "source": [
        "As the model trains, the loss and accuracy metrics are displayed. This model reaches an accuracy of about 0.91 (or 91%) on the training data."
      ]
    },
    {
      "cell_type": "code",
      "source": [
        "plt.plot(h.history['loss'], label='train', color='brown')\n",
        "plt.plot(h.history['val_loss'], label='Gtest', color='blue')\n",
        "plt.legend()\n",
        "plt.show()"
      ],
      "metadata": {
        "colab": {
          "base_uri": "https://localhost:8080/",
          "height": 265
        },
        "id": "xTI8Bb1-Hsy5",
        "outputId": "16851d06-4734-46cc-8eb0-000d1536645a"
      },
      "execution_count": 49,
      "outputs": [
        {
          "output_type": "display_data",
          "data": {
            "text/plain": [
              "<Figure size 432x288 with 1 Axes>"
            ],
            "image/png": "[encoded data removed]"
          },
          "metadata": {
            "needs_background": "light"
          }
        }
      ]
    },
    {
      "cell_type": "markdown",
      "metadata": {
        "id": "wCpr6DGyE28h"
      },
      "source": [
        "### Evaluate accuracy\n",
        "\n",
        "Next, compare how the model performs on the test dataset:"
      ]
    },
    {
      "cell_type": "code",
      "execution_count": 50,
      "metadata": {
        "execution": {
          "iopub.execute_input": "2022-12-14T06:38:15.229593Z",
          "iopub.status.busy": "2022-12-14T06:38:15.228930Z",
          "iopub.status.idle": "2022-12-14T06:38:15.954035Z",
          "shell.execute_reply": "2022-12-14T06:38:15.953065Z"
        },
        "id": "VflXLEeECaXC",
        "colab": {
          "base_uri": "https://localhost:8080/"
        },
        "outputId": "e1659c92-4a88-4f13-e05e-14042b0d9065"
      },
      "outputs": [
        {
          "output_type": "stream",
          "name": "stdout",
          "text": [
            "313/313 - 1s - loss: 0.3586 - accuracy: 0.8769 - 693ms/epoch - 2ms/step\n",
            "\n",
            "Test accuracy: 0.8769000172615051\n"
          ]
        }
      ],
      "source": [
        "test_loss, test_acc = model.evaluate(test_images,  test_labels, verbose=2)\n",
        "\n",
        "print('\\nTest accuracy:', test_acc)"
      ]
    },
    {
      "cell_type": "markdown",
      "metadata": {
        "id": "yWfgsmVXCaXG"
      },
      "source": [
        "It turns out that the accuracy on the test dataset is a little less than the accuracy on the training dataset. This gap between training accuracy and test accuracy represents *overfitting*. Overfitting happens when a machine learning model performs worse on new, previously unseen inputs than it does on the training data. An overfitted model \"memorizes\" the noise and details in the training dataset to a point where it negatively impacts the performance of the model on the new data. For more information, see the following:\n",
        "*   [Demonstrate overfitting](https://www.tensorflow.org/tutorials/keras/overfit_and_underfit#demonstrate_overfitting)\n",
        "*   [Strategies to prevent overfitting](https://www.tensorflow.org/tutorials/keras/overfit_and_underfit#strategies_to_prevent_overfitting)"
      ]
    },
    {
      "cell_type": "markdown",
      "metadata": {
        "id": "v-PyD1SYE28q"
      },
      "source": [
        "### Make predictions\n",
        "\n",
        "With the model trained, you can use it to make predictions about some images.\n",
        "Attach a softmax layer to convert the model's linear outputs—[logits](https://developers.google.com/machine-learning/glossary#logits)—to probabilities, which should be easier to interpret."
      ]
    },
    {
      "cell_type": "code",
      "execution_count": 51,
      "metadata": {
        "execution": {
          "iopub.execute_input": "2022-12-14T06:38:15.957507Z",
          "iopub.status.busy": "2022-12-14T06:38:15.957221Z",
          "iopub.status.idle": "2022-12-14T06:38:15.977916Z",
          "shell.execute_reply": "2022-12-14T06:38:15.977193Z"
        },
        "id": "DnfNA0CrQLSD"
      },
      "outputs": [],
      "source": [
        "probability_model = tf.keras.Sequential([model, \n",
        "                                         tf.keras.layers.Softmax()])"
      ]
    },
    {
      "cell_type": "code",
      "execution_count": 52,
      "metadata": {
        "execution": {
          "iopub.execute_input": "2022-12-14T06:38:15.981531Z",
          "iopub.status.busy": "2022-12-14T06:38:15.980902Z",
          "iopub.status.idle": "2022-12-14T06:38:16.668476Z",
          "shell.execute_reply": "2022-12-14T06:38:16.667673Z"
        },
        "id": "Gl91RPhdCaXI",
        "colab": {
          "base_uri": "https://localhost:8080/"
        },
        "outputId": "8ff0f554-f227-4c08-b794-6130ea73f77e"
      },
      "outputs": [
        {
          "output_type": "stream",
          "name": "stdout",
          "text": [
            "313/313 [==============================] - 1s 2ms/step\n"
          ]
        }
      ],
      "source": [
        "predictions = probability_model.predict(test_images)"
      ]
    },
    {
      "cell_type": "markdown",
      "metadata": {
        "id": "x9Kk1voUCaXJ"
      },
      "source": [
        "Here, the model has predicted the label for each image in the testing set. Let's take a look at the first prediction:"
      ]
    },
    {
      "cell_type": "code",
      "execution_count": 53,
      "metadata": {
        "execution": {
          "iopub.execute_input": "2022-12-14T06:38:16.672834Z",
          "iopub.status.busy": "2022-12-14T06:38:16.672194Z",
          "iopub.status.idle": "2022-12-14T06:38:16.677628Z",
          "shell.execute_reply": "2022-12-14T06:38:16.676837Z"
        },
        "id": "3DmJEUinCaXK",
        "colab": {
          "base_uri": "https://localhost:8080/"
        },
        "outputId": "e7861ebc-711f-4e88-f2e3-2602462be84e"
      },
      "outputs": [
        {
          "output_type": "execute_result",
          "data": {
            "text/plain": [
              "array([2.8000454e-07, 4.5104759e-08, 2.1013499e-12, 3.7638972e-07,\n",
              "       3.8158483e-11, 1.2213751e-03, 2.9784065e-08, 1.4744867e-03,\n",
              "       2.4777391e-06, 9.9730092e-01], dtype=float32)"
            ]
          },
          "metadata": {},
          "execution_count": 53
        }
      ],
      "source": [
        "predictions[0]"
      ]
    },
    {
      "cell_type": "markdown",
      "metadata": {
        "id": "-hw1hgeSCaXN"
      },
      "source": [
        "A prediction is an array of 10 numbers. They represent the model's \"confidence\" that the image corresponds to each of the 10 different articles of clothing. You can see which label has the highest confidence value:"
      ]
    },
    {
      "cell_type": "code",
      "execution_count": 54,
      "metadata": {
        "execution": {
          "iopub.execute_input": "2022-12-14T06:38:16.681081Z",
          "iopub.status.busy": "2022-12-14T06:38:16.680587Z",
          "iopub.status.idle": "2022-12-14T06:38:16.684977Z",
          "shell.execute_reply": "2022-12-14T06:38:16.684359Z"
        },
        "id": "qsqenuPnCaXO",
        "colab": {
          "base_uri": "https://localhost:8080/"
        },
        "outputId": "4bf12c2e-4b2a-4e52-ca75-7e0226ce554f"
      },
      "outputs": [
        {
          "output_type": "execute_result",
          "data": {
            "text/plain": [
              "9"
            ]
          },
          "metadata": {},
          "execution_count": 54
        }
      ],
      "source": [
        "np.argmax(predictions[0])"
      ]
    },
    {
      "cell_type": "markdown",
      "metadata": {
        "id": "E51yS7iCCaXO"
      },
      "source": [
        "So, the model is most confident that this image is an ankle boot, or `class_names[9]`. Examining the test label shows that this classification is correct:"
      ]
    },
    {
      "cell_type": "code",
      "execution_count": 55,
      "metadata": {
        "execution": {
          "iopub.execute_input": "2022-12-14T06:38:16.688575Z",
          "iopub.status.busy": "2022-12-14T06:38:16.688008Z",
          "iopub.status.idle": "2022-12-14T06:38:16.692055Z",
          "shell.execute_reply": "2022-12-14T06:38:16.691457Z"
        },
        "id": "Sd7Pgsu6CaXP",
        "colab": {
          "base_uri": "https://localhost:8080/"
        },
        "outputId": "1a9f5afa-aead-418b-fab5-f7a8ca60923f"
      },
      "outputs": [
        {
          "output_type": "execute_result",
          "data": {
            "text/plain": [
              "9"
            ]
          },
          "metadata": {},
          "execution_count": 55
        }
      ],
      "source": [
        "test_labels[0]"
      ]
    },
    {
      "cell_type": "markdown",
      "metadata": {
        "id": "ygh2yYC972ne"
      },
      "source": [
        "Graph this to look at the full set of 10 class predictions."
      ]
    },
    {
      "cell_type": "code",
      "execution_count": 56,
      "metadata": {
        "execution": {
          "iopub.execute_input": "2022-12-14T06:38:16.695227Z",
          "iopub.status.busy": "2022-12-14T06:38:16.694887Z",
          "iopub.status.idle": "2022-12-14T06:38:16.700925Z",
          "shell.execute_reply": "2022-12-14T06:38:16.700296Z"
        },
        "id": "DvYmmrpIy6Y1"
      },
      "outputs": [],
      "source": [
        "def plot_image(i, predictions_array, true_label, img):\n",
        "  true_label, img = true_label[i], img[i]\n",
        "  plt.grid(False)\n",
        "  plt.xticks([])\n",
        "  plt.yticks([])\n",
        "\n",
        "  plt.imshow(img, cmap=plt.cm.binary)\n",
        "\n",
        "  predicted_label = np.argmax(predictions_array)\n",
        "  if predicted_label == true_label:\n",
        "    color = 'blue'\n",
        "  else:\n",
        "    color = 'red'\n",
        "\n",
        "  plt.xlabel(\"{} {:2.0f}% ({})\".format(class_names[predicted_label],\n",
        "                                100*np.max(predictions_array),\n",
        "                                class_names[true_label]),\n",
        "                                color=color)\n",
        "\n",
        "def plot_value_array(i, predictions_array, true_label):\n",
        "  true_label = true_label[i]\n",
        "  plt.grid(False)\n",
        "  plt.xticks(range(10))\n",
        "  plt.yticks([])\n",
        "  thisplot = plt.bar(range(10), predictions_array, color=\"#777777\")\n",
        "  plt.ylim([0, 1])\n",
        "  predicted_label = np.argmax(predictions_array)\n",
        "\n",
        "  thisplot[predicted_label].set_color('red')\n",
        "  thisplot[true_label].set_color('blue')"
      ]
    },
    {
      "cell_type": "markdown",
      "metadata": {
        "id": "Zh9yABaME29S"
      },
      "source": [
        "### Verify predictions\n",
        "\n",
        "With the model trained, you can use it to make predictions about some images."
      ]
    },
    {
      "cell_type": "markdown",
      "metadata": {
        "id": "d4Ov9OFDMmOD"
      },
      "source": [
        "Let's look at the 0th image, predictions, and prediction array. Correct prediction labels are blue and incorrect prediction labels are red. The number gives the percentage (out of 100) for the predicted label."
      ]
    },
    {
      "cell_type": "code",
      "execution_count": 57,
      "metadata": {
        "execution": {
          "iopub.execute_input": "2022-12-14T06:38:16.704132Z",
          "iopub.status.busy": "2022-12-14T06:38:16.703592Z",
          "iopub.status.idle": "2022-12-14T06:38:16.815086Z",
          "shell.execute_reply": "2022-12-14T06:38:16.814268Z"
        },
        "id": "HV5jw-5HwSmO",
        "colab": {
          "base_uri": "https://localhost:8080/",
          "height": 211
        },
        "outputId": "dbd0874c-5f25-4c4d-c729-0cd6654caa71"
      },
      "outputs": [
        {
          "output_type": "display_data",
          "data": {
            "text/plain": [
              "<Figure size 432x216 with 2 Axes>"
            ],
            "image/png": "[encoded data removed]"
          },
          "metadata": {
            "needs_background": "light"
          }
        }
      ],
      "source": [
        "i = 0\n",
        "plt.figure(figsize=(6,3))\n",
        "plt.subplot(1,2,1)\n",
        "plot_image(i, predictions[i], test_labels, test_images)\n",
        "plt.subplot(1,2,2)\n",
        "plot_value_array(i, predictions[i],  test_labels)\n",
        "plt.show()"
      ]
    },
    {
      "cell_type": "code",
      "execution_count": 58,
      "metadata": {
        "execution": {
          "iopub.execute_input": "2022-12-14T06:38:16.818639Z",
          "iopub.status.busy": "2022-12-14T06:38:16.817905Z",
          "iopub.status.idle": "2022-12-14T06:38:16.926188Z",
          "shell.execute_reply": "2022-12-14T06:38:16.925335Z"
        },
        "id": "Ko-uzOufSCSe",
        "colab": {
          "base_uri": "https://localhost:8080/",
          "height": 211
        },
        "outputId": "ab3863a2-599f-41e8-e1b5-bb784baf0c10"
      },
      "outputs": [
        {
          "output_type": "display_data",
          "data": {
            "text/plain": [
              "<Figure size 432x216 with 2 Axes>"
            ],
            "image/png": "[encoded data removed]"
          },
          "metadata": {
            "needs_background": "light"
          }
        }
      ],
      "source": [
        "i = 12\n",
        "plt.figure(figsize=(6,3))\n",
        "plt.subplot(1,2,1)\n",
        "plot_image(i, predictions[i], test_labels, test_images)\n",
        "plt.subplot(1,2,2)\n",
        "plot_value_array(i, predictions[i],  test_labels)\n",
        "plt.show()"
      ]
    },
    {
      "cell_type": "markdown",
      "metadata": {
        "id": "kgdvGD52CaXR"
      },
      "source": [
        "Let's plot several images with their predictions. Note that the model can be wrong even when very confident."
      ]
    },
    {
      "cell_type": "code",
      "execution_count": 59,
      "metadata": {
        "execution": {
          "iopub.execute_input": "2022-12-14T06:38:16.929710Z",
          "iopub.status.busy": "2022-12-14T06:38:16.929067Z",
          "iopub.status.idle": "2022-12-14T06:38:18.654980Z",
          "shell.execute_reply": "2022-12-14T06:38:18.654194Z"
        },
        "id": "hQlnbqaw2Qu_",
        "colab": {
          "base_uri": "https://localhost:8080/",
          "height": 729
        },
        "outputId": "a1424e1d-e6df-428a-e064-2964438fd131"
      },
      "outputs": [
        {
          "output_type": "display_data",
          "data": {
            "text/plain": [
              "<Figure size 864x720 with 30 Axes>"
            ],
            "image/png": "[encoded data removed]"
          },
          "metadata": {
            "needs_background": "light"
          }
        }
      ],
      "source": [
        "# Plot the first X test images, their predicted labels, and the true labels.\n",
        "# Color correct predictions in blue and incorrect predictions in red.\n",
        "num_rows = 5\n",
        "num_cols = 3\n",
        "num_images = num_rows*num_cols\n",
        "plt.figure(figsize=(2*2*num_cols, 2*num_rows))\n",
        "for i in range(num_images):\n",
        "  plt.subplot(num_rows, 2*num_cols, 2*i+1)\n",
        "  plot_image(i, predictions[i], test_labels, test_images)\n",
        "  plt.subplot(num_rows, 2*num_cols, 2*i+2)\n",
        "  plot_value_array(i, predictions[i], test_labels)\n",
        "plt.tight_layout()\n",
        "plt.show()"
      ]
    },
    {
      "cell_type": "markdown",
      "metadata": {
        "id": "R32zteKHCaXT"
      },
      "source": [
        "## Use the trained model\n",
        "\n",
        "Finally, use the trained model to make a prediction about a single image."
      ]
    },
    {
      "cell_type": "code",
      "execution_count": 60,
      "metadata": {
        "execution": {
          "iopub.execute_input": "2022-12-14T06:38:18.659701Z",
          "iopub.status.busy": "2022-12-14T06:38:18.659004Z",
          "iopub.status.idle": "2022-12-14T06:38:18.662948Z",
          "shell.execute_reply": "2022-12-14T06:38:18.662239Z"
        },
        "id": "yRJ7JU7JCaXT",
        "colab": {
          "base_uri": "https://localhost:8080/"
        },
        "outputId": "8fe1e192-9f6a-4d76-bd75-5e06478428e7"
      },
      "outputs": [
        {
          "output_type": "stream",
          "name": "stdout",
          "text": [
            "(28, 28)\n"
          ]
        }
      ],
      "source": [
        "# Grab an image from the test dataset.\n",
        "img = test_images[1]\n",
        "\n",
        "print(img.shape)"
      ]
    },
    {
      "cell_type": "markdown",
      "metadata": {
        "id": "vz3bVp21CaXV"
      },
      "source": [
        "`tf.keras` models are optimized to make predictions on a *batch*, or collection, of examples at once. Accordingly, even though you're using a single image, you need to add it to a list:"
      ]
    },
    {
      "cell_type": "code",
      "execution_count": 61,
      "metadata": {
        "execution": {
          "iopub.execute_input": "2022-12-14T06:38:18.666296Z",
          "iopub.status.busy": "2022-12-14T06:38:18.665802Z",
          "iopub.status.idle": "2022-12-14T06:38:18.669591Z",
          "shell.execute_reply": "2022-12-14T06:38:18.668930Z"
        },
        "id": "lDFh5yF_CaXW",
        "colab": {
          "base_uri": "https://localhost:8080/"
        },
        "outputId": "09728d38-4702-4d4b-b6f8-2c814f399289"
      },
      "outputs": [
        {
          "output_type": "stream",
          "name": "stdout",
          "text": [
            "(1, 28, 28)\n"
          ]
        }
      ],
      "source": [
        "# Add the image to a batch where it's the only member.\n",
        "img = (np.expand_dims(img,0))\n",
        "\n",
        "print(img.shape)"
      ]
    },
    {
      "cell_type": "markdown",
      "metadata": {
        "id": "EQ5wLTkcCaXY"
      },
      "source": [
        "Now predict the correct label for this image:"
      ]
    },
    {
      "cell_type": "code",
      "execution_count": 62,
      "metadata": {
        "execution": {
          "iopub.execute_input": "2022-12-14T06:38:18.673179Z",
          "iopub.status.busy": "2022-12-14T06:38:18.672609Z",
          "iopub.status.idle": "2022-12-14T06:38:18.734510Z",
          "shell.execute_reply": "2022-12-14T06:38:18.733824Z"
        },
        "id": "o_rzNSdrCaXY",
        "colab": {
          "base_uri": "https://localhost:8080/"
        },
        "outputId": "b9bedd6e-78c1-442f-ea4c-ee318cf3470f"
      },
      "outputs": [
        {
          "output_type": "stream",
          "name": "stdout",
          "text": [
            "1/1 [==============================] - 0s 22ms/step\n",
            "[[2.4215906e-08 9.6920905e-10 9.9683183e-01 2.8154049e-10 3.1633677e-03\n",
            "  3.4126158e-14 4.7029707e-06 5.6518492e-17 3.0282485e-09 1.1387671e-19]]\n"
          ]
        }
      ],
      "source": [
        "predictions_single = probability_model.predict(img)\n",
        "\n",
        "print(predictions_single)"
      ]
    },
    {
      "cell_type": "code",
      "execution_count": 63,
      "metadata": {
        "execution": {
          "iopub.execute_input": "2022-12-14T06:38:18.737975Z",
          "iopub.status.busy": "2022-12-14T06:38:18.737365Z",
          "iopub.status.idle": "2022-12-14T06:38:18.826064Z",
          "shell.execute_reply": "2022-12-14T06:38:18.825175Z"
        },
        "id": "6Ai-cpLjO-3A",
        "colab": {
          "base_uri": "https://localhost:8080/",
          "height": 300
        },
        "outputId": "02e6d6d5-6c06-4b65-9fa7-a2097b8da667"
      },
      "outputs": [
        {
          "output_type": "display_data",
          "data": {
            "text/plain": [
              "<Figure size 432x288 with 1 Axes>"
            ],
            "image/png": "[encoded data removed]"
          },
          "metadata": {
            "needs_background": "light"
          }
        }
      ],
      "source": [
        "plot_value_array(1, predictions_single[0], test_labels)\n",
        "_ = plt.xticks(range(10), class_names, rotation=45)\n",
        "plt.show()"
      ]
    },
    {
      "cell_type": "markdown",
      "metadata": {
        "id": "cU1Y2OAMCaXb"
      },
      "source": [
        "`tf.keras.Model.predict` returns a list of lists—one list for each image in the batch of data. Grab the predictions for our (only) image in the batch:"
      ]
    },
    {
      "cell_type": "code",
      "execution_count": 64,
      "metadata": {
        "execution": {
          "iopub.execute_input": "2022-12-14T06:38:18.829790Z",
          "iopub.status.busy": "2022-12-14T06:38:18.829156Z",
          "iopub.status.idle": "2022-12-14T06:38:18.834069Z",
          "shell.execute_reply": "2022-12-14T06:38:18.833291Z"
        },
        "id": "2tRmdq_8CaXb",
        "colab": {
          "base_uri": "https://localhost:8080/"
        },
        "outputId": "85826bc9-13ae-4f13-b8a6-7a3f0d283db0"
      },
      "outputs": [
        {
          "output_type": "execute_result",
          "data": {
            "text/plain": [
              "2"
            ]
          },
          "metadata": {},
          "execution_count": 64
        }
      ],
      "source": [
        "np.argmax(predictions_single[0])"
      ]
    },
    {
      "cell_type": "markdown",
      "metadata": {
        "id": "YFc2HbEVCaXd"
      },
      "source": [
        "And the model predicts a label as expected."
      ]
    }
  ],
  "metadata": {
    "colab": {
      "provenance": []
    },
    "kernelspec": {
      "display_name": "Python 3",
      "name": "python3"
    },
    "language_info": {
      "codemirror_mode": {
        "name": "ipython",
        "version": 3
      },
      "file_extension": ".py",
      "mimetype": "text/x-python",
      "name": "python",
      "nbconvert_exporter": "python",
      "pygments_lexer": "ipython3",
      "version": "3.9.16"
    }
  },
  "nbformat": 4,
  "nbformat_minor": 0
}