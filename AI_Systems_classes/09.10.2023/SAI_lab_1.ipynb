{
  "nbformat": 4,
  "nbformat_minor": 0,
  "metadata": {
    "colab": {
      "provenance": []
    },
    "kernelspec": {
      "name": "python3",
      "display_name": "Python 3"
    },
    "language_info": {
      "name": "python"
    }
  },
  "cells": [
    {
      "cell_type": "markdown",
      "source": [
        "a."
      ],
      "metadata": {
        "id": "YZlTbDVJOY43"
      }
    },
    {
      "cell_type": "markdown",
      "source": [
        "b."
      ],
      "metadata": {
        "id": "lOEpXRULOY43"
      }
    },
    {
      "cell_type": "markdown",
      "source": [
        "Notatki wstępne z zajęć"
      ],
      "metadata": {
        "id": "oYr5-GiMMnyP"
      }
    },
    {
      "cell_type": "code",
      "source": [
        "a = 12\n",
        "A = \"poniedziałek\"\n",
        "b = \"poniedziałek\"\n",
        "c = \"12\""
      ],
      "metadata": {
        "id": "Unx-MjRCJJpg"
      },
      "execution_count": 1,
      "outputs": []
    },
    {
      "cell_type": "code",
      "source": [
        "a=100"
      ],
      "metadata": {
        "id": "LUwpGBd5KPIZ"
      },
      "execution_count": 2,
      "outputs": []
    },
    {
      "cell_type": "code",
      "source": [
        "a,A,a,b,c"
      ],
      "metadata": {
        "colab": {
          "base_uri": "https://localhost:8080/"
        },
        "id": "sIk2Ta2vJTBe",
        "outputId": "3c8b421e-acad-4f38-9426-9c7295fb1e0a"
      },
      "execution_count": 3,
      "outputs": [
        {
          "output_type": "execute_result",
          "data": {
            "text/plain": [
              "(100, 'poniedziałek', 100, 'poniedziałek', '12')"
            ]
          },
          "metadata": {},
          "execution_count": 3
        }
      ]
    },
    {
      "cell_type": "code",
      "source": [
        "print(a,end='')\n",
        "print(b)\n",
        "print(c)"
      ],
      "metadata": {
        "colab": {
          "base_uri": "https://localhost:8080/"
        },
        "id": "Cmh2QepwJVep",
        "outputId": "ccdf9e62-5f3f-46ac-d42c-81b1d9d4b088"
      },
      "execution_count": 4,
      "outputs": [
        {
          "output_type": "stream",
          "name": "stdout",
          "text": [
            "100poniedziałek\n",
            "12\n"
          ]
        }
      ]
    },
    {
      "cell_type": "code",
      "source": [
        "type(a),type(A),type(b),type(c)"
      ],
      "metadata": {
        "colab": {
          "base_uri": "https://localhost:8080/"
        },
        "id": "Noue7X09Ja-S",
        "outputId": "8e93745a-80de-453b-d8eb-8534fd594138"
      },
      "execution_count": 5,
      "outputs": [
        {
          "output_type": "execute_result",
          "data": {
            "text/plain": [
              "(int, str, str, str)"
            ]
          },
          "metadata": {},
          "execution_count": 5
        }
      ]
    },
    {
      "cell_type": "code",
      "source": [
        "a,A,C = 12, \"poniedziałek\",\"12\""
      ],
      "metadata": {
        "id": "dnE1aOUiKJMR"
      },
      "execution_count": 6,
      "outputs": []
    },
    {
      "cell_type": "markdown",
      "source": [
        "#**Zadanie 1**"
      ],
      "metadata": {
        "id": "66WuRbQHJKPe"
      }
    },
    {
      "cell_type": "code",
      "source": [
        "b = 11.0\n",
        "B = \"Ala ma koty\"\n",
        "zm1 = 12\n",
        "zm2 = 4\n",
        "Zm3 = \"5\""
      ],
      "metadata": {
        "id": "NeBYziyuLBhO"
      },
      "execution_count": 7,
      "outputs": []
    },
    {
      "cell_type": "markdown",
      "source": [
        "#**Zadanie 2**"
      ],
      "metadata": {
        "id": "5c3EqifeK38F"
      }
    },
    {
      "cell_type": "code",
      "source": [
        "type(b),type(B),type(zm1),type(zm2),type(Zm3)"
      ],
      "metadata": {
        "colab": {
          "base_uri": "https://localhost:8080/"
        },
        "id": "-lB34FwlLRCh",
        "outputId": "2e246f66-d6af-4407-ffea-0791379f7e8c"
      },
      "execution_count": 8,
      "outputs": [
        {
          "output_type": "execute_result",
          "data": {
            "text/plain": [
              "(float, str, int, int, str)"
            ]
          },
          "metadata": {},
          "execution_count": 8
        }
      ]
    },
    {
      "cell_type": "markdown",
      "source": [
        "#**Zadanie 3**"
      ],
      "metadata": {
        "id": "j0wjEBRNK5F9"
      }
    },
    {
      "cell_type": "code",
      "execution_count": 9,
      "metadata": {
        "id": "88E8i-BPGSmc"
      },
      "outputs": [],
      "source": [
        "b,B,zm1,zm2,Zm3 = 11.0,\"Ala ma koty\",12,4,\"5\""
      ]
    },
    {
      "cell_type": "markdown",
      "source": [
        "#**Zadanie 4**"
      ],
      "metadata": {
        "id": "HbuZX3M2LY9w"
      }
    },
    {
      "cell_type": "markdown",
      "source": [
        "a."
      ],
      "metadata": {
        "id": "kuvY-9JZLiOb"
      }
    },
    {
      "cell_type": "code",
      "source": [
        "zm1+zm2\n",
        "\n",
        "\n"
      ],
      "metadata": {
        "colab": {
          "base_uri": "https://localhost:8080/"
        },
        "id": "2XvHilEWLXKd",
        "outputId": "94c38de6-158a-4d16-8d69-9539070e257e"
      },
      "execution_count": 10,
      "outputs": [
        {
          "output_type": "execute_result",
          "data": {
            "text/plain": [
              "16"
            ]
          },
          "metadata": {},
          "execution_count": 10
        }
      ]
    },
    {
      "cell_type": "markdown",
      "source": [
        "b."
      ],
      "metadata": {
        "id": "lF0QSf8KLlDH"
      }
    },
    {
      "cell_type": "code",
      "source": [
        "B+\" i psa\"\n"
      ],
      "metadata": {
        "colab": {
          "base_uri": "https://localhost:8080/",
          "height": 35
        },
        "id": "XaaO1qfGLqLc",
        "outputId": "0860b2a7-4ae5-474c-c037-23838df1d18d"
      },
      "execution_count": 11,
      "outputs": [
        {
          "output_type": "execute_result",
          "data": {
            "text/plain": [
              "'Ala ma koty i psa'"
            ],
            "application/vnd.google.colaboratory.intrinsic+json": {
              "type": "string"
            }
          },
          "metadata": {},
          "execution_count": 11
        }
      ]
    },
    {
      "cell_type": "markdown",
      "source": [
        "c."
      ],
      "metadata": {
        "id": "gFhpNz4eLl-r"
      }
    },
    {
      "cell_type": "code",
      "source": [
        "b%zm2\n"
      ],
      "metadata": {
        "colab": {
          "base_uri": "https://localhost:8080/"
        },
        "id": "Pj4nOVRfLqym",
        "outputId": "6bf3755c-05e1-4e13-e6f6-dd86a909c130"
      },
      "execution_count": 12,
      "outputs": [
        {
          "output_type": "execute_result",
          "data": {
            "text/plain": [
              "3.0"
            ]
          },
          "metadata": {},
          "execution_count": 12
        }
      ]
    },
    {
      "cell_type": "markdown",
      "source": [
        "d."
      ],
      "metadata": {
        "id": "2liDtJIFLm0k"
      }
    },
    {
      "cell_type": "code",
      "source": [
        "b*zm1\n"
      ],
      "metadata": {
        "colab": {
          "base_uri": "https://localhost:8080/"
        },
        "id": "dr3wf_NLLrF2",
        "outputId": "babbe4d3-4084-4c69-e813-388e5a9c3eb7"
      },
      "execution_count": 13,
      "outputs": [
        {
          "output_type": "execute_result",
          "data": {
            "text/plain": [
              "132.0"
            ]
          },
          "metadata": {},
          "execution_count": 13
        }
      ]
    },
    {
      "cell_type": "markdown",
      "source": [
        "e."
      ],
      "metadata": {
        "id": "4gmWc0RfLnot"
      }
    },
    {
      "cell_type": "code",
      "source": [
        "b**zm1\n"
      ],
      "metadata": {
        "colab": {
          "base_uri": "https://localhost:8080/"
        },
        "id": "IWa6PfggLrbG",
        "outputId": "b383bcbe-53ff-4045-b74e-44724e5487e0"
      },
      "execution_count": 14,
      "outputs": [
        {
          "output_type": "execute_result",
          "data": {
            "text/plain": [
              "3138428376721.0"
            ]
          },
          "metadata": {},
          "execution_count": 14
        }
      ]
    },
    {
      "cell_type": "markdown",
      "source": [
        "f."
      ],
      "metadata": {
        "id": "xSp0d8_WLo7E"
      }
    },
    {
      "cell_type": "code",
      "source": [
        "B*zm1"
      ],
      "metadata": {
        "colab": {
          "base_uri": "https://localhost:8080/",
          "height": 35
        },
        "id": "GYbJPDIgLr19",
        "outputId": "9c46a922-c85f-45fd-b9cf-1927f15327c0"
      },
      "execution_count": 15,
      "outputs": [
        {
          "output_type": "execute_result",
          "data": {
            "text/plain": [
              "'Ala ma kotyAla ma kotyAla ma kotyAla ma kotyAla ma kotyAla ma kotyAla ma kotyAla ma kotyAla ma kotyAla ma kotyAla ma kotyAla ma koty'"
            ],
            "application/vnd.google.colaboratory.intrinsic+json": {
              "type": "string"
            }
          },
          "metadata": {},
          "execution_count": 15
        }
      ]
    },
    {
      "cell_type": "markdown",
      "source": [
        "g."
      ],
      "metadata": {
        "id": "QCY29QIeLpal"
      }
    },
    {
      "cell_type": "code",
      "source": [
        "#B*Zm3\n",
        "#nie działa, gdyż nie można mnożyć stringa (zmienna B) przez inta (zmiena Zm3)"
      ],
      "metadata": {
        "id": "CuvLzgyrLeL4"
      },
      "execution_count": 16,
      "outputs": []
    },
    {
      "cell_type": "markdown",
      "source": [
        "![4_g.png](data:image/png;base64,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)"
      ],
      "metadata": {
        "id": "QSAx12XGMFKT"
      }
    },
    {
      "cell_type": "markdown",
      "source": [
        "#**Zadanie 5**"
      ],
      "metadata": {
        "id": "ZyX6jZstM4sc"
      }
    },
    {
      "cell_type": "markdown",
      "source": [
        "a."
      ],
      "metadata": {
        "id": "hkEjIsLtNSC8"
      }
    },
    {
      "cell_type": "code",
      "source": [
        "len(B)\n"
      ],
      "metadata": {
        "colab": {
          "base_uri": "https://localhost:8080/"
        },
        "id": "9cq98N1_L7gV",
        "outputId": "a193f656-cb65-425f-897e-eecf20838183"
      },
      "execution_count": 17,
      "outputs": [
        {
          "output_type": "execute_result",
          "data": {
            "text/plain": [
              "11"
            ]
          },
          "metadata": {},
          "execution_count": 17
        }
      ]
    },
    {
      "cell_type": "markdown",
      "source": [
        "b."
      ],
      "metadata": {
        "id": "GGFOcZpDNUvK"
      }
    },
    {
      "cell_type": "code",
      "source": [
        "B[0]\n"
      ],
      "metadata": {
        "colab": {
          "base_uri": "https://localhost:8080/",
          "height": 35
        },
        "id": "DMd9oVOBNYpj",
        "outputId": "6fa84b84-e952-45d7-8d73-26cdeb1a7fb5"
      },
      "execution_count": 18,
      "outputs": [
        {
          "output_type": "execute_result",
          "data": {
            "text/plain": [
              "'A'"
            ],
            "application/vnd.google.colaboratory.intrinsic+json": {
              "type": "string"
            }
          },
          "metadata": {},
          "execution_count": 18
        }
      ]
    },
    {
      "cell_type": "markdown",
      "source": [
        "c."
      ],
      "metadata": {
        "id": "1XS75c-eNVhs"
      }
    },
    {
      "cell_type": "code",
      "source": [
        "B[1]\n"
      ],
      "metadata": {
        "colab": {
          "base_uri": "https://localhost:8080/",
          "height": 35
        },
        "id": "KieiS5unNbn-",
        "outputId": "a054b90b-1bf4-41d9-93f3-4fb58d31b2e5"
      },
      "execution_count": 19,
      "outputs": [
        {
          "output_type": "execute_result",
          "data": {
            "text/plain": [
              "'l'"
            ],
            "application/vnd.google.colaboratory.intrinsic+json": {
              "type": "string"
            }
          },
          "metadata": {},
          "execution_count": 19
        }
      ]
    },
    {
      "cell_type": "markdown",
      "source": [
        "d."
      ],
      "metadata": {
        "id": "kfE34qwoNeeJ"
      }
    },
    {
      "cell_type": "code",
      "source": [
        "B[3:6]\n"
      ],
      "metadata": {
        "colab": {
          "base_uri": "https://localhost:8080/",
          "height": 35
        },
        "id": "-qHvZKTcNlj1",
        "outputId": "7fbc6ded-c8b4-4e5f-bb58-03fb4e99b9f4"
      },
      "execution_count": 20,
      "outputs": [
        {
          "output_type": "execute_result",
          "data": {
            "text/plain": [
              "' ma'"
            ],
            "application/vnd.google.colaboratory.intrinsic+json": {
              "type": "string"
            }
          },
          "metadata": {},
          "execution_count": 20
        }
      ]
    },
    {
      "cell_type": "markdown",
      "source": [
        "e."
      ],
      "metadata": {
        "id": "7jrA-JOaNfO7"
      }
    },
    {
      "cell_type": "code",
      "source": [
        "B[3:]\n"
      ],
      "metadata": {
        "colab": {
          "base_uri": "https://localhost:8080/",
          "height": 35
        },
        "id": "B7nu73IHNl9R",
        "outputId": "74347caf-4d23-48ed-c877-87b44d63ebcb"
      },
      "execution_count": 21,
      "outputs": [
        {
          "output_type": "execute_result",
          "data": {
            "text/plain": [
              "' ma koty'"
            ],
            "application/vnd.google.colaboratory.intrinsic+json": {
              "type": "string"
            }
          },
          "metadata": {},
          "execution_count": 21
        }
      ]
    },
    {
      "cell_type": "markdown",
      "source": [
        "f."
      ],
      "metadata": {
        "id": "-gVttaX5Nk-c"
      }
    },
    {
      "cell_type": "code",
      "source": [
        "B[:6]\n"
      ],
      "metadata": {
        "colab": {
          "base_uri": "https://localhost:8080/",
          "height": 35
        },
        "id": "0Nx4IjglNmc1",
        "outputId": "9d261585-9399-4fd4-b85f-e6ee5d4be52d"
      },
      "execution_count": 22,
      "outputs": [
        {
          "output_type": "execute_result",
          "data": {
            "text/plain": [
              "'Ala ma'"
            ],
            "application/vnd.google.colaboratory.intrinsic+json": {
              "type": "string"
            }
          },
          "metadata": {},
          "execution_count": 22
        }
      ]
    },
    {
      "cell_type": "markdown",
      "source": [
        "g."
      ],
      "metadata": {
        "id": "9QKSLWcZNk-c"
      }
    },
    {
      "cell_type": "code",
      "source": [
        "B[-2]"
      ],
      "metadata": {
        "colab": {
          "base_uri": "https://localhost:8080/",
          "height": 35
        },
        "id": "d1E_Pl9CNmyE",
        "outputId": "5c490170-6481-4ddd-95ed-e44b8717aac0"
      },
      "execution_count": 23,
      "outputs": [
        {
          "output_type": "execute_result",
          "data": {
            "text/plain": [
              "'t'"
            ],
            "application/vnd.google.colaboratory.intrinsic+json": {
              "type": "string"
            }
          },
          "metadata": {},
          "execution_count": 23
        }
      ]
    },
    {
      "cell_type": "markdown",
      "source": [
        "#**Zadanie 6**"
      ],
      "metadata": {
        "id": "Q7myD9McN1ke"
      }
    },
    {
      "cell_type": "markdown",
      "source": [
        "a."
      ],
      "metadata": {
        "id": "a5KcF0RSOboD"
      }
    },
    {
      "cell_type": "code",
      "source": [
        "B*int(Zm3)"
      ],
      "metadata": {
        "colab": {
          "base_uri": "https://localhost:8080/",
          "height": 35
        },
        "id": "BiBKurFQN0H9",
        "outputId": "e5330799-1887-4d50-9c99-d5484d1df5ea"
      },
      "execution_count": 24,
      "outputs": [
        {
          "output_type": "execute_result",
          "data": {
            "text/plain": [
              "'Ala ma kotyAla ma kotyAla ma kotyAla ma kotyAla ma koty'"
            ],
            "application/vnd.google.colaboratory.intrinsic+json": {
              "type": "string"
            }
          },
          "metadata": {},
          "execution_count": 24
        }
      ]
    },
    {
      "cell_type": "markdown",
      "source": [
        "b."
      ],
      "metadata": {
        "id": "roMzBDHQOcgk"
      }
    },
    {
      "cell_type": "code",
      "source": [
        "type(str(3))"
      ],
      "metadata": {
        "colab": {
          "base_uri": "https://localhost:8080/"
        },
        "id": "YE50aKqrOdHl",
        "outputId": "b2791287-d73d-4ac6-e2bf-a3b78f84fd2b"
      },
      "execution_count": 25,
      "outputs": [
        {
          "output_type": "execute_result",
          "data": {
            "text/plain": [
              "str"
            ]
          },
          "metadata": {},
          "execution_count": 25
        }
      ]
    },
    {
      "cell_type": "markdown",
      "source": [
        "#**Zadanie 7**"
      ],
      "metadata": {
        "id": "WcMY1xcNOMAd"
      }
    },
    {
      "cell_type": "code",
      "source": [
        "Bnew = B[0:7]"
      ],
      "metadata": {
        "id": "JEPKejhvOoQQ"
      },
      "execution_count": 26,
      "outputs": []
    },
    {
      "cell_type": "code",
      "source": [
        "Bnew=Bnew+str(3)"
      ],
      "metadata": {
        "id": "G1Gg6I99OtTI"
      },
      "execution_count": 27,
      "outputs": []
    },
    {
      "cell_type": "code",
      "source": [
        "print(Bnew)"
      ],
      "metadata": {
        "colab": {
          "base_uri": "https://localhost:8080/"
        },
        "id": "xEQVG9V-OxT-",
        "outputId": "61845f2a-56d4-4c49-f212-6783a8c679f5"
      },
      "execution_count": 28,
      "outputs": [
        {
          "output_type": "stream",
          "name": "stdout",
          "text": [
            "Ala ma 3\n"
          ]
        }
      ]
    },
    {
      "cell_type": "code",
      "source": [
        "Bnew+B[6:]"
      ],
      "metadata": {
        "colab": {
          "base_uri": "https://localhost:8080/",
          "height": 35
        },
        "id": "zmy4we01O2oI",
        "outputId": "e0fbae32-9309-43fc-9719-3ec7538e40c8"
      },
      "execution_count": 29,
      "outputs": [
        {
          "output_type": "execute_result",
          "data": {
            "text/plain": [
              "'Ala ma 3 koty'"
            ],
            "application/vnd.google.colaboratory.intrinsic+json": {
              "type": "string"
            }
          },
          "metadata": {},
          "execution_count": 29
        }
      ]
    },
    {
      "cell_type": "markdown",
      "source": [
        "#**Zadanie 8**"
      ],
      "metadata": {
        "id": "QPg1w0aAOOxQ"
      }
    },
    {
      "cell_type": "code",
      "source": [
        "B[0:7]+str(3)+B[6:]"
      ],
      "metadata": {
        "colab": {
          "base_uri": "https://localhost:8080/",
          "height": 35
        },
        "id": "zKjmt-2aO-08",
        "outputId": "2238a636-19aa-4f65-80a7-13503322cb9e"
      },
      "execution_count": 30,
      "outputs": [
        {
          "output_type": "execute_result",
          "data": {
            "text/plain": [
              "'Ala ma 3 koty'"
            ],
            "application/vnd.google.colaboratory.intrinsic+json": {
              "type": "string"
            }
          },
          "metadata": {},
          "execution_count": 30
        }
      ]
    },
    {
      "cell_type": "code",
      "source": [
        "B[7:10]"
      ],
      "metadata": {
        "colab": {
          "base_uri": "https://localhost:8080/",
          "height": 35
        },
        "id": "1uv7KsiqPAIy",
        "outputId": "ae0fee6b-ea84-4df4-f0bd-fa3ed4805510"
      },
      "execution_count": 31,
      "outputs": [
        {
          "output_type": "execute_result",
          "data": {
            "text/plain": [
              "'kot'"
            ],
            "application/vnd.google.colaboratory.intrinsic+json": {
              "type": "string"
            }
          },
          "metadata": {},
          "execution_count": 31
        }
      ]
    },
    {
      "cell_type": "code",
      "source": [
        "#B[7:10]='psy'"
      ],
      "metadata": {
        "id": "1ol9D-__PDmx"
      },
      "execution_count": 32,
      "outputs": []
    },
    {
      "cell_type": "markdown",
      "source": [
        "Nie można zrobić podmiany\n",
        "![8.png](data:image/png;base64,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)"
      ],
      "metadata": {
        "id": "OLRTGMiNPJzt"
      }
    },
    {
      "cell_type": "markdown",
      "source": [
        "#**Zadanie 9**"
      ],
      "metadata": {
        "id": "9hZjYyz3OJns"
      }
    },
    {
      "cell_type": "code",
      "source": [
        "x = input(\"Wprowadz wartość: \")"
      ],
      "metadata": {
        "colab": {
          "base_uri": "https://localhost:8080/"
        },
        "id": "yZx2z8v5N-47",
        "outputId": "29dc9b6d-ebd1-48a0-f908-d8d794cebf56"
      },
      "execution_count": 33,
      "outputs": [
        {
          "name": "stdout",
          "output_type": "stream",
          "text": [
            "Wprowadz wartość: xd\n"
          ]
        }
      ]
    },
    {
      "cell_type": "code",
      "source": [
        "print(x)"
      ],
      "metadata": {
        "colab": {
          "base_uri": "https://localhost:8080/"
        },
        "id": "_jjc4DDeOHfZ",
        "outputId": "e5b2e1ee-009d-4a9b-c70e-9c22bb5874ee"
      },
      "execution_count": 34,
      "outputs": [
        {
          "output_type": "stream",
          "name": "stdout",
          "text": [
            "xd\n"
          ]
        }
      ]
    },
    {
      "cell_type": "code",
      "source": [
        "type(x)"
      ],
      "metadata": {
        "colab": {
          "base_uri": "https://localhost:8080/"
        },
        "id": "xVpe_xENOEWI",
        "outputId": "0535555b-97e4-433e-9074-a2a96c138cbf"
      },
      "execution_count": 35,
      "outputs": [
        {
          "output_type": "execute_result",
          "data": {
            "text/plain": [
              "str"
            ]
          },
          "metadata": {},
          "execution_count": 35
        }
      ]
    },
    {
      "cell_type": "markdown",
      "source": [
        "#**Zadanie 10**"
      ],
      "metadata": {
        "id": "5MlXk80CPfKN"
      }
    },
    {
      "cell_type": "code",
      "source": [
        "x= int(input(\"Liczba: \"))\n",
        "if x>0:\n",
        "  print(\"Liczba > 0\")\n",
        "elif x==0:\n",
        "  print(\"Liczba = 0\")\n",
        "else:\n",
        "  print(\"Liczba < 0\")\n"
      ],
      "metadata": {
        "colab": {
          "base_uri": "https://localhost:8080/"
        },
        "id": "hQYn9_FxPhk0",
        "outputId": "73deae41-0cc9-451c-90e7-4830cba76587"
      },
      "execution_count": 36,
      "outputs": [
        {
          "output_type": "stream",
          "name": "stdout",
          "text": [
            "Liczba: 1\n",
            "Liczba > 0\n"
          ]
        }
      ]
    },
    {
      "cell_type": "markdown",
      "source": [
        "#**Zadanie 11**"
      ],
      "metadata": {
        "id": "yEEuEftzPsfB"
      }
    },
    {
      "cell_type": "code",
      "source": [
        "wa=int(input(\"Wspolczynnik a: \"))\n",
        "wb=int(input(\"Wspolczynnik b: \"))\n",
        "wc=int(input(\"Wspolczynnik c: \"))\n",
        "delta= wb*wb-4*wa*wc\n",
        "print(delta)\n",
        "if delta>0:\n",
        "  print(\"Dwa rozwiazania\")\n",
        "elif delta==0:\n",
        "  print(\"Jedno rozwiazanie\")\n",
        "else:\n",
        "  print(\"Brak rozwiazan\")"
      ],
      "metadata": {
        "colab": {
          "base_uri": "https://localhost:8080/"
        },
        "id": "VmmTqbBYPvDE",
        "outputId": "effd8ec0-ed96-4530-e230-7b62d1273f48"
      },
      "execution_count": 37,
      "outputs": [
        {
          "output_type": "stream",
          "name": "stdout",
          "text": [
            "Wspolczynnik a: 2\n",
            "Wspolczynnik b: 2\n",
            "Wspolczynnik c: 2\n",
            "-12\n",
            "Brak rozwiazan\n"
          ]
        }
      ]
    },
    {
      "cell_type": "code",
      "source": [
        "import math\n",
        "wa=int(input(\"Wspolczynnik a: \"))\n",
        "wb=int(input(\"Wspolczynnik b: \"))\n",
        "wc=int(input(\"Wspolczynnik c: \"))\n",
        "if a!=0:\n",
        "  delta= wb*wb-4*wa*wc\n",
        "  print(\"Delta\")\n",
        "  print(delta)\n",
        "  if delta>0:\n",
        "    print(\"Dwa rozwiazania\")\n",
        "    print((-wb-math.sqrt(delta))/(2*wa))\n",
        "    print((-wb+math.sqrt(delta))/(2*wa))\n",
        "  elif delta==0:\n",
        "    print(\"Jedno rozwiazanie\")\n",
        "    print((-wb)/(2*wa))\n",
        "  else:\n",
        "    print(\"Brak rozwiazan\")\n",
        "else:\n",
        "  print(\"Rowanie liniowe jedno rozwiazanie\")\n",
        "  if wb!=0:\n",
        "    print((-wb)/(wc))\n",
        "  else:\n",
        "    if wc==0:\n",
        "      print(\"oo rozwiazan\")\n",
        "    else:\n",
        "      print(\"rownanie sorzeczne\")"
      ],
      "metadata": {
        "colab": {
          "base_uri": "https://localhost:8080/"
        },
        "id": "sWSJ_ijjQPfK",
        "outputId": "6638c875-20ca-410f-9af7-ba7369a8b421"
      },
      "execution_count": 38,
      "outputs": [
        {
          "output_type": "stream",
          "name": "stdout",
          "text": [
            "Wspolczynnik a: 2\n",
            "Wspolczynnik b: 2\n",
            "Wspolczynnik c: 2\n",
            "Delta\n",
            "-12\n",
            "Brak rozwiazan\n"
          ]
        }
      ]
    },
    {
      "cell_type": "markdown",
      "source": [
        "#**Zadanie 12**\n"
      ],
      "metadata": {
        "id": "-jwLy_SlQDJY"
      }
    },
    {
      "cell_type": "code",
      "source": [
        "test = [b,B,zm1,zm2,Zm3]"
      ],
      "metadata": {
        "id": "L6DRv7GGPwsq"
      },
      "execution_count": 39,
      "outputs": []
    },
    {
      "cell_type": "code",
      "source": [
        "len(test),test[0],test[1],test[3:6],test[3:],test[:6],test[-2]"
      ],
      "metadata": {
        "colab": {
          "base_uri": "https://localhost:8080/"
        },
        "id": "2qB9rabcQumi",
        "outputId": "0f78ada5-350c-433c-f5b3-3fe84f703fce"
      },
      "execution_count": 40,
      "outputs": [
        {
          "output_type": "execute_result",
          "data": {
            "text/plain": [
              "(5,\n",
              " 11.0,\n",
              " 'Ala ma koty',\n",
              " [4, '5'],\n",
              " [4, '5'],\n",
              " [11.0, 'Ala ma koty', 12, 4, '5'],\n",
              " 4)"
            ]
          },
          "metadata": {},
          "execution_count": 40
        }
      ]
    },
    {
      "cell_type": "markdown",
      "source": [
        "#**Zadanie 13**"
      ],
      "metadata": {
        "id": "D93J2TkxQ259"
      }
    },
    {
      "cell_type": "code",
      "source": [
        "test.append(121)"
      ],
      "metadata": {
        "id": "jZCnKEZSQzHw"
      },
      "execution_count": 41,
      "outputs": []
    },
    {
      "cell_type": "markdown",
      "source": [
        "#**Zadanie 14**"
      ],
      "metadata": {
        "id": "7EPpvnVrRCky"
      }
    },
    {
      "cell_type": "code",
      "source": [
        "test2 = test + [1,2,3]"
      ],
      "metadata": {
        "id": "0MBvjWvlQ7Jy"
      },
      "execution_count": 42,
      "outputs": []
    },
    {
      "cell_type": "code",
      "source": [
        "test2"
      ],
      "metadata": {
        "colab": {
          "base_uri": "https://localhost:8080/"
        },
        "id": "wvZHHCB4RKLQ",
        "outputId": "f2f3a0c2-41ea-44fb-f16d-42fcba0482db"
      },
      "execution_count": 43,
      "outputs": [
        {
          "output_type": "execute_result",
          "data": {
            "text/plain": [
              "[11.0, 'Ala ma koty', 12, 4, '5', 121, 1, 2, 3]"
            ]
          },
          "metadata": {},
          "execution_count": 43
        }
      ]
    },
    {
      "cell_type": "markdown",
      "source": [
        "#**Zadanie 15**"
      ],
      "metadata": {
        "id": "3a0njo-CROfF"
      }
    },
    {
      "cell_type": "code",
      "source": [
        "test2[0] = \"Lodz\""
      ],
      "metadata": {
        "id": "SLEJyuspRLEo"
      },
      "execution_count": 44,
      "outputs": []
    },
    {
      "cell_type": "code",
      "source": [
        "test2[6] = 77"
      ],
      "metadata": {
        "id": "7o5aS0VmSKee"
      },
      "execution_count": 45,
      "outputs": []
    },
    {
      "cell_type": "code",
      "source": [
        "test2"
      ],
      "metadata": {
        "colab": {
          "base_uri": "https://localhost:8080/"
        },
        "id": "UClvlZN3SPET",
        "outputId": "ab9c2e39-18f2-4a9b-d503-2bcabd6f4344"
      },
      "execution_count": 46,
      "outputs": [
        {
          "output_type": "execute_result",
          "data": {
            "text/plain": [
              "['Lodz', 'Ala ma koty', 12, 4, '5', 121, 77, 2, 3]"
            ]
          },
          "metadata": {},
          "execution_count": 46
        }
      ]
    },
    {
      "cell_type": "markdown",
      "source": [
        "#**Zadanie 16**"
      ],
      "metadata": {
        "id": "RzodUXvlSR0Z"
      }
    },
    {
      "cell_type": "code",
      "source": [
        "12 in test2"
      ],
      "metadata": {
        "colab": {
          "base_uri": "https://localhost:8080/"
        },
        "id": "tRahWj5SSQDJ",
        "outputId": "ea20eb11-4b6f-4e1a-b542-7fbd6a045463"
      },
      "execution_count": 47,
      "outputs": [
        {
          "output_type": "execute_result",
          "data": {
            "text/plain": [
              "True"
            ]
          },
          "metadata": {},
          "execution_count": 47
        }
      ]
    },
    {
      "cell_type": "code",
      "source": [
        "100 in test2"
      ],
      "metadata": {
        "colab": {
          "base_uri": "https://localhost:8080/"
        },
        "id": "0xZPln2NSXNW",
        "outputId": "8c4f08c3-447b-4033-9282-bf876a92f3ee"
      },
      "execution_count": 48,
      "outputs": [
        {
          "output_type": "execute_result",
          "data": {
            "text/plain": [
              "False"
            ]
          },
          "metadata": {},
          "execution_count": 48
        }
      ]
    },
    {
      "cell_type": "markdown",
      "source": [
        "#**Zadanie 17**"
      ],
      "metadata": {
        "id": "6nwaOk7bSZB2"
      }
    },
    {
      "cell_type": "code",
      "source": [
        "for i in range(0,9,1):\n",
        "  print(i)"
      ],
      "metadata": {
        "colab": {
          "base_uri": "https://localhost:8080/"
        },
        "id": "nXi2KZdKSXqh",
        "outputId": "a8c84127-ce8b-4e4f-ea5e-479c6b1fcf20"
      },
      "execution_count": 50,
      "outputs": [
        {
          "output_type": "stream",
          "name": "stdout",
          "text": [
            "0\n",
            "1\n",
            "2\n",
            "3\n",
            "4\n",
            "5\n",
            "6\n",
            "7\n",
            "8\n"
          ]
        }
      ]
    },
    {
      "cell_type": "markdown",
      "source": [
        "#**Zadanie 18**"
      ],
      "metadata": {
        "id": "lZa6zY2sSq0J"
      }
    },
    {
      "cell_type": "code",
      "source": [
        "for i in range(0,13,3):\n",
        "  print(i)"
      ],
      "metadata": {
        "colab": {
          "base_uri": "https://localhost:8080/"
        },
        "id": "DFuggUp2SnIN",
        "outputId": "458dac87-398c-4d72-d537-e516e9f42dc3"
      },
      "execution_count": 53,
      "outputs": [
        {
          "output_type": "stream",
          "name": "stdout",
          "text": [
            "0\n",
            "3\n",
            "6\n",
            "9\n",
            "12\n"
          ]
        }
      ]
    },
    {
      "cell_type": "markdown",
      "source": [
        "#**Zadanie 19**"
      ],
      "metadata": {
        "id": "Cb7192IcSxYS"
      }
    },
    {
      "cell_type": "code",
      "source": [
        "for i in range(-9,1,2):\n",
        "  print(i)"
      ],
      "metadata": {
        "colab": {
          "base_uri": "https://localhost:8080/"
        },
        "id": "EmppLS4vSuj9",
        "outputId": "8e8902fe-77d5-43b8-8bdc-c44cb0539b21"
      },
      "execution_count": 55,
      "outputs": [
        {
          "output_type": "stream",
          "name": "stdout",
          "text": [
            "-9\n",
            "-7\n",
            "-5\n",
            "-3\n",
            "-1\n"
          ]
        }
      ]
    },
    {
      "cell_type": "markdown",
      "source": [
        "#**Zadanie 20**"
      ],
      "metadata": {
        "id": "WUh9uqMhTCoo"
      }
    },
    {
      "cell_type": "code",
      "source": [
        "lista2=[1,4,-6,10,11,15,20]"
      ],
      "metadata": {
        "id": "S1Uge8q4S8rN"
      },
      "execution_count": 56,
      "outputs": []
    },
    {
      "cell_type": "code",
      "source": [
        "suma = 0\n",
        "for i in lista2:\n",
        "  #print(i)\n",
        "  #print(suma)\n",
        "  suma=suma+int(i)\n",
        "\n",
        "\n",
        "\n",
        "print(\"Suma elementow\",suma)"
      ],
      "metadata": {
        "colab": {
          "base_uri": "https://localhost:8080/"
        },
        "id": "mWd3vNgYTNzz",
        "outputId": "9ff0424a-41e8-40c8-9a3e-20182724428f"
      },
      "execution_count": 59,
      "outputs": [
        {
          "output_type": "stream",
          "name": "stdout",
          "text": [
            "Suma elementow 55\n"
          ]
        }
      ]
    },
    {
      "cell_type": "code",
      "source": [
        "sum(lista2)"
      ],
      "metadata": {
        "colab": {
          "base_uri": "https://localhost:8080/"
        },
        "id": "-ysc0jPeTrCA",
        "outputId": "e37c7d3b-0e1e-4772-ef9d-4a368a95860e"
      },
      "execution_count": 60,
      "outputs": [
        {
          "output_type": "execute_result",
          "data": {
            "text/plain": [
              "55"
            ]
          },
          "metadata": {},
          "execution_count": 60
        }
      ]
    },
    {
      "cell_type": "markdown",
      "source": [
        "#**Zadanie 21**"
      ],
      "metadata": {
        "id": "5_9mQyfOTckS"
      }
    },
    {
      "cell_type": "code",
      "source": [
        "lista3 = [1,4,-6,10,11,15,20]"
      ],
      "metadata": {
        "id": "z-KWjan0Tf4L"
      },
      "execution_count": 77,
      "outputs": []
    },
    {
      "cell_type": "code",
      "source": [
        "maximum= lista3[0]\n",
        "for i in range(0,len(lista3)):\n",
        "\n",
        "  #print(suma)\n",
        "  if maximum<lista3[i]:\n",
        "    maximum = lista3[i]\n",
        "\n",
        "\n",
        "\n",
        "\n",
        "\n",
        "print(\"Max\",maximum)\n"
      ],
      "metadata": {
        "colab": {
          "base_uri": "https://localhost:8080/"
        },
        "id": "cHDwOJhmTRzF",
        "outputId": "130234a8-4427-48e3-b0e4-02a55cf2aac8"
      },
      "execution_count": 87,
      "outputs": [
        {
          "output_type": "stream",
          "name": "stdout",
          "text": [
            "Max 20\n"
          ]
        }
      ]
    },
    {
      "cell_type": "code",
      "source": [
        "#del(max)"
      ],
      "metadata": {
        "id": "4qgM17-TU-fV"
      },
      "execution_count": 90,
      "outputs": []
    },
    {
      "cell_type": "code",
      "source": [
        "max(lista3)"
      ],
      "metadata": {
        "colab": {
          "base_uri": "https://localhost:8080/"
        },
        "id": "b7EB3wvSTtOO",
        "outputId": "a1a436e1-090d-4c79-fd1b-272bf79d75f3"
      },
      "execution_count": 91,
      "outputs": [
        {
          "output_type": "execute_result",
          "data": {
            "text/plain": [
              "20"
            ]
          },
          "metadata": {},
          "execution_count": 91
        }
      ]
    },
    {
      "cell_type": "markdown",
      "source": [
        "#**Zadanie 22**"
      ],
      "metadata": {
        "id": "_Wf1IkYdVSPv"
      }
    },
    {
      "cell_type": "code",
      "source": [
        "list4 = []\n",
        "maximum = float('-inf')\n",
        "for i in range(0,10):\n",
        "\n",
        "  list4.append(int(input(\"Write \"+str(i)+\" number:\")))\n",
        "  if maximum<list4[i]:\n",
        "    maximum = list4[i]\n",
        "\n",
        "  #print(suma)\n",
        "\n",
        "print(\"Max\",maximum)\n"
      ],
      "metadata": {
        "colab": {
          "base_uri": "https://localhost:8080/"
        },
        "id": "iLzuKQcOUTiT",
        "outputId": "01b8e7cd-23ce-4879-a2ee-b66d4cb93846"
      },
      "execution_count": 115,
      "outputs": [
        {
          "output_type": "stream",
          "name": "stdout",
          "text": [
            "Write 0 number:-3\n",
            "Write 1 number:4\n",
            "Write 2 number:23\n",
            "Write 3 number:2137\n",
            "Write 4 number:23\n",
            "Write 5 number:12\n",
            "Write 6 number:42\n",
            "Write 7 number:12\n",
            "Write 8 number:42\n",
            "Write 9 number:65\n",
            "Max 2137\n"
          ]
        }
      ]
    },
    {
      "cell_type": "code",
      "source": [
        "print(\"Max\",max(list4))"
      ],
      "metadata": {
        "colab": {
          "base_uri": "https://localhost:8080/"
        },
        "id": "G4qTuGvSYe3i",
        "outputId": "6f003b41-d6de-4ae0-bb41-483bb69773c1"
      },
      "execution_count": 112,
      "outputs": [
        {
          "output_type": "stream",
          "name": "stdout",
          "text": [
            "Max 2137\n"
          ]
        }
      ]
    },
    {
      "cell_type": "markdown",
      "source": [
        "Alternatywny sposób"
      ],
      "metadata": {
        "id": "jCjYDL6KbxjV"
      }
    },
    {
      "cell_type": "code",
      "source": [
        "list4 = [int(input(\"Write \"+str(i)+\" number:\")) for i in range(10)]\n",
        "maximum = max(list4)\n",
        "print(\"Max\", maximum)"
      ],
      "metadata": {
        "id": "faNdRd-caImv"
      },
      "execution_count": null,
      "outputs": []
    },
    {
      "cell_type": "markdown",
      "source": [
        "#**Zadanie 23**"
      ],
      "metadata": {
        "id": "inynQMa1YtOc"
      }
    },
    {
      "cell_type": "code",
      "source": [
        "list4 = []\n",
        "i = 0\n",
        "maximum = float('-inf')\n",
        "\n",
        "while i < 10:\n",
        "    num = int(input(\"Write \"+str(i)+\" number:\"))\n",
        "    list4.append(num)\n",
        "    if num > maximum:\n",
        "        maximum = num\n",
        "    i += 1\n",
        "\n",
        "print(\"Max\", maximum)"
      ],
      "metadata": {
        "colab": {
          "base_uri": "https://localhost:8080/"
        },
        "id": "SwR9VFM-XNjJ",
        "outputId": "85b67397-3312-49da-8a92-aa1f3c286521"
      },
      "execution_count": 113,
      "outputs": [
        {
          "output_type": "stream",
          "name": "stdout",
          "text": [
            "Write 0 number:5\n",
            "Write 1 number:-5\n",
            "Write 2 number:23\n",
            "Write 3 number:2137\n",
            "Write 4 number:88\n",
            "Write 5 number:43\n",
            "Write 6 number:1111\n",
            "Write 7 number:33\n",
            "Write 8 number:22\n",
            "Write 9 number:1\n",
            "Max 2137\n"
          ]
        }
      ]
    },
    {
      "cell_type": "markdown",
      "source": [
        "#**Zadanie 24**"
      ],
      "metadata": {
        "id": "fPiLaDVGY4XW"
      }
    },
    {
      "cell_type": "code",
      "source": [
        "a = int(input(\"Write a \"))\n",
        "b = int(input(\"Write b \"))\n",
        "potega=1\n",
        "i=0\n",
        "while i<abs(b):\n",
        "    if b>0:\n",
        "      potega*=a\n",
        "      i=i+1\n",
        "    else:\n",
        "      potega*=1.0/a\n",
        "      i=i+1\n",
        "\n",
        "print(\"potega\", potega)"
      ],
      "metadata": {
        "colab": {
          "base_uri": "https://localhost:8080/"
        },
        "id": "Wf5obmzqb3lz",
        "outputId": "36e9a2f7-4617-4693-e7e5-83fc55656fb0"
      },
      "execution_count": 118,
      "outputs": [
        {
          "output_type": "stream",
          "name": "stdout",
          "text": [
            "Write a 3\n",
            "Write b 4\n",
            "potega 81\n"
          ]
        }
      ]
    },
    {
      "cell_type": "markdown",
      "source": [
        "#**Zadanie 25**"
      ],
      "metadata": {
        "id": "fbVgB8cpb38L"
      }
    },
    {
      "cell_type": "code",
      "source": [
        "def potega(a,b):\n",
        "  potega=1\n",
        "  i=0\n",
        "  while i<abs(b):\n",
        "    if b>0:\n",
        "      potega*=a\n",
        "      i=i+1\n",
        "    else:\n",
        "      potega*=1.0/a\n",
        "      i=i+1\n",
        "  return potega"
      ],
      "metadata": {
        "id": "VVV9cJwqY7Aw"
      },
      "execution_count": 119,
      "outputs": []
    },
    {
      "cell_type": "code",
      "source": [
        "potega(2,3)"
      ],
      "metadata": {
        "colab": {
          "base_uri": "https://localhost:8080/"
        },
        "id": "E1eRcf08cnIm",
        "outputId": "a8734e0a-c8ae-4b81-e1b8-fcd66831130a"
      },
      "execution_count": 121,
      "outputs": [
        {
          "output_type": "execute_result",
          "data": {
            "text/plain": [
              "8"
            ]
          },
          "metadata": {},
          "execution_count": 121
        }
      ]
    },
    {
      "cell_type": "code",
      "source": [
        "potega(2,-8)"
      ],
      "metadata": {
        "colab": {
          "base_uri": "https://localhost:8080/"
        },
        "id": "xgGJzsmKclv6",
        "outputId": "3532c7d2-7af5-4283-a6bb-7f245b426115"
      },
      "execution_count": 120,
      "outputs": [
        {
          "output_type": "execute_result",
          "data": {
            "text/plain": [
              "0.00390625"
            ]
          },
          "metadata": {},
          "execution_count": 120
        }
      ]
    },
    {
      "cell_type": "markdown",
      "source": [
        "#**Zadanie 26**"
      ],
      "metadata": {
        "id": "9Na1MA8qb74r"
      }
    },
    {
      "cell_type": "code",
      "source": [
        "numbers = [55, 4, 92, 1, 104, 64, 73, 99, 20]"
      ],
      "metadata": {
        "id": "gf2dfxfucu8A"
      },
      "execution_count": 122,
      "outputs": []
    },
    {
      "cell_type": "code",
      "source": [],
      "metadata": {
        "id": "ZZ6-Tbg-c4E0"
      },
      "execution_count": null,
      "outputs": []
    },
    {
      "cell_type": "code",
      "source": [
        "def sum(a):\n",
        "  suma=0\n",
        "  for i in a:\n",
        "\n",
        "    suma=suma+int(i)\n",
        "  return(suma)"
      ],
      "metadata": {
        "id": "UEDY7FaHci81"
      },
      "execution_count": 123,
      "outputs": []
    },
    {
      "cell_type": "code",
      "source": [
        "sum(numbers)"
      ],
      "metadata": {
        "colab": {
          "base_uri": "https://localhost:8080/"
        },
        "id": "pSHhOc3Ucv2W",
        "outputId": "be41483b-e6d9-48ab-9497-72f0732e5322"
      },
      "execution_count": 124,
      "outputs": [
        {
          "output_type": "execute_result",
          "data": {
            "text/plain": [
              "512"
            ]
          },
          "metadata": {},
          "execution_count": 124
        }
      ]
    },
    {
      "cell_type": "markdown",
      "source": [
        "#**Zadanie 27**"
      ],
      "metadata": {
        "id": "_t2wT6Erc2QQ"
      }
    },
    {
      "cell_type": "code",
      "source": [
        "def max(a):\n",
        "  max_value = None\n",
        "  for num in a:\n",
        "      if (max_value is None or num > max_value):\n",
        "          max_value = num\n",
        "  return(max_value)"
      ],
      "metadata": {
        "id": "Pbu0fqmbc1um"
      },
      "execution_count": 125,
      "outputs": []
    },
    {
      "cell_type": "code",
      "source": [
        "def info_lista(a):\n",
        " return max(a),sum(a)"
      ],
      "metadata": {
        "id": "140Nnjm3cxkr"
      },
      "execution_count": 126,
      "outputs": []
    },
    {
      "cell_type": "code",
      "source": [
        "info_lista(numbers)"
      ],
      "metadata": {
        "colab": {
          "base_uri": "https://localhost:8080/"
        },
        "id": "Dw59orBHc7o5",
        "outputId": "531b7329-b346-4014-e600-14e3b5928cfe"
      },
      "execution_count": 127,
      "outputs": [
        {
          "output_type": "execute_result",
          "data": {
            "text/plain": [
              "(104, 512)"
            ]
          },
          "metadata": {},
          "execution_count": 127
        }
      ]
    }
  ]
}