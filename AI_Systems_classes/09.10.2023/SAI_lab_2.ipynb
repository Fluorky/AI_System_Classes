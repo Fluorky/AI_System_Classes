{
  "nbformat": 4,
  "nbformat_minor": 0,
  "metadata": {
    "colab": {
      "provenance": []
    },
    "kernelspec": {
      "name": "python3",
      "display_name": "Python 3"
    },
    "language_info": {
      "name": "python"
    }
  },
  "cells": [
    {
      "cell_type": "code",
      "source": [
        "import numpy as np"
      ],
      "metadata": {
        "id": "Sa9KxwT6fIDn"
      },
      "execution_count": 2,
      "outputs": []
    },
    {
      "cell_type": "markdown",
      "source": [
        "#**Zadanie 1**"
      ],
      "metadata": {
        "id": "hsYxGCUhe0nP"
      }
    },
    {
      "cell_type": "code",
      "execution_count": 4,
      "metadata": {
        "colab": {
          "base_uri": "https://localhost:8080/",
          "height": 0
        },
        "id": "H2qGcEpUdw93",
        "outputId": "8f73dbb6-08e4-4df8-9a36-ed3bec4d9a24"
      },
      "outputs": [
        {
          "output_type": "stream",
          "name": "stdout",
          "text": [
            "[1 4 3 5 3]\n"
          ]
        }
      ],
      "source": [
        "a = np.array([1,4,3,5,3])\n",
        "print(a)"
      ]
    },
    {
      "cell_type": "code",
      "source": [
        "#bez inta"
      ],
      "metadata": {
        "id": "6En5KbRgfyO_"
      },
      "execution_count": 8,
      "outputs": []
    },
    {
      "cell_type": "code",
      "source": [
        "b = np.array([3.14,4,2,3])\n",
        "print(b)"
      ],
      "metadata": {
        "colab": {
          "base_uri": "https://localhost:8080/",
          "height": 0
        },
        "id": "A7l2JaqHfK5g",
        "outputId": "11fcb428-63f3-4c7e-a85f-ea3417057733"
      },
      "execution_count": 9,
      "outputs": [
        {
          "output_type": "stream",
          "name": "stdout",
          "text": [
            "[3.14 4.   2.   3.  ]\n"
          ]
        }
      ]
    },
    {
      "cell_type": "code",
      "source": [
        "#int32"
      ],
      "metadata": {
        "id": "dAqxdJCKfzOt"
      },
      "execution_count": 10,
      "outputs": []
    },
    {
      "cell_type": "code",
      "source": [
        "b = np.array([3.14, 4, 2, 3],dtype=int)\n",
        "b"
      ],
      "metadata": {
        "colab": {
          "base_uri": "https://localhost:8080/",
          "height": 0
        },
        "id": "dI2AV_CkfpGZ",
        "outputId": "6aa0f747-90d9-4fac-a951-41c0ebb7f136"
      },
      "execution_count": 11,
      "outputs": [
        {
          "output_type": "execute_result",
          "data": {
            "text/plain": [
              "array([3, 4, 2, 3])"
            ]
          },
          "metadata": {},
          "execution_count": 11
        }
      ]
    },
    {
      "cell_type": "code",
      "source": [
        "c=np.array([[2,4,6],[1,2,3]])\n",
        "print(c)"
      ],
      "metadata": {
        "colab": {
          "base_uri": "https://localhost:8080/",
          "height": 0
        },
        "id": "8nDPW9bSfw8u",
        "outputId": "c4b37574-6d0e-4ad5-f23f-d41c6a0e314e"
      },
      "execution_count": 15,
      "outputs": [
        {
          "output_type": "stream",
          "name": "stdout",
          "text": [
            "[[2 4 6]\n",
            " [1 2 3]]\n"
          ]
        }
      ]
    },
    {
      "cell_type": "code",
      "source": [
        "d=np.array([[-3.,2.3],[0.1,5.0],[8.0,11.0]])\n",
        "print(d)"
      ],
      "metadata": {
        "colab": {
          "base_uri": "https://localhost:8080/",
          "height": 0
        },
        "id": "nB_9IJtmgAeN",
        "outputId": "4139d4a3-65c0-4389-b519-eca2b65dbac7"
      },
      "execution_count": 16,
      "outputs": [
        {
          "output_type": "stream",
          "name": "stdout",
          "text": [
            "[[-3.   2.3]\n",
            " [ 0.1  5. ]\n",
            " [ 8.  11. ]]\n"
          ]
        }
      ]
    },
    {
      "cell_type": "code",
      "source": [
        "e=np.array([[[2,4],[1,2],[8,9]],[[7,6],[-3,4],[0,8]]])\n",
        "print(e)"
      ],
      "metadata": {
        "colab": {
          "base_uri": "https://localhost:8080/",
          "height": 0
        },
        "id": "gsLdMfBoglI5",
        "outputId": "9c144a7d-0cf2-4ac5-9a6b-954546c309ce"
      },
      "execution_count": 18,
      "outputs": [
        {
          "output_type": "stream",
          "name": "stdout",
          "text": [
            "[[[ 2  4]\n",
            "  [ 1  2]\n",
            "  [ 8  9]]\n",
            "\n",
            " [[ 7  6]\n",
            "  [-3  4]\n",
            "  [ 0  8]]]\n"
          ]
        }
      ]
    },
    {
      "cell_type": "markdown",
      "source": [
        "#**Zadanie 2**"
      ],
      "metadata": {
        "id": "sfTJ5Rd5grnp"
      }
    },
    {
      "cell_type": "code",
      "source": [
        "a.ndim,b.ndim,c.ndim,d.ndim,e.ndim"
      ],
      "metadata": {
        "colab": {
          "base_uri": "https://localhost:8080/",
          "height": 0
        },
        "id": "fPjFtOFqgpRt",
        "outputId": "5a3532cf-6d48-4a51-88a3-0a5e5927d2a7"
      },
      "execution_count": 19,
      "outputs": [
        {
          "output_type": "execute_result",
          "data": {
            "text/plain": [
              "(1, 1, 2, 2, 3)"
            ]
          },
          "metadata": {},
          "execution_count": 19
        }
      ]
    },
    {
      "cell_type": "code",
      "source": [
        "a.shape,b.shape,c.shape,d.shape,e.shape"
      ],
      "metadata": {
        "colab": {
          "base_uri": "https://localhost:8080/",
          "height": 0
        },
        "id": "XySBH8ZWgyHS",
        "outputId": "494ded00-fcfc-4a9f-aad9-a8b524a1117e"
      },
      "execution_count": 22,
      "outputs": [
        {
          "output_type": "execute_result",
          "data": {
            "text/plain": [
              "((5,), (4,), (2, 3), (3, 2), (2, 3, 2))"
            ]
          },
          "metadata": {},
          "execution_count": 22
        }
      ]
    },
    {
      "cell_type": "code",
      "source": [
        "a.size, b.size,c.size,d.size,e.size"
      ],
      "metadata": {
        "colab": {
          "base_uri": "https://localhost:8080/",
          "height": 0
        },
        "id": "GRgEnLz3g02T",
        "outputId": "6bc9d59c-e404-42ba-de7e-66ad6140db38"
      },
      "execution_count": 23,
      "outputs": [
        {
          "output_type": "execute_result",
          "data": {
            "text/plain": [
              "(5, 4, 6, 6, 12)"
            ]
          },
          "metadata": {},
          "execution_count": 23
        }
      ]
    },
    {
      "cell_type": "code",
      "source": [
        "a.dtype,b.dtype,c.dtype,d.dtype,e.dtype"
      ],
      "metadata": {
        "colab": {
          "base_uri": "https://localhost:8080/",
          "height": 0
        },
        "id": "sBouJ1gDg8O4",
        "outputId": "b53ac65b-df06-4889-926b-1c47dd152c24"
      },
      "execution_count": 24,
      "outputs": [
        {
          "output_type": "execute_result",
          "data": {
            "text/plain": [
              "(dtype('int64'),\n",
              " dtype('int64'),\n",
              " dtype('int64'),\n",
              " dtype('float64'),\n",
              " dtype('int64'))"
            ]
          },
          "metadata": {},
          "execution_count": 24
        }
      ]
    },
    {
      "cell_type": "code",
      "source": [
        "a.itemsize,b.itemsize,c.itemsize,d.itemsize,e.itemsize"
      ],
      "metadata": {
        "colab": {
          "base_uri": "https://localhost:8080/",
          "height": 0
        },
        "id": "2uVG_Ottg92n",
        "outputId": "93bfee50-d1e3-48e7-a3a3-b8eb744a12ee"
      },
      "execution_count": 25,
      "outputs": [
        {
          "output_type": "execute_result",
          "data": {
            "text/plain": [
              "(8, 8, 8, 8, 8)"
            ]
          },
          "metadata": {},
          "execution_count": 25
        }
      ]
    },
    {
      "cell_type": "code",
      "source": [
        "a.nbytes,b.nbytes,c.nbytes,d.nbytes,e.nbytes"
      ],
      "metadata": {
        "colab": {
          "base_uri": "https://localhost:8080/",
          "height": 0
        },
        "id": "N-KHWTKsg-zB",
        "outputId": "837ec5d7-babb-4d23-d223-60891126e03a"
      },
      "execution_count": 26,
      "outputs": [
        {
          "output_type": "execute_result",
          "data": {
            "text/plain": [
              "(40, 32, 48, 48, 96)"
            ]
          },
          "metadata": {},
          "execution_count": 26
        }
      ]
    },
    {
      "cell_type": "markdown",
      "source": [
        "#**Zadanie 3**"
      ],
      "metadata": {
        "id": "qsqF8J3BhBPX"
      }
    },
    {
      "cell_type": "code",
      "source": [
        "X1 = np.random.random((3,2,4))\n",
        "\n",
        "X2 = np.zeros((2,3))\n",
        "\n",
        "X3 = np.full((6,2,1,2),7)\n",
        "\n",
        "X4 = np.random.randint(2,20,(5,7))\n",
        "\n",
        "X5 = np.ones((5,5))"
      ],
      "metadata": {
        "id": "0hDOX-U2g_bw"
      },
      "execution_count": 38,
      "outputs": []
    },
    {
      "cell_type": "code",
      "source": [
        "X1"
      ],
      "metadata": {
        "colab": {
          "base_uri": "https://localhost:8080/",
          "height": 0
        },
        "id": "uKdu3ao5hfpc",
        "outputId": "22cb81ff-0f14-4a99-ebfc-95a74fa4df63"
      },
      "execution_count": 39,
      "outputs": [
        {
          "output_type": "execute_result",
          "data": {
            "text/plain": [
              "array([[[0.4070197 , 0.98621055, 0.55478561, 0.59196399],\n",
              "        [0.41822612, 0.17290574, 0.40443101, 0.44210796]],\n",
              "\n",
              "       [[0.74761571, 0.74483672, 0.51288445, 0.44470622],\n",
              "        [0.48961532, 0.37642474, 0.46962324, 0.90785141]],\n",
              "\n",
              "       [[0.76639296, 0.79823238, 0.45462832, 0.20843041],\n",
              "        [0.20183244, 0.29177744, 0.95884464, 0.89156037]]])"
            ]
          },
          "metadata": {},
          "execution_count": 39
        }
      ]
    },
    {
      "cell_type": "code",
      "source": [
        "X2"
      ],
      "metadata": {
        "colab": {
          "base_uri": "https://localhost:8080/",
          "height": 0
        },
        "id": "AzFyPutFhvX_",
        "outputId": "f01648fe-da59-4899-d95a-70643fa1d31c"
      },
      "execution_count": 40,
      "outputs": [
        {
          "output_type": "execute_result",
          "data": {
            "text/plain": [
              "array([[0., 0., 0.],\n",
              "       [0., 0., 0.]])"
            ]
          },
          "metadata": {},
          "execution_count": 40
        }
      ]
    },
    {
      "cell_type": "code",
      "source": [
        "X3"
      ],
      "metadata": {
        "colab": {
          "base_uri": "https://localhost:8080/",
          "height": 0
        },
        "id": "ceL7e3u3hv5L",
        "outputId": "9ab8c0b6-dc75-4222-90c3-678603f0d574"
      },
      "execution_count": 41,
      "outputs": [
        {
          "output_type": "execute_result",
          "data": {
            "text/plain": [
              "array([[[[7, 7]],\n",
              "\n",
              "        [[7, 7]]],\n",
              "\n",
              "\n",
              "       [[[7, 7]],\n",
              "\n",
              "        [[7, 7]]],\n",
              "\n",
              "\n",
              "       [[[7, 7]],\n",
              "\n",
              "        [[7, 7]]],\n",
              "\n",
              "\n",
              "       [[[7, 7]],\n",
              "\n",
              "        [[7, 7]]],\n",
              "\n",
              "\n",
              "       [[[7, 7]],\n",
              "\n",
              "        [[7, 7]]],\n",
              "\n",
              "\n",
              "       [[[7, 7]],\n",
              "\n",
              "        [[7, 7]]]])"
            ]
          },
          "metadata": {},
          "execution_count": 41
        }
      ]
    },
    {
      "cell_type": "code",
      "source": [
        "X4"
      ],
      "metadata": {
        "colab": {
          "base_uri": "https://localhost:8080/",
          "height": 0
        },
        "id": "J6uSne2UhwVZ",
        "outputId": "da0d2f9c-ee7b-4389-a468-a126ad14035d"
      },
      "execution_count": 42,
      "outputs": [
        {
          "output_type": "execute_result",
          "data": {
            "text/plain": [
              "array([[19, 10,  8,  9, 17, 15, 18],\n",
              "       [19,  9, 15, 17,  8,  2,  2],\n",
              "       [ 6, 10, 11,  2,  6,  8, 19],\n",
              "       [14,  8, 17,  8, 13,  9,  9],\n",
              "       [18, 16, 10,  4,  8,  3, 19]])"
            ]
          },
          "metadata": {},
          "execution_count": 42
        }
      ]
    },
    {
      "cell_type": "code",
      "source": [
        "X5"
      ],
      "metadata": {
        "colab": {
          "base_uri": "https://localhost:8080/",
          "height": 0
        },
        "id": "RNCqwTJQhyuw",
        "outputId": "f963a32e-f223-4573-f1fb-e00faa9e3395"
      },
      "execution_count": 43,
      "outputs": [
        {
          "output_type": "execute_result",
          "data": {
            "text/plain": [
              "array([[1., 1., 1., 1., 1.],\n",
              "       [1., 1., 1., 1., 1.],\n",
              "       [1., 1., 1., 1., 1.],\n",
              "       [1., 1., 1., 1., 1.],\n",
              "       [1., 1., 1., 1., 1.]])"
            ]
          },
          "metadata": {},
          "execution_count": 43
        }
      ]
    },
    {
      "cell_type": "code",
      "source": [
        "X4[1,2]"
      ],
      "metadata": {
        "colab": {
          "base_uri": "https://localhost:8080/",
          "height": 0
        },
        "id": "DbVleHlGioNB",
        "outputId": "413dda08-597c-43d1-fa16-dc12dad13877"
      },
      "execution_count": 48,
      "outputs": [
        {
          "output_type": "execute_result",
          "data": {
            "text/plain": [
              "15"
            ]
          },
          "metadata": {},
          "execution_count": 48
        }
      ]
    },
    {
      "cell_type": "code",
      "source": [
        "X4[2,:]"
      ],
      "metadata": {
        "colab": {
          "base_uri": "https://localhost:8080/",
          "height": 0
        },
        "id": "DOHxyBbkhzOD",
        "outputId": "40d175c2-1362-4d07-ce8e-071a64a38f29"
      },
      "execution_count": 52,
      "outputs": [
        {
          "output_type": "execute_result",
          "data": {
            "text/plain": [
              "array([ 6, 10, 11,  2,  6,  8, 19])"
            ]
          },
          "metadata": {},
          "execution_count": 52
        }
      ]
    },
    {
      "cell_type": "code",
      "source": [
        "X5[:,2]"
      ],
      "metadata": {
        "colab": {
          "base_uri": "https://localhost:8080/",
          "height": 0
        },
        "id": "mD_Wh8y3iaDL",
        "outputId": "ea973f1c-941d-4cc8-ae30-b02995d35679"
      },
      "execution_count": 53,
      "outputs": [
        {
          "output_type": "execute_result",
          "data": {
            "text/plain": [
              "array([1., 1., 1., 1., 1.])"
            ]
          },
          "metadata": {},
          "execution_count": 53
        }
      ]
    },
    {
      "cell_type": "markdown",
      "source": [
        "#**Zadanie 4**"
      ],
      "metadata": {
        "id": "NvLnLVz8jBuN"
      }
    },
    {
      "cell_type": "code",
      "source": [
        "A = np.random.randint(0,10,(4,5))\n",
        "A"
      ],
      "metadata": {
        "colab": {
          "base_uri": "https://localhost:8080/",
          "height": 0
        },
        "id": "oiv8RYX4wctP",
        "outputId": "c5e63a48-a311-4c18-ef29-8bbb71e51e5e"
      },
      "execution_count": 74,
      "outputs": [
        {
          "output_type": "execute_result",
          "data": {
            "text/plain": [
              "array([[2, 7, 3, 0, 4],\n",
              "       [8, 4, 3, 4, 9],\n",
              "       [0, 8, 6, 4, 1],\n",
              "       [3, 3, 2, 7, 6]])"
            ]
          },
          "metadata": {},
          "execution_count": 74
        }
      ]
    },
    {
      "cell_type": "code",
      "source": [
        "B = A[:,1:3]\n",
        "B"
      ],
      "metadata": {
        "colab": {
          "base_uri": "https://localhost:8080/",
          "height": 0
        },
        "id": "lI1HpqPJwn65",
        "outputId": "357e9bc4-7463-4636-c6b1-bc3c0139b1b8"
      },
      "execution_count": 75,
      "outputs": [
        {
          "output_type": "execute_result",
          "data": {
            "text/plain": [
              "array([[7, 3],\n",
              "       [4, 3],\n",
              "       [8, 6],\n",
              "       [3, 2]])"
            ]
          },
          "metadata": {},
          "execution_count": 75
        }
      ]
    },
    {
      "cell_type": "code",
      "source": [
        "C = A[1:3,1:5]\n",
        "C"
      ],
      "metadata": {
        "colab": {
          "base_uri": "https://localhost:8080/",
          "height": 0
        },
        "id": "ccXe8m2hxP6_",
        "outputId": "def70fb8-4f9a-458f-9a6c-432e3866bf07"
      },
      "execution_count": 76,
      "outputs": [
        {
          "output_type": "execute_result",
          "data": {
            "text/plain": [
              "array([[4, 3, 4, 9],\n",
              "       [8, 6, 4, 1]])"
            ]
          },
          "metadata": {},
          "execution_count": 76
        }
      ]
    },
    {
      "cell_type": "code",
      "source": [
        "B =B * 2"
      ],
      "metadata": {
        "id": "0_AweWGhyDNM"
      },
      "execution_count": 83,
      "outputs": []
    },
    {
      "cell_type": "code",
      "source": [
        "B"
      ],
      "metadata": {
        "colab": {
          "base_uri": "https://localhost:8080/",
          "height": 0
        },
        "id": "Izd7MU3dxyD5",
        "outputId": "54130819-0c4d-4072-fe1a-6c92f4f15bec"
      },
      "execution_count": 84,
      "outputs": [
        {
          "output_type": "execute_result",
          "data": {
            "text/plain": [
              "array([[28, 12],\n",
              "       [16, 12],\n",
              "       [32, 24],\n",
              "       [12,  8]])"
            ]
          },
          "metadata": {},
          "execution_count": 84
        }
      ]
    },
    {
      "cell_type": "code",
      "source": [
        "A"
      ],
      "metadata": {
        "colab": {
          "base_uri": "https://localhost:8080/",
          "height": 0
        },
        "id": "N8ZoVLqiyF52",
        "outputId": "78eafde4-e3cf-4211-9901-00a431d9c923"
      },
      "execution_count": 85,
      "outputs": [
        {
          "output_type": "execute_result",
          "data": {
            "text/plain": [
              "array([[2, 7, 3, 0, 4],\n",
              "       [8, 4, 3, 4, 9],\n",
              "       [0, 8, 6, 4, 1],\n",
              "       [3, 3, 2, 7, 6]])"
            ]
          },
          "metadata": {},
          "execution_count": 85
        }
      ]
    },
    {
      "cell_type": "code",
      "source": [
        "C"
      ],
      "metadata": {
        "colab": {
          "base_uri": "https://localhost:8080/",
          "height": 0
        },
        "id": "Ry-qXUByxzSc",
        "outputId": "edc3feb7-d2c7-4b4c-9d17-489029e53c36"
      },
      "execution_count": 86,
      "outputs": [
        {
          "output_type": "execute_result",
          "data": {
            "text/plain": [
              "array([[4, 3, 4, 9],\n",
              "       [8, 6, 4, 1]])"
            ]
          },
          "metadata": {},
          "execution_count": 86
        }
      ]
    },
    {
      "cell_type": "code",
      "source": [
        "B1 = A[:,1:3].copy()\n",
        "B1"
      ],
      "metadata": {
        "colab": {
          "base_uri": "https://localhost:8080/",
          "height": 0
        },
        "id": "FCEMxij3xOGr",
        "outputId": "790bad3b-2716-414f-e569-f86185eb2538"
      },
      "execution_count": 87,
      "outputs": [
        {
          "output_type": "execute_result",
          "data": {
            "text/plain": [
              "array([[7, 3],\n",
              "       [4, 3],\n",
              "       [8, 6],\n",
              "       [3, 2]])"
            ]
          },
          "metadata": {},
          "execution_count": 87
        }
      ]
    },
    {
      "cell_type": "code",
      "source": [
        "C1 = A[1:3,1:5].copy()\n",
        "C1"
      ],
      "metadata": {
        "colab": {
          "base_uri": "https://localhost:8080/",
          "height": 0
        },
        "id": "EneCaB39xSMN",
        "outputId": "46f1b125-02a9-4153-d135-dfab5d30e660"
      },
      "execution_count": 88,
      "outputs": [
        {
          "output_type": "execute_result",
          "data": {
            "text/plain": [
              "array([[4, 3, 4, 9],\n",
              "       [8, 6, 4, 1]])"
            ]
          },
          "metadata": {},
          "execution_count": 88
        }
      ]
    },
    {
      "cell_type": "markdown",
      "source": [
        "#**Zadanie 5**"
      ],
      "metadata": {
        "id": "AaT_0oR9yijM"
      }
    },
    {
      "cell_type": "code",
      "source": [
        "D = np.array(np.arange(0,12))\n",
        "D"
      ],
      "metadata": {
        "colab": {
          "base_uri": "https://localhost:8080/",
          "height": 0
        },
        "id": "tUAjm0bgymLf",
        "outputId": "716f6f79-ccb9-495d-aff6-9c741837abb8"
      },
      "execution_count": 135,
      "outputs": [
        {
          "output_type": "execute_result",
          "data": {
            "text/plain": [
              "array([ 0,  1,  2,  3,  4,  5,  6,  7,  8,  9, 10, 11])"
            ]
          },
          "metadata": {},
          "execution_count": 135
        }
      ]
    },
    {
      "cell_type": "code",
      "source": [
        "D.shape"
      ],
      "metadata": {
        "colab": {
          "base_uri": "https://localhost:8080/",
          "height": 0
        },
        "id": "6OC1zNJp7WO8",
        "outputId": "31092faf-6ed5-4e15-9901-0488d37e10d6"
      },
      "execution_count": 136,
      "outputs": [
        {
          "output_type": "execute_result",
          "data": {
            "text/plain": [
              "(12,)"
            ]
          },
          "metadata": {},
          "execution_count": 136
        }
      ]
    },
    {
      "cell_type": "code",
      "source": [
        "D1=D.reshape(6,2)\n",
        "print(D1)"
      ],
      "metadata": {
        "colab": {
          "base_uri": "https://localhost:8080/",
          "height": 0
        },
        "id": "XbIK0Tkc7YYH",
        "outputId": "23ce424a-96f7-4746-c3be-5f64d71dd107"
      },
      "execution_count": 137,
      "outputs": [
        {
          "output_type": "stream",
          "name": "stdout",
          "text": [
            "[[ 0  1]\n",
            " [ 2  3]\n",
            " [ 4  5]\n",
            " [ 6  7]\n",
            " [ 8  9]\n",
            " [10 11]]\n"
          ]
        }
      ]
    },
    {
      "cell_type": "code",
      "source": [
        "D2=D.reshape(3,2,2)\n",
        "print(D2)"
      ],
      "metadata": {
        "colab": {
          "base_uri": "https://localhost:8080/",
          "height": 0
        },
        "id": "eCL6t0-Y1fkE",
        "outputId": "9741d246-0420-4562-dbea-29fe127086f6"
      },
      "execution_count": 138,
      "outputs": [
        {
          "output_type": "stream",
          "name": "stdout",
          "text": [
            "[[[ 0  1]\n",
            "  [ 2  3]]\n",
            "\n",
            " [[ 4  5]\n",
            "  [ 6  7]]\n",
            "\n",
            " [[ 8  9]\n",
            "  [10 11]]]\n"
          ]
        }
      ]
    },
    {
      "cell_type": "code",
      "source": [
        "D3=D.reshape(6,2,1)\n",
        "print(D3)"
      ],
      "metadata": {
        "colab": {
          "base_uri": "https://localhost:8080/",
          "height": 0
        },
        "id": "b12sOzN71zN1",
        "outputId": "ef93c232-09b9-4687-e582-204a7910eddc"
      },
      "execution_count": 139,
      "outputs": [
        {
          "output_type": "stream",
          "name": "stdout",
          "text": [
            "[[[ 0]\n",
            "  [ 1]]\n",
            "\n",
            " [[ 2]\n",
            "  [ 3]]\n",
            "\n",
            " [[ 4]\n",
            "  [ 5]]\n",
            "\n",
            " [[ 6]\n",
            "  [ 7]]\n",
            "\n",
            " [[ 8]\n",
            "  [ 9]]\n",
            "\n",
            " [[10]\n",
            "  [11]]]\n"
          ]
        }
      ]
    },
    {
      "cell_type": "code",
      "source": [
        "D4=D.reshape(1, 2, 6)\n",
        "print(D4)\n",
        "\n"
      ],
      "metadata": {
        "colab": {
          "base_uri": "https://localhost:8080/",
          "height": 0
        },
        "id": "bXpUuAj-4ETF",
        "outputId": "51d52e84-3e3f-4305-ee25-703bbd074706"
      },
      "execution_count": 140,
      "outputs": [
        {
          "output_type": "stream",
          "name": "stdout",
          "text": [
            "[[[ 0  1  2  3  4  5]\n",
            "  [ 6  7  8  9 10 11]]]\n"
          ]
        }
      ]
    },
    {
      "cell_type": "code",
      "source": [
        "D5=D.reshape(1, 6, 2)\n",
        "print(D5)\n"
      ],
      "metadata": {
        "colab": {
          "base_uri": "https://localhost:8080/",
          "height": 0
        },
        "id": "4zamamSe18Ns",
        "outputId": "f0349c02-b74c-4eff-b5ba-a36290e37b1f"
      },
      "execution_count": 141,
      "outputs": [
        {
          "output_type": "stream",
          "name": "stdout",
          "text": [
            "[[[ 0  1]\n",
            "  [ 2  3]\n",
            "  [ 4  5]\n",
            "  [ 6  7]\n",
            "  [ 8  9]\n",
            "  [10 11]]]\n"
          ]
        }
      ]
    },
    {
      "cell_type": "code",
      "source": [
        "D6=D.reshape(2, 1, 6)\n",
        "print(D6)\n"
      ],
      "metadata": {
        "colab": {
          "base_uri": "https://localhost:8080/",
          "height": 0
        },
        "id": "5Xim18r77bY_",
        "outputId": "dd7fbd7d-b6f4-482b-bf2b-21f8c8571e41"
      },
      "execution_count": 142,
      "outputs": [
        {
          "output_type": "stream",
          "name": "stdout",
          "text": [
            "[[[ 0  1  2  3  4  5]]\n",
            "\n",
            " [[ 6  7  8  9 10 11]]]\n"
          ]
        }
      ]
    },
    {
      "cell_type": "code",
      "source": [
        "D7=D.reshape(2, 6, 1)\n",
        "print(D7)\n"
      ],
      "metadata": {
        "colab": {
          "base_uri": "https://localhost:8080/",
          "height": 0
        },
        "id": "W3-lcnQs7pLr",
        "outputId": "c96128b7-9a1d-44b1-c51a-11f159a28c9d"
      },
      "execution_count": 143,
      "outputs": [
        {
          "output_type": "stream",
          "name": "stdout",
          "text": [
            "[[[ 0]\n",
            "  [ 1]\n",
            "  [ 2]\n",
            "  [ 3]\n",
            "  [ 4]\n",
            "  [ 5]]\n",
            "\n",
            " [[ 6]\n",
            "  [ 7]\n",
            "  [ 8]\n",
            "  [ 9]\n",
            "  [10]\n",
            "  [11]]]\n"
          ]
        }
      ]
    },
    {
      "cell_type": "code",
      "source": [
        "D8=D.reshape(6, 1, 2)\n",
        "print(D8)\n"
      ],
      "metadata": {
        "colab": {
          "base_uri": "https://localhost:8080/",
          "height": 0
        },
        "id": "n75DNVKp5KMT",
        "outputId": "3f9af143-58c5-4cf8-c22b-39d4652f8a0b"
      },
      "execution_count": 144,
      "outputs": [
        {
          "output_type": "stream",
          "name": "stdout",
          "text": [
            "[[[ 0  1]]\n",
            "\n",
            " [[ 2  3]]\n",
            "\n",
            " [[ 4  5]]\n",
            "\n",
            " [[ 6  7]]\n",
            "\n",
            " [[ 8  9]]\n",
            "\n",
            " [[10 11]]]\n"
          ]
        }
      ]
    },
    {
      "cell_type": "code",
      "source": [
        "D9=D.reshape(1, 3, 4)\n",
        "print(D9)\n"
      ],
      "metadata": {
        "colab": {
          "base_uri": "https://localhost:8080/",
          "height": 0
        },
        "id": "rAxUdaQK5M0p",
        "outputId": "c686f4b6-0b0c-46c9-ea17-1b5f503bb277"
      },
      "execution_count": 145,
      "outputs": [
        {
          "output_type": "stream",
          "name": "stdout",
          "text": [
            "[[[ 0  1  2  3]\n",
            "  [ 4  5  6  7]\n",
            "  [ 8  9 10 11]]]\n"
          ]
        }
      ]
    },
    {
      "cell_type": "code",
      "source": [
        "D10=D.reshape(1, 4, 3)\n",
        "print(D10)\n"
      ],
      "metadata": {
        "colab": {
          "base_uri": "https://localhost:8080/",
          "height": 0
        },
        "id": "AQkCITl_5PKv",
        "outputId": "d8bf2405-15ad-4001-89b7-4bcc2196d5cf"
      },
      "execution_count": 146,
      "outputs": [
        {
          "output_type": "stream",
          "name": "stdout",
          "text": [
            "[[[ 0  1  2]\n",
            "  [ 3  4  5]\n",
            "  [ 6  7  8]\n",
            "  [ 9 10 11]]]\n"
          ]
        }
      ]
    },
    {
      "cell_type": "code",
      "source": [
        "D11=D.reshape(3, 1, 4)\n",
        "print(D11)\n"
      ],
      "metadata": {
        "colab": {
          "base_uri": "https://localhost:8080/",
          "height": 0
        },
        "id": "SZstQ5PM5PEa",
        "outputId": "8de372e9-5bda-49ee-e750-187f4ac42dc7"
      },
      "execution_count": 147,
      "outputs": [
        {
          "output_type": "stream",
          "name": "stdout",
          "text": [
            "[[[ 0  1  2  3]]\n",
            "\n",
            " [[ 4  5  6  7]]\n",
            "\n",
            " [[ 8  9 10 11]]]\n"
          ]
        }
      ]
    },
    {
      "cell_type": "code",
      "source": [
        "D12=D.reshape(3, 4, 1)\n",
        "print(D12)\n"
      ],
      "metadata": {
        "colab": {
          "base_uri": "https://localhost:8080/",
          "height": 0
        },
        "id": "rD3rdG1o5Shm",
        "outputId": "e2df17e0-e515-40b1-954e-40e1ca32504c"
      },
      "execution_count": 148,
      "outputs": [
        {
          "output_type": "stream",
          "name": "stdout",
          "text": [
            "[[[ 0]\n",
            "  [ 1]\n",
            "  [ 2]\n",
            "  [ 3]]\n",
            "\n",
            " [[ 4]\n",
            "  [ 5]\n",
            "  [ 6]\n",
            "  [ 7]]\n",
            "\n",
            " [[ 8]\n",
            "  [ 9]\n",
            "  [10]\n",
            "  [11]]]\n"
          ]
        }
      ]
    },
    {
      "cell_type": "code",
      "source": [
        "D13=D.reshape(4, 1, 3)\n",
        "print(D13)\n"
      ],
      "metadata": {
        "colab": {
          "base_uri": "https://localhost:8080/",
          "height": 0
        },
        "id": "JDE0N4L25Tws",
        "outputId": "8a573965-68c1-4165-8007-87849ba8c03d"
      },
      "execution_count": 149,
      "outputs": [
        {
          "output_type": "stream",
          "name": "stdout",
          "text": [
            "[[[ 0  1  2]]\n",
            "\n",
            " [[ 3  4  5]]\n",
            "\n",
            " [[ 6  7  8]]\n",
            "\n",
            " [[ 9 10 11]]]\n"
          ]
        }
      ]
    },
    {
      "cell_type": "code",
      "source": [
        "D14=D.reshape(4, 3, 1)\n",
        "print(D14)\n"
      ],
      "metadata": {
        "colab": {
          "base_uri": "https://localhost:8080/",
          "height": 0
        },
        "id": "4KMMD-2D5VIt",
        "outputId": "8e947cd2-9aed-459c-c5aa-e5bf11a0ab54"
      },
      "execution_count": 150,
      "outputs": [
        {
          "output_type": "stream",
          "name": "stdout",
          "text": [
            "[[[ 0]\n",
            "  [ 1]\n",
            "  [ 2]]\n",
            "\n",
            " [[ 3]\n",
            "  [ 4]\n",
            "  [ 5]]\n",
            "\n",
            " [[ 6]\n",
            "  [ 7]\n",
            "  [ 8]]\n",
            "\n",
            " [[ 9]\n",
            "  [10]\n",
            "  [11]]]\n"
          ]
        }
      ]
    },
    {
      "cell_type": "code",
      "source": [
        "D15=D.reshape(2, 2, 3)\n",
        "print(D15)\n"
      ],
      "metadata": {
        "colab": {
          "base_uri": "https://localhost:8080/",
          "height": 0
        },
        "id": "xksykF9t5WaV",
        "outputId": "24b5c88f-a3c5-4b6a-d17b-2d9fbb485c98"
      },
      "execution_count": 151,
      "outputs": [
        {
          "output_type": "stream",
          "name": "stdout",
          "text": [
            "[[[ 0  1  2]\n",
            "  [ 3  4  5]]\n",
            "\n",
            " [[ 6  7  8]\n",
            "  [ 9 10 11]]]\n"
          ]
        }
      ]
    },
    {
      "cell_type": "code",
      "source": [
        "D16=D.reshape(2, 3, 2)\n",
        "print(D16)"
      ],
      "metadata": {
        "colab": {
          "base_uri": "https://localhost:8080/",
          "height": 0
        },
        "id": "fUMQmyYn5XlV",
        "outputId": "fdeaf12c-7223-498e-db64-a8c9a815db62"
      },
      "execution_count": 152,
      "outputs": [
        {
          "output_type": "stream",
          "name": "stdout",
          "text": [
            "[[[ 0  1]\n",
            "  [ 2  3]\n",
            "  [ 4  5]]\n",
            "\n",
            " [[ 6  7]\n",
            "  [ 8  9]\n",
            "  [10 11]]]\n"
          ]
        }
      ]
    },
    {
      "cell_type": "markdown",
      "source": [
        "#**Zadanie 6**"
      ],
      "metadata": {
        "id": "nAjKqW0K-Pfc"
      }
    },
    {
      "cell_type": "code",
      "source": [
        "c = np.array([[2,4],[1,2]])\n",
        "d = np.array([[-3,5],[-7,8]])\n",
        "\n",
        "\n",
        "print(\"c=\\n\",c)\n",
        "print(\"d=\\n\",d)\n",
        "print(\"c.shape=\",c.shape)\n",
        "print(\"d.shape=\",d.shape)\n",
        "print(np.concatenate([c,d],axis=0))\n",
        "print(np.concatenate([c,d],axis=1))\n",
        "print(np.concatenate([d,c],axis=0))\n",
        "print(np.concatenate([d,c],axis=1))"
      ],
      "metadata": {
        "colab": {
          "base_uri": "https://localhost:8080/",
          "height": 0
        },
        "id": "qJBodt9Y-OEp",
        "outputId": "c17eadd7-ff0f-48d5-eceb-dd172bb6aa28"
      },
      "execution_count": 154,
      "outputs": [
        {
          "output_type": "stream",
          "name": "stdout",
          "text": [
            "c=\n",
            " [[2 4]\n",
            " [1 2]]\n",
            "d=\n",
            " [[-3  5]\n",
            " [-7  8]]\n",
            "c.shape= (2, 2)\n",
            "d.shape= (2, 2)\n",
            "[[ 2  4]\n",
            " [ 1  2]\n",
            " [-3  5]\n",
            " [-7  8]]\n",
            "[[ 2  4 -3  5]\n",
            " [ 1  2 -7  8]]\n",
            "[[-3  5]\n",
            " [-7  8]\n",
            " [ 2  4]\n",
            " [ 1  2]]\n",
            "[[-3  5  2  4]\n",
            " [-7  8  1  2]]\n"
          ]
        }
      ]
    },
    {
      "cell_type": "code",
      "source": [
        "print(\"c=\\n\",c)\n",
        "print(\"X2=\\n\",X2)\n",
        "print(\"c.shape=\",c.shape)\n",
        "print(\"X2.shape=\",X2.shape)\n",
        "#print(np.concatenate([c,X2],axis=0)) nie da się\n",
        "#print(np.concatenate([c,X2],axis=1)) nie da się\n",
        "#print(np.concatenate([X2,c],axis=0)) nie da się\n",
        "print(np.concatenate([X2,c],axis=1))\n",
        "\n"
      ],
      "metadata": {
        "colab": {
          "base_uri": "https://localhost:8080/",
          "height": 0
        },
        "id": "5fCGA7CQ4B6Z",
        "outputId": "aa01966e-5c95-49b0-f4e8-8b6ed77de96f"
      },
      "execution_count": 164,
      "outputs": [
        {
          "output_type": "stream",
          "name": "stdout",
          "text": [
            "c=\n",
            " [[2 4]\n",
            " [1 2]]\n",
            "X2=\n",
            " [[0. 0. 0.]\n",
            " [0. 0. 0.]]\n",
            "c.shape= (2, 2)\n",
            "X2.shape= (2, 3)\n",
            "[[0. 0. 0. 2. 4.]\n",
            " [0. 0. 0. 1. 2.]]\n"
          ]
        }
      ]
    },
    {
      "cell_type": "code",
      "source": [
        "print(\"X1=\\n\",X1)\n",
        "print(\"X2=\\n\",X2)\n",
        "print(\"X1.shape=\",X1.shape)\n",
        "print(\"X2.shape=\",X2.shape)\n",
        "#print(np.concatenate([X1,X2],axis=0)) #nie da się bez reshape()ale reshape nie możliwy\n",
        "#print(np.concatenate([X1,X2],axis=1)) #nie da się bez reshape() ale reshape nie możliwy\n",
        "#print(np.concatenate([X2,X1],axis=0)) #nie da się bez reshape()ale reshape nie możliwy\n",
        "#print(np.concatenate([X2,X1],axis=1)) #nie da się bez reshape() ale reshape nie możliwy\n"
      ],
      "metadata": {
        "colab": {
          "base_uri": "https://localhost:8080/"
        },
        "id": "I1Lm5F5T68P2",
        "outputId": "2626116b-7e4d-47ad-f975-12f4599a3a57"
      },
      "execution_count": 192,
      "outputs": [
        {
          "output_type": "stream",
          "name": "stdout",
          "text": [
            "X1=\n",
            " [[[0.4070197  0.98621055 0.55478561 0.59196399]\n",
            "  [0.41822612 0.17290574 0.40443101 0.44210796]]\n",
            "\n",
            " [[0.74761571 0.74483672 0.51288445 0.44470622]\n",
            "  [0.48961532 0.37642474 0.46962324 0.90785141]]\n",
            "\n",
            " [[0.76639296 0.79823238 0.45462832 0.20843041]\n",
            "  [0.20183244 0.29177744 0.95884464 0.89156037]]]\n",
            "X2=\n",
            " [[0. 0. 0.]\n",
            " [0. 0. 0.]]\n",
            "X1.shape= (3, 2, 4)\n",
            "X2.shape= (2, 3)\n"
          ]
        }
      ]
    },
    {
      "cell_type": "code",
      "source": [
        "print(\"D11=\\n\",D11)\n",
        "print(\"D13=\\n\",D13)\n",
        "print(\"D11.shape=\",D11.shape)\n",
        "print(\"D13.shape=\",D13.shape)\n",
        "#print(np.concatenate([D11,D13],axis=0)) nie da się bez reshape()\n",
        "#print(np.concatenate([D11,D13],axis=1)) nie da się bez reshape()\n",
        "#print(np.concatenate([D13,D11],axis=0)) nie da się bez reshape()\n",
        "#print(np.concatenate([D13,D11],axis=1)) nie da się bez reshape()\n",
        "D13d=D13.reshape(D11.shape)\n",
        "print(np.concatenate([D11,D13d],axis=0))\n",
        "print(np.concatenate([D11,D13d],axis=1))\n",
        "print(np.concatenate([D13d,D11],axis=0))\n",
        "print(np.concatenate([D13d,D11],axis=1))\n"
      ],
      "metadata": {
        "colab": {
          "base_uri": "https://localhost:8080/"
        },
        "id": "MHylKIDa7nvp",
        "outputId": "7c118362-a325-46ab-f212-d916862ff8a1"
      },
      "execution_count": 189,
      "outputs": [
        {
          "output_type": "stream",
          "name": "stdout",
          "text": [
            "D11=\n",
            " [[[ 0  1  2  3]]\n",
            "\n",
            " [[ 4  5  6  7]]\n",
            "\n",
            " [[ 8  9 10 11]]]\n",
            "D13=\n",
            " [[[ 0  1  2]]\n",
            "\n",
            " [[ 3  4  5]]\n",
            "\n",
            " [[ 6  7  8]]\n",
            "\n",
            " [[ 9 10 11]]]\n",
            "D11.shape= (3, 1, 4)\n",
            "D13.shape= (4, 1, 3)\n",
            "[[[ 0  1  2  3]]\n",
            "\n",
            " [[ 4  5  6  7]]\n",
            "\n",
            " [[ 8  9 10 11]]\n",
            "\n",
            " [[ 0  1  2  3]]\n",
            "\n",
            " [[ 4  5  6  7]]\n",
            "\n",
            " [[ 8  9 10 11]]]\n",
            "[[[ 0  1  2  3]\n",
            "  [ 0  1  2  3]]\n",
            "\n",
            " [[ 4  5  6  7]\n",
            "  [ 4  5  6  7]]\n",
            "\n",
            " [[ 8  9 10 11]\n",
            "  [ 8  9 10 11]]]\n",
            "[[[ 0  1  2  3]]\n",
            "\n",
            " [[ 4  5  6  7]]\n",
            "\n",
            " [[ 8  9 10 11]]\n",
            "\n",
            " [[ 0  1  2  3]]\n",
            "\n",
            " [[ 4  5  6  7]]\n",
            "\n",
            " [[ 8  9 10 11]]]\n",
            "[[[ 0  1  2  3]\n",
            "  [ 0  1  2  3]]\n",
            "\n",
            " [[ 4  5  6  7]\n",
            "  [ 4  5  6  7]]\n",
            "\n",
            " [[ 8  9 10 11]\n",
            "  [ 8  9 10 11]]]\n"
          ]
        }
      ]
    },
    {
      "cell_type": "markdown",
      "source": [
        "#**Zadanie 7**\n"
      ],
      "metadata": {
        "id": "skUCX47HAYq0"
      }
    },
    {
      "cell_type": "code",
      "source": [
        "c*d"
      ],
      "metadata": {
        "colab": {
          "base_uri": "https://localhost:8080/",
          "height": 0
        },
        "id": "frwnofVGAjxY",
        "outputId": "8f5e02df-5333-49bf-dbbf-7ed1c2964b9e"
      },
      "execution_count": 118,
      "outputs": [
        {
          "output_type": "execute_result",
          "data": {
            "text/plain": [
              "array([[-6, 20],\n",
              "       [-7, 16]])"
            ]
          },
          "metadata": {},
          "execution_count": 118
        }
      ]
    },
    {
      "cell_type": "code",
      "source": [
        "d+6\n",
        "d\n",
        "\n"
      ],
      "metadata": {
        "colab": {
          "base_uri": "https://localhost:8080/",
          "height": 0
        },
        "id": "ohj_-207Aocs",
        "outputId": "854430f4-ea1c-42f6-ddfd-87c4e52d7a9f"
      },
      "execution_count": 119,
      "outputs": [
        {
          "output_type": "execute_result",
          "data": {
            "text/plain": [
              "array([[-3,  5],\n",
              "       [-7,  8]])"
            ]
          },
          "metadata": {},
          "execution_count": 119
        }
      ]
    },
    {
      "cell_type": "code",
      "source": [
        "d*8\n",
        "d\n"
      ],
      "metadata": {
        "colab": {
          "base_uri": "https://localhost:8080/",
          "height": 0
        },
        "id": "3H-6qgRPBKhV",
        "outputId": "e4105f78-c6e4-4204-944f-a793c4342ffd"
      },
      "execution_count": 120,
      "outputs": [
        {
          "output_type": "execute_result",
          "data": {
            "text/plain": [
              "array([[-3,  5],\n",
              "       [-7,  8]])"
            ]
          },
          "metadata": {},
          "execution_count": 120
        }
      ]
    },
    {
      "cell_type": "code",
      "source": [
        "d-8\n",
        "d\n"
      ],
      "metadata": {
        "colab": {
          "base_uri": "https://localhost:8080/",
          "height": 0
        },
        "id": "lxKMrR3oBOV6",
        "outputId": "7abab960-588d-487f-dd13-1da99154e486"
      },
      "execution_count": 121,
      "outputs": [
        {
          "output_type": "execute_result",
          "data": {
            "text/plain": [
              "array([[-3,  5],\n",
              "       [-7,  8]])"
            ]
          },
          "metadata": {},
          "execution_count": 121
        }
      ]
    },
    {
      "cell_type": "code",
      "source": [
        "d/8\n",
        "d\n"
      ],
      "metadata": {
        "colab": {
          "base_uri": "https://localhost:8080/",
          "height": 0
        },
        "id": "bknhoAxbBSzc",
        "outputId": "a0d8a973-bc55-430d-c26b-c7e2945fcbf6"
      },
      "execution_count": 122,
      "outputs": [
        {
          "output_type": "execute_result",
          "data": {
            "text/plain": [
              "array([[-3,  5],\n",
              "       [-7,  8]])"
            ]
          },
          "metadata": {},
          "execution_count": 122
        }
      ]
    },
    {
      "cell_type": "code",
      "source": [
        "abs(8)\n",
        "d\n"
      ],
      "metadata": {
        "colab": {
          "base_uri": "https://localhost:8080/",
          "height": 0
        },
        "id": "guluJhC9BsOu",
        "outputId": "15c62628-e6b7-4b76-bb4e-d0e86c0c3c32"
      },
      "execution_count": 123,
      "outputs": [
        {
          "output_type": "execute_result",
          "data": {
            "text/plain": [
              "array([[-3,  5],\n",
              "       [-7,  8]])"
            ]
          },
          "metadata": {},
          "execution_count": 123
        }
      ]
    },
    {
      "cell_type": "code",
      "source": [
        "np.exp(d)\n",
        "d\n"
      ],
      "metadata": {
        "colab": {
          "base_uri": "https://localhost:8080/",
          "height": 0
        },
        "id": "hzFEogi1BvHX",
        "outputId": "c2f385a7-3a72-448b-f7ab-8c5b26ab97f1"
      },
      "execution_count": 124,
      "outputs": [
        {
          "output_type": "execute_result",
          "data": {
            "text/plain": [
              "array([[-3,  5],\n",
              "       [-7,  8]])"
            ]
          },
          "metadata": {},
          "execution_count": 124
        }
      ]
    },
    {
      "cell_type": "code",
      "source": [
        "np.power(d,4)\n",
        "d"
      ],
      "metadata": {
        "colab": {
          "base_uri": "https://localhost:8080/",
          "height": 0
        },
        "id": "qkwOPKCrBxo2",
        "outputId": "4de0f22d-e244-44cb-dcc6-ca6198e472bf"
      },
      "execution_count": 125,
      "outputs": [
        {
          "output_type": "execute_result",
          "data": {
            "text/plain": [
              "array([[-3,  5],\n",
              "       [-7,  8]])"
            ]
          },
          "metadata": {},
          "execution_count": 125
        }
      ]
    },
    {
      "cell_type": "code",
      "source": [
        "A = np.array([[1],[1]])\n",
        "A"
      ],
      "metadata": {
        "colab": {
          "base_uri": "https://localhost:8080/",
          "height": 0
        },
        "id": "axPKlG9lCBcA",
        "outputId": "db1f5072-24eb-4283-9db8-62fc2f1266bf"
      },
      "execution_count": 126,
      "outputs": [
        {
          "output_type": "execute_result",
          "data": {
            "text/plain": [
              "array([[1],\n",
              "       [1]])"
            ]
          },
          "metadata": {},
          "execution_count": 126
        }
      ]
    },
    {
      "cell_type": "code",
      "source": [
        "A = A+X2\n",
        "A"
      ],
      "metadata": {
        "colab": {
          "base_uri": "https://localhost:8080/",
          "height": 0
        },
        "id": "0tqRkYW2DGro",
        "outputId": "f7f2ffcf-7680-4f31-c3f4-ff6a68cd92e8"
      },
      "execution_count": 127,
      "outputs": [
        {
          "output_type": "execute_result",
          "data": {
            "text/plain": [
              "array([[1., 1., 1.],\n",
              "       [1., 1., 1.]])"
            ]
          },
          "metadata": {},
          "execution_count": 127
        }
      ]
    },
    {
      "cell_type": "code",
      "source": [
        "A = A-X2\n",
        "A"
      ],
      "metadata": {
        "id": "_7rVXNo1DUar",
        "outputId": "bee6858a-d8bd-4a99-8455-e0a2f5397369",
        "colab": {
          "base_uri": "https://localhost:8080/",
          "height": 0
        }
      },
      "execution_count": 128,
      "outputs": [
        {
          "output_type": "execute_result",
          "data": {
            "text/plain": [
              "array([[1., 1., 1.],\n",
              "       [1., 1., 1.]])"
            ]
          },
          "metadata": {},
          "execution_count": 128
        }
      ]
    },
    {
      "cell_type": "code",
      "source": [
        "A = A*X2\n",
        "A"
      ],
      "metadata": {
        "id": "6ibiNbG-DXBZ",
        "outputId": "2c64af23-1a8a-4e22-ee0e-2d55b54a88c2",
        "colab": {
          "base_uri": "https://localhost:8080/",
          "height": 0
        }
      },
      "execution_count": 129,
      "outputs": [
        {
          "output_type": "execute_result",
          "data": {
            "text/plain": [
              "array([[0., 0., 0.],\n",
              "       [0., 0., 0.]])"
            ]
          },
          "metadata": {},
          "execution_count": 129
        }
      ]
    },
    {
      "cell_type": "markdown",
      "source": [
        "#**Zadadnie 8**"
      ],
      "metadata": {
        "id": "zv8fs098BThe"
      }
    },
    {
      "cell_type": "code",
      "source": [
        "c = np.array([[1,1,1],[1,1,1]])\n",
        "d = np.array([[0,1,2]])\n",
        "\n",
        "c+d\n",
        "\n"
      ],
      "metadata": {
        "colab": {
          "base_uri": "https://localhost:8080/",
          "height": 0
        },
        "id": "7oUPolLsBVWU",
        "outputId": "298a709d-6948-40d7-ac85-1230bb56d650"
      },
      "execution_count": 130,
      "outputs": [
        {
          "output_type": "execute_result",
          "data": {
            "text/plain": [
              "array([[1, 2, 3],\n",
              "       [1, 2, 3]])"
            ]
          },
          "metadata": {},
          "execution_count": 130
        }
      ]
    },
    {
      "cell_type": "code",
      "source": [
        "c= np.array([[0],[1],[2]])\n",
        "d = np.array([[0,1,2]])\n",
        "c+d"
      ],
      "metadata": {
        "colab": {
          "base_uri": "https://localhost:8080/",
          "height": 0
        },
        "id": "z_BMUeaZCiUd",
        "outputId": "20a7ca80-0e0c-4adb-e1c5-177d8ba5ccf1"
      },
      "execution_count": 131,
      "outputs": [
        {
          "output_type": "execute_result",
          "data": {
            "text/plain": [
              "array([[0, 1, 2],\n",
              "       [1, 2, 3],\n",
              "       [2, 3, 4]])"
            ]
          },
          "metadata": {},
          "execution_count": 131
        }
      ]
    },
    {
      "cell_type": "code",
      "source": [],
      "metadata": {
        "id": "8JlDPVQTzfku"
      },
      "execution_count": 131,
      "outputs": []
    }
  ]
}