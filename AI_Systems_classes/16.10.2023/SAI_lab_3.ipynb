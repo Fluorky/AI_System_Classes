{
  "nbformat": 4,
  "nbformat_minor": 0,
  "metadata": {
    "colab": {
      "provenance": []
    },
    "kernelspec": {
      "name": "python3",
      "display_name": "Python 3"
    },
    "language_info": {
      "name": "python"
    }
  },
  "cells": [
    {
      "cell_type": "code",
      "execution_count": 8,
      "metadata": {
        "id": "cFkg-_1eARzN"
      },
      "outputs": [],
      "source": [
        "import numpy as np"
      ]
    },
    {
      "cell_type": "markdown",
      "source": [
        "Zad 1"
      ],
      "metadata": {
        "id": "c_6qg0j5D_qQ"
      }
    },
    {
      "cell_type": "code",
      "source": [
        "A = np.array([[2,-3,1],[4,5,0],[2,-1,3]])"
      ],
      "metadata": {
        "id": "4x2qp856D-6c"
      },
      "execution_count": 59,
      "outputs": []
    },
    {
      "cell_type": "code",
      "source": [
        "B= np.array([[3,-4,-2]])"
      ],
      "metadata": {
        "id": "ZT7lOs3SEvWY"
      },
      "execution_count": 60,
      "outputs": []
    },
    {
      "cell_type": "code",
      "source": [
        "C = np.array([[2,4],[-2,1],[5,0]])"
      ],
      "metadata": {
        "id": "YosdVpfLFBpn"
      },
      "execution_count": 61,
      "outputs": []
    },
    {
      "cell_type": "code",
      "source": [
        "D = np.array([[3],[6],[8]])"
      ],
      "metadata": {
        "id": "gh4bOHXZ0t8B"
      },
      "execution_count": 62,
      "outputs": []
    },
    {
      "cell_type": "code",
      "source": [
        "B1= B.reshape(3,1) #najprawdopodobniej błąd w zadaniu"
      ],
      "metadata": {
        "id": "Xaf6uFFhF4yO"
      },
      "execution_count": 63,
      "outputs": []
    },
    {
      "cell_type": "code",
      "source": [
        "print(B1)"
      ],
      "metadata": {
        "colab": {
          "base_uri": "https://localhost:8080/",
          "height": 0
        },
        "id": "__uOStL-F8WP",
        "outputId": "84ed4758-2ce8-4700-aaaa-b19830070a72"
      },
      "execution_count": 64,
      "outputs": [
        {
          "output_type": "stream",
          "name": "stdout",
          "text": [
            "[[ 3]\n",
            " [-4]\n",
            " [-2]]\n"
          ]
        }
      ]
    },
    {
      "cell_type": "code",
      "source": [
        "print(A*B)\n",
        "#ValueError: operands could not be broadcast together with shapes (3,3) (1,4)"
      ],
      "metadata": {
        "colab": {
          "base_uri": "https://localhost:8080/",
          "height": 0
        },
        "id": "KO4Q54TbGZaG",
        "outputId": "969d0d23-cfb1-4232-b32f-b3074778763b"
      },
      "execution_count": 65,
      "outputs": [
        {
          "output_type": "stream",
          "name": "stdout",
          "text": [
            "[[  6  12  -2]\n",
            " [ 12 -20   0]\n",
            " [  6   4  -6]]\n"
          ]
        }
      ]
    },
    {
      "cell_type": "code",
      "source": [
        "print(A*B1)\n",
        "#ValueError: operands could not be broadcast together with shapes (3,3) (4,1)"
      ],
      "metadata": {
        "colab": {
          "base_uri": "https://localhost:8080/",
          "height": 0
        },
        "id": "MVqwe4lkGlpQ",
        "outputId": "e11b8c05-dd1b-40e7-af06-f7a1ace72346"
      },
      "execution_count": 66,
      "outputs": [
        {
          "output_type": "stream",
          "name": "stdout",
          "text": [
            "[[  6  -9   3]\n",
            " [-16 -20   0]\n",
            " [ -4   2  -6]]\n"
          ]
        }
      ]
    },
    {
      "cell_type": "code",
      "source": [
        "#@print(A*C)\n",
        "#ValueError: operands could not be broadcast together with shapes (3,3) (3,2)"
      ],
      "metadata": {
        "id": "pde2t7Wa1JSO"
      },
      "execution_count": 69,
      "outputs": []
    },
    {
      "cell_type": "code",
      "source": [
        "print(A*D)"
      ],
      "metadata": {
        "colab": {
          "base_uri": "https://localhost:8080/",
          "height": 0
        },
        "id": "h_20E7oV1Qe_",
        "outputId": "66ca8dfb-8593-4e47-f5f4-12215f47d4bd"
      },
      "execution_count": 70,
      "outputs": [
        {
          "output_type": "stream",
          "name": "stdout",
          "text": [
            "[[ 6 -9  3]\n",
            " [24 30  0]\n",
            " [16 -8 24]]\n"
          ]
        }
      ]
    },
    {
      "cell_type": "code",
      "source": [
        "print(B*A)\n",
        "#ValueError: operands could not be broadcast together with shapes (1,4) (3,3)"
      ],
      "metadata": {
        "colab": {
          "base_uri": "https://localhost:8080/",
          "height": 0
        },
        "id": "XliXsXp71U2m",
        "outputId": "b5695268-49d0-4c2c-8f31-8dd2170c2213"
      },
      "execution_count": 71,
      "outputs": [
        {
          "output_type": "stream",
          "name": "stdout",
          "text": [
            "[[  6  12  -2]\n",
            " [ 12 -20   0]\n",
            " [  6   4  -6]]\n"
          ]
        }
      ]
    },
    {
      "cell_type": "code",
      "source": [
        "print(B*B1)"
      ],
      "metadata": {
        "colab": {
          "base_uri": "https://localhost:8080/",
          "height": 0
        },
        "id": "kn3m-h6B1XRT",
        "outputId": "11f062a9-94e0-45f4-8e6b-aab98817be77"
      },
      "execution_count": 72,
      "outputs": [
        {
          "output_type": "stream",
          "name": "stdout",
          "text": [
            "[[  9 -12  -6]\n",
            " [-12  16   8]\n",
            " [ -6   8   4]]\n"
          ]
        }
      ]
    },
    {
      "cell_type": "code",
      "source": [
        "#print(B*C)\n",
        "#ValueError: operands could not be broadcast together with shapes (1,3) (3,2)"
      ],
      "metadata": {
        "id": "uRSH6kTI1agJ"
      },
      "execution_count": 74,
      "outputs": []
    },
    {
      "cell_type": "code",
      "source": [
        "print(B*D)"
      ],
      "metadata": {
        "colab": {
          "base_uri": "https://localhost:8080/",
          "height": 0
        },
        "id": "GDKrBWWR1bvW",
        "outputId": "2dde311c-2410-4316-a22c-61a20f4bdf51"
      },
      "execution_count": 75,
      "outputs": [
        {
          "output_type": "stream",
          "name": "stdout",
          "text": [
            "[[  9 -12  -6]\n",
            " [ 18 -24 -12]\n",
            " [ 24 -32 -16]]\n"
          ]
        }
      ]
    },
    {
      "cell_type": "code",
      "source": [
        "#print(C*A)\n",
        "#ValueError: operands could not be broadcast together with shapes (3,2) (3,3)"
      ],
      "metadata": {
        "id": "M24LNIbr1c8X"
      },
      "execution_count": 77,
      "outputs": []
    },
    {
      "cell_type": "code",
      "source": [
        "#print(C*B)\n",
        "#ValueError: operands could not be broadcast together with shapes (3,2) (1,3)"
      ],
      "metadata": {
        "id": "tTkRocx81f8x"
      },
      "execution_count": 79,
      "outputs": []
    },
    {
      "cell_type": "code",
      "source": [
        "print(C*B1)\n",
        "#ValueError: operands could not be broadcast together with shapes (3,2) (4,1)"
      ],
      "metadata": {
        "colab": {
          "base_uri": "https://localhost:8080/",
          "height": 0
        },
        "id": "W0pZz5SS1jhb",
        "outputId": "c8c0d909-f81e-4a4b-eee8-902353f0d731"
      },
      "execution_count": 80,
      "outputs": [
        {
          "output_type": "stream",
          "name": "stdout",
          "text": [
            "[[  6  12]\n",
            " [  8  -4]\n",
            " [-10   0]]\n"
          ]
        }
      ]
    },
    {
      "cell_type": "code",
      "source": [
        "print(C*D)"
      ],
      "metadata": {
        "colab": {
          "base_uri": "https://localhost:8080/",
          "height": 0
        },
        "id": "Cdi7v9ui1hk0",
        "outputId": "f9c876b8-1033-493d-b497-1647e6438735"
      },
      "execution_count": 81,
      "outputs": [
        {
          "output_type": "stream",
          "name": "stdout",
          "text": [
            "[[  6  12]\n",
            " [-12   6]\n",
            " [ 40   0]]\n"
          ]
        }
      ]
    },
    {
      "cell_type": "code",
      "source": [
        "print(D*A)"
      ],
      "metadata": {
        "colab": {
          "base_uri": "https://localhost:8080/",
          "height": 0
        },
        "id": "dbE9AaxT1lyI",
        "outputId": "d0f185a4-249a-4d89-b4aa-7154a396cf8b"
      },
      "execution_count": 82,
      "outputs": [
        {
          "output_type": "stream",
          "name": "stdout",
          "text": [
            "[[ 6 -9  3]\n",
            " [24 30  0]\n",
            " [16 -8 24]]\n"
          ]
        }
      ]
    },
    {
      "cell_type": "code",
      "source": [
        "print(D*B)"
      ],
      "metadata": {
        "colab": {
          "base_uri": "https://localhost:8080/",
          "height": 0
        },
        "id": "H6NoTBfy1nTn",
        "outputId": "9164997c-63af-4a39-fb03-ee8695fc3755"
      },
      "execution_count": 83,
      "outputs": [
        {
          "output_type": "stream",
          "name": "stdout",
          "text": [
            "[[  9 -12  -6]\n",
            " [ 18 -24 -12]\n",
            " [ 24 -32 -16]]\n"
          ]
        }
      ]
    },
    {
      "cell_type": "code",
      "source": [
        "print(D*B1)\n",
        "#alueError: operands could not be broadcast together with shapes (3,2) (4,1)"
      ],
      "metadata": {
        "colab": {
          "base_uri": "https://localhost:8080/",
          "height": 0
        },
        "id": "b9XmvXUc1ovn",
        "outputId": "0e4fd38d-98b6-4de7-df56-687b411dc51c"
      },
      "execution_count": 84,
      "outputs": [
        {
          "output_type": "stream",
          "name": "stdout",
          "text": [
            "[[  9]\n",
            " [-24]\n",
            " [-16]]\n"
          ]
        }
      ]
    },
    {
      "cell_type": "code",
      "source": [
        "print(D*C)"
      ],
      "metadata": {
        "colab": {
          "base_uri": "https://localhost:8080/",
          "height": 0
        },
        "id": "gfXHd6zn1sSZ",
        "outputId": "f363bd46-9ada-428f-d5a1-ec5c634408c6"
      },
      "execution_count": 85,
      "outputs": [
        {
          "output_type": "stream",
          "name": "stdout",
          "text": [
            "[[  6  12]\n",
            " [-12   6]\n",
            " [ 40   0]]\n"
          ]
        }
      ]
    },
    {
      "cell_type": "markdown",
      "source": [
        "Np.matmul"
      ],
      "metadata": {
        "id": "TUhl2MuW2bHS"
      }
    },
    {
      "cell_type": "code",
      "source": [
        "#print(np.matmul(A,B))\n",
        "#ValueError: matmul: Input operand 1 has a mismatch in its core dimension 0, with gufunc signature (n?,k),(k,m?)->(n?,m?) (size 1 is different from 3)"
      ],
      "metadata": {
        "id": "_ZyTfJ592aIY"
      },
      "execution_count": 87,
      "outputs": []
    },
    {
      "cell_type": "code",
      "source": [
        "print(np.matmul(A,B1))"
      ],
      "metadata": {
        "colab": {
          "base_uri": "https://localhost:8080/",
          "height": 0
        },
        "id": "v7KOcK7Y3I9E",
        "outputId": "724f1464-3371-461e-873e-bf3242fc8155"
      },
      "execution_count": 88,
      "outputs": [
        {
          "output_type": "stream",
          "name": "stdout",
          "text": [
            "[[16]\n",
            " [-8]\n",
            " [ 4]]\n"
          ]
        }
      ]
    },
    {
      "cell_type": "code",
      "source": [
        "print(np.matmul(A,C))"
      ],
      "metadata": {
        "colab": {
          "base_uri": "https://localhost:8080/",
          "height": 0
        },
        "id": "qxsLCpGy2ikX",
        "outputId": "76436eaf-b85b-47fe-cb65-2b4f77a19aeb"
      },
      "execution_count": 89,
      "outputs": [
        {
          "output_type": "stream",
          "name": "stdout",
          "text": [
            "[[15  5]\n",
            " [-2 21]\n",
            " [21  7]]\n"
          ]
        }
      ]
    },
    {
      "cell_type": "code",
      "source": [
        "print(np.matmul(A,D))"
      ],
      "metadata": {
        "colab": {
          "base_uri": "https://localhost:8080/",
          "height": 0
        },
        "id": "5fgSHjL_3Qs5",
        "outputId": "efab1af0-7546-4f03-e016-7d512f2b9874"
      },
      "execution_count": 90,
      "outputs": [
        {
          "output_type": "stream",
          "name": "stdout",
          "text": [
            "[[-4]\n",
            " [42]\n",
            " [24]]\n"
          ]
        }
      ]
    },
    {
      "cell_type": "code",
      "source": [
        "print(np.matmul(B,A))"
      ],
      "metadata": {
        "colab": {
          "base_uri": "https://localhost:8080/",
          "height": 0
        },
        "id": "JyPcve9V3SUl",
        "outputId": "da9a821f-65b2-4e05-e3ab-e9756119a574"
      },
      "execution_count": 91,
      "outputs": [
        {
          "output_type": "stream",
          "name": "stdout",
          "text": [
            "[[-14 -27  -3]]\n"
          ]
        }
      ]
    },
    {
      "cell_type": "code",
      "source": [
        "print(np.matmul(B,B1))"
      ],
      "metadata": {
        "colab": {
          "base_uri": "https://localhost:8080/",
          "height": 0
        },
        "id": "uInAI1H83XDS",
        "outputId": "acb71a0c-37fd-4fd9-ce12-0cc2a69e5da9"
      },
      "execution_count": 93,
      "outputs": [
        {
          "output_type": "stream",
          "name": "stdout",
          "text": [
            "[[29]]\n"
          ]
        }
      ]
    },
    {
      "cell_type": "code",
      "source": [
        "print(np.matmul(B,C))"
      ],
      "metadata": {
        "colab": {
          "base_uri": "https://localhost:8080/",
          "height": 0
        },
        "id": "l4PuU6uH3UsV",
        "outputId": "36462039-3808-4c64-f70f-2a9c997e0de9"
      },
      "execution_count": 92,
      "outputs": [
        {
          "output_type": "stream",
          "name": "stdout",
          "text": [
            "[[4 8]]\n"
          ]
        }
      ]
    },
    {
      "cell_type": "code",
      "source": [
        "print(np.matmul(B,D))"
      ],
      "metadata": {
        "colab": {
          "base_uri": "https://localhost:8080/",
          "height": 0
        },
        "id": "IZHDcr9v3aGZ",
        "outputId": "2dbec87a-11d1-43ae-d8ad-89ff032eaa0b"
      },
      "execution_count": 94,
      "outputs": [
        {
          "output_type": "stream",
          "name": "stdout",
          "text": [
            "[[-31]]\n"
          ]
        }
      ]
    },
    {
      "cell_type": "code",
      "source": [
        "#print(np.matmul(C,A))\n",
        "#ValueError: matmul: Input operand 1 has a mismatch in its core dimension 0, with gufunc signature (n?,k),(k,m?)->(n?,m?) (size 3 is different from 2)"
      ],
      "metadata": {
        "id": "AOGqNGJV3aDm"
      },
      "execution_count": 101,
      "outputs": []
    },
    {
      "cell_type": "code",
      "source": [
        "#print(np.matmul(C,B1))\n",
        "#ValueError: matmul: Input operand 1 has a mismatch in its core dimension 0, with gufunc signature (n?,k),(k,m?)->(n?,m?) (size 3 is different from 2)"
      ],
      "metadata": {
        "id": "2AfUBeJF3aAq"
      },
      "execution_count": 103,
      "outputs": []
    },
    {
      "cell_type": "code",
      "source": [
        "#print(np.matmul(C,D))\n",
        "#ValueError: matmul: Input operand 1 has a mismatch in its core dimension 0, with gufunc signature (n?,k),(k,m?)->(n?,m?) (size 3 is different from 2)"
      ],
      "metadata": {
        "id": "TQqoPYcx3Z54"
      },
      "execution_count": 104,
      "outputs": []
    },
    {
      "cell_type": "code",
      "source": [
        "#print(np.matmul(D,A))\n",
        "#ValueError: matmul: Input operand 1 has a mismatch in its core dimension 0, with gufunc signature (n?,k),(k,m?)->(n?,m?) (size 3 is different from 1)"
      ],
      "metadata": {
        "id": "-ZaYHgqC3hEk"
      },
      "execution_count": 105,
      "outputs": []
    },
    {
      "cell_type": "code",
      "source": [
        "print(np.matmul(D,B))"
      ],
      "metadata": {
        "colab": {
          "base_uri": "https://localhost:8080/",
          "height": 0
        },
        "id": "w4Jux1xl3hCE",
        "outputId": "16b00788-4b92-44de-987b-d1d2cfb42ac2"
      },
      "execution_count": 98,
      "outputs": [
        {
          "output_type": "stream",
          "name": "stdout",
          "text": [
            "[[  9 -12  -6]\n",
            " [ 18 -24 -12]\n",
            " [ 24 -32 -16]]\n"
          ]
        }
      ]
    },
    {
      "cell_type": "code",
      "source": [
        "#print(np.matmul(D,B1))\n",
        "#ValueError: matmul: Input operand 1 has a mismatch in its core dimension 0, with gufunc signature (n?,k),(k,m?)->(n?,m?) (size 3 is different from 1)"
      ],
      "metadata": {
        "id": "X5q_ZJ573g-z"
      },
      "execution_count": 106,
      "outputs": []
    },
    {
      "cell_type": "code",
      "source": [
        "#print(np.matmul(D,C))\n",
        "#ValueError: matmul: Input operand 1 has a mismatch in its core dimension 0, with gufunc signature (n?,k),(k,m?)->(n?,m?) (size 3 is different from 1)"
      ],
      "metadata": {
        "id": "KcW3otnq3g4d"
      },
      "execution_count": 107,
      "outputs": []
    },
    {
      "cell_type": "markdown",
      "source": [
        "Sprawdź czy operacja np.dot(x,y) jest tożsama z operacją np.dot np.matmul"
      ],
      "metadata": {
        "id": "hIcCRAos4KDw"
      }
    },
    {
      "cell_type": "code",
      "source": [
        "print(np.dot(A,C))"
      ],
      "metadata": {
        "colab": {
          "base_uri": "https://localhost:8080/",
          "height": 0
        },
        "id": "xt04hQReHNrm",
        "outputId": "74f556a7-af1e-4bac-efce-dd27808302b7"
      },
      "execution_count": 109,
      "outputs": [
        {
          "output_type": "stream",
          "name": "stdout",
          "text": [
            "[[15  5]\n",
            " [-2 21]\n",
            " [21  7]]\n"
          ]
        }
      ]
    },
    {
      "cell_type": "code",
      "source": [
        "print(np.matmul(A,C))"
      ],
      "metadata": {
        "colab": {
          "base_uri": "https://localhost:8080/",
          "height": 0
        },
        "id": "MNVxXqxWHNhs",
        "outputId": "8b23619d-5db2-4429-98f6-8d19abf07c79"
      },
      "execution_count": 111,
      "outputs": [
        {
          "output_type": "stream",
          "name": "stdout",
          "text": [
            "[[15  5]\n",
            " [-2 21]\n",
            " [21  7]]\n"
          ]
        }
      ]
    },
    {
      "cell_type": "markdown",
      "source": [
        "W przypadku której macierzy możliwe jest znalezienie macierzy odwrotnej? Znajdź\n",
        "tę wartość wykorzystując odpowiednią operację z numpy.linalg"
      ],
      "metadata": {
        "id": "Pb0Qm_Fc4oxW"
      }
    },
    {
      "cell_type": "code",
      "source": [
        "np.linalg.inv(A)"
      ],
      "metadata": {
        "colab": {
          "base_uri": "https://localhost:8080/",
          "height": 0
        },
        "id": "MCeWBX-m5Dt-",
        "outputId": "7a4b09e3-d274-48eb-b190-a570b6ace1ea"
      },
      "execution_count": 118,
      "outputs": [
        {
          "output_type": "execute_result",
          "data": {
            "text/plain": [
              "array([[ 0.28846154,  0.15384615, -0.09615385],\n",
              "       [-0.23076923,  0.07692308,  0.07692308],\n",
              "       [-0.26923077, -0.07692308,  0.42307692]])"
            ]
          },
          "metadata": {},
          "execution_count": 118
        }
      ]
    },
    {
      "cell_type": "code",
      "source": [
        "try:\n",
        "  if(np.linalg.inv(B)):\n",
        "   print(\"Da sie znalezc odwrotnej B\")\n",
        "   print(np.linalg.inv(B))\n",
        "except:\n",
        "    print(\"nie da się\")\n",
        "\n"
      ],
      "metadata": {
        "colab": {
          "base_uri": "https://localhost:8080/",
          "height": 0
        },
        "id": "UMirXh6IJTba",
        "outputId": "2ae10a80-8c17-4cf5-8043-fe7f2314e2db"
      },
      "execution_count": 114,
      "outputs": [
        {
          "output_type": "stream",
          "name": "stdout",
          "text": [
            "nie da się\n"
          ]
        }
      ]
    },
    {
      "cell_type": "code",
      "source": [
        "try:\n",
        "  if(np.linalg.inv(B1)):\n",
        "   print(\"Da sie znalezc odwrotnej B1\")\n",
        "   print(np.linalg.inv(B1))\n",
        "except:\n",
        "    print(\"nie da się\")\n",
        "\n"
      ],
      "metadata": {
        "colab": {
          "base_uri": "https://localhost:8080/",
          "height": 0
        },
        "id": "sPzK_n1b4004",
        "outputId": "24fb4101-367d-4858-880d-cb9c15326844"
      },
      "execution_count": 115,
      "outputs": [
        {
          "output_type": "stream",
          "name": "stdout",
          "text": [
            "nie da się\n"
          ]
        }
      ]
    },
    {
      "cell_type": "code",
      "source": [
        "try:\n",
        "  if(np.linalg.inv(C)):\n",
        "   print(\"Da sie znalezc odwrotnej c\")\n",
        "   print(np.linalg.inv(C))\n",
        "except:\n",
        "    print(\"nie da się\")\n"
      ],
      "metadata": {
        "colab": {
          "base_uri": "https://localhost:8080/",
          "height": 0
        },
        "id": "JNJ4aEo6JX0Q",
        "outputId": "ecc15d34-5376-4d29-9f14-9de33a86e67d"
      },
      "execution_count": 116,
      "outputs": [
        {
          "output_type": "stream",
          "name": "stdout",
          "text": [
            "nie da się\n"
          ]
        }
      ]
    },
    {
      "cell_type": "code",
      "source": [
        "try:\n",
        "  if(np.linalg.inv(D)):\n",
        "   print(\"Da sie znalezc odwrotnej D\")\n",
        "   print(np.linalg.inv(D))\n",
        "except:\n",
        "    print(\"nie da się\")\n",
        "\n"
      ],
      "metadata": {
        "colab": {
          "base_uri": "https://localhost:8080/",
          "height": 0
        },
        "id": "nbRj-mTu49iP",
        "outputId": "aee20c03-8a44-452b-dd4a-a803a858e5a8"
      },
      "execution_count": 117,
      "outputs": [
        {
          "output_type": "stream",
          "name": "stdout",
          "text": [
            "nie da się\n"
          ]
        }
      ]
    },
    {
      "cell_type": "code",
      "source": [
        "np.sum(A,axis=0)"
      ],
      "metadata": {
        "colab": {
          "base_uri": "https://localhost:8080/",
          "height": 0
        },
        "id": "vJMvtHmvJYxP",
        "outputId": "da39664c-59a9-457e-dc05-956bc6e67c45"
      },
      "execution_count": 136,
      "outputs": [
        {
          "output_type": "execute_result",
          "data": {
            "text/plain": [
              "array([8, 1, 4])"
            ]
          },
          "metadata": {},
          "execution_count": 136
        }
      ]
    },
    {
      "cell_type": "code",
      "source": [
        "np.sum(A,axis=1)"
      ],
      "metadata": {
        "colab": {
          "base_uri": "https://localhost:8080/",
          "height": 0
        },
        "id": "4aRuVaNaKUSD",
        "outputId": "50608cc1-9abb-4352-8429-53bba61c28eb"
      },
      "execution_count": 137,
      "outputs": [
        {
          "output_type": "execute_result",
          "data": {
            "text/plain": [
              "array([0, 9, 4])"
            ]
          },
          "metadata": {},
          "execution_count": 137
        }
      ]
    },
    {
      "cell_type": "code",
      "source": [
        "np.sum(B,axis=0)"
      ],
      "metadata": {
        "colab": {
          "base_uri": "https://localhost:8080/",
          "height": 0
        },
        "id": "mRa-ftK45dlk",
        "outputId": "f648bc9e-9a89-4e92-942b-200484cb4609"
      },
      "execution_count": 123,
      "outputs": [
        {
          "output_type": "execute_result",
          "data": {
            "text/plain": [
              "array([ 3, -4, -2])"
            ]
          },
          "metadata": {},
          "execution_count": 123
        }
      ]
    },
    {
      "cell_type": "code",
      "source": [
        "np.sum(B,axis=1)"
      ],
      "metadata": {
        "colab": {
          "base_uri": "https://localhost:8080/",
          "height": 0
        },
        "id": "D59P-TQy5fEY",
        "outputId": "0da7445c-2507-48d4-a0a8-6cd71e144666"
      },
      "execution_count": 124,
      "outputs": [
        {
          "output_type": "execute_result",
          "data": {
            "text/plain": [
              "array([-3])"
            ]
          },
          "metadata": {},
          "execution_count": 124
        }
      ]
    },
    {
      "cell_type": "code",
      "source": [
        "np.sum(B1,axis=0)"
      ],
      "metadata": {
        "colab": {
          "base_uri": "https://localhost:8080/",
          "height": 0
        },
        "id": "jx2kbEe45hPP",
        "outputId": "4161cd2b-ffdf-4211-d520-37a6b529e431"
      },
      "execution_count": 125,
      "outputs": [
        {
          "output_type": "execute_result",
          "data": {
            "text/plain": [
              "array([-3])"
            ]
          },
          "metadata": {},
          "execution_count": 125
        }
      ]
    },
    {
      "cell_type": "code",
      "source": [
        "np.sum(B1,axis=1)"
      ],
      "metadata": {
        "colab": {
          "base_uri": "https://localhost:8080/",
          "height": 0
        },
        "id": "NjlHf5vJ5imk",
        "outputId": "f6614feb-90e6-430b-a24d-e829d5c13fef"
      },
      "execution_count": 126,
      "outputs": [
        {
          "output_type": "execute_result",
          "data": {
            "text/plain": [
              "array([ 3, -4, -2])"
            ]
          },
          "metadata": {},
          "execution_count": 126
        }
      ]
    },
    {
      "cell_type": "code",
      "source": [
        "np.sum(C,axis=0)"
      ],
      "metadata": {
        "colab": {
          "base_uri": "https://localhost:8080/",
          "height": 0
        },
        "id": "g9hECBQ45keO",
        "outputId": "6f7b4778-b659-46cc-ea6a-755e4e35bc27"
      },
      "execution_count": 127,
      "outputs": [
        {
          "output_type": "execute_result",
          "data": {
            "text/plain": [
              "array([5, 5])"
            ]
          },
          "metadata": {},
          "execution_count": 127
        }
      ]
    },
    {
      "cell_type": "code",
      "source": [
        "np.sum(C,axis=1)"
      ],
      "metadata": {
        "colab": {
          "base_uri": "https://localhost:8080/",
          "height": 0
        },
        "id": "YXJCLxaa5lsm",
        "outputId": "7def907b-4b0b-47a0-d57c-5621cc8c89ac"
      },
      "execution_count": 128,
      "outputs": [
        {
          "output_type": "execute_result",
          "data": {
            "text/plain": [
              "array([ 6, -1,  5])"
            ]
          },
          "metadata": {},
          "execution_count": 128
        }
      ]
    },
    {
      "cell_type": "code",
      "source": [
        "np.sum(D,axis=0)"
      ],
      "metadata": {
        "colab": {
          "base_uri": "https://localhost:8080/",
          "height": 0
        },
        "id": "hXLnBCpc5n3H",
        "outputId": "9b6e7b94-de02-4388-aec0-60298026755d"
      },
      "execution_count": 129,
      "outputs": [
        {
          "output_type": "execute_result",
          "data": {
            "text/plain": [
              "array([17])"
            ]
          },
          "metadata": {},
          "execution_count": 129
        }
      ]
    },
    {
      "cell_type": "code",
      "source": [
        "np.sum(D,axis=1)"
      ],
      "metadata": {
        "colab": {
          "base_uri": "https://localhost:8080/",
          "height": 0
        },
        "id": "SDXdVqVo5plu",
        "outputId": "6676e1e1-4853-49cc-f4ec-e47c9ea19a63"
      },
      "execution_count": 130,
      "outputs": [
        {
          "output_type": "execute_result",
          "data": {
            "text/plain": [
              "array([3, 6, 8])"
            ]
          },
          "metadata": {},
          "execution_count": 130
        }
      ]
    },
    {
      "cell_type": "code",
      "source": [
        "np.sum(A)"
      ],
      "metadata": {
        "colab": {
          "base_uri": "https://localhost:8080/",
          "height": 0
        },
        "id": "-0QYjAHo5wVs",
        "outputId": "c4ccade3-4be2-4bce-f714-61c40c0fd823"
      },
      "execution_count": 132,
      "outputs": [
        {
          "output_type": "execute_result",
          "data": {
            "text/plain": [
              "13"
            ]
          },
          "metadata": {},
          "execution_count": 132
        }
      ]
    },
    {
      "cell_type": "code",
      "source": [
        "np.sum(B)"
      ],
      "metadata": {
        "colab": {
          "base_uri": "https://localhost:8080/",
          "height": 0
        },
        "id": "I5IHX76CKYcS",
        "outputId": "7169cdc0-7149-443c-8d0b-240f9bf1c598"
      },
      "execution_count": 133,
      "outputs": [
        {
          "output_type": "execute_result",
          "data": {
            "text/plain": [
              "-3"
            ]
          },
          "metadata": {},
          "execution_count": 133
        }
      ]
    },
    {
      "cell_type": "code",
      "source": [
        "np.sum(B1)"
      ],
      "metadata": {
        "colab": {
          "base_uri": "https://localhost:8080/",
          "height": 0
        },
        "id": "f-Go0WQk5xs_",
        "outputId": "671f7499-d3fa-4394-f231-b89f3ae69e3d"
      },
      "execution_count": 134,
      "outputs": [
        {
          "output_type": "execute_result",
          "data": {
            "text/plain": [
              "-3"
            ]
          },
          "metadata": {},
          "execution_count": 134
        }
      ]
    },
    {
      "cell_type": "code",
      "source": [
        "np.sum(C)"
      ],
      "metadata": {
        "colab": {
          "base_uri": "https://localhost:8080/",
          "height": 0
        },
        "id": "HgsrOphj5y5o",
        "outputId": "817b7260-c9cc-40e1-ff03-d293cbccc8f4"
      },
      "execution_count": 135,
      "outputs": [
        {
          "output_type": "execute_result",
          "data": {
            "text/plain": [
              "10"
            ]
          },
          "metadata": {},
          "execution_count": 135
        }
      ]
    },
    {
      "cell_type": "code",
      "source": [
        "np.sum(D)"
      ],
      "metadata": {
        "colab": {
          "base_uri": "https://localhost:8080/",
          "height": 0
        },
        "id": "YYbkBeaV50GZ",
        "outputId": "13149e39-4965-459b-f385-4185116378c2"
      },
      "execution_count": 138,
      "outputs": [
        {
          "output_type": "execute_result",
          "data": {
            "text/plain": [
              "17"
            ]
          },
          "metadata": {},
          "execution_count": 138
        }
      ]
    },
    {
      "cell_type": "markdown",
      "source": [
        "Zadanie 2"
      ],
      "metadata": {
        "id": "y8IHqVRoKjN-"
      }
    },
    {
      "cell_type": "code",
      "source": [
        "D = np.array(np.arange(0,12))\n",
        "D"
      ],
      "metadata": {
        "colab": {
          "base_uri": "https://localhost:8080/",
          "height": 0
        },
        "id": "tUAjm0bgymLf",
        "outputId": "62ac44b3-7b12-4034-d4ba-d7a798011bf8"
      },
      "execution_count": 139,
      "outputs": [
        {
          "output_type": "execute_result",
          "data": {
            "text/plain": [
              "array([ 0,  1,  2,  3,  4,  5,  6,  7,  8,  9, 10, 11])"
            ]
          },
          "metadata": {},
          "execution_count": 139
        }
      ]
    },
    {
      "cell_type": "code",
      "source": [
        "D2=D.reshape(3,2,2)\n",
        "print(D2)"
      ],
      "metadata": {
        "colab": {
          "base_uri": "https://localhost:8080/",
          "height": 0
        },
        "id": "eCL6t0-Y1fkE",
        "outputId": "7d2f706b-11b1-4d9c-9a9f-07e7d79f6f3b"
      },
      "execution_count": 140,
      "outputs": [
        {
          "output_type": "stream",
          "name": "stdout",
          "text": [
            "[[[ 0  1]\n",
            "  [ 2  3]]\n",
            "\n",
            " [[ 4  5]\n",
            "  [ 6  7]]\n",
            "\n",
            " [[ 8  9]\n",
            "  [10 11]]]\n"
          ]
        }
      ]
    },
    {
      "cell_type": "code",
      "source": [
        "D3=D.reshape(6,2,1)\n",
        "print(D3)"
      ],
      "metadata": {
        "colab": {
          "base_uri": "https://localhost:8080/",
          "height": 0
        },
        "id": "b12sOzN71zN1",
        "outputId": "a4badc77-f30a-45f4-c720-3d0a45b5581a"
      },
      "execution_count": 141,
      "outputs": [
        {
          "output_type": "stream",
          "name": "stdout",
          "text": [
            "[[[ 0]\n",
            "  [ 1]]\n",
            "\n",
            " [[ 2]\n",
            "  [ 3]]\n",
            "\n",
            " [[ 4]\n",
            "  [ 5]]\n",
            "\n",
            " [[ 6]\n",
            "  [ 7]]\n",
            "\n",
            " [[ 8]\n",
            "  [ 9]]\n",
            "\n",
            " [[10]\n",
            "  [11]]]\n"
          ]
        }
      ]
    },
    {
      "cell_type": "code",
      "source": [
        "D4=D.reshape(3, 4, 1)\n",
        "print(D4)\n",
        "\n"
      ],
      "metadata": {
        "colab": {
          "base_uri": "https://localhost:8080/",
          "height": 0
        },
        "id": "bXpUuAj-4ETF",
        "outputId": "c64f1db3-90cf-464a-c42f-6c11e445dbd5"
      },
      "execution_count": 144,
      "outputs": [
        {
          "output_type": "stream",
          "name": "stdout",
          "text": [
            "[[[ 0]\n",
            "  [ 1]\n",
            "  [ 2]\n",
            "  [ 3]]\n",
            "\n",
            " [[ 4]\n",
            "  [ 5]\n",
            "  [ 6]\n",
            "  [ 7]]\n",
            "\n",
            " [[ 8]\n",
            "  [ 9]\n",
            "  [10]\n",
            "  [11]]]\n"
          ]
        }
      ]
    },
    {
      "cell_type": "code",
      "source": [
        "#np.matmul(D,D2)\n",
        "#ValueError: matmul: Input operand 1 has a mismatch in its core dimension 0, with gufunc signature (n?,k),(k,m?)->(n?,m?) (size 2 is different from 12)"
      ],
      "metadata": {
        "id": "VgEMOTM_6mqn"
      },
      "execution_count": 160,
      "outputs": []
    },
    {
      "cell_type": "code",
      "source": [
        "#np.matmul(D,D3)\n",
        "#ValueError: matmul: Input operand 1 has a mismatch in its core dimension 0, with gufunc signature (n?,k),(k,m?)->(n?,m?) (size 2 is different from 12)"
      ],
      "metadata": {
        "id": "-dw4SrzJ7NP-"
      },
      "execution_count": 159,
      "outputs": []
    },
    {
      "cell_type": "code",
      "source": [
        "#np.matmul(D,D4)\n",
        "#ValueError: matmul: Input operand 1 has a mismatch in its core dimension 0, with gufunc signature (n?,k),(k,m?)->(n?,m?) (size 4 is different from 12)"
      ],
      "metadata": {
        "id": "usNxgqD47QIz"
      },
      "execution_count": 158,
      "outputs": []
    },
    {
      "cell_type": "code",
      "source": [
        "np.matmul(D,D3.reshape(12,1))"
      ],
      "metadata": {
        "colab": {
          "base_uri": "https://localhost:8080/",
          "height": 0
        },
        "id": "_zbTb2Yx7acc",
        "outputId": "7bcd98ab-1934-4d9b-f632-025421b11210"
      },
      "execution_count": 157,
      "outputs": [
        {
          "output_type": "execute_result",
          "data": {
            "text/plain": [
              "array([506])"
            ]
          },
          "metadata": {},
          "execution_count": 157
        }
      ]
    },
    {
      "cell_type": "markdown",
      "source": [
        "Zadanie 3"
      ],
      "metadata": {
        "id": "WKh2Jgm0hPH3"
      }
    },
    {
      "cell_type": "code",
      "source": [
        "import pandas as pd\n",
        "data = pd.read_csv('simple_dataset.csv')\n",
        "print(data)"
      ],
      "metadata": {
        "colab": {
          "base_uri": "https://localhost:8080/"
        },
        "id": "9ltvL0E1hRx2",
        "outputId": "2a32e0af-8c74-4bba-fcd3-06c6152c84d5"
      },
      "execution_count": null,
      "outputs": [
        {
          "output_type": "stream",
          "name": "stdout",
          "text": [
            "   X   B   C  D   E\n",
            "0  1  12   6  5  -4\n",
            "1  2  11  -4  7  -2\n",
            "2  3  21   8 -2   9\n",
            "3  4   4  12  1  10\n"
          ]
        }
      ]
    },
    {
      "cell_type": "code",
      "source": [
        "s_copy = data.copy()\n",
        "print(s_copy)"
      ],
      "metadata": {
        "colab": {
          "base_uri": "https://localhost:8080/"
        },
        "id": "M_lCSANYjR9C",
        "outputId": "d1a0b9c0-1506-4696-993a-65f5247635de"
      },
      "execution_count": null,
      "outputs": [
        {
          "output_type": "stream",
          "name": "stdout",
          "text": [
            "   X   B   C  D   E\n",
            "0  1  12   6  5  -4\n",
            "1  2  11  -4  7  -2\n",
            "2  3  21   8 -2   9\n",
            "3  4   4  12  1  10\n"
          ]
        }
      ]
    },
    {
      "cell_type": "code",
      "source": [
        "S1=pd.DataFrame(data=s_copy, index=[1],copy=True)\n",
        "print(S1)"
      ],
      "metadata": {
        "colab": {
          "base_uri": "https://localhost:8080/"
        },
        "id": "yhFHJdQwlBM7",
        "outputId": "9ba9802e-ebca-460a-cd37-f6e9a7d58f8f"
      },
      "execution_count": null,
      "outputs": [
        {
          "output_type": "stream",
          "name": "stdout",
          "text": [
            "   X   B  C  D  E\n",
            "1  2  11 -4  7 -2\n"
          ]
        }
      ]
    },
    {
      "cell_type": "code",
      "source": [
        "S2=pd.DataFrame(data=s_copy, index= [1,2],copy=True)\n",
        "print(S2)"
      ],
      "metadata": {
        "colab": {
          "base_uri": "https://localhost:8080/"
        },
        "id": "wzMXQTJUl4U0",
        "outputId": "77bf1db1-df4d-43be-b434-e00f6d66300b"
      },
      "execution_count": null,
      "outputs": [
        {
          "output_type": "stream",
          "name": "stdout",
          "text": [
            "   X   B  C  D  E\n",
            "1  2  11 -4  7 -2\n",
            "2  3  21  8 -2  9\n"
          ]
        }
      ]
    },
    {
      "cell_type": "code",
      "source": [
        "S3=pd.DataFrame(data=s_copy, index= [2,3],columns=['B','C','D'],copy=True)\n",
        "print(S3)"
      ],
      "metadata": {
        "colab": {
          "base_uri": "https://localhost:8080/"
        },
        "id": "tTd5kBe-mIHP",
        "outputId": "5f1f253c-3309-4ee4-d6df-cbc253123683"
      },
      "execution_count": null,
      "outputs": [
        {
          "output_type": "stream",
          "name": "stdout",
          "text": [
            "    B   C  D\n",
            "2  21   8 -2\n",
            "3   4  12  1\n"
          ]
        }
      ]
    },
    {
      "cell_type": "code",
      "source": [
        "S4=pd.DataFrame(data=s_copy,columns=['B','D'],copy=True)\n",
        "print(S4)"
      ],
      "metadata": {
        "colab": {
          "base_uri": "https://localhost:8080/"
        },
        "id": "csrktOsqml94",
        "outputId": "4f1ddb8c-9909-45a7-9570-707c497e0738"
      },
      "execution_count": null,
      "outputs": [
        {
          "output_type": "stream",
          "name": "stdout",
          "text": [
            "    B  D\n",
            "0  12  5\n",
            "1  11  7\n",
            "2  21 -2\n",
            "3   4  1\n"
          ]
        }
      ]
    },
    {
      "cell_type": "markdown",
      "source": [
        "Zadanie 4"
      ],
      "metadata": {
        "id": "lpXzsIOvmyUc"
      }
    },
    {
      "cell_type": "code",
      "source": [
        "data2 = pd.read_csv('president_heights.csv')\n",
        "print(data2)"
      ],
      "metadata": {
        "colab": {
          "base_uri": "https://localhost:8080/"
        },
        "id": "RFB0hmCdm7Kx",
        "outputId": "6a7feafa-786d-4b81-b37e-96ece7940b1e"
      },
      "execution_count": null,
      "outputs": [
        {
          "output_type": "stream",
          "name": "stdout",
          "text": [
            "    order                    name  height(cm)\n",
            "0       1       George Washington         189\n",
            "1       2              John Adams         170\n",
            "2       3        Thomas Jefferson         189\n",
            "3       4           James Madison         163\n",
            "4       5            James Monroe         183\n",
            "5       6       John Quincy Adams         171\n",
            "6       7          Andrew Jackson         185\n",
            "7       8        Martin Van Buren         168\n",
            "8       9  William Henry Harrison         173\n",
            "9      10              John Tyler         183\n",
            "10     11           James K. Polk         173\n",
            "11     12          Zachary Taylor         173\n",
            "12     13        Millard Fillmore         175\n",
            "13     14         Franklin Pierce         178\n",
            "14     15          James Buchanan         183\n",
            "15     16         Abraham Lincoln         193\n",
            "16     17          Andrew Johnson         178\n",
            "17     18        Ulysses S. Grant         173\n",
            "18     19     Rutherford B. Hayes         174\n",
            "19     20       James A. Garfield         183\n",
            "20     21       Chester A. Arthur         183\n",
            "21     23       Benjamin Harrison         168\n",
            "22     25        William McKinley         170\n",
            "23     26      Theodore Roosevelt         178\n",
            "24     27     William Howard Taft         182\n",
            "25     28          Woodrow Wilson         180\n",
            "26     29       Warren G. Harding         183\n",
            "27     30         Calvin Coolidge         178\n",
            "28     31          Herbert Hoover         182\n",
            "29     32   Franklin D. Roosevelt         188\n",
            "30     33         Harry S. Truman         175\n",
            "31     34    Dwight D. Eisenhower         179\n",
            "32     35         John F. Kennedy         183\n",
            "33     36       Lyndon B. Johnson         193\n",
            "34     37           Richard Nixon         182\n",
            "35     38             Gerald Ford         183\n",
            "36     39            Jimmy Carter         177\n",
            "37     40           Ronald Reagan         185\n",
            "38     41       George H. W. Bush         188\n",
            "39     42            Bill Clinton         188\n",
            "40     43          George W. Bush         182\n",
            "41     44            Barack Obama         185\n"
          ]
        }
      ]
    },
    {
      "cell_type": "code",
      "source": [
        "P1=pd.DataFrame(data=data2,columns=['height(cm)'],copy=True)\n",
        "print(P1)\n"
      ],
      "metadata": {
        "colab": {
          "base_uri": "https://localhost:8080/"
        },
        "id": "Fw_eh-bFnLjm",
        "outputId": "eb08bc27-efb7-4b9d-a1a9-00d003678a43"
      },
      "execution_count": null,
      "outputs": [
        {
          "output_type": "stream",
          "name": "stdout",
          "text": [
            "    height(cm)\n",
            "0          189\n",
            "1          170\n",
            "2          189\n",
            "3          163\n",
            "4          183\n",
            "5          171\n",
            "6          185\n",
            "7          168\n",
            "8          173\n",
            "9          183\n",
            "10         173\n",
            "11         173\n",
            "12         175\n",
            "13         178\n",
            "14         183\n",
            "15         193\n",
            "16         178\n",
            "17         173\n",
            "18         174\n",
            "19         183\n",
            "20         183\n",
            "21         168\n",
            "22         170\n",
            "23         178\n",
            "24         182\n",
            "25         180\n",
            "26         183\n",
            "27         178\n",
            "28         182\n",
            "29         188\n",
            "30         175\n",
            "31         179\n",
            "32         183\n",
            "33         193\n",
            "34         182\n",
            "35         183\n",
            "36         177\n",
            "37         185\n",
            "38         188\n",
            "39         188\n",
            "40         182\n",
            "41         185\n"
          ]
        }
      ]
    },
    {
      "cell_type": "code",
      "source": [
        "M=P1.mean()\n",
        "print(\"Mean height\")\n",
        "print(M)"
      ],
      "metadata": {
        "colab": {
          "base_uri": "https://localhost:8080/"
        },
        "id": "VBlGk6kZnck8",
        "outputId": "1330edf7-2309-47e8-d489-f44c049e40fa"
      },
      "execution_count": null,
      "outputs": [
        {
          "output_type": "stream",
          "name": "stdout",
          "text": [
            "Mean height\n",
            "height(cm)    179.738095\n",
            "dtype: float64\n"
          ]
        }
      ]
    },
    {
      "cell_type": "code",
      "source": [
        "Std=P1.std()\n",
        "print(\"Std\")\n",
        "print(Std)"
      ],
      "metadata": {
        "colab": {
          "base_uri": "https://localhost:8080/"
        },
        "id": "u-dhaIiZntSJ",
        "outputId": "7da2f96b-d7b9-4ad9-9046-abd687446495"
      },
      "execution_count": null,
      "outputs": [
        {
          "output_type": "stream",
          "name": "stdout",
          "text": [
            "Std\n",
            "height(cm)    7.015869\n",
            "dtype: float64\n"
          ]
        }
      ]
    },
    {
      "cell_type": "code",
      "source": [
        "Min=P1.min()\n",
        "Max=P1.max()\n",
        "print(\"Min\")\n",
        "print(Min)\n",
        "print(\"Max\")\n",
        "print(Max)\n"
      ],
      "metadata": {
        "colab": {
          "base_uri": "https://localhost:8080/"
        },
        "id": "p3ugeTBWn3mF",
        "outputId": "6dbe9473-2c38-4ebe-921a-0fe16ef4c6dd"
      },
      "execution_count": null,
      "outputs": [
        {
          "output_type": "stream",
          "name": "stdout",
          "text": [
            "Min\n",
            "height(cm)    163\n",
            "dtype: int64\n",
            "Max\n",
            "height(cm)    193\n",
            "dtype: int64\n"
          ]
        }
      ]
    },
    {
      "cell_type": "code",
      "source": [
        "Median=P1.median()\n",
        "print(\"median\")\n",
        "print(Median)"
      ],
      "metadata": {
        "colab": {
          "base_uri": "https://localhost:8080/"
        },
        "id": "j8P-YysqoLW7",
        "outputId": "ba135e77-b98b-4cad-a12d-9f51ac2a845a"
      },
      "execution_count": null,
      "outputs": [
        {
          "output_type": "stream",
          "name": "stdout",
          "text": [
            "median\n",
            "height(cm)    182.0\n",
            "dtype: float64\n"
          ]
        }
      ]
    },
    {
      "cell_type": "code",
      "source": [
        "import matplotlib.pyplot as plt\n",
        "heights=P1.hist(xlabelsize=10)\n",
        "#plt.hist(heights,10,color='red')\n",
        "plt.title('Heights of US presidents')\n",
        "plt.xlabel('Height')\n",
        "plt.ylabel('Number of presidents')\n",
        "plt.show()"
      ],
      "metadata": {
        "colab": {
          "base_uri": "https://localhost:8080/",
          "height": 295
        },
        "id": "aVbiYmaRofV_",
        "outputId": "3e28d01a-90f7-4633-8f55-9fa87cd95a60"
      },
      "execution_count": null,
      "outputs": [
        {
          "output_type": "display_data",
          "data": {
            "text/plain": [
              "<Figure size 432x288 with 1 Axes>"
            ],
            "image/png": "[encoded data removed]"
          },
          "metadata": {
            "needs_background": "light"
          }
        }
      ]
    },
    {
      "cell_type": "markdown",
      "source": [
        "Zadanie 5"
      ],
      "metadata": {
        "id": "SBZpR5xAqC1m"
      }
    },
    {
      "cell_type": "code",
      "source": [
        "import matplotlib.pyplot as plt"
      ],
      "metadata": {
        "id": "oUUPuSbwFB4b"
      },
      "execution_count": 161,
      "outputs": []
    },
    {
      "cell_type": "code",
      "source": [
        "tab=np.random.normal(size=(2,1000))\n",
        "\n"
      ],
      "metadata": {
        "id": "lQn-qQ0xp-cn"
      },
      "execution_count": 162,
      "outputs": []
    },
    {
      "cell_type": "code",
      "source": [
        "\n",
        "plt.scatter(tab[0],tab[1])\n",
        "plt.show()"
      ],
      "metadata": {
        "colab": {
          "base_uri": "https://localhost:8080/",
          "height": 430
        },
        "id": "_0Bp_A2pqcdW",
        "outputId": "211790f4-806e-4f85-c317-57f8e58a69c1"
      },
      "execution_count": 163,
      "outputs": [
        {
          "output_type": "display_data",
          "data": {
            "text/plain": [
              "<Figure size 640x480 with 1 Axes>"
            ],
            "image/png": "[encoded data removed]"
          },
          "metadata": {}
        }
      ]
    },
    {
      "cell_type": "code",
      "source": [
        "number_of_points=1000\n",
        "x_point = []\n",
        "y_point = []\n",
        "x_1=[]\n",
        "y_1=[]"
      ],
      "metadata": {
        "id": "VFm08hiYEbUr"
      },
      "execution_count": 164,
      "outputs": []
    },
    {
      "cell_type": "code",
      "source": [
        "a=0.22\n",
        "b=0.78"
      ],
      "metadata": {
        "id": "-rw4miC-EjR2"
      },
      "execution_count": 165,
      "outputs": []
    },
    {
      "cell_type": "code",
      "source": [
        "for i in range(number_of_points):\n",
        "  x = np.random.normal(0.0,0.5)\n",
        "  y = a*x+b+np.random.normal(0.0,0.1)\n",
        "  x_point.append(x)\n",
        "  y_point.append(y)\n",
        "  x_1.append(1)\n",
        "  y_1.append(1)\n"
      ],
      "metadata": {
        "id": "QPX-IUqFEnG1"
      },
      "execution_count": 166,
      "outputs": []
    },
    {
      "cell_type": "code",
      "source": [
        "plt.scatter(x_point,y_point,c='b')\n",
        "plt.show()"
      ],
      "metadata": {
        "colab": {
          "base_uri": "https://localhost:8080/",
          "height": 430
        },
        "id": "elaaO5MQFAej",
        "outputId": "7ee745a3-bfd3-4ccb-aa13-889e04a26b29"
      },
      "execution_count": 167,
      "outputs": [
        {
          "output_type": "display_data",
          "data": {
            "text/plain": [
              "<Figure size 640x480 with 1 Axes>"
            ],
            "image/png": "[encoded data removed]"
          },
          "metadata": {}
        }
      ]
    },
    {
      "cell_type": "markdown",
      "source": [
        "Zadanie 6"
      ],
      "metadata": {
        "id": "VAKeEyg9HCmM"
      }
    },
    {
      "cell_type": "code",
      "source": [
        "x_s=np.array(x_point)\n",
        "y_s=np.array(y_point)\n",
        "\n",
        "\n",
        "x2=np.sum(x_s*x_s)\n",
        "x1=np.sum(x_s)\n",
        "x1sum=np.sum(x_1)\n",
        "y1sum=np.sum(y_1)\n",
        "xy=np.sum(x_s*y_s)\n",
        "y1=np.sum(y_s)\n"
      ],
      "metadata": {
        "id": "PExQzc4aJa65"
      },
      "execution_count": 169,
      "outputs": []
    },
    {
      "cell_type": "code",
      "source": [
        "print(x1)"
      ],
      "metadata": {
        "colab": {
          "base_uri": "https://localhost:8080/",
          "height": 0
        },
        "id": "VXd4PEoFJ9kP",
        "outputId": "ced9c0e1-4fa9-45f9-fcb6-6a39efb3c506"
      },
      "execution_count": 170,
      "outputs": [
        {
          "output_type": "stream",
          "name": "stdout",
          "text": [
            "12.474799844036689\n"
          ]
        }
      ]
    },
    {
      "cell_type": "code",
      "source": [
        "M = np.array([[x2,x1],[x1,x1sum]])\n",
        "print(M)"
      ],
      "metadata": {
        "colab": {
          "base_uri": "https://localhost:8080/",
          "height": 0
        },
        "id": "I-vUaY06LfVQ",
        "outputId": "6b59866d-72b7-41fc-9904-0b192a86b44b"
      },
      "execution_count": 171,
      "outputs": [
        {
          "output_type": "stream",
          "name": "stdout",
          "text": [
            "[[ 243.61496026   12.47479984]\n",
            " [  12.47479984 1000.        ]]\n"
          ]
        }
      ]
    },
    {
      "cell_type": "code",
      "source": [
        "M_1=np.linalg.inv(M)\n",
        "print(M_1)"
      ],
      "metadata": {
        "colab": {
          "base_uri": "https://localhost:8080/",
          "height": 0
        },
        "id": "13pIKddJMGxP",
        "outputId": "0f8d91f2-fcbf-408a-d8d4-a8491ba259eb"
      },
      "execution_count": 172,
      "outputs": [
        {
          "output_type": "stream",
          "name": "stdout",
          "text": [
            "[[ 4.10746206e-03 -5.12397670e-05]\n",
            " [-5.12397670e-05  1.00063921e-03]]\n"
          ]
        }
      ]
    },
    {
      "cell_type": "code",
      "source": [
        "N=np.array([[xy],[y1]])\n",
        "print(N)"
      ],
      "metadata": {
        "colab": {
          "base_uri": "https://localhost:8080/",
          "height": 0
        },
        "id": "D2MYX4tAMxiw",
        "outputId": "34a72eca-5d73-4fcb-f062-da0612ffac8f"
      },
      "execution_count": 173,
      "outputs": [
        {
          "output_type": "stream",
          "name": "stdout",
          "text": [
            "[[ 63.38886088]\n",
            " [781.75156167]]\n"
          ]
        }
      ]
    },
    {
      "cell_type": "code",
      "source": [
        "a,b = np.matmul(M_1,N)\n",
        "print(a,b)\n",
        "\n"
      ],
      "metadata": {
        "colab": {
          "base_uri": "https://localhost:8080/",
          "height": 0
        },
        "id": "OmpJu6qYMd-_",
        "outputId": "3e31e1b2-e47e-4920-9f27-804720ed54a3"
      },
      "execution_count": 174,
      "outputs": [
        {
          "output_type": "stream",
          "name": "stdout",
          "text": [
            "[0.22031057] [0.77900323]\n"
          ]
        }
      ]
    },
    {
      "cell_type": "code",
      "source": [
        "plt.scatter(x_s,y_s)\n",
        "plt.plot(x_s,a*x_s+b,\"black\")\n",
        "plt.show()"
      ],
      "metadata": {
        "colab": {
          "base_uri": "https://localhost:8080/",
          "height": 430
        },
        "id": "4CDSB554Pwrr",
        "outputId": "633ae267-e39f-40cf-c6eb-3fedc0f07e80"
      },
      "execution_count": 175,
      "outputs": [
        {
          "output_type": "display_data",
          "data": {
            "text/plain": [
              "<Figure size 640x480 with 1 Axes>"
            ],
            "image/png": "[encoded data removed]"
          },
          "metadata": {}
        }
      ]
    },
    {
      "cell_type": "markdown",
      "source": [
        "Zadanie 7"
      ],
      "metadata": {
        "id": "TL28UeOUQ3Ib"
      }
    },
    {
      "cell_type": "code",
      "source": [
        "import pandas as pd"
      ],
      "metadata": {
        "id": "7H2PwtFD8cEh"
      },
      "execution_count": 205,
      "outputs": []
    },
    {
      "cell_type": "code",
      "source": [
        "california_cities = pd.read_csv('california_cities.csv')"
      ],
      "metadata": {
        "id": "jQ440UJnRUeK"
      },
      "execution_count": 206,
      "outputs": []
    },
    {
      "cell_type": "code",
      "source": [
        "california_cities.info()"
      ],
      "metadata": {
        "colab": {
          "base_uri": "https://localhost:8080/"
        },
        "id": "-IGSLJivBgGm",
        "outputId": "23444c97-217f-4804-b89d-cb4772dcdcad"
      },
      "execution_count": 226,
      "outputs": [
        {
          "output_type": "stream",
          "name": "stdout",
          "text": [
            "<class 'pandas.core.frame.DataFrame'>\n",
            "RangeIndex: 482 entries, 0 to 481\n",
            "Data columns (total 14 columns):\n",
            " #   Column              Non-Null Count  Dtype  \n",
            "---  ------              --------------  -----  \n",
            " 0   Unnamed: 0          482 non-null    int64  \n",
            " 1   city                482 non-null    object \n",
            " 2   latd                482 non-null    float64\n",
            " 3   longd               482 non-null    float64\n",
            " 4   elevation_m         434 non-null    float64\n",
            " 5   elevation_ft        470 non-null    float64\n",
            " 6   population_total    482 non-null    int64  \n",
            " 7   area_total_sq_mi    480 non-null    float64\n",
            " 8   area_land_sq_mi     482 non-null    float64\n",
            " 9   area_water_sq_mi    481 non-null    float64\n",
            " 10  area_total_km2      477 non-null    float64\n",
            " 11  area_land_km2       478 non-null    float64\n",
            " 12  area_water_km2      478 non-null    float64\n",
            " 13  area_water_percent  477 non-null    float64\n",
            "dtypes: float64(11), int64(2), object(1)\n",
            "memory usage: 52.8+ KB\n"
          ]
        }
      ]
    },
    {
      "cell_type": "code",
      "source": [
        "print(california_cities)"
      ],
      "metadata": {
        "colab": {
          "base_uri": "https://localhost:8080/"
        },
        "id": "P78lTLV4RuwC",
        "outputId": "474ccafb-b52a-4f26-9abc-d973b4823d78"
      },
      "execution_count": 207,
      "outputs": [
        {
          "output_type": "stream",
          "name": "stdout",
          "text": [
            "     Unnamed: 0         city       latd       longd  elevation_m  \\\n",
            "0             0     Adelanto  34.576111 -117.432778        875.0   \n",
            "1             1  AgouraHills  34.153333 -118.761667        281.0   \n",
            "2             2      Alameda  37.756111 -122.274444          NaN   \n",
            "3             3       Albany  37.886944 -122.297778          NaN   \n",
            "4             4     Alhambra  34.081944 -118.135000        150.0   \n",
            "..          ...          ...        ...         ...          ...   \n",
            "477         477   Yountville  38.403056 -122.362222         30.0   \n",
            "478         478        Yreka  41.726667 -122.637500        787.0   \n",
            "479         479     YubaCity  39.134722 -121.626111         18.0   \n",
            "480         480      Yucaipa  34.030278 -117.048611        798.0   \n",
            "481         481  YuccaValley  34.133333 -116.416667       1027.0   \n",
            "\n",
            "     elevation_ft  population_total  area_total_sq_mi  area_land_sq_mi  \\\n",
            "0          2871.0             31765            56.027           56.009   \n",
            "1           922.0             20330             7.822            7.793   \n",
            "2            33.0             75467            22.960           10.611   \n",
            "3            43.0             18969             5.465            1.788   \n",
            "4           492.0             83089             7.632            7.631   \n",
            "..            ...               ...               ...              ...   \n",
            "477          98.0              2933             1.531            1.531   \n",
            "478        2582.0              7765            10.053            9.980   \n",
            "479          59.0             64925            14.656           14.578   \n",
            "480        2618.0             51367            27.893           27.888   \n",
            "481        3369.0             20700            40.015           40.015   \n",
            "\n",
            "     area_water_sq_mi  area_total_km2  area_land_km2  area_water_km2  \\\n",
            "0               0.018         145.107        145.062           0.046   \n",
            "1               0.029          20.260         20.184           0.076   \n",
            "2              12.349          59.465         27.482          31.983   \n",
            "3               3.677          14.155          4.632           9.524   \n",
            "4               0.001          19.766         19.763           0.003   \n",
            "..                ...             ...            ...             ...   \n",
            "477             0.000           3.966          3.966           0.000   \n",
            "478             0.073          26.036         25.847           0.188   \n",
            "479             0.078          37.959         37.758           0.201   \n",
            "480             0.005          72.244         72.231           0.013   \n",
            "481             0.000         103.639        103.639           0.000   \n",
            "\n",
            "     area_water_percent  \n",
            "0                  0.03  \n",
            "1                  0.37  \n",
            "2                 53.79  \n",
            "3                 67.28  \n",
            "4                  0.01  \n",
            "..                  ...  \n",
            "477                0.00  \n",
            "478                0.72  \n",
            "479                0.53  \n",
            "480                0.02  \n",
            "481                0.00  \n",
            "\n",
            "[482 rows x 14 columns]\n"
          ]
        }
      ]
    },
    {
      "cell_type": "code",
      "source": [
        "PT =pd.DataFrame(california_cities,columns=['population_total'])\n",
        "print(PT)"
      ],
      "metadata": {
        "colab": {
          "base_uri": "https://localhost:8080/"
        },
        "id": "ZAi9R3vFSG28",
        "outputId": "f03e0982-13cb-4f4a-c964-ab28345d15de"
      },
      "execution_count": 208,
      "outputs": [
        {
          "output_type": "stream",
          "name": "stdout",
          "text": [
            "     population_total\n",
            "0               31765\n",
            "1               20330\n",
            "2               75467\n",
            "3               18969\n",
            "4               83089\n",
            "..                ...\n",
            "477              2933\n",
            "478              7765\n",
            "479             64925\n",
            "480             51367\n",
            "481             20700\n",
            "\n",
            "[482 rows x 1 columns]\n"
          ]
        }
      ]
    },
    {
      "cell_type": "code",
      "source": [
        "ATSQM =pd.DataFrame(california_cities,columns=['area_total_sq_mi'])\n",
        "print(ATSQM)"
      ],
      "metadata": {
        "colab": {
          "base_uri": "https://localhost:8080/"
        },
        "id": "hiElyHAd9nhM",
        "outputId": "b12573d3-d1b9-491a-c74f-7c255b2f425f"
      },
      "execution_count": 209,
      "outputs": [
        {
          "output_type": "stream",
          "name": "stdout",
          "text": [
            "     area_total_sq_mi\n",
            "0              56.027\n",
            "1               7.822\n",
            "2              22.960\n",
            "3               5.465\n",
            "4               7.632\n",
            "..                ...\n",
            "477             1.531\n",
            "478            10.053\n",
            "479            14.656\n",
            "480            27.893\n",
            "481            40.015\n",
            "\n",
            "[482 rows x 1 columns]\n"
          ]
        }
      ]
    },
    {
      "cell_type": "code",
      "source": [
        "ALSQM =pd.DataFrame(california_cities,columns=['area_land_sq_mi'])\n",
        "print(ALSQM)"
      ],
      "metadata": {
        "colab": {
          "base_uri": "https://localhost:8080/"
        },
        "id": "h8r-S6TL9zXo",
        "outputId": "de0e0728-3c09-4414-a009-56456e7d4149"
      },
      "execution_count": 210,
      "outputs": [
        {
          "output_type": "stream",
          "name": "stdout",
          "text": [
            "     area_land_sq_mi\n",
            "0             56.009\n",
            "1              7.793\n",
            "2             10.611\n",
            "3              1.788\n",
            "4              7.631\n",
            "..               ...\n",
            "477            1.531\n",
            "478            9.980\n",
            "479           14.578\n",
            "480           27.888\n",
            "481           40.015\n",
            "\n",
            "[482 rows x 1 columns]\n"
          ]
        }
      ]
    },
    {
      "cell_type": "code",
      "source": [
        "import numpy.ma as ma"
      ],
      "metadata": {
        "id": "s_k4E3zc_pVC"
      },
      "execution_count": 211,
      "outputs": []
    },
    {
      "cell_type": "code",
      "source": [
        "np.corrcoef(PT,ATSQM)"
      ],
      "metadata": {
        "colab": {
          "base_uri": "https://localhost:8080/"
        },
        "id": "VWaGaiFt-GMb",
        "outputId": "21587978-0e0d-424a-ac7a-1f172bed2866"
      },
      "execution_count": 236,
      "outputs": [
        {
          "output_type": "execute_result",
          "data": {
            "text/plain": [
              "array([[nan, nan, nan, ..., nan, nan, nan],\n",
              "       [nan, nan, nan, ..., nan, nan, nan],\n",
              "       [nan, nan, nan, ..., nan, nan, nan],\n",
              "       ...,\n",
              "       [nan, nan, nan, ..., nan, nan, nan],\n",
              "       [nan, nan, nan, ..., nan, nan, nan],\n",
              "       [nan, nan, nan, ..., nan, nan, nan]])"
            ]
          },
          "metadata": {},
          "execution_count": 236
        }
      ]
    },
    {
      "cell_type": "code",
      "source": [
        "np.corrcoef(ATSQM,rowvar = False)"
      ],
      "metadata": {
        "colab": {
          "base_uri": "https://localhost:8080/"
        },
        "id": "6GNsKBieBO8b",
        "outputId": "d45c585b-71ea-45fb-e7aa-5a3023e18976"
      },
      "execution_count": 224,
      "outputs": [
        {
          "output_type": "execute_result",
          "data": {
            "text/plain": [
              "nan"
            ]
          },
          "metadata": {},
          "execution_count": 224
        }
      ]
    },
    {
      "cell_type": "code",
      "source": [
        "np.corrcoef(ALSQM,rowvar = False)"
      ],
      "metadata": {
        "colab": {
          "base_uri": "https://localhost:8080/"
        },
        "id": "eXsxjwym-7Xp",
        "outputId": "7897a52b-e740-48ee-ea33-444e8767897a"
      },
      "execution_count": 225,
      "outputs": [
        {
          "output_type": "execute_result",
          "data": {
            "text/plain": [
              "1.0"
            ]
          },
          "metadata": {},
          "execution_count": 225
        }
      ]
    },
    {
      "cell_type": "code",
      "source": [
        "corr_matrix = california_cities.corr()"
      ],
      "metadata": {
        "colab": {
          "base_uri": "https://localhost:8080/"
        },
        "id": "rUcF5eje_6R1",
        "outputId": "65293085-54f9-4954-8a14-802aebee2a2e"
      },
      "execution_count": 228,
      "outputs": [
        {
          "output_type": "stream",
          "name": "stderr",
          "text": [
            "<ipython-input-228-cc55c4f78f74>:1: FutureWarning: The default value of numeric_only in DataFrame.corr is deprecated. In a future version, it will default to False. Select only valid columns or specify the value of numeric_only to silence this warning.\n",
            "  corr_matrix = california_cities.corr()\n"
          ]
        }
      ]
    },
    {
      "cell_type": "code",
      "source": [
        " corr_matrix[\"area_land_sq_mi\"].sort_values(ascending=False)"
      ],
      "metadata": {
        "colab": {
          "base_uri": "https://localhost:8080/"
        },
        "id": "c2DH2ylbAFrF",
        "outputId": "2ab42424-2a96-4dad-f37d-f7d467a6684f"
      },
      "execution_count": 217,
      "outputs": [
        {
          "output_type": "execute_result",
          "data": {
            "text/plain": [
              "area_land_sq_mi       1.000000\n",
              "area_land_km2         0.999993\n",
              "area_total_km2        0.993643\n",
              "area_total_sq_mi      0.967577\n",
              "population_total      0.849758\n",
              "area_water_km2        0.466967\n",
              "area_water_sq_mi      0.256239\n",
              "longd                 0.177034\n",
              "elevation_m           0.079316\n",
              "elevation_ft          0.074864\n",
              "Unnamed: 0            0.038934\n",
              "area_water_percent   -0.017031\n",
              "latd                 -0.152656\n",
              "Name: area_land_sq_mi, dtype: float64"
            ]
          },
          "metadata": {},
          "execution_count": 217
        }
      ]
    },
    {
      "cell_type": "code",
      "source": [
        " corr_matrix[\"population_total\"].sort_values(ascending=False)"
      ],
      "metadata": {
        "colab": {
          "base_uri": "https://localhost:8080/"
        },
        "id": "ZhOiDqoPB-lv",
        "outputId": "baa6f951-e0d4-48ab-c774-4bd91c66d42f"
      },
      "execution_count": 231,
      "outputs": [
        {
          "output_type": "execute_result",
          "data": {
            "text/plain": [
              "population_total      1.000000\n",
              "area_total_sq_mi      0.864089\n",
              "area_total_km2        0.861592\n",
              "area_land_km2         0.856184\n",
              "area_land_sq_mi       0.849758\n",
              "area_water_km2        0.485096\n",
              "area_water_sq_mi      0.377493\n",
              "longd                 0.081605\n",
              "area_water_percent    0.046492\n",
              "Unnamed: 0            0.041386\n",
              "elevation_m          -0.058003\n",
              "elevation_ft         -0.067929\n",
              "latd                 -0.109800\n",
              "Name: population_total, dtype: float64"
            ]
          },
          "metadata": {},
          "execution_count": 231
        }
      ]
    },
    {
      "cell_type": "code",
      "source": [
        " corr_matrix[\"area_land_sq_mi\"].sort_values(ascending=False)"
      ],
      "metadata": {
        "colab": {
          "base_uri": "https://localhost:8080/"
        },
        "id": "pJuGX2D6CC2y",
        "outputId": "936368f3-50dd-42d2-dfdc-ce1b10780ae1"
      },
      "execution_count": 232,
      "outputs": [
        {
          "output_type": "execute_result",
          "data": {
            "text/plain": [
              "area_land_sq_mi       1.000000\n",
              "area_land_km2         0.999993\n",
              "area_total_km2        0.993643\n",
              "area_total_sq_mi      0.967577\n",
              "population_total      0.849758\n",
              "area_water_km2        0.466967\n",
              "area_water_sq_mi      0.256239\n",
              "longd                 0.177034\n",
              "elevation_m           0.079316\n",
              "elevation_ft          0.074864\n",
              "Unnamed: 0            0.038934\n",
              "area_water_percent   -0.017031\n",
              "latd                 -0.152656\n",
              "Name: area_land_sq_mi, dtype: float64"
            ]
          },
          "metadata": {},
          "execution_count": 232
        }
      ]
    },
    {
      "cell_type": "code",
      "source": [
        "print(california_cities.corr()[\"area_land_sq_mi\"])"
      ],
      "metadata": {
        "colab": {
          "base_uri": "https://localhost:8080/"
        },
        "id": "-GOCR6MwBrsC",
        "outputId": "26ba380e-206f-4963-961f-fd5c5264d3c1"
      },
      "execution_count": 237,
      "outputs": [
        {
          "output_type": "stream",
          "name": "stdout",
          "text": [
            "Unnamed: 0            0.038934\n",
            "latd                 -0.152656\n",
            "longd                 0.177034\n",
            "elevation_m           0.079316\n",
            "elevation_ft          0.074864\n",
            "population_total      0.849758\n",
            "area_total_sq_mi      0.967577\n",
            "area_land_sq_mi       1.000000\n",
            "area_water_sq_mi      0.256239\n",
            "area_total_km2        0.993643\n",
            "area_land_km2         0.999993\n",
            "area_water_km2        0.466967\n",
            "area_water_percent   -0.017031\n",
            "Name: area_land_sq_mi, dtype: float64\n"
          ]
        },
        {
          "output_type": "stream",
          "name": "stderr",
          "text": [
            "<ipython-input-237-38a412272fb0>:1: FutureWarning: The default value of numeric_only in DataFrame.corr is deprecated. In a future version, it will default to False. Select only valid columns or specify the value of numeric_only to silence this warning.\n",
            "  print(california_cities.corr()[\"area_land_sq_mi\"])\n"
          ]
        }
      ]
    },
    {
      "cell_type": "code",
      "source": [
        "plt.scatter(PT,ATSQM)\n",
        "plt.show()"
      ],
      "metadata": {
        "colab": {
          "base_uri": "https://localhost:8080/",
          "height": 448
        },
        "id": "p91Z86foSzX_",
        "outputId": "b828df97-0e6e-4fc2-c3fc-93e5edec2338"
      },
      "execution_count": 184,
      "outputs": [
        {
          "output_type": "display_data",
          "data": {
            "text/plain": [
              "<Figure size 640x480 with 1 Axes>"
            ],
            "image/png": "[encoded data removed]"
          },
          "metadata": {}
        }
      ]
    },
    {
      "cell_type": "code",
      "source": [
        "%matplotlib inline # Wyłącznie w notatniku Jupyter"
      ],
      "metadata": {
        "colab": {
          "base_uri": "https://localhost:8080/"
        },
        "id": "C5JlSJoDC9vD",
        "outputId": "988c5437-67ed-4c75-bc2e-62e8f80eb126"
      },
      "execution_count": 240,
      "outputs": [
        {
          "output_type": "stream",
          "name": "stderr",
          "text": [
            "UsageError: unrecognized arguments: # Wyłącznie w notatniku Jupyter\n"
          ]
        }
      ]
    },
    {
      "cell_type": "code",
      "source": [
        "\n",
        "import matplotlib.pyplot as plt\n",
        "california_cities.hist(bins=50, figsize=(20,15))\n",
        "plt.show()"
      ],
      "metadata": {
        "colab": {
          "base_uri": "https://localhost:8080/",
          "height": 888
        },
        "id": "Urk3ql8FCrjB",
        "outputId": "e73c493a-2e60-4d02-a2f2-e4e1d2a19477"
      },
      "execution_count": 241,
      "outputs": [
        {
          "output_type": "display_data",
          "data": {
            "text/plain": [
              "<Figure size 2000x1500 with 16 Axes>"
            ],
            "image/png": "[encoded data removed]"
          },
          "metadata": {}
        }
      ]
    }
  ]
}