{
  "nbformat": 4,
  "nbformat_minor": 0,
  "metadata": {
    "colab": {
      "provenance": []
    },
    "kernelspec": {
      "name": "python3",
      "display_name": "Python 3"
    },
    "accelerator": "GPU"
  },
  "cells": [
    {
      "cell_type": "markdown",
      "metadata": {
        "id": "9gT7d462Dw06"
      },
      "source": [
        "Import bibliotek **TensorFlow** ([https://www.tensorflow.org/](https://www.tensorflow.org/)) oraz **Keras** z której będziemy korzystali w **uczeniu maszynowym**:"
      ]
    },
    {
      "cell_type": "code",
      "metadata": {
        "id": "6_Ec9f9O1DIv"
      },
      "source": [
        "import tensorflow as tf\n",
        "import matplotlib.pyplot as plt\n",
        "import numpy as np"
      ],
      "execution_count": null,
      "outputs": []
    },
    {
      "cell_type": "code",
      "metadata": {
        "id": "B3q9cQ4eWOAr"
      },
      "source": [
        "import keras\n",
        "from keras.models import Sequential\n",
        "from keras.layers import Dense"
      ],
      "execution_count": null,
      "outputs": []
    },
    {
      "cell_type": "markdown",
      "metadata": {
        "id": "iHaZfqU_DWW7"
      },
      "source": [
        "##Rozpoznawanie cyfr - zbiór **MNIST**"
      ]
    },
    {
      "cell_type": "markdown",
      "metadata": {
        "id": "8OgRU4heNhSu"
      },
      "source": [
        "Pobranie danych"
      ]
    },
    {
      "cell_type": "code",
      "metadata": {
        "id": "_JReAGs2G9OF",
        "colab": {
          "base_uri": "https://localhost:8080/"
        },
        "outputId": "aa6ba781-9995-4a59-ddee-6330d3bc6bdd"
      },
      "source": [
        "(train_data, train_labels), (test_data, test_labels) = tf.keras.datasets.mnist.load_data()"
      ],
      "execution_count": null,
      "outputs": [
        {
          "output_type": "stream",
          "name": "stdout",
          "text": [
            "Downloading data from https://storage.googleapis.com/tensorflow/tf-keras-datasets/mnist.npz\n",
            "11490434/11490434 [==============================] - 0s 0us/step\n"
          ]
        }
      ]
    },
    {
      "cell_type": "markdown",
      "metadata": {
        "id": "Pay8Mm1XNwtF"
      },
      "source": [
        "Wybrane informacje o zbiorze"
      ]
    },
    {
      "cell_type": "code",
      "metadata": {
        "id": "P_8jyKT6q3kB",
        "colab": {
          "base_uri": "https://localhost:8080/"
        },
        "outputId": "cbe3f5bf-2c31-4f4b-dd8b-e7259c1965bd"
      },
      "source": [
        "train_data.shape,train_labels.shape"
      ],
      "execution_count": null,
      "outputs": [
        {
          "output_type": "execute_result",
          "data": {
            "text/plain": [
              "((60000, 28, 28), (60000,))"
            ]
          },
          "metadata": {},
          "execution_count": 4
        }
      ]
    },
    {
      "cell_type": "code",
      "metadata": {
        "id": "5MZ1G7XjsmHw",
        "colab": {
          "base_uri": "https://localhost:8080/"
        },
        "outputId": "79f769c6-b2fc-4a0e-9385-2eec163ee264"
      },
      "source": [
        "test_data.shape,test_labels.shape"
      ],
      "execution_count": null,
      "outputs": [
        {
          "output_type": "execute_result",
          "data": {
            "text/plain": [
              "((10000, 28, 28), (10000,))"
            ]
          },
          "metadata": {},
          "execution_count": 5
        }
      ]
    },
    {
      "cell_type": "code",
      "metadata": {
        "id": "Oewt0Xva8469",
        "colab": {
          "base_uri": "https://localhost:8080/"
        },
        "outputId": "960e0fa8-1587-49c1-daaa-225f2143b9ed"
      },
      "source": [
        "train_data[0]"
      ],
      "execution_count": null,
      "outputs": [
        {
          "output_type": "execute_result",
          "data": {
            "text/plain": [
              "array([[  0,   0,   0,   0,   0,   0,   0,   0,   0,   0,   0,   0,   0,\n",
              "          0,   0,   0,   0,   0,   0,   0,   0,   0,   0,   0,   0,   0,\n",
              "          0,   0],\n",
              "       [  0,   0,   0,   0,   0,   0,   0,   0,   0,   0,   0,   0,   0,\n",
              "          0,   0,   0,   0,   0,   0,   0,   0,   0,   0,   0,   0,   0,\n",
              "          0,   0],\n",
              "       [  0,   0,   0,   0,   0,   0,   0,   0,   0,   0,   0,   0,   0,\n",
              "          0,   0,   0,   0,   0,   0,   0,   0,   0,   0,   0,   0,   0,\n",
              "          0,   0],\n",
              "       [  0,   0,   0,   0,   0,   0,   0,   0,   0,   0,   0,   0,   0,\n",
              "          0,   0,   0,   0,   0,   0,   0,   0,   0,   0,   0,   0,   0,\n",
              "          0,   0],\n",
              "       [  0,   0,   0,   0,   0,   0,   0,   0,   0,   0,   0,   0,   0,\n",
              "          0,   0,   0,   0,   0,   0,   0,   0,   0,   0,   0,   0,   0,\n",
              "          0,   0],\n",
              "       [  0,   0,   0,   0,   0,   0,   0,   0,   0,   0,   0,   0,   3,\n",
              "         18,  18,  18, 126, 136, 175,  26, 166, 255, 247, 127,   0,   0,\n",
              "          0,   0],\n",
              "       [  0,   0,   0,   0,   0,   0,   0,   0,  30,  36,  94, 154, 170,\n",
              "        253, 253, 253, 253, 253, 225, 172, 253, 242, 195,  64,   0,   0,\n",
              "          0,   0],\n",
              "       [  0,   0,   0,   0,   0,   0,   0,  49, 238, 253, 253, 253, 253,\n",
              "        253, 253, 253, 253, 251,  93,  82,  82,  56,  39,   0,   0,   0,\n",
              "          0,   0],\n",
              "       [  0,   0,   0,   0,   0,   0,   0,  18, 219, 253, 253, 253, 253,\n",
              "        253, 198, 182, 247, 241,   0,   0,   0,   0,   0,   0,   0,   0,\n",
              "          0,   0],\n",
              "       [  0,   0,   0,   0,   0,   0,   0,   0,  80, 156, 107, 253, 253,\n",
              "        205,  11,   0,  43, 154,   0,   0,   0,   0,   0,   0,   0,   0,\n",
              "          0,   0],\n",
              "       [  0,   0,   0,   0,   0,   0,   0,   0,   0,  14,   1, 154, 253,\n",
              "         90,   0,   0,   0,   0,   0,   0,   0,   0,   0,   0,   0,   0,\n",
              "          0,   0],\n",
              "       [  0,   0,   0,   0,   0,   0,   0,   0,   0,   0,   0, 139, 253,\n",
              "        190,   2,   0,   0,   0,   0,   0,   0,   0,   0,   0,   0,   0,\n",
              "          0,   0],\n",
              "       [  0,   0,   0,   0,   0,   0,   0,   0,   0,   0,   0,  11, 190,\n",
              "        253,  70,   0,   0,   0,   0,   0,   0,   0,   0,   0,   0,   0,\n",
              "          0,   0],\n",
              "       [  0,   0,   0,   0,   0,   0,   0,   0,   0,   0,   0,   0,  35,\n",
              "        241, 225, 160, 108,   1,   0,   0,   0,   0,   0,   0,   0,   0,\n",
              "          0,   0],\n",
              "       [  0,   0,   0,   0,   0,   0,   0,   0,   0,   0,   0,   0,   0,\n",
              "         81, 240, 253, 253, 119,  25,   0,   0,   0,   0,   0,   0,   0,\n",
              "          0,   0],\n",
              "       [  0,   0,   0,   0,   0,   0,   0,   0,   0,   0,   0,   0,   0,\n",
              "          0,  45, 186, 253, 253, 150,  27,   0,   0,   0,   0,   0,   0,\n",
              "          0,   0],\n",
              "       [  0,   0,   0,   0,   0,   0,   0,   0,   0,   0,   0,   0,   0,\n",
              "          0,   0,  16,  93, 252, 253, 187,   0,   0,   0,   0,   0,   0,\n",
              "          0,   0],\n",
              "       [  0,   0,   0,   0,   0,   0,   0,   0,   0,   0,   0,   0,   0,\n",
              "          0,   0,   0,   0, 249, 253, 249,  64,   0,   0,   0,   0,   0,\n",
              "          0,   0],\n",
              "       [  0,   0,   0,   0,   0,   0,   0,   0,   0,   0,   0,   0,   0,\n",
              "          0,  46, 130, 183, 253, 253, 207,   2,   0,   0,   0,   0,   0,\n",
              "          0,   0],\n",
              "       [  0,   0,   0,   0,   0,   0,   0,   0,   0,   0,   0,   0,  39,\n",
              "        148, 229, 253, 253, 253, 250, 182,   0,   0,   0,   0,   0,   0,\n",
              "          0,   0],\n",
              "       [  0,   0,   0,   0,   0,   0,   0,   0,   0,   0,  24, 114, 221,\n",
              "        253, 253, 253, 253, 201,  78,   0,   0,   0,   0,   0,   0,   0,\n",
              "          0,   0],\n",
              "       [  0,   0,   0,   0,   0,   0,   0,   0,  23,  66, 213, 253, 253,\n",
              "        253, 253, 198,  81,   2,   0,   0,   0,   0,   0,   0,   0,   0,\n",
              "          0,   0],\n",
              "       [  0,   0,   0,   0,   0,   0,  18, 171, 219, 253, 253, 253, 253,\n",
              "        195,  80,   9,   0,   0,   0,   0,   0,   0,   0,   0,   0,   0,\n",
              "          0,   0],\n",
              "       [  0,   0,   0,   0,  55, 172, 226, 253, 253, 253, 253, 244, 133,\n",
              "         11,   0,   0,   0,   0,   0,   0,   0,   0,   0,   0,   0,   0,\n",
              "          0,   0],\n",
              "       [  0,   0,   0,   0, 136, 253, 253, 253, 212, 135, 132,  16,   0,\n",
              "          0,   0,   0,   0,   0,   0,   0,   0,   0,   0,   0,   0,   0,\n",
              "          0,   0],\n",
              "       [  0,   0,   0,   0,   0,   0,   0,   0,   0,   0,   0,   0,   0,\n",
              "          0,   0,   0,   0,   0,   0,   0,   0,   0,   0,   0,   0,   0,\n",
              "          0,   0],\n",
              "       [  0,   0,   0,   0,   0,   0,   0,   0,   0,   0,   0,   0,   0,\n",
              "          0,   0,   0,   0,   0,   0,   0,   0,   0,   0,   0,   0,   0,\n",
              "          0,   0],\n",
              "       [  0,   0,   0,   0,   0,   0,   0,   0,   0,   0,   0,   0,   0,\n",
              "          0,   0,   0,   0,   0,   0,   0,   0,   0,   0,   0,   0,   0,\n",
              "          0,   0]], dtype=uint8)"
            ]
          },
          "metadata": {},
          "execution_count": 6
        }
      ]
    },
    {
      "cell_type": "code",
      "metadata": {
        "id": "4RHQ1CFU9Alx",
        "colab": {
          "base_uri": "https://localhost:8080/"
        },
        "outputId": "7a9b6d01-bbcd-4d9c-8ca7-4ef9c573704b"
      },
      "source": [
        "train_labels[0]"
      ],
      "execution_count": null,
      "outputs": [
        {
          "output_type": "execute_result",
          "data": {
            "text/plain": [
              "5"
            ]
          },
          "metadata": {},
          "execution_count": 7
        }
      ]
    },
    {
      "cell_type": "markdown",
      "metadata": {
        "id": "Iqpu3ARqOVF3"
      },
      "source": [
        "Kodowanie one-hot"
      ]
    },
    {
      "cell_type": "code",
      "metadata": {
        "id": "YBibYuEYjjLe"
      },
      "source": [
        "train_labels = tf.keras.utils.to_categorical(train_labels, 10)\n",
        "test_labels = tf.keras.utils.to_categorical(test_labels, 10)"
      ],
      "execution_count": null,
      "outputs": []
    },
    {
      "cell_type": "code",
      "metadata": {
        "id": "LDmkU2Sr7x8x",
        "colab": {
          "base_uri": "https://localhost:8080/"
        },
        "outputId": "330847d7-cee4-4f69-c2a6-e3e83062e3bb"
      },
      "source": [
        "train_data.shape,train_labels.shape"
      ],
      "execution_count": null,
      "outputs": [
        {
          "output_type": "execute_result",
          "data": {
            "text/plain": [
              "((60000, 28, 28), (60000, 10))"
            ]
          },
          "metadata": {},
          "execution_count": 9
        }
      ]
    },
    {
      "cell_type": "code",
      "metadata": {
        "id": "3Pe5vg0Dj56h",
        "colab": {
          "base_uri": "https://localhost:8080/"
        },
        "outputId": "831abf71-5cab-4bd8-c3af-dc2a6758bdb5"
      },
      "source": [
        "test_data.shape,test_labels.shape"
      ],
      "execution_count": null,
      "outputs": [
        {
          "output_type": "execute_result",
          "data": {
            "text/plain": [
              "((10000, 28, 28), (10000, 10))"
            ]
          },
          "metadata": {},
          "execution_count": 10
        }
      ]
    },
    {
      "cell_type": "code",
      "metadata": {
        "id": "dSgm903q9MXt",
        "colab": {
          "base_uri": "https://localhost:8080/"
        },
        "outputId": "79c21c94-1ee7-4923-af61-f633daeb22ca"
      },
      "source": [
        "train_labels[0]"
      ],
      "execution_count": null,
      "outputs": [
        {
          "output_type": "execute_result",
          "data": {
            "text/plain": [
              "array([0., 0., 0., 0., 0., 1., 0., 0., 0., 0.], dtype=float32)"
            ]
          },
          "metadata": {},
          "execution_count": 11
        }
      ]
    },
    {
      "cell_type": "markdown",
      "metadata": {
        "id": "GDYZB923d4bD"
      },
      "source": [
        "Wizualizacja"
      ]
    },
    {
      "cell_type": "code",
      "metadata": {
        "id": "lJJlrAzrd7OS",
        "colab": {
          "base_uri": "https://localhost:8080/",
          "height": 447
        },
        "outputId": "64e92172-4792-432a-d9eb-df2072f462b1"
      },
      "source": [
        "def plot_image(img_index):\n",
        "    label_index = train_labels[img_index]\n",
        "    plt.imshow(train_data[img_index]/255, cmap = 'gray')\n",
        "    print(label_index)\n",
        "\n",
        "img_index = 10\n",
        "plot_image(img_index)"
      ],
      "execution_count": null,
      "outputs": [
        {
          "output_type": "stream",
          "name": "stdout",
          "text": [
            "[0. 0. 0. 1. 0. 0. 0. 0. 0. 0.]\n"
          ]
        },
        {
          "output_type": "display_data",
          "data": {
            "text/plain": [
              "<Figure size 640x480 with 1 Axes>"
            ],
            "image/png": "[encoded data removed]"
          },
          "metadata": {}
        }
      ]
    },
    {
      "cell_type": "code",
      "metadata": {
        "id": "ZeODAlX8V4oc"
      },
      "source": [
        "train_images = train_data.reshape((-1, 784))\n",
        "test_images = test_data.reshape((-1, 784))"
      ],
      "execution_count": null,
      "outputs": []
    },
    {
      "cell_type": "code",
      "source": [
        "train_images = train_images.astype('float32')/255\n",
        "test_images = test_images.astype('float32')/255"
      ],
      "metadata": {
        "id": "uF4B7Vk-aCSG"
      },
      "execution_count": null,
      "outputs": []
    },
    {
      "cell_type": "code",
      "metadata": {
        "id": "m_EhC3xf9lu7",
        "colab": {
          "base_uri": "https://localhost:8080/"
        },
        "outputId": "54148727-d2d8-49ba-dbd9-479d7d6666cf"
      },
      "source": [
        "model = Sequential()\n",
        "model.add(Dense(units = 128, use_bias=True, input_shape=(784,), activation = \"relu\"))\n",
        "model.add(Dense(units = 10, use_bias=True, activation = \"softmax\"))\n",
        "\n",
        "opt = tf.keras.optimizers.Adam(learning_rate=0.001)\n",
        "#opt = tf.keras.optimizers.SGD(learning_rate=0.001)\n",
        "\n",
        "model.compile(loss='categorical_crossentropy',optimizer=opt,metrics=['accuracy'])\n",
        "model.summary()"
      ],
      "execution_count": null,
      "outputs": [
        {
          "output_type": "stream",
          "name": "stdout",
          "text": [
            "Model: \"sequential\"\n",
            "_________________________________________________________________\n",
            " Layer (type)                Output Shape              Param #   \n",
            "=================================================================\n",
            " dense (Dense)               (None, 128)               100480    \n",
            "                                                                 \n",
            " dense_1 (Dense)             (None, 10)                1290      \n",
            "                                                                 \n",
            "=================================================================\n",
            "Total params: 101770 (397.54 KB)\n",
            "Trainable params: 101770 (397.54 KB)\n",
            "Non-trainable params: 0 (0.00 Byte)\n",
            "_________________________________________________________________\n"
          ]
        }
      ]
    },
    {
      "cell_type": "code",
      "metadata": {
        "id": "r6lPVoFV9r2S",
        "colab": {
          "base_uri": "https://localhost:8080/"
        },
        "outputId": "44a5c90d-d36a-4903-a228-fe4475e186a7"
      },
      "source": [
        "batch_size = 128\n",
        "epochs = 50\n",
        "\n",
        "h = model.fit(train_images, train_labels, batch_size=batch_size, epochs=epochs, validation_split=0.2)"
      ],
      "execution_count": null,
      "outputs": [
        {
          "output_type": "stream",
          "name": "stdout",
          "text": [
            "Epoch 1/50\n",
            "375/375 [==============================] - 8s 6ms/step - loss: 0.3975 - accuracy: 0.8902 - val_loss: 0.2139 - val_accuracy: 0.9442\n",
            "Epoch 2/50\n",
            "375/375 [==============================] - 2s 4ms/step - loss: 0.1875 - accuracy: 0.9478 - val_loss: 0.1632 - val_accuracy: 0.9531\n",
            "Epoch 3/50\n",
            "375/375 [==============================] - 1s 4ms/step - loss: 0.1361 - accuracy: 0.9614 - val_loss: 0.1257 - val_accuracy: 0.9643\n",
            "Epoch 4/50\n",
            "375/375 [==============================] - 1s 4ms/step - loss: 0.1049 - accuracy: 0.9700 - val_loss: 0.1147 - val_accuracy: 0.9664\n",
            "Epoch 5/50\n",
            "375/375 [==============================] - 1s 4ms/step - loss: 0.0839 - accuracy: 0.9762 - val_loss: 0.1024 - val_accuracy: 0.9687\n",
            "Epoch 6/50\n",
            "375/375 [==============================] - 1s 4ms/step - loss: 0.0690 - accuracy: 0.9803 - val_loss: 0.0964 - val_accuracy: 0.9717\n",
            "Epoch 7/50\n",
            "375/375 [==============================] - 1s 4ms/step - loss: 0.0582 - accuracy: 0.9838 - val_loss: 0.0918 - val_accuracy: 0.9728\n",
            "Epoch 8/50\n",
            "375/375 [==============================] - 1s 4ms/step - loss: 0.0493 - accuracy: 0.9862 - val_loss: 0.0872 - val_accuracy: 0.9737\n",
            "Epoch 9/50\n",
            "375/375 [==============================] - 1s 4ms/step - loss: 0.0417 - accuracy: 0.9887 - val_loss: 0.0928 - val_accuracy: 0.9717\n",
            "Epoch 10/50\n",
            "375/375 [==============================] - 2s 5ms/step - loss: 0.0353 - accuracy: 0.9908 - val_loss: 0.0894 - val_accuracy: 0.9737\n",
            "Epoch 11/50\n",
            "375/375 [==============================] - 2s 5ms/step - loss: 0.0294 - accuracy: 0.9927 - val_loss: 0.0857 - val_accuracy: 0.9736\n",
            "Epoch 12/50\n",
            "375/375 [==============================] - 1s 3ms/step - loss: 0.0253 - accuracy: 0.9937 - val_loss: 0.0847 - val_accuracy: 0.9755\n",
            "Epoch 13/50\n",
            "375/375 [==============================] - 1s 4ms/step - loss: 0.0216 - accuracy: 0.9948 - val_loss: 0.0801 - val_accuracy: 0.9770\n",
            "Epoch 14/50\n",
            "375/375 [==============================] - 1s 4ms/step - loss: 0.0176 - accuracy: 0.9961 - val_loss: 0.0841 - val_accuracy: 0.9758\n",
            "Epoch 15/50\n",
            "375/375 [==============================] - 1s 4ms/step - loss: 0.0154 - accuracy: 0.9967 - val_loss: 0.0822 - val_accuracy: 0.9755\n",
            "Epoch 16/50\n",
            "375/375 [==============================] - 1s 4ms/step - loss: 0.0130 - accuracy: 0.9976 - val_loss: 0.0833 - val_accuracy: 0.9765\n",
            "Epoch 17/50\n",
            "375/375 [==============================] - 1s 4ms/step - loss: 0.0109 - accuracy: 0.9980 - val_loss: 0.0857 - val_accuracy: 0.9762\n",
            "Epoch 18/50\n",
            "375/375 [==============================] - 1s 4ms/step - loss: 0.0089 - accuracy: 0.9987 - val_loss: 0.0852 - val_accuracy: 0.9763\n",
            "Epoch 19/50\n",
            "375/375 [==============================] - 2s 4ms/step - loss: 0.0079 - accuracy: 0.9990 - val_loss: 0.0851 - val_accuracy: 0.9767\n",
            "Epoch 20/50\n",
            "375/375 [==============================] - 2s 5ms/step - loss: 0.0064 - accuracy: 0.9992 - val_loss: 0.0934 - val_accuracy: 0.9747\n",
            "Epoch 21/50\n",
            "375/375 [==============================] - 2s 4ms/step - loss: 0.0063 - accuracy: 0.9993 - val_loss: 0.0940 - val_accuracy: 0.9755\n",
            "Epoch 22/50\n",
            "375/375 [==============================] - 1s 3ms/step - loss: 0.0048 - accuracy: 0.9995 - val_loss: 0.0919 - val_accuracy: 0.9768\n",
            "Epoch 23/50\n",
            "375/375 [==============================] - 1s 3ms/step - loss: 0.0046 - accuracy: 0.9994 - val_loss: 0.0938 - val_accuracy: 0.9774\n",
            "Epoch 24/50\n",
            "375/375 [==============================] - 1s 3ms/step - loss: 0.0038 - accuracy: 0.9996 - val_loss: 0.0954 - val_accuracy: 0.9764\n",
            "Epoch 25/50\n",
            "375/375 [==============================] - 1s 3ms/step - loss: 0.0030 - accuracy: 0.9998 - val_loss: 0.0972 - val_accuracy: 0.9763\n",
            "Epoch 26/50\n",
            "375/375 [==============================] - 1s 4ms/step - loss: 0.0021 - accuracy: 0.9999 - val_loss: 0.0952 - val_accuracy: 0.9772\n",
            "Epoch 27/50\n",
            "375/375 [==============================] - 1s 3ms/step - loss: 0.0024 - accuracy: 0.9999 - val_loss: 0.1016 - val_accuracy: 0.9762\n",
            "Epoch 28/50\n",
            "375/375 [==============================] - 1s 4ms/step - loss: 0.0078 - accuracy: 0.9977 - val_loss: 0.1119 - val_accuracy: 0.9740\n",
            "Epoch 29/50\n",
            "375/375 [==============================] - 2s 5ms/step - loss: 0.0058 - accuracy: 0.9983 - val_loss: 0.1058 - val_accuracy: 0.9762\n",
            "Epoch 30/50\n",
            "375/375 [==============================] - 2s 5ms/step - loss: 0.0021 - accuracy: 0.9997 - val_loss: 0.1029 - val_accuracy: 0.9768\n",
            "Epoch 31/50\n",
            "375/375 [==============================] - 1s 3ms/step - loss: 9.6227e-04 - accuracy: 1.0000 - val_loss: 0.1031 - val_accuracy: 0.9764\n",
            "Epoch 32/50\n",
            "375/375 [==============================] - 1s 3ms/step - loss: 7.2732e-04 - accuracy: 1.0000 - val_loss: 0.1036 - val_accuracy: 0.9772\n",
            "Epoch 33/50\n",
            "375/375 [==============================] - 1s 4ms/step - loss: 6.9776e-04 - accuracy: 1.0000 - val_loss: 0.1038 - val_accuracy: 0.9770\n",
            "Epoch 34/50\n",
            "375/375 [==============================] - 1s 3ms/step - loss: 5.8078e-04 - accuracy: 1.0000 - val_loss: 0.1034 - val_accuracy: 0.9771\n",
            "Epoch 35/50\n",
            "375/375 [==============================] - 1s 4ms/step - loss: 0.0072 - accuracy: 0.9980 - val_loss: 0.1459 - val_accuracy: 0.9711\n",
            "Epoch 36/50\n",
            "375/375 [==============================] - 1s 4ms/step - loss: 0.0078 - accuracy: 0.9975 - val_loss: 0.1108 - val_accuracy: 0.9759\n",
            "Epoch 37/50\n",
            "375/375 [==============================] - 1s 4ms/step - loss: 0.0019 - accuracy: 0.9996 - val_loss: 0.1114 - val_accuracy: 0.9773\n",
            "Epoch 38/50\n",
            "375/375 [==============================] - 2s 4ms/step - loss: 5.7481e-04 - accuracy: 1.0000 - val_loss: 0.1096 - val_accuracy: 0.9776\n",
            "Epoch 39/50\n",
            "375/375 [==============================] - 2s 5ms/step - loss: 4.5157e-04 - accuracy: 1.0000 - val_loss: 0.1097 - val_accuracy: 0.9776\n",
            "Epoch 40/50\n",
            "375/375 [==============================] - 2s 4ms/step - loss: 3.8467e-04 - accuracy: 1.0000 - val_loss: 0.1108 - val_accuracy: 0.9773\n",
            "Epoch 41/50\n",
            "375/375 [==============================] - 1s 3ms/step - loss: 3.4433e-04 - accuracy: 1.0000 - val_loss: 0.1116 - val_accuracy: 0.9778\n",
            "Epoch 42/50\n",
            "375/375 [==============================] - 1s 4ms/step - loss: 3.7982e-04 - accuracy: 1.0000 - val_loss: 0.1109 - val_accuracy: 0.9774\n",
            "Epoch 43/50\n",
            "375/375 [==============================] - 1s 3ms/step - loss: 2.9881e-04 - accuracy: 1.0000 - val_loss: 0.1115 - val_accuracy: 0.9779\n",
            "Epoch 44/50\n",
            "375/375 [==============================] - 1s 3ms/step - loss: 2.5491e-04 - accuracy: 1.0000 - val_loss: 0.1124 - val_accuracy: 0.9776\n",
            "Epoch 45/50\n",
            "375/375 [==============================] - 1s 4ms/step - loss: 6.6190e-04 - accuracy: 0.9999 - val_loss: 0.1426 - val_accuracy: 0.9731\n",
            "Epoch 46/50\n",
            "375/375 [==============================] - 1s 4ms/step - loss: 0.0154 - accuracy: 0.9947 - val_loss: 0.1325 - val_accuracy: 0.9762\n",
            "Epoch 47/50\n",
            "375/375 [==============================] - 1s 4ms/step - loss: 0.0010 - accuracy: 1.0000 - val_loss: 0.1218 - val_accuracy: 0.9770\n",
            "Epoch 48/50\n",
            "375/375 [==============================] - 4s 10ms/step - loss: 3.6279e-04 - accuracy: 1.0000 - val_loss: 0.1207 - val_accuracy: 0.9772\n",
            "Epoch 49/50\n",
            "375/375 [==============================] - 2s 4ms/step - loss: 2.7324e-04 - accuracy: 1.0000 - val_loss: 0.1219 - val_accuracy: 0.9771\n",
            "Epoch 50/50\n",
            "375/375 [==============================] - 1s 3ms/step - loss: 2.3553e-04 - accuracy: 1.0000 - val_loss: 0.1221 - val_accuracy: 0.9776\n"
          ]
        }
      ]
    },
    {
      "cell_type": "code",
      "metadata": {
        "id": "x4tHqqXXBXRm",
        "colab": {
          "base_uri": "https://localhost:8080/",
          "height": 430
        },
        "outputId": "a3e3aa8b-f140-4335-cbae-d88fd2e314cf"
      },
      "source": [
        "plt.scatter(np.arange(epochs),h.history['loss'])\n",
        "plt.scatter(np.arange(epochs),h.history['val_loss'],c='r')\n",
        "plt.show()"
      ],
      "execution_count": null,
      "outputs": [
        {
          "output_type": "display_data",
          "data": {
            "text/plain": [
              "<Figure size 640x480 with 1 Axes>"
            ],
            "image/png": "[encoded data removed]"
          },
          "metadata": {}
        }
      ]
    },
    {
      "cell_type": "code",
      "metadata": {
        "id": "ERLS7pe69v5j",
        "colab": {
          "base_uri": "https://localhost:8080/"
        },
        "outputId": "50c0af05-952f-43c7-bde6-38cc3b79f183"
      },
      "source": [
        "score = model.evaluate(test_images, test_labels, verbose=0)\n",
        "print(\"Test loss:\", score[0])\n",
        "print(\"Test accuracy:\", score[1])"
      ],
      "execution_count": null,
      "outputs": [
        {
          "output_type": "stream",
          "name": "stdout",
          "text": [
            "Test loss: 0.10705994814634323\n",
            "Test accuracy: 0.9782999753952026\n"
          ]
        }
      ]
    },
    {
      "cell_type": "code",
      "metadata": {
        "id": "rLbjkyVBDx79",
        "colab": {
          "base_uri": "https://localhost:8080/",
          "height": 482
        },
        "outputId": "1c472297-297b-4fd8-b799-2a4de8a904ba"
      },
      "source": [
        "def plot_image(img_index):\n",
        "    label_index = train_labels[img_index]\n",
        "    plt.imshow(train_data[img_index]/255, cmap = 'gray')\n",
        "    print(label_index)\n",
        "\n",
        "img_index = 10\n",
        "plot_image(img_index)\n",
        "\n",
        "picture = train_data[img_index].reshape(-1,784)\n",
        "\n",
        "model.predict(picture)"
      ],
      "execution_count": null,
      "outputs": [
        {
          "output_type": "stream",
          "name": "stdout",
          "text": [
            "[0. 0. 0. 1. 0. 0. 0. 0. 0. 0.]\n",
            "1/1 [==============================] - 0s 80ms/step\n"
          ]
        },
        {
          "output_type": "execute_result",
          "data": {
            "text/plain": [
              "array([[0., 0., 0., 1., 0., 0., 0., 0., 0., 0.]], dtype=float32)"
            ]
          },
          "metadata": {},
          "execution_count": 19
        },
        {
          "output_type": "display_data",
          "data": {
            "text/plain": [
              "<Figure size 640x480 with 1 Axes>"
            ],
            "image/png": "[encoded data removed]"
          },
          "metadata": {}
        }
      ]
    },
    {
      "cell_type": "code",
      "source": [
        "dataset_labels = [\"0\",\"1\",\"2\",\"3\",\"4\",\"5\",\"6\",\"7\",\"8\",\"9\"]  # index 9\n",
        "\n",
        "def visualize_model_predictions(model, x_test, y_test, title_string):\n",
        "    y_hat = model.predict(x_test)\n",
        "\n",
        "    # Plot a random sample of 10 test images, their predicted labels and ground truth\n",
        "    figure = plt.figure(figsize=(15, 8))\n",
        "\n",
        "    for i, index in enumerate(np.random.choice(x_test.shape[0], size=32, replace=False)):\n",
        "        ax = figure.add_subplot(4, 8, i + 1, xticks=[], yticks=[])\n",
        "\n",
        "        # Display each image\n",
        "        ax.imshow(x_test[index].reshape((28,28)), cmap = 'gray')\n",
        "        predict_index = np.argmax(y_hat[index])\n",
        "        true_index = np.argmax(y_test[index])\n",
        "        # Set the title for each image\n",
        "        ax.set_title(\"{} ({})\".format(dataset_labels[predict_index],\n",
        "                                      dataset_labels[true_index]),\n",
        "                                      color=(\"green\" if predict_index == true_index else \"red\"))\n",
        "    figure.suptitle(\"%s results:\" %title_string, fontsize=25)\n",
        "\n",
        "visualize_model_predictions(model, test_images, test_labels, 'Test')"
      ],
      "metadata": {
        "colab": {
          "base_uri": "https://localhost:8080/",
          "height": 730
        },
        "id": "63-c8nvYH6ct",
        "outputId": "08e23bd0-a0f8-42c1-9f09-8aef8a3b90d8"
      },
      "execution_count": null,
      "outputs": [
        {
          "output_type": "stream",
          "name": "stdout",
          "text": [
            "313/313 [==============================] - 1s 2ms/step\n"
          ]
        },
        {
          "output_type": "display_data",
          "data": {
            "text/plain": [
              "<Figure size 1500x800 with 32 Axes>"
            ],
            "image/png": "[encoded data removed]"
          },
          "metadata": {}
        }
      ]
    }
  ]
}